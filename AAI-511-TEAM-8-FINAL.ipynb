{
 "cells": [
  {
   "cell_type": "markdown",
   "id": "d421b3bb",
   "metadata": {},
   "source": [
    "# Task Breakdown\n",
    "\n",
    "- Data Collection: Data is collected and provided to you.\n",
    "- Data Pre-processing: Convert the musical scores into a format suitable for deep learning models. This involves converting the musical scores into MIDI files and applying data augmentation techniques.\n",
    "- Feature Extraction: Extractfeatures from the MIDI files, such as notes, chords, and tempo, using music analysis tools.\n",
    "- Model Building: Develop a deep learning model using LSTM and CNN architectures to classify the musical scores according to the composer.\n",
    "- Model Training: Train the deep learning model using the pre-processed and feature-extracted data.\n",
    "- Model Evaluation: Evaluate the performance of the deep learning model using accuracy, precision, and recall metrics.\n",
    "- Model Optimization: Optimize the deep learning model by fine-tuning hyperparameters."
   ]
  },
  {
   "cell_type": "code",
   "execution_count": 16,
   "id": "4994e0e1",
   "metadata": {},
   "outputs": [
    {
     "name": "stdout",
     "output_type": "stream",
     "text": [
      "Defaulting to user installation because normal site-packages is not writeable\n",
      "Requirement already satisfied: pretty_midi in c:\\users\\chris\\appdata\\roaming\\python\\python39\\site-packages (0.2.10)\n",
      "Requirement already satisfied: mido>=1.1.16 in c:\\users\\chris\\appdata\\roaming\\python\\python39\\site-packages (from pretty_midi) (1.2.10)\n",
      "Requirement already satisfied: numpy>=1.7.0 in c:\\tools\\anaconda3\\lib\\site-packages (from pretty_midi) (1.21.5)\n",
      "Requirement already satisfied: six in c:\\tools\\anaconda3\\lib\\site-packages (from pretty_midi) (1.16.0)\n"
     ]
    }
   ],
   "source": [
    "!pip install pretty_midi"
   ]
  },
  {
   "cell_type": "code",
   "execution_count": 17,
   "id": "693ec580",
   "metadata": {},
   "outputs": [],
   "source": [
    "# Functions for Data Collection\n",
    "# Function for Feature extractions\n",
    "import os\n",
    "import glob\n",
    "import pretty_midi\n",
    "import numpy as np\n",
    "import matplotlib.pyplot as plt\n",
    "import pandas as pd\n",
    "\n",
    "# Check if pickle file exists and use the file for dataset\n",
    "import pickle\n",
    "\n",
    "\n",
    "# Directory of MIDI files\n",
    "base_dir = 'train'\n",
    "\n",
    "# Specify the path and filename of the pickle file\n",
    "# Since the pkl file exists, that means the data was processed and features extracted\n",
    "pickle_file_name = 'team8_composer_dataset.pkl'\n",
    "\n",
    "# TBD:Extract features using librosa for further feature extraction\n",
    "def calculate_features(midi_file):\n",
    "    # Load MIDI file\n",
    "    midi_data = pretty_midi.PrettyMIDI(midi_file)\n",
    "\n",
    "    # Time interval for calculating features\n",
    "    interval = 1.0  # 1 second\n",
    "    times = np.arange(0, midi_data.get_end_time(), interval)\n",
    "\n",
    "    # Create arrays for storing time series data\n",
    "    pitch = np.zeros(len(times))\n",
    "    volume = np.zeros(len(times))\n",
    "    note_density = np.zeros(len(times))\n",
    "    tempo = np.zeros(len(times))\n",
    "\n",
    "    # Calculate time series data for each feature\n",
    "    for i, t in enumerate(times):\n",
    "        # Get notes that are playing at this time\n",
    "        notes = [note for note in midi_data.instruments[0].notes if note.start <= t < note.end]\n",
    "\n",
    "        # Calculate average pitch\n",
    "        if notes:\n",
    "            pitch[i] = np.mean([note.pitch for note in notes])\n",
    "\n",
    "        # Calculate note density (notes per second)\n",
    "        note_density[i] = len(notes) / interval\n",
    "\n",
    "        # Calculate average volume\n",
    "        if notes:\n",
    "            volume[i] = np.mean([note.velocity for note in notes])\n",
    "\n",
    "    # Calculate rhythmic complexity (variance in inter-onset intervals)\n",
    "    inter_onset_intervals = np.diff([note.start for note in midi_data.instruments[0].notes])\n",
    "    rhythmic_complexity = np.var(inter_onset_intervals)\n",
    "\n",
    "    # Calculate tempo for each moment in time\n",
    "    tempo_changes = midi_data.get_tempo_changes()\n",
    "    tempo = np.interp(times, tempo_changes[0], tempo_changes[1])\n",
    "\n",
    "    return times, pitch, note_density, volume, rhythmic_complexity, tempo\n",
    "\n",
    "def process_composer_data():\n",
    "    # Initialize DataFrame\n",
    "    df = pd.DataFrame(columns=[\"Composer\",\"Times\", \"Pitch\", \"Note_Density\", \"Volume\", \n",
    "                               \"Rhythmic_Complexity\", \"Tempo\"])\n",
    "\n",
    "    # Iterate over all composer directories\n",
    "    for composer_dir in glob.glob(os.path.join(base_dir, '*')):\n",
    "        # Get the composer's name\n",
    "        composer_name = os.path.basename(composer_dir)\n",
    "        print(f\"Processing {composer_name} MIDI files...\")\n",
    "\n",
    "        # Iterate over all MIDI files in composer's directory\n",
    "        for midi_file in glob.glob(os.path.join(composer_dir, '*.mid')):\n",
    "            print(f\"Processing {midi_file}...\")\n",
    "            try:\n",
    "                times, pitch, note_density, volume, rhythmic_complexity, tempo = calculate_features(midi_file)\n",
    "                # Append to DataFrame\n",
    "                df = df.append({\"Composer\": composer_name, \"Times\": times, \"Pitch\": pitch, \n",
    "                                \"Note_Density\": note_density, \"Volume\": volume, \n",
    "                                \"Rhythmic_Complexity\": rhythmic_complexity, \n",
    "                                \"Tempo\": tempo}, \n",
    "                               ignore_index=True)\n",
    "            except Exception as e:\n",
    "                print(f\"Error processing {midi_file}: {str(e)}\")\n",
    "    \n",
    "    # Write the DataFrame to a pickle file\n",
    "    df.to_pickle(base_dir + \"/\" + pickle_file_name)\n",
    "    \n",
    "    return df"
   ]
  },
  {
   "cell_type": "code",
   "execution_count": 19,
   "id": "b337b1c5",
   "metadata": {},
   "outputs": [
    {
     "name": "stdout",
     "output_type": "stream",
     "text": [
      "Music Data not Pickled, creating dataset using feature extract.\n",
      "Processing bach MIDI files...\n",
      "Processing train\\bach\\bach342.mid...\n",
      "Processing train\\bach\\bach343.mid...\n"
     ]
    },
    {
     "name": "stderr",
     "output_type": "stream",
     "text": [
      "C:\\Users\\chris\\AppData\\Local\\Temp\\ipykernel_11408\\1506090990.py:87: FutureWarning: The frame.append method is deprecated and will be removed from pandas in a future version. Use pandas.concat instead.\n",
      "  df = df.append({\"Composer\": composer_name, \"Times\": times, \"Pitch\": pitch,\n",
      "C:\\Users\\chris\\AppData\\Local\\Temp\\ipykernel_11408\\1506090990.py:87: FutureWarning: The frame.append method is deprecated and will be removed from pandas in a future version. Use pandas.concat instead.\n",
      "  df = df.append({\"Composer\": composer_name, \"Times\": times, \"Pitch\": pitch,\n",
      "C:\\Users\\chris\\AppData\\Local\\Temp\\ipykernel_11408\\1506090990.py:87: FutureWarning: The frame.append method is deprecated and will be removed from pandas in a future version. Use pandas.concat instead.\n",
      "  df = df.append({\"Composer\": composer_name, \"Times\": times, \"Pitch\": pitch,\n",
      "C:\\Users\\chris\\AppData\\Local\\Temp\\ipykernel_11408\\1506090990.py:87: FutureWarning: The frame.append method is deprecated and will be removed from pandas in a future version. Use pandas.concat instead.\n",
      "  df = df.append({\"Composer\": composer_name, \"Times\": times, \"Pitch\": pitch,\n",
      "C:\\Users\\chris\\AppData\\Local\\Temp\\ipykernel_11408\\1506090990.py:87: FutureWarning: The frame.append method is deprecated and will be removed from pandas in a future version. Use pandas.concat instead.\n",
      "  df = df.append({\"Composer\": composer_name, \"Times\": times, \"Pitch\": pitch,\n"
     ]
    },
    {
     "name": "stdout",
     "output_type": "stream",
     "text": [
      "Processing train\\bach\\bach345.mid...\n",
      "Processing train\\bach\\bach346.mid...\n",
      "Processing train\\bach\\bach347.mid...\n",
      "Processing train\\bach\\bach350.mid...\n"
     ]
    },
    {
     "name": "stderr",
     "output_type": "stream",
     "text": [
      "C:\\Users\\chris\\AppData\\Local\\Temp\\ipykernel_11408\\1506090990.py:87: FutureWarning: The frame.append method is deprecated and will be removed from pandas in a future version. Use pandas.concat instead.\n",
      "  df = df.append({\"Composer\": composer_name, \"Times\": times, \"Pitch\": pitch,\n",
      "C:\\Users\\chris\\AppData\\Local\\Temp\\ipykernel_11408\\1506090990.py:87: FutureWarning: The frame.append method is deprecated and will be removed from pandas in a future version. Use pandas.concat instead.\n",
      "  df = df.append({\"Composer\": composer_name, \"Times\": times, \"Pitch\": pitch,\n",
      "C:\\Users\\chris\\AppData\\Local\\Temp\\ipykernel_11408\\1506090990.py:87: FutureWarning: The frame.append method is deprecated and will be removed from pandas in a future version. Use pandas.concat instead.\n",
      "  df = df.append({\"Composer\": composer_name, \"Times\": times, \"Pitch\": pitch,\n",
      "C:\\Users\\chris\\AppData\\Local\\Temp\\ipykernel_11408\\1506090990.py:87: FutureWarning: The frame.append method is deprecated and will be removed from pandas in a future version. Use pandas.concat instead.\n",
      "  df = df.append({\"Composer\": composer_name, \"Times\": times, \"Pitch\": pitch,\n",
      "C:\\Users\\chris\\AppData\\Local\\Temp\\ipykernel_11408\\1506090990.py:87: FutureWarning: The frame.append method is deprecated and will be removed from pandas in a future version. Use pandas.concat instead.\n",
      "  df = df.append({\"Composer\": composer_name, \"Times\": times, \"Pitch\": pitch,\n"
     ]
    },
    {
     "name": "stdout",
     "output_type": "stream",
     "text": [
      "Processing train\\bach\\bach351.mid...\n",
      "Processing train\\bach\\bach352.mid...\n",
      "Processing train\\bach\\bach353.mid...\n",
      "Processing train\\bach\\bach355.mid...\n",
      "Processing train\\bach\\bach357.mid...\n"
     ]
    },
    {
     "name": "stderr",
     "output_type": "stream",
     "text": [
      "C:\\Users\\chris\\AppData\\Local\\Temp\\ipykernel_11408\\1506090990.py:87: FutureWarning: The frame.append method is deprecated and will be removed from pandas in a future version. Use pandas.concat instead.\n",
      "  df = df.append({\"Composer\": composer_name, \"Times\": times, \"Pitch\": pitch,\n",
      "C:\\Users\\chris\\AppData\\Local\\Temp\\ipykernel_11408\\1506090990.py:87: FutureWarning: The frame.append method is deprecated and will be removed from pandas in a future version. Use pandas.concat instead.\n",
      "  df = df.append({\"Composer\": composer_name, \"Times\": times, \"Pitch\": pitch,\n",
      "C:\\Users\\chris\\AppData\\Local\\Temp\\ipykernel_11408\\1506090990.py:87: FutureWarning: The frame.append method is deprecated and will be removed from pandas in a future version. Use pandas.concat instead.\n",
      "  df = df.append({\"Composer\": composer_name, \"Times\": times, \"Pitch\": pitch,\n",
      "C:\\Users\\chris\\AppData\\Local\\Temp\\ipykernel_11408\\1506090990.py:87: FutureWarning: The frame.append method is deprecated and will be removed from pandas in a future version. Use pandas.concat instead.\n",
      "  df = df.append({\"Composer\": composer_name, \"Times\": times, \"Pitch\": pitch,\n",
      "C:\\Users\\chris\\AppData\\Local\\Temp\\ipykernel_11408\\1506090990.py:87: FutureWarning: The frame.append method is deprecated and will be removed from pandas in a future version. Use pandas.concat instead.\n",
      "  df = df.append({\"Composer\": composer_name, \"Times\": times, \"Pitch\": pitch,\n",
      "C:\\Users\\chris\\AppData\\Local\\Temp\\ipykernel_11408\\1506090990.py:87: FutureWarning: The frame.append method is deprecated and will be removed from pandas in a future version. Use pandas.concat instead.\n",
      "  df = df.append({\"Composer\": composer_name, \"Times\": times, \"Pitch\": pitch,\n"
     ]
    },
    {
     "name": "stdout",
     "output_type": "stream",
     "text": [
      "Processing train\\bach\\bach358.mid...\n",
      "Processing train\\bach\\bach360.mid...\n",
      "Processing train\\bach\\bach361.mid...\n",
      "Processing train\\bach\\bach362.mid...\n",
      "Processing train\\bach\\bach363.mid...\n",
      "Processing train\\bach\\bach364.mid...\n"
     ]
    },
    {
     "name": "stderr",
     "output_type": "stream",
     "text": [
      "C:\\Users\\chris\\AppData\\Local\\Temp\\ipykernel_11408\\1506090990.py:87: FutureWarning: The frame.append method is deprecated and will be removed from pandas in a future version. Use pandas.concat instead.\n",
      "  df = df.append({\"Composer\": composer_name, \"Times\": times, \"Pitch\": pitch,\n",
      "C:\\Users\\chris\\AppData\\Local\\Temp\\ipykernel_11408\\1506090990.py:87: FutureWarning: The frame.append method is deprecated and will be removed from pandas in a future version. Use pandas.concat instead.\n",
      "  df = df.append({\"Composer\": composer_name, \"Times\": times, \"Pitch\": pitch,\n",
      "C:\\Users\\chris\\AppData\\Local\\Temp\\ipykernel_11408\\1506090990.py:87: FutureWarning: The frame.append method is deprecated and will be removed from pandas in a future version. Use pandas.concat instead.\n",
      "  df = df.append({\"Composer\": composer_name, \"Times\": times, \"Pitch\": pitch,\n",
      "C:\\Users\\chris\\AppData\\Local\\Temp\\ipykernel_11408\\1506090990.py:87: FutureWarning: The frame.append method is deprecated and will be removed from pandas in a future version. Use pandas.concat instead.\n",
      "  df = df.append({\"Composer\": composer_name, \"Times\": times, \"Pitch\": pitch,\n",
      "C:\\Users\\chris\\AppData\\Local\\Temp\\ipykernel_11408\\1506090990.py:87: FutureWarning: The frame.append method is deprecated and will be removed from pandas in a future version. Use pandas.concat instead.\n",
      "  df = df.append({\"Composer\": composer_name, \"Times\": times, \"Pitch\": pitch,\n"
     ]
    },
    {
     "name": "stdout",
     "output_type": "stream",
     "text": [
      "Processing train\\bach\\bach365.mid...\n",
      "Processing train\\bach\\bach366.mid...\n",
      "Processing train\\bach\\bach367.mid...\n",
      "Processing train\\bach\\bach368.mid...\n",
      "Processing train\\bach\\bach369.mid...\n"
     ]
    },
    {
     "name": "stderr",
     "output_type": "stream",
     "text": [
      "C:\\Users\\chris\\AppData\\Local\\Temp\\ipykernel_11408\\1506090990.py:87: FutureWarning: The frame.append method is deprecated and will be removed from pandas in a future version. Use pandas.concat instead.\n",
      "  df = df.append({\"Composer\": composer_name, \"Times\": times, \"Pitch\": pitch,\n",
      "C:\\Users\\chris\\AppData\\Local\\Temp\\ipykernel_11408\\1506090990.py:87: FutureWarning: The frame.append method is deprecated and will be removed from pandas in a future version. Use pandas.concat instead.\n",
      "  df = df.append({\"Composer\": composer_name, \"Times\": times, \"Pitch\": pitch,\n",
      "C:\\Users\\chris\\AppData\\Local\\Temp\\ipykernel_11408\\1506090990.py:87: FutureWarning: The frame.append method is deprecated and will be removed from pandas in a future version. Use pandas.concat instead.\n",
      "  df = df.append({\"Composer\": composer_name, \"Times\": times, \"Pitch\": pitch,\n",
      "C:\\Users\\chris\\AppData\\Local\\Temp\\ipykernel_11408\\1506090990.py:87: FutureWarning: The frame.append method is deprecated and will be removed from pandas in a future version. Use pandas.concat instead.\n",
      "  df = df.append({\"Composer\": composer_name, \"Times\": times, \"Pitch\": pitch,\n",
      "C:\\Users\\chris\\AppData\\Local\\Temp\\ipykernel_11408\\1506090990.py:87: FutureWarning: The frame.append method is deprecated and will be removed from pandas in a future version. Use pandas.concat instead.\n",
      "  df = df.append({\"Composer\": composer_name, \"Times\": times, \"Pitch\": pitch,\n",
      "C:\\Users\\chris\\AppData\\Local\\Temp\\ipykernel_11408\\1506090990.py:87: FutureWarning: The frame.append method is deprecated and will be removed from pandas in a future version. Use pandas.concat instead.\n",
      "  df = df.append({\"Composer\": composer_name, \"Times\": times, \"Pitch\": pitch,\n",
      "C:\\Users\\chris\\AppData\\Local\\Temp\\ipykernel_11408\\1506090990.py:87: FutureWarning: The frame.append method is deprecated and will be removed from pandas in a future version. Use pandas.concat instead.\n",
      "  df = df.append({\"Composer\": composer_name, \"Times\": times, \"Pitch\": pitch,\n"
     ]
    },
    {
     "name": "stdout",
     "output_type": "stream",
     "text": [
      "Processing train\\bach\\bach370.mid...\n",
      "Processing train\\bach\\bach371.mid...\n",
      "Processing train\\bach\\bach372.mid...\n",
      "Processing train\\bach\\bach373.mid...\n",
      "Processing train\\bach\\bach374.mid...\n",
      "Processing train\\bach\\bach375.mid...\n",
      "Processing train\\bach\\bach377.mid...\n"
     ]
    },
    {
     "name": "stderr",
     "output_type": "stream",
     "text": [
      "C:\\Users\\chris\\AppData\\Local\\Temp\\ipykernel_11408\\1506090990.py:87: FutureWarning: The frame.append method is deprecated and will be removed from pandas in a future version. Use pandas.concat instead.\n",
      "  df = df.append({\"Composer\": composer_name, \"Times\": times, \"Pitch\": pitch,\n",
      "C:\\Users\\chris\\AppData\\Local\\Temp\\ipykernel_11408\\1506090990.py:87: FutureWarning: The frame.append method is deprecated and will be removed from pandas in a future version. Use pandas.concat instead.\n",
      "  df = df.append({\"Composer\": composer_name, \"Times\": times, \"Pitch\": pitch,\n",
      "C:\\Users\\chris\\AppData\\Local\\Temp\\ipykernel_11408\\1506090990.py:87: FutureWarning: The frame.append method is deprecated and will be removed from pandas in a future version. Use pandas.concat instead.\n",
      "  df = df.append({\"Composer\": composer_name, \"Times\": times, \"Pitch\": pitch,\n",
      "C:\\Users\\chris\\AppData\\Local\\Temp\\ipykernel_11408\\1506090990.py:87: FutureWarning: The frame.append method is deprecated and will be removed from pandas in a future version. Use pandas.concat instead.\n",
      "  df = df.append({\"Composer\": composer_name, \"Times\": times, \"Pitch\": pitch,\n",
      "C:\\Users\\chris\\AppData\\Local\\Temp\\ipykernel_11408\\1506090990.py:87: FutureWarning: The frame.append method is deprecated and will be removed from pandas in a future version. Use pandas.concat instead.\n",
      "  df = df.append({\"Composer\": composer_name, \"Times\": times, \"Pitch\": pitch,\n",
      "C:\\Users\\chris\\AppData\\Local\\Temp\\ipykernel_11408\\1506090990.py:87: FutureWarning: The frame.append method is deprecated and will be removed from pandas in a future version. Use pandas.concat instead.\n",
      "  df = df.append({\"Composer\": composer_name, \"Times\": times, \"Pitch\": pitch,\n"
     ]
    },
    {
     "name": "stdout",
     "output_type": "stream",
     "text": [
      "Processing train\\bach\\bach378.mid...\n",
      "Processing train\\bach\\bach379.mid...\n",
      "Processing train\\bach\\bach380.mid...\n",
      "Processing train\\bach\\bach381.mid...\n",
      "Processing train\\bach\\bach382.mid...\n",
      "Processing train\\bach\\bach383.mid...\n"
     ]
    },
    {
     "name": "stderr",
     "output_type": "stream",
     "text": [
      "C:\\Users\\chris\\AppData\\Local\\Temp\\ipykernel_11408\\1506090990.py:87: FutureWarning: The frame.append method is deprecated and will be removed from pandas in a future version. Use pandas.concat instead.\n",
      "  df = df.append({\"Composer\": composer_name, \"Times\": times, \"Pitch\": pitch,\n",
      "C:\\Users\\chris\\AppData\\Local\\Temp\\ipykernel_11408\\1506090990.py:87: FutureWarning: The frame.append method is deprecated and will be removed from pandas in a future version. Use pandas.concat instead.\n",
      "  df = df.append({\"Composer\": composer_name, \"Times\": times, \"Pitch\": pitch,\n",
      "C:\\Users\\chris\\AppData\\Local\\Temp\\ipykernel_11408\\1506090990.py:87: FutureWarning: The frame.append method is deprecated and will be removed from pandas in a future version. Use pandas.concat instead.\n",
      "  df = df.append({\"Composer\": composer_name, \"Times\": times, \"Pitch\": pitch,\n",
      "C:\\Users\\chris\\AppData\\Local\\Temp\\ipykernel_11408\\1506090990.py:87: FutureWarning: The frame.append method is deprecated and will be removed from pandas in a future version. Use pandas.concat instead.\n",
      "  df = df.append({\"Composer\": composer_name, \"Times\": times, \"Pitch\": pitch,\n",
      "C:\\Users\\chris\\AppData\\Local\\Temp\\ipykernel_11408\\1506090990.py:87: FutureWarning: The frame.append method is deprecated and will be removed from pandas in a future version. Use pandas.concat instead.\n",
      "  df = df.append({\"Composer\": composer_name, \"Times\": times, \"Pitch\": pitch,\n"
     ]
    },
    {
     "name": "stdout",
     "output_type": "stream",
     "text": [
      "Processing train\\bach\\bach385.mid...\n",
      "Processing train\\bach\\bach386.mid...\n",
      "Processing train\\bach\\bach387.mid...\n",
      "Processing train\\bach\\bach388.mid...\n",
      "Processing train\\bach\\bach389.mid...\n"
     ]
    },
    {
     "name": "stderr",
     "output_type": "stream",
     "text": [
      "C:\\Users\\chris\\AppData\\Local\\Temp\\ipykernel_11408\\1506090990.py:87: FutureWarning: The frame.append method is deprecated and will be removed from pandas in a future version. Use pandas.concat instead.\n",
      "  df = df.append({\"Composer\": composer_name, \"Times\": times, \"Pitch\": pitch,\n",
      "C:\\Users\\chris\\AppData\\Local\\Temp\\ipykernel_11408\\1506090990.py:87: FutureWarning: The frame.append method is deprecated and will be removed from pandas in a future version. Use pandas.concat instead.\n",
      "  df = df.append({\"Composer\": composer_name, \"Times\": times, \"Pitch\": pitch,\n",
      "C:\\Users\\chris\\AppData\\Local\\Temp\\ipykernel_11408\\1506090990.py:87: FutureWarning: The frame.append method is deprecated and will be removed from pandas in a future version. Use pandas.concat instead.\n",
      "  df = df.append({\"Composer\": composer_name, \"Times\": times, \"Pitch\": pitch,\n",
      "C:\\Users\\chris\\AppData\\Local\\Temp\\ipykernel_11408\\1506090990.py:87: FutureWarning: The frame.append method is deprecated and will be removed from pandas in a future version. Use pandas.concat instead.\n",
      "  df = df.append({\"Composer\": composer_name, \"Times\": times, \"Pitch\": pitch,\n"
     ]
    },
    {
     "name": "stdout",
     "output_type": "stream",
     "text": [
      "Processing train\\bach\\bach390.mid...\n",
      "Processing train\\bach\\bach391.mid...\n",
      "Processing bartok MIDI files...\n",
      "Processing train\\bartok\\bartok393.mid...\n",
      "Processing train\\bartok\\bartok394.mid...\n"
     ]
    },
    {
     "name": "stderr",
     "output_type": "stream",
     "text": [
      "C:\\Users\\chris\\AppData\\Local\\Temp\\ipykernel_11408\\1506090990.py:87: FutureWarning: The frame.append method is deprecated and will be removed from pandas in a future version. Use pandas.concat instead.\n",
      "  df = df.append({\"Composer\": composer_name, \"Times\": times, \"Pitch\": pitch,\n",
      "C:\\Users\\chris\\AppData\\Local\\Temp\\ipykernel_11408\\1506090990.py:87: FutureWarning: The frame.append method is deprecated and will be removed from pandas in a future version. Use pandas.concat instead.\n",
      "  df = df.append({\"Composer\": composer_name, \"Times\": times, \"Pitch\": pitch,\n",
      "C:\\Users\\chris\\AppData\\Local\\Temp\\ipykernel_11408\\1506090990.py:87: FutureWarning: The frame.append method is deprecated and will be removed from pandas in a future version. Use pandas.concat instead.\n",
      "  df = df.append({\"Composer\": composer_name, \"Times\": times, \"Pitch\": pitch,\n",
      "C:\\Users\\chris\\AppData\\Local\\Temp\\ipykernel_11408\\1506090990.py:87: FutureWarning: The frame.append method is deprecated and will be removed from pandas in a future version. Use pandas.concat instead.\n",
      "  df = df.append({\"Composer\": composer_name, \"Times\": times, \"Pitch\": pitch,\n",
      "C:\\Users\\chris\\AppData\\Local\\Temp\\ipykernel_11408\\1506090990.py:87: FutureWarning: The frame.append method is deprecated and will be removed from pandas in a future version. Use pandas.concat instead.\n",
      "  df = df.append({\"Composer\": composer_name, \"Times\": times, \"Pitch\": pitch,\n",
      "C:\\Users\\chris\\AppData\\Local\\Temp\\ipykernel_11408\\1506090990.py:87: FutureWarning: The frame.append method is deprecated and will be removed from pandas in a future version. Use pandas.concat instead.\n",
      "  df = df.append({\"Composer\": composer_name, \"Times\": times, \"Pitch\": pitch,\n",
      "C:\\Users\\chris\\AppData\\Local\\Temp\\ipykernel_11408\\1506090990.py:87: FutureWarning: The frame.append method is deprecated and will be removed from pandas in a future version. Use pandas.concat instead.\n",
      "  df = df.append({\"Composer\": composer_name, \"Times\": times, \"Pitch\": pitch,\n"
     ]
    },
    {
     "name": "stdout",
     "output_type": "stream",
     "text": [
      "Processing train\\bartok\\bartok395.mid...\n",
      "Processing train\\bartok\\bartok396.mid...\n",
      "Processing train\\bartok\\bartok397.mid...\n",
      "Processing train\\bartok\\bartok398.mid...\n",
      "Processing train\\bartok\\bartok399.mid...\n",
      "Processing train\\bartok\\bartok401.mid...\n",
      "Processing train\\bartok\\bartok402.mid...\n"
     ]
    },
    {
     "name": "stderr",
     "output_type": "stream",
     "text": [
      "C:\\Users\\chris\\AppData\\Local\\Temp\\ipykernel_11408\\1506090990.py:87: FutureWarning: The frame.append method is deprecated and will be removed from pandas in a future version. Use pandas.concat instead.\n",
      "  df = df.append({\"Composer\": composer_name, \"Times\": times, \"Pitch\": pitch,\n",
      "C:\\Users\\chris\\AppData\\Local\\Temp\\ipykernel_11408\\1506090990.py:87: FutureWarning: The frame.append method is deprecated and will be removed from pandas in a future version. Use pandas.concat instead.\n",
      "  df = df.append({\"Composer\": composer_name, \"Times\": times, \"Pitch\": pitch,\n",
      "C:\\Users\\chris\\AppData\\Local\\Temp\\ipykernel_11408\\1506090990.py:87: FutureWarning: The frame.append method is deprecated and will be removed from pandas in a future version. Use pandas.concat instead.\n",
      "  df = df.append({\"Composer\": composer_name, \"Times\": times, \"Pitch\": pitch,\n",
      "C:\\Users\\chris\\AppData\\Local\\Temp\\ipykernel_11408\\1506090990.py:87: FutureWarning: The frame.append method is deprecated and will be removed from pandas in a future version. Use pandas.concat instead.\n",
      "  df = df.append({\"Composer\": composer_name, \"Times\": times, \"Pitch\": pitch,\n"
     ]
    },
    {
     "name": "stdout",
     "output_type": "stream",
     "text": [
      "Processing train\\bartok\\bartok403.mid...\n",
      "Processing train\\bartok\\bartok404.mid...\n",
      "Processing train\\bartok\\bartok405.mid...\n",
      "Processing train\\bartok\\bartok406.mid...\n"
     ]
    },
    {
     "name": "stderr",
     "output_type": "stream",
     "text": [
      "C:\\Users\\chris\\AppData\\Local\\Temp\\ipykernel_11408\\1506090990.py:87: FutureWarning: The frame.append method is deprecated and will be removed from pandas in a future version. Use pandas.concat instead.\n",
      "  df = df.append({\"Composer\": composer_name, \"Times\": times, \"Pitch\": pitch,\n",
      "C:\\Users\\chris\\AppData\\Local\\Temp\\ipykernel_11408\\1506090990.py:87: FutureWarning: The frame.append method is deprecated and will be removed from pandas in a future version. Use pandas.concat instead.\n",
      "  df = df.append({\"Composer\": composer_name, \"Times\": times, \"Pitch\": pitch,\n",
      "C:\\Users\\chris\\AppData\\Local\\Temp\\ipykernel_11408\\1506090990.py:87: FutureWarning: The frame.append method is deprecated and will be removed from pandas in a future version. Use pandas.concat instead.\n",
      "  df = df.append({\"Composer\": composer_name, \"Times\": times, \"Pitch\": pitch,\n",
      "C:\\Users\\chris\\AppData\\Local\\Temp\\ipykernel_11408\\1506090990.py:87: FutureWarning: The frame.append method is deprecated and will be removed from pandas in a future version. Use pandas.concat instead.\n",
      "  df = df.append({\"Composer\": composer_name, \"Times\": times, \"Pitch\": pitch,\n",
      "C:\\Users\\chris\\AppData\\Local\\Temp\\ipykernel_11408\\1506090990.py:87: FutureWarning: The frame.append method is deprecated and will be removed from pandas in a future version. Use pandas.concat instead.\n",
      "  df = df.append({\"Composer\": composer_name, \"Times\": times, \"Pitch\": pitch,\n",
      "C:\\Users\\chris\\AppData\\Local\\Temp\\ipykernel_11408\\1506090990.py:87: FutureWarning: The frame.append method is deprecated and will be removed from pandas in a future version. Use pandas.concat instead.\n",
      "  df = df.append({\"Composer\": composer_name, \"Times\": times, \"Pitch\": pitch,\n",
      "C:\\Users\\chris\\AppData\\Local\\Temp\\ipykernel_11408\\1506090990.py:87: FutureWarning: The frame.append method is deprecated and will be removed from pandas in a future version. Use pandas.concat instead.\n",
      "  df = df.append({\"Composer\": composer_name, \"Times\": times, \"Pitch\": pitch,\n"
     ]
    },
    {
     "name": "stdout",
     "output_type": "stream",
     "text": [
      "Processing train\\bartok\\bartok407.mid...\n",
      "Processing train\\bartok\\bartok408.mid...\n",
      "Processing train\\bartok\\bartok409.mid...\n",
      "Processing train\\bartok\\bartok411.mid...\n",
      "Processing train\\bartok\\bartok413.mid...\n",
      "Processing train\\bartok\\bartok414.mid...\n",
      "Processing train\\bartok\\bartok415.mid...\n"
     ]
    },
    {
     "name": "stderr",
     "output_type": "stream",
     "text": [
      "C:\\Users\\chris\\AppData\\Local\\Temp\\ipykernel_11408\\1506090990.py:87: FutureWarning: The frame.append method is deprecated and will be removed from pandas in a future version. Use pandas.concat instead.\n",
      "  df = df.append({\"Composer\": composer_name, \"Times\": times, \"Pitch\": pitch,\n",
      "C:\\Users\\chris\\AppData\\Local\\Temp\\ipykernel_11408\\1506090990.py:87: FutureWarning: The frame.append method is deprecated and will be removed from pandas in a future version. Use pandas.concat instead.\n",
      "  df = df.append({\"Composer\": composer_name, \"Times\": times, \"Pitch\": pitch,\n",
      "C:\\Users\\chris\\AppData\\Local\\Temp\\ipykernel_11408\\1506090990.py:87: FutureWarning: The frame.append method is deprecated and will be removed from pandas in a future version. Use pandas.concat instead.\n",
      "  df = df.append({\"Composer\": composer_name, \"Times\": times, \"Pitch\": pitch,\n",
      "C:\\Users\\chris\\AppData\\Local\\Temp\\ipykernel_11408\\1506090990.py:87: FutureWarning: The frame.append method is deprecated and will be removed from pandas in a future version. Use pandas.concat instead.\n",
      "  df = df.append({\"Composer\": composer_name, \"Times\": times, \"Pitch\": pitch,\n",
      "C:\\Users\\chris\\AppData\\Local\\Temp\\ipykernel_11408\\1506090990.py:87: FutureWarning: The frame.append method is deprecated and will be removed from pandas in a future version. Use pandas.concat instead.\n",
      "  df = df.append({\"Composer\": composer_name, \"Times\": times, \"Pitch\": pitch,\n",
      "C:\\Users\\chris\\AppData\\Local\\Temp\\ipykernel_11408\\1506090990.py:87: FutureWarning: The frame.append method is deprecated and will be removed from pandas in a future version. Use pandas.concat instead.\n",
      "  df = df.append({\"Composer\": composer_name, \"Times\": times, \"Pitch\": pitch,\n"
     ]
    },
    {
     "name": "stdout",
     "output_type": "stream",
     "text": [
      "Processing train\\bartok\\bartok416.mid...\n",
      "Processing train\\bartok\\bartok417.mid...\n",
      "Processing train\\bartok\\bartok418.mid...\n",
      "Processing train\\bartok\\bartok419.mid...\n",
      "Processing train\\bartok\\bartok420.mid...\n",
      "Processing train\\bartok\\bartok421.mid...\n"
     ]
    },
    {
     "name": "stderr",
     "output_type": "stream",
     "text": [
      "C:\\Users\\chris\\AppData\\Local\\Temp\\ipykernel_11408\\1506090990.py:87: FutureWarning: The frame.append method is deprecated and will be removed from pandas in a future version. Use pandas.concat instead.\n",
      "  df = df.append({\"Composer\": composer_name, \"Times\": times, \"Pitch\": pitch,\n",
      "C:\\Users\\chris\\AppData\\Local\\Temp\\ipykernel_11408\\1506090990.py:87: FutureWarning: The frame.append method is deprecated and will be removed from pandas in a future version. Use pandas.concat instead.\n",
      "  df = df.append({\"Composer\": composer_name, \"Times\": times, \"Pitch\": pitch,\n",
      "C:\\Users\\chris\\AppData\\Local\\Temp\\ipykernel_11408\\1506090990.py:87: FutureWarning: The frame.append method is deprecated and will be removed from pandas in a future version. Use pandas.concat instead.\n",
      "  df = df.append({\"Composer\": composer_name, \"Times\": times, \"Pitch\": pitch,\n",
      "C:\\Users\\chris\\AppData\\Local\\Temp\\ipykernel_11408\\1506090990.py:87: FutureWarning: The frame.append method is deprecated and will be removed from pandas in a future version. Use pandas.concat instead.\n",
      "  df = df.append({\"Composer\": composer_name, \"Times\": times, \"Pitch\": pitch,\n",
      "C:\\Users\\chris\\AppData\\Local\\Temp\\ipykernel_11408\\1506090990.py:87: FutureWarning: The frame.append method is deprecated and will be removed from pandas in a future version. Use pandas.concat instead.\n",
      "  df = df.append({\"Composer\": composer_name, \"Times\": times, \"Pitch\": pitch,\n"
     ]
    },
    {
     "name": "stdout",
     "output_type": "stream",
     "text": [
      "Processing train\\bartok\\bartok422.mid...\n",
      "Processing train\\bartok\\bartok423.mid...\n",
      "Processing train\\bartok\\bartok425.mid...\n",
      "Processing train\\bartok\\bartok426.mid...\n",
      "Processing train\\bartok\\bartok427.mid...\n"
     ]
    },
    {
     "name": "stderr",
     "output_type": "stream",
     "text": [
      "C:\\Users\\chris\\AppData\\Local\\Temp\\ipykernel_11408\\1506090990.py:87: FutureWarning: The frame.append method is deprecated and will be removed from pandas in a future version. Use pandas.concat instead.\n",
      "  df = df.append({\"Composer\": composer_name, \"Times\": times, \"Pitch\": pitch,\n",
      "C:\\Users\\chris\\AppData\\Local\\Temp\\ipykernel_11408\\1506090990.py:87: FutureWarning: The frame.append method is deprecated and will be removed from pandas in a future version. Use pandas.concat instead.\n",
      "  df = df.append({\"Composer\": composer_name, \"Times\": times, \"Pitch\": pitch,\n",
      "C:\\Users\\chris\\AppData\\Local\\Temp\\ipykernel_11408\\1506090990.py:87: FutureWarning: The frame.append method is deprecated and will be removed from pandas in a future version. Use pandas.concat instead.\n",
      "  df = df.append({\"Composer\": composer_name, \"Times\": times, \"Pitch\": pitch,\n",
      "C:\\Users\\chris\\AppData\\Local\\Temp\\ipykernel_11408\\1506090990.py:87: FutureWarning: The frame.append method is deprecated and will be removed from pandas in a future version. Use pandas.concat instead.\n",
      "  df = df.append({\"Composer\": composer_name, \"Times\": times, \"Pitch\": pitch,\n",
      "C:\\Users\\chris\\AppData\\Local\\Temp\\ipykernel_11408\\1506090990.py:87: FutureWarning: The frame.append method is deprecated and will be removed from pandas in a future version. Use pandas.concat instead.\n",
      "  df = df.append({\"Composer\": composer_name, \"Times\": times, \"Pitch\": pitch,\n",
      "C:\\Users\\chris\\AppData\\Local\\Temp\\ipykernel_11408\\1506090990.py:87: FutureWarning: The frame.append method is deprecated and will be removed from pandas in a future version. Use pandas.concat instead.\n",
      "  df = df.append({\"Composer\": composer_name, \"Times\": times, \"Pitch\": pitch,\n"
     ]
    },
    {
     "name": "stdout",
     "output_type": "stream",
     "text": [
      "Processing train\\bartok\\bartok428.mid...\n",
      "Processing train\\bartok\\bartok430.mid...\n",
      "Processing train\\bartok\\bartok431.mid...\n",
      "Processing train\\bartok\\bartok432.mid...\n",
      "Processing train\\bartok\\bartok433.mid...\n",
      "Processing train\\bartok\\bartok435.mid...\n"
     ]
    },
    {
     "name": "stderr",
     "output_type": "stream",
     "text": [
      "C:\\Users\\chris\\AppData\\Local\\Temp\\ipykernel_11408\\1506090990.py:87: FutureWarning: The frame.append method is deprecated and will be removed from pandas in a future version. Use pandas.concat instead.\n",
      "  df = df.append({\"Composer\": composer_name, \"Times\": times, \"Pitch\": pitch,\n",
      "C:\\Users\\chris\\AppData\\Local\\Temp\\ipykernel_11408\\1506090990.py:87: FutureWarning: The frame.append method is deprecated and will be removed from pandas in a future version. Use pandas.concat instead.\n",
      "  df = df.append({\"Composer\": composer_name, \"Times\": times, \"Pitch\": pitch,\n",
      "C:\\Users\\chris\\AppData\\Local\\Temp\\ipykernel_11408\\1506090990.py:87: FutureWarning: The frame.append method is deprecated and will be removed from pandas in a future version. Use pandas.concat instead.\n",
      "  df = df.append({\"Composer\": composer_name, \"Times\": times, \"Pitch\": pitch,\n"
     ]
    },
    {
     "name": "stdout",
     "output_type": "stream",
     "text": [
      "Processing train\\bartok\\bartok436.mid...\n",
      "Processing train\\bartok\\bartok437.mid...\n",
      "Processing train\\bartok\\bartok439.mid...\n"
     ]
    },
    {
     "name": "stderr",
     "output_type": "stream",
     "text": [
      "C:\\Users\\chris\\AppData\\Local\\Temp\\ipykernel_11408\\1506090990.py:87: FutureWarning: The frame.append method is deprecated and will be removed from pandas in a future version. Use pandas.concat instead.\n",
      "  df = df.append({\"Composer\": composer_name, \"Times\": times, \"Pitch\": pitch,\n",
      "C:\\Users\\chris\\AppData\\Local\\Temp\\ipykernel_11408\\1506090990.py:87: FutureWarning: The frame.append method is deprecated and will be removed from pandas in a future version. Use pandas.concat instead.\n",
      "  df = df.append({\"Composer\": composer_name, \"Times\": times, \"Pitch\": pitch,\n",
      "C:\\Users\\chris\\AppData\\Local\\Temp\\ipykernel_11408\\1506090990.py:87: FutureWarning: The frame.append method is deprecated and will be removed from pandas in a future version. Use pandas.concat instead.\n",
      "  df = df.append({\"Composer\": composer_name, \"Times\": times, \"Pitch\": pitch,\n",
      "C:\\Users\\chris\\AppData\\Local\\Temp\\ipykernel_11408\\1506090990.py:87: FutureWarning: The frame.append method is deprecated and will be removed from pandas in a future version. Use pandas.concat instead.\n",
      "  df = df.append({\"Composer\": composer_name, \"Times\": times, \"Pitch\": pitch,\n"
     ]
    },
    {
     "name": "stdout",
     "output_type": "stream",
     "text": [
      "Processing train\\bartok\\bartok440.mid...\n",
      "Processing byrd MIDI files...\n",
      "Processing train\\byrd\\byrd149.mid...\n",
      "Processing train\\byrd\\byrd153.mid...\n",
      "Processing train\\byrd\\byrd154.mid...\n"
     ]
    },
    {
     "name": "stderr",
     "output_type": "stream",
     "text": [
      "C:\\Users\\chris\\AppData\\Local\\Temp\\ipykernel_11408\\1506090990.py:87: FutureWarning: The frame.append method is deprecated and will be removed from pandas in a future version. Use pandas.concat instead.\n",
      "  df = df.append({\"Composer\": composer_name, \"Times\": times, \"Pitch\": pitch,\n",
      "C:\\Users\\chris\\AppData\\Local\\Temp\\ipykernel_11408\\1506090990.py:87: FutureWarning: The frame.append method is deprecated and will be removed from pandas in a future version. Use pandas.concat instead.\n",
      "  df = df.append({\"Composer\": composer_name, \"Times\": times, \"Pitch\": pitch,\n",
      "C:\\Users\\chris\\AppData\\Local\\Temp\\ipykernel_11408\\1506090990.py:87: FutureWarning: The frame.append method is deprecated and will be removed from pandas in a future version. Use pandas.concat instead.\n",
      "  df = df.append({\"Composer\": composer_name, \"Times\": times, \"Pitch\": pitch,\n",
      "C:\\Users\\chris\\AppData\\Local\\Temp\\ipykernel_11408\\1506090990.py:87: FutureWarning: The frame.append method is deprecated and will be removed from pandas in a future version. Use pandas.concat instead.\n",
      "  df = df.append({\"Composer\": composer_name, \"Times\": times, \"Pitch\": pitch,\n"
     ]
    },
    {
     "name": "stdout",
     "output_type": "stream",
     "text": [
      "Processing train\\byrd\\byrd155.mid...\n",
      "Processing train\\byrd\\byrd156.mid...\n",
      "Processing train\\byrd\\byrd157.mid...\n",
      "Processing train\\byrd\\byrd158.mid...\n"
     ]
    },
    {
     "name": "stderr",
     "output_type": "stream",
     "text": [
      "C:\\Users\\chris\\AppData\\Local\\Temp\\ipykernel_11408\\1506090990.py:87: FutureWarning: The frame.append method is deprecated and will be removed from pandas in a future version. Use pandas.concat instead.\n",
      "  df = df.append({\"Composer\": composer_name, \"Times\": times, \"Pitch\": pitch,\n",
      "C:\\Users\\chris\\AppData\\Local\\Temp\\ipykernel_11408\\1506090990.py:87: FutureWarning: The frame.append method is deprecated and will be removed from pandas in a future version. Use pandas.concat instead.\n",
      "  df = df.append({\"Composer\": composer_name, \"Times\": times, \"Pitch\": pitch,\n",
      "C:\\Users\\chris\\AppData\\Local\\Temp\\ipykernel_11408\\1506090990.py:87: FutureWarning: The frame.append method is deprecated and will be removed from pandas in a future version. Use pandas.concat instead.\n",
      "  df = df.append({\"Composer\": composer_name, \"Times\": times, \"Pitch\": pitch,\n",
      "C:\\Users\\chris\\AppData\\Local\\Temp\\ipykernel_11408\\1506090990.py:87: FutureWarning: The frame.append method is deprecated and will be removed from pandas in a future version. Use pandas.concat instead.\n",
      "  df = df.append({\"Composer\": composer_name, \"Times\": times, \"Pitch\": pitch,\n",
      "C:\\Users\\chris\\AppData\\Local\\Temp\\ipykernel_11408\\1506090990.py:87: FutureWarning: The frame.append method is deprecated and will be removed from pandas in a future version. Use pandas.concat instead.\n",
      "  df = df.append({\"Composer\": composer_name, \"Times\": times, \"Pitch\": pitch,\n",
      "C:\\Users\\chris\\AppData\\Local\\Temp\\ipykernel_11408\\1506090990.py:87: FutureWarning: The frame.append method is deprecated and will be removed from pandas in a future version. Use pandas.concat instead.\n",
      "  df = df.append({\"Composer\": composer_name, \"Times\": times, \"Pitch\": pitch,\n",
      "C:\\Users\\chris\\AppData\\Local\\Temp\\ipykernel_11408\\1506090990.py:87: FutureWarning: The frame.append method is deprecated and will be removed from pandas in a future version. Use pandas.concat instead.\n",
      "  df = df.append({\"Composer\": composer_name, \"Times\": times, \"Pitch\": pitch,\n"
     ]
    },
    {
     "name": "stdout",
     "output_type": "stream",
     "text": [
      "Processing train\\byrd\\byrd159.mid...\n",
      "Processing train\\byrd\\byrd160.mid...\n",
      "Processing train\\byrd\\byrd161.mid...\n",
      "Processing train\\byrd\\byrd162.mid...\n",
      "Processing train\\byrd\\byrd163.mid...\n",
      "Processing train\\byrd\\byrd164.mid...\n",
      "Processing train\\byrd\\byrd165.mid...\n",
      "Processing train\\byrd\\byrd166.mid...\n"
     ]
    },
    {
     "name": "stderr",
     "output_type": "stream",
     "text": [
      "C:\\Users\\chris\\AppData\\Local\\Temp\\ipykernel_11408\\1506090990.py:87: FutureWarning: The frame.append method is deprecated and will be removed from pandas in a future version. Use pandas.concat instead.\n",
      "  df = df.append({\"Composer\": composer_name, \"Times\": times, \"Pitch\": pitch,\n",
      "C:\\Users\\chris\\AppData\\Local\\Temp\\ipykernel_11408\\1506090990.py:87: FutureWarning: The frame.append method is deprecated and will be removed from pandas in a future version. Use pandas.concat instead.\n",
      "  df = df.append({\"Composer\": composer_name, \"Times\": times, \"Pitch\": pitch,\n",
      "C:\\Users\\chris\\AppData\\Local\\Temp\\ipykernel_11408\\1506090990.py:87: FutureWarning: The frame.append method is deprecated and will be removed from pandas in a future version. Use pandas.concat instead.\n",
      "  df = df.append({\"Composer\": composer_name, \"Times\": times, \"Pitch\": pitch,\n",
      "C:\\Users\\chris\\AppData\\Local\\Temp\\ipykernel_11408\\1506090990.py:87: FutureWarning: The frame.append method is deprecated and will be removed from pandas in a future version. Use pandas.concat instead.\n",
      "  df = df.append({\"Composer\": composer_name, \"Times\": times, \"Pitch\": pitch,\n",
      "C:\\Users\\chris\\AppData\\Local\\Temp\\ipykernel_11408\\1506090990.py:87: FutureWarning: The frame.append method is deprecated and will be removed from pandas in a future version. Use pandas.concat instead.\n",
      "  df = df.append({\"Composer\": composer_name, \"Times\": times, \"Pitch\": pitch,\n",
      "C:\\Users\\chris\\AppData\\Local\\Temp\\ipykernel_11408\\1506090990.py:87: FutureWarning: The frame.append method is deprecated and will be removed from pandas in a future version. Use pandas.concat instead.\n",
      "  df = df.append({\"Composer\": composer_name, \"Times\": times, \"Pitch\": pitch,\n",
      "C:\\Users\\chris\\AppData\\Local\\Temp\\ipykernel_11408\\1506090990.py:87: FutureWarning: The frame.append method is deprecated and will be removed from pandas in a future version. Use pandas.concat instead.\n",
      "  df = df.append({\"Composer\": composer_name, \"Times\": times, \"Pitch\": pitch,\n"
     ]
    },
    {
     "name": "stdout",
     "output_type": "stream",
     "text": [
      "Processing train\\byrd\\byrd167.mid...\n",
      "Processing train\\byrd\\byrd169.mid...\n",
      "Processing train\\byrd\\byrd170.mid...\n",
      "Processing train\\byrd\\byrd171.mid...\n",
      "Processing train\\byrd\\byrd172.mid...\n",
      "Processing train\\byrd\\byrd173.mid...\n",
      "Processing train\\byrd\\byrd175.mid...\n"
     ]
    },
    {
     "name": "stderr",
     "output_type": "stream",
     "text": [
      "C:\\Users\\chris\\AppData\\Local\\Temp\\ipykernel_11408\\1506090990.py:87: FutureWarning: The frame.append method is deprecated and will be removed from pandas in a future version. Use pandas.concat instead.\n",
      "  df = df.append({\"Composer\": composer_name, \"Times\": times, \"Pitch\": pitch,\n",
      "C:\\Users\\chris\\AppData\\Local\\Temp\\ipykernel_11408\\1506090990.py:87: FutureWarning: The frame.append method is deprecated and will be removed from pandas in a future version. Use pandas.concat instead.\n",
      "  df = df.append({\"Composer\": composer_name, \"Times\": times, \"Pitch\": pitch,\n",
      "C:\\Users\\chris\\AppData\\Local\\Temp\\ipykernel_11408\\1506090990.py:87: FutureWarning: The frame.append method is deprecated and will be removed from pandas in a future version. Use pandas.concat instead.\n",
      "  df = df.append({\"Composer\": composer_name, \"Times\": times, \"Pitch\": pitch,\n",
      "C:\\Users\\chris\\AppData\\Local\\Temp\\ipykernel_11408\\1506090990.py:87: FutureWarning: The frame.append method is deprecated and will be removed from pandas in a future version. Use pandas.concat instead.\n",
      "  df = df.append({\"Composer\": composer_name, \"Times\": times, \"Pitch\": pitch,\n",
      "C:\\Users\\chris\\AppData\\Local\\Temp\\ipykernel_11408\\1506090990.py:87: FutureWarning: The frame.append method is deprecated and will be removed from pandas in a future version. Use pandas.concat instead.\n",
      "  df = df.append({\"Composer\": composer_name, \"Times\": times, \"Pitch\": pitch,\n",
      "C:\\Users\\chris\\AppData\\Local\\Temp\\ipykernel_11408\\1506090990.py:87: FutureWarning: The frame.append method is deprecated and will be removed from pandas in a future version. Use pandas.concat instead.\n",
      "  df = df.append({\"Composer\": composer_name, \"Times\": times, \"Pitch\": pitch,\n"
     ]
    },
    {
     "name": "stdout",
     "output_type": "stream",
     "text": [
      "Processing train\\byrd\\byrd177.mid...\n",
      "Processing train\\byrd\\byrd178.mid...\n",
      "Processing train\\byrd\\byrd179.mid...\n",
      "Processing train\\byrd\\byrd181.mid...\n",
      "Processing train\\byrd\\byrd182.mid...\n"
     ]
    },
    {
     "name": "stderr",
     "output_type": "stream",
     "text": [
      "C:\\Users\\chris\\AppData\\Local\\Temp\\ipykernel_11408\\1506090990.py:87: FutureWarning: The frame.append method is deprecated and will be removed from pandas in a future version. Use pandas.concat instead.\n",
      "  df = df.append({\"Composer\": composer_name, \"Times\": times, \"Pitch\": pitch,\n",
      "C:\\Users\\chris\\AppData\\Local\\Temp\\ipykernel_11408\\1506090990.py:87: FutureWarning: The frame.append method is deprecated and will be removed from pandas in a future version. Use pandas.concat instead.\n",
      "  df = df.append({\"Composer\": composer_name, \"Times\": times, \"Pitch\": pitch,\n",
      "C:\\Users\\chris\\AppData\\Local\\Temp\\ipykernel_11408\\1506090990.py:87: FutureWarning: The frame.append method is deprecated and will be removed from pandas in a future version. Use pandas.concat instead.\n",
      "  df = df.append({\"Composer\": composer_name, \"Times\": times, \"Pitch\": pitch,\n",
      "C:\\Users\\chris\\AppData\\Local\\Temp\\ipykernel_11408\\1506090990.py:87: FutureWarning: The frame.append method is deprecated and will be removed from pandas in a future version. Use pandas.concat instead.\n",
      "  df = df.append({\"Composer\": composer_name, \"Times\": times, \"Pitch\": pitch,\n",
      "C:\\Users\\chris\\AppData\\Local\\Temp\\ipykernel_11408\\1506090990.py:87: FutureWarning: The frame.append method is deprecated and will be removed from pandas in a future version. Use pandas.concat instead.\n",
      "  df = df.append({\"Composer\": composer_name, \"Times\": times, \"Pitch\": pitch,\n",
      "C:\\Users\\chris\\AppData\\Local\\Temp\\ipykernel_11408\\1506090990.py:87: FutureWarning: The frame.append method is deprecated and will be removed from pandas in a future version. Use pandas.concat instead.\n",
      "  df = df.append({\"Composer\": composer_name, \"Times\": times, \"Pitch\": pitch,\n",
      "C:\\Users\\chris\\AppData\\Local\\Temp\\ipykernel_11408\\1506090990.py:87: FutureWarning: The frame.append method is deprecated and will be removed from pandas in a future version. Use pandas.concat instead.\n",
      "  df = df.append({\"Composer\": composer_name, \"Times\": times, \"Pitch\": pitch,\n"
     ]
    },
    {
     "name": "stdout",
     "output_type": "stream",
     "text": [
      "Processing train\\byrd\\byrd183.mid...\n",
      "Processing train\\byrd\\byrd185.mid...\n",
      "Processing train\\byrd\\byrd186.mid...\n",
      "Processing train\\byrd\\byrd187.mid...\n",
      "Processing train\\byrd\\byrd188.mid...\n",
      "Processing train\\byrd\\byrd189.mid...\n",
      "Processing train\\byrd\\byrd190.mid...\n"
     ]
    },
    {
     "name": "stderr",
     "output_type": "stream",
     "text": [
      "C:\\Users\\chris\\AppData\\Local\\Temp\\ipykernel_11408\\1506090990.py:87: FutureWarning: The frame.append method is deprecated and will be removed from pandas in a future version. Use pandas.concat instead.\n",
      "  df = df.append({\"Composer\": composer_name, \"Times\": times, \"Pitch\": pitch,\n",
      "C:\\Users\\chris\\AppData\\Local\\Temp\\ipykernel_11408\\1506090990.py:87: FutureWarning: The frame.append method is deprecated and will be removed from pandas in a future version. Use pandas.concat instead.\n",
      "  df = df.append({\"Composer\": composer_name, \"Times\": times, \"Pitch\": pitch,\n",
      "C:\\Users\\chris\\AppData\\Local\\Temp\\ipykernel_11408\\1506090990.py:87: FutureWarning: The frame.append method is deprecated and will be removed from pandas in a future version. Use pandas.concat instead.\n",
      "  df = df.append({\"Composer\": composer_name, \"Times\": times, \"Pitch\": pitch,\n",
      "C:\\Users\\chris\\AppData\\Local\\Temp\\ipykernel_11408\\1506090990.py:87: FutureWarning: The frame.append method is deprecated and will be removed from pandas in a future version. Use pandas.concat instead.\n",
      "  df = df.append({\"Composer\": composer_name, \"Times\": times, \"Pitch\": pitch,\n",
      "C:\\Users\\chris\\AppData\\Local\\Temp\\ipykernel_11408\\1506090990.py:87: FutureWarning: The frame.append method is deprecated and will be removed from pandas in a future version. Use pandas.concat instead.\n",
      "  df = df.append({\"Composer\": composer_name, \"Times\": times, \"Pitch\": pitch,\n",
      "C:\\Users\\chris\\AppData\\Local\\Temp\\ipykernel_11408\\1506090990.py:87: FutureWarning: The frame.append method is deprecated and will be removed from pandas in a future version. Use pandas.concat instead.\n",
      "  df = df.append({\"Composer\": composer_name, \"Times\": times, \"Pitch\": pitch,\n",
      "C:\\Users\\chris\\AppData\\Local\\Temp\\ipykernel_11408\\1506090990.py:87: FutureWarning: The frame.append method is deprecated and will be removed from pandas in a future version. Use pandas.concat instead.\n",
      "  df = df.append({\"Composer\": composer_name, \"Times\": times, \"Pitch\": pitch,\n"
     ]
    },
    {
     "name": "stdout",
     "output_type": "stream",
     "text": [
      "Processing train\\byrd\\byrd191.mid...\n",
      "Processing train\\byrd\\byrd192.mid...\n",
      "Processing train\\byrd\\byrd193.mid...\n",
      "Processing train\\byrd\\byrd194.mid...\n",
      "Processing train\\byrd\\byrd195.mid...\n",
      "Processing train\\byrd\\byrd196.mid...\n",
      "Processing train\\byrd\\byrd197.mid...\n"
     ]
    },
    {
     "name": "stderr",
     "output_type": "stream",
     "text": [
      "C:\\Users\\chris\\AppData\\Local\\Temp\\ipykernel_11408\\1506090990.py:87: FutureWarning: The frame.append method is deprecated and will be removed from pandas in a future version. Use pandas.concat instead.\n",
      "  df = df.append({\"Composer\": composer_name, \"Times\": times, \"Pitch\": pitch,\n",
      "C:\\Users\\chris\\AppData\\Local\\Temp\\ipykernel_11408\\1506090990.py:87: FutureWarning: The frame.append method is deprecated and will be removed from pandas in a future version. Use pandas.concat instead.\n",
      "  df = df.append({\"Composer\": composer_name, \"Times\": times, \"Pitch\": pitch,\n",
      "C:\\Users\\chris\\AppData\\Local\\Temp\\ipykernel_11408\\1506090990.py:87: FutureWarning: The frame.append method is deprecated and will be removed from pandas in a future version. Use pandas.concat instead.\n",
      "  df = df.append({\"Composer\": composer_name, \"Times\": times, \"Pitch\": pitch,\n",
      "C:\\Users\\chris\\AppData\\Local\\Temp\\ipykernel_11408\\1506090990.py:87: FutureWarning: The frame.append method is deprecated and will be removed from pandas in a future version. Use pandas.concat instead.\n",
      "  df = df.append({\"Composer\": composer_name, \"Times\": times, \"Pitch\": pitch,\n",
      "C:\\Users\\chris\\AppData\\Roaming\\Python\\Python39\\site-packages\\pretty_midi\\pretty_midi.py:100: RuntimeWarning: Tempo, Key or Time signature change events found on non-zero tracks.  This is not a valid type 0 or type 1 MIDI file.  Tempo, Key or Time Signature may be wrong.\n",
      "  warnings.warn(\n",
      "C:\\Users\\chris\\AppData\\Local\\Temp\\ipykernel_11408\\1506090990.py:87: FutureWarning: The frame.append method is deprecated and will be removed from pandas in a future version. Use pandas.concat instead.\n",
      "  df = df.append({\"Composer\": composer_name, \"Times\": times, \"Pitch\": pitch,\n",
      "C:\\Users\\chris\\AppData\\Roaming\\Python\\Python39\\site-packages\\pretty_midi\\pretty_midi.py:100: RuntimeWarning: Tempo, Key or Time signature change events found on non-zero tracks.  This is not a valid type 0 or type 1 MIDI file.  Tempo, Key or Time Signature may be wrong.\n",
      "  warnings.warn(\n"
     ]
    },
    {
     "name": "stdout",
     "output_type": "stream",
     "text": [
      "Processing train\\byrd\\byrd198.mid...\n",
      "Processing chopin MIDI files...\n",
      "Processing train\\chopin\\chopin049.mid...\n",
      "Processing train\\chopin\\chopin050.mid...\n",
      "Processing train\\chopin\\chopin051.mid...\n",
      "Processing train\\chopin\\chopin052.mid...\n"
     ]
    },
    {
     "name": "stderr",
     "output_type": "stream",
     "text": [
      "C:\\Users\\chris\\AppData\\Local\\Temp\\ipykernel_11408\\1506090990.py:87: FutureWarning: The frame.append method is deprecated and will be removed from pandas in a future version. Use pandas.concat instead.\n",
      "  df = df.append({\"Composer\": composer_name, \"Times\": times, \"Pitch\": pitch,\n",
      "C:\\Users\\chris\\AppData\\Local\\Temp\\ipykernel_11408\\1506090990.py:87: FutureWarning: The frame.append method is deprecated and will be removed from pandas in a future version. Use pandas.concat instead.\n",
      "  df = df.append({\"Composer\": composer_name, \"Times\": times, \"Pitch\": pitch,\n"
     ]
    },
    {
     "name": "stdout",
     "output_type": "stream",
     "text": [
      "Processing train\\chopin\\chopin054.mid...\n",
      "Processing train\\chopin\\chopin055.mid...\n"
     ]
    },
    {
     "name": "stderr",
     "output_type": "stream",
     "text": [
      "C:\\Users\\chris\\AppData\\Roaming\\Python\\Python39\\site-packages\\pretty_midi\\pretty_midi.py:100: RuntimeWarning: Tempo, Key or Time signature change events found on non-zero tracks.  This is not a valid type 0 or type 1 MIDI file.  Tempo, Key or Time Signature may be wrong.\n",
      "  warnings.warn(\n",
      "C:\\Users\\chris\\AppData\\Local\\Temp\\ipykernel_11408\\1506090990.py:87: FutureWarning: The frame.append method is deprecated and will be removed from pandas in a future version. Use pandas.concat instead.\n",
      "  df = df.append({\"Composer\": composer_name, \"Times\": times, \"Pitch\": pitch,\n"
     ]
    },
    {
     "name": "stdout",
     "output_type": "stream",
     "text": [
      "Processing train\\chopin\\chopin056.mid...\n",
      "Processing train\\chopin\\chopin057.mid...\n",
      "Processing train\\chopin\\chopin058.mid...\n"
     ]
    },
    {
     "name": "stderr",
     "output_type": "stream",
     "text": [
      "C:\\Users\\chris\\AppData\\Local\\Temp\\ipykernel_11408\\1506090990.py:87: FutureWarning: The frame.append method is deprecated and will be removed from pandas in a future version. Use pandas.concat instead.\n",
      "  df = df.append({\"Composer\": composer_name, \"Times\": times, \"Pitch\": pitch,\n",
      "C:\\Users\\chris\\AppData\\Local\\Temp\\ipykernel_11408\\1506090990.py:87: FutureWarning: The frame.append method is deprecated and will be removed from pandas in a future version. Use pandas.concat instead.\n",
      "  df = df.append({\"Composer\": composer_name, \"Times\": times, \"Pitch\": pitch,\n",
      "C:\\Users\\chris\\AppData\\Local\\Temp\\ipykernel_11408\\1506090990.py:87: FutureWarning: The frame.append method is deprecated and will be removed from pandas in a future version. Use pandas.concat instead.\n",
      "  df = df.append({\"Composer\": composer_name, \"Times\": times, \"Pitch\": pitch,\n",
      "C:\\Users\\chris\\AppData\\Local\\Temp\\ipykernel_11408\\1506090990.py:87: FutureWarning: The frame.append method is deprecated and will be removed from pandas in a future version. Use pandas.concat instead.\n",
      "  df = df.append({\"Composer\": composer_name, \"Times\": times, \"Pitch\": pitch,\n",
      "C:\\Users\\chris\\AppData\\Local\\Temp\\ipykernel_11408\\1506090990.py:87: FutureWarning: The frame.append method is deprecated and will be removed from pandas in a future version. Use pandas.concat instead.\n",
      "  df = df.append({\"Composer\": composer_name, \"Times\": times, \"Pitch\": pitch,\n"
     ]
    },
    {
     "name": "stdout",
     "output_type": "stream",
     "text": [
      "Processing train\\chopin\\chopin059.mid...\n",
      "Processing train\\chopin\\chopin060.mid...\n",
      "Processing train\\chopin\\chopin063.mid...\n"
     ]
    },
    {
     "name": "stderr",
     "output_type": "stream",
     "text": [
      "C:\\Users\\chris\\AppData\\Local\\Temp\\ipykernel_11408\\1506090990.py:87: FutureWarning: The frame.append method is deprecated and will be removed from pandas in a future version. Use pandas.concat instead.\n",
      "  df = df.append({\"Composer\": composer_name, \"Times\": times, \"Pitch\": pitch,\n",
      "C:\\Users\\chris\\AppData\\Local\\Temp\\ipykernel_11408\\1506090990.py:87: FutureWarning: The frame.append method is deprecated and will be removed from pandas in a future version. Use pandas.concat instead.\n",
      "  df = df.append({\"Composer\": composer_name, \"Times\": times, \"Pitch\": pitch,\n"
     ]
    },
    {
     "name": "stdout",
     "output_type": "stream",
     "text": [
      "Processing train\\chopin\\chopin064.mid...\n",
      "Processing train\\chopin\\chopin065.mid...\n"
     ]
    },
    {
     "name": "stderr",
     "output_type": "stream",
     "text": [
      "C:\\Users\\chris\\AppData\\Local\\Temp\\ipykernel_11408\\1506090990.py:87: FutureWarning: The frame.append method is deprecated and will be removed from pandas in a future version. Use pandas.concat instead.\n",
      "  df = df.append({\"Composer\": composer_name, \"Times\": times, \"Pitch\": pitch,\n",
      "C:\\Users\\chris\\AppData\\Local\\Temp\\ipykernel_11408\\1506090990.py:87: FutureWarning: The frame.append method is deprecated and will be removed from pandas in a future version. Use pandas.concat instead.\n",
      "  df = df.append({\"Composer\": composer_name, \"Times\": times, \"Pitch\": pitch,\n",
      "C:\\Users\\chris\\AppData\\Local\\Temp\\ipykernel_11408\\1506090990.py:87: FutureWarning: The frame.append method is deprecated and will be removed from pandas in a future version. Use pandas.concat instead.\n",
      "  df = df.append({\"Composer\": composer_name, \"Times\": times, \"Pitch\": pitch,\n",
      "C:\\Users\\chris\\AppData\\Local\\Temp\\ipykernel_11408\\1506090990.py:87: FutureWarning: The frame.append method is deprecated and will be removed from pandas in a future version. Use pandas.concat instead.\n",
      "  df = df.append({\"Composer\": composer_name, \"Times\": times, \"Pitch\": pitch,\n",
      "C:\\Users\\chris\\AppData\\Local\\Temp\\ipykernel_11408\\1506090990.py:87: FutureWarning: The frame.append method is deprecated and will be removed from pandas in a future version. Use pandas.concat instead.\n",
      "  df = df.append({\"Composer\": composer_name, \"Times\": times, \"Pitch\": pitch,\n"
     ]
    },
    {
     "name": "stdout",
     "output_type": "stream",
     "text": [
      "Processing train\\chopin\\chopin067.mid...\n",
      "Processing train\\chopin\\chopin068.mid...\n",
      "Processing train\\chopin\\chopin071.mid...\n",
      "Processing train\\chopin\\chopin072.mid...\n",
      "Processing train\\chopin\\chopin073.mid...\n"
     ]
    },
    {
     "name": "stderr",
     "output_type": "stream",
     "text": [
      "C:\\Users\\chris\\AppData\\Local\\Temp\\ipykernel_11408\\1506090990.py:87: FutureWarning: The frame.append method is deprecated and will be removed from pandas in a future version. Use pandas.concat instead.\n",
      "  df = df.append({\"Composer\": composer_name, \"Times\": times, \"Pitch\": pitch,\n",
      "C:\\Users\\chris\\AppData\\Local\\Temp\\ipykernel_11408\\1506090990.py:87: FutureWarning: The frame.append method is deprecated and will be removed from pandas in a future version. Use pandas.concat instead.\n",
      "  df = df.append({\"Composer\": composer_name, \"Times\": times, \"Pitch\": pitch,\n",
      "C:\\Users\\chris\\AppData\\Local\\Temp\\ipykernel_11408\\1506090990.py:87: FutureWarning: The frame.append method is deprecated and will be removed from pandas in a future version. Use pandas.concat instead.\n",
      "  df = df.append({\"Composer\": composer_name, \"Times\": times, \"Pitch\": pitch,\n",
      "C:\\Users\\chris\\AppData\\Local\\Temp\\ipykernel_11408\\1506090990.py:87: FutureWarning: The frame.append method is deprecated and will be removed from pandas in a future version. Use pandas.concat instead.\n",
      "  df = df.append({\"Composer\": composer_name, \"Times\": times, \"Pitch\": pitch,\n"
     ]
    },
    {
     "name": "stdout",
     "output_type": "stream",
     "text": [
      "Processing train\\chopin\\chopin074.mid...\n",
      "Processing train\\chopin\\chopin075.mid...\n",
      "Processing train\\chopin\\chopin076.mid...\n",
      "Processing train\\chopin\\chopin077.mid...\n"
     ]
    },
    {
     "name": "stderr",
     "output_type": "stream",
     "text": [
      "C:\\Users\\chris\\AppData\\Local\\Temp\\ipykernel_11408\\1506090990.py:87: FutureWarning: The frame.append method is deprecated and will be removed from pandas in a future version. Use pandas.concat instead.\n",
      "  df = df.append({\"Composer\": composer_name, \"Times\": times, \"Pitch\": pitch,\n",
      "C:\\Users\\chris\\AppData\\Local\\Temp\\ipykernel_11408\\1506090990.py:87: FutureWarning: The frame.append method is deprecated and will be removed from pandas in a future version. Use pandas.concat instead.\n",
      "  df = df.append({\"Composer\": composer_name, \"Times\": times, \"Pitch\": pitch,\n",
      "C:\\Users\\chris\\AppData\\Local\\Temp\\ipykernel_11408\\1506090990.py:87: FutureWarning: The frame.append method is deprecated and will be removed from pandas in a future version. Use pandas.concat instead.\n",
      "  df = df.append({\"Composer\": composer_name, \"Times\": times, \"Pitch\": pitch,\n"
     ]
    },
    {
     "name": "stdout",
     "output_type": "stream",
     "text": [
      "Processing train\\chopin\\chopin079.mid...\n",
      "Processing train\\chopin\\chopin080.mid...\n",
      "Processing train\\chopin\\chopin081.mid...\n"
     ]
    },
    {
     "name": "stderr",
     "output_type": "stream",
     "text": [
      "C:\\Users\\chris\\AppData\\Local\\Temp\\ipykernel_11408\\1506090990.py:87: FutureWarning: The frame.append method is deprecated and will be removed from pandas in a future version. Use pandas.concat instead.\n",
      "  df = df.append({\"Composer\": composer_name, \"Times\": times, \"Pitch\": pitch,\n",
      "C:\\Users\\chris\\AppData\\Local\\Temp\\ipykernel_11408\\1506090990.py:87: FutureWarning: The frame.append method is deprecated and will be removed from pandas in a future version. Use pandas.concat instead.\n",
      "  df = df.append({\"Composer\": composer_name, \"Times\": times, \"Pitch\": pitch,\n",
      "C:\\Users\\chris\\AppData\\Local\\Temp\\ipykernel_11408\\1506090990.py:87: FutureWarning: The frame.append method is deprecated and will be removed from pandas in a future version. Use pandas.concat instead.\n",
      "  df = df.append({\"Composer\": composer_name, \"Times\": times, \"Pitch\": pitch,\n",
      "C:\\Users\\chris\\AppData\\Local\\Temp\\ipykernel_11408\\1506090990.py:87: FutureWarning: The frame.append method is deprecated and will be removed from pandas in a future version. Use pandas.concat instead.\n",
      "  df = df.append({\"Composer\": composer_name, \"Times\": times, \"Pitch\": pitch,\n"
     ]
    },
    {
     "name": "stdout",
     "output_type": "stream",
     "text": [
      "Processing train\\chopin\\chopin082.mid...\n",
      "Processing train\\chopin\\chopin083.mid...\n",
      "Processing train\\chopin\\chopin084.mid...\n",
      "Processing train\\chopin\\chopin085.mid...\n"
     ]
    },
    {
     "name": "stderr",
     "output_type": "stream",
     "text": [
      "C:\\Users\\chris\\AppData\\Local\\Temp\\ipykernel_11408\\1506090990.py:87: FutureWarning: The frame.append method is deprecated and will be removed from pandas in a future version. Use pandas.concat instead.\n",
      "  df = df.append({\"Composer\": composer_name, \"Times\": times, \"Pitch\": pitch,\n",
      "C:\\Users\\chris\\AppData\\Local\\Temp\\ipykernel_11408\\1506090990.py:87: FutureWarning: The frame.append method is deprecated and will be removed from pandas in a future version. Use pandas.concat instead.\n",
      "  df = df.append({\"Composer\": composer_name, \"Times\": times, \"Pitch\": pitch,\n",
      "C:\\Users\\chris\\AppData\\Local\\Temp\\ipykernel_11408\\1506090990.py:87: FutureWarning: The frame.append method is deprecated and will be removed from pandas in a future version. Use pandas.concat instead.\n",
      "  df = df.append({\"Composer\": composer_name, \"Times\": times, \"Pitch\": pitch,\n"
     ]
    },
    {
     "name": "stdout",
     "output_type": "stream",
     "text": [
      "Processing train\\chopin\\chopin088.mid...\n",
      "Processing train\\chopin\\chopin089.mid...\n",
      "Processing train\\chopin\\chopin090.mid...\n"
     ]
    },
    {
     "name": "stderr",
     "output_type": "stream",
     "text": [
      "C:\\Users\\chris\\AppData\\Local\\Temp\\ipykernel_11408\\1506090990.py:87: FutureWarning: The frame.append method is deprecated and will be removed from pandas in a future version. Use pandas.concat instead.\n",
      "  df = df.append({\"Composer\": composer_name, \"Times\": times, \"Pitch\": pitch,\n"
     ]
    },
    {
     "name": "stdout",
     "output_type": "stream",
     "text": [
      "Processing train\\chopin\\chopin091.mid...\n"
     ]
    },
    {
     "name": "stderr",
     "output_type": "stream",
     "text": [
      "C:\\Users\\chris\\AppData\\Local\\Temp\\ipykernel_11408\\1506090990.py:87: FutureWarning: The frame.append method is deprecated and will be removed from pandas in a future version. Use pandas.concat instead.\n",
      "  df = df.append({\"Composer\": composer_name, \"Times\": times, \"Pitch\": pitch,\n",
      "C:\\Users\\chris\\AppData\\Local\\Temp\\ipykernel_11408\\1506090990.py:87: FutureWarning: The frame.append method is deprecated and will be removed from pandas in a future version. Use pandas.concat instead.\n",
      "  df = df.append({\"Composer\": composer_name, \"Times\": times, \"Pitch\": pitch,\n",
      "C:\\Users\\chris\\AppData\\Local\\Temp\\ipykernel_11408\\1506090990.py:87: FutureWarning: The frame.append method is deprecated and will be removed from pandas in a future version. Use pandas.concat instead.\n",
      "  df = df.append({\"Composer\": composer_name, \"Times\": times, \"Pitch\": pitch,\n"
     ]
    },
    {
     "name": "stdout",
     "output_type": "stream",
     "text": [
      "Processing train\\chopin\\chopin092.mid...\n",
      "Processing train\\chopin\\chopin093.mid...\n",
      "Processing train\\chopin\\chopin094.mid...\n"
     ]
    },
    {
     "name": "stderr",
     "output_type": "stream",
     "text": [
      "C:\\Users\\chris\\AppData\\Local\\Temp\\ipykernel_11408\\1506090990.py:87: FutureWarning: The frame.append method is deprecated and will be removed from pandas in a future version. Use pandas.concat instead.\n",
      "  df = df.append({\"Composer\": composer_name, \"Times\": times, \"Pitch\": pitch,\n",
      "C:\\Users\\chris\\AppData\\Local\\Temp\\ipykernel_11408\\1506090990.py:87: FutureWarning: The frame.append method is deprecated and will be removed from pandas in a future version. Use pandas.concat instead.\n",
      "  df = df.append({\"Composer\": composer_name, \"Times\": times, \"Pitch\": pitch,\n",
      "C:\\Users\\chris\\AppData\\Local\\Temp\\ipykernel_11408\\1506090990.py:87: FutureWarning: The frame.append method is deprecated and will be removed from pandas in a future version. Use pandas.concat instead.\n",
      "  df = df.append({\"Composer\": composer_name, \"Times\": times, \"Pitch\": pitch,\n",
      "C:\\Users\\chris\\AppData\\Local\\Temp\\ipykernel_11408\\1506090990.py:87: FutureWarning: The frame.append method is deprecated and will be removed from pandas in a future version. Use pandas.concat instead.\n",
      "  df = df.append({\"Composer\": composer_name, \"Times\": times, \"Pitch\": pitch,\n",
      "C:\\Users\\chris\\AppData\\Local\\Temp\\ipykernel_11408\\1506090990.py:87: FutureWarning: The frame.append method is deprecated and will be removed from pandas in a future version. Use pandas.concat instead.\n",
      "  df = df.append({\"Composer\": composer_name, \"Times\": times, \"Pitch\": pitch,\n"
     ]
    },
    {
     "name": "stdout",
     "output_type": "stream",
     "text": [
      "Processing train\\chopin\\chopin095.mid...\n",
      "Processing train\\chopin\\chopin096.mid...\n",
      "Processing train\\chopin\\chopin097.mid...\n",
      "Processing train\\chopin\\chopin098.mid...\n",
      "Processing handel MIDI files...\n",
      "Processing train\\handel\\handel099.mid...\n",
      "Processing train\\handel\\handel100.mid...\n",
      "Processing train\\handel\\handel101.mid...\n",
      "Processing train\\handel\\handel102.mid...\n",
      "Processing train\\handel\\handel103.mid...\n"
     ]
    },
    {
     "name": "stderr",
     "output_type": "stream",
     "text": [
      "C:\\Users\\chris\\AppData\\Roaming\\Python\\Python39\\site-packages\\pretty_midi\\pretty_midi.py:100: RuntimeWarning: Tempo, Key or Time signature change events found on non-zero tracks.  This is not a valid type 0 or type 1 MIDI file.  Tempo, Key or Time Signature may be wrong.\n",
      "  warnings.warn(\n",
      "C:\\Users\\chris\\AppData\\Local\\Temp\\ipykernel_11408\\1506090990.py:87: FutureWarning: The frame.append method is deprecated and will be removed from pandas in a future version. Use pandas.concat instead.\n",
      "  df = df.append({\"Composer\": composer_name, \"Times\": times, \"Pitch\": pitch,\n",
      "C:\\Users\\chris\\AppData\\Roaming\\Python\\Python39\\site-packages\\pretty_midi\\pretty_midi.py:100: RuntimeWarning: Tempo, Key or Time signature change events found on non-zero tracks.  This is not a valid type 0 or type 1 MIDI file.  Tempo, Key or Time Signature may be wrong.\n",
      "  warnings.warn(\n",
      "C:\\Users\\chris\\AppData\\Local\\Temp\\ipykernel_11408\\1506090990.py:87: FutureWarning: The frame.append method is deprecated and will be removed from pandas in a future version. Use pandas.concat instead.\n",
      "  df = df.append({\"Composer\": composer_name, \"Times\": times, \"Pitch\": pitch,\n",
      "C:\\Users\\chris\\AppData\\Roaming\\Python\\Python39\\site-packages\\pretty_midi\\pretty_midi.py:100: RuntimeWarning: Tempo, Key or Time signature change events found on non-zero tracks.  This is not a valid type 0 or type 1 MIDI file.  Tempo, Key or Time Signature may be wrong.\n",
      "  warnings.warn(\n",
      "C:\\Users\\chris\\AppData\\Local\\Temp\\ipykernel_11408\\1506090990.py:87: FutureWarning: The frame.append method is deprecated and will be removed from pandas in a future version. Use pandas.concat instead.\n",
      "  df = df.append({\"Composer\": composer_name, \"Times\": times, \"Pitch\": pitch,\n",
      "C:\\Users\\chris\\AppData\\Roaming\\Python\\Python39\\site-packages\\pretty_midi\\pretty_midi.py:100: RuntimeWarning: Tempo, Key or Time signature change events found on non-zero tracks.  This is not a valid type 0 or type 1 MIDI file.  Tempo, Key or Time Signature may be wrong.\n",
      "  warnings.warn(\n",
      "C:\\Users\\chris\\AppData\\Local\\Temp\\ipykernel_11408\\1506090990.py:87: FutureWarning: The frame.append method is deprecated and will be removed from pandas in a future version. Use pandas.concat instead.\n",
      "  df = df.append({\"Composer\": composer_name, \"Times\": times, \"Pitch\": pitch,\n",
      "C:\\Users\\chris\\AppData\\Roaming\\Python\\Python39\\site-packages\\pretty_midi\\pretty_midi.py:100: RuntimeWarning: Tempo, Key or Time signature change events found on non-zero tracks.  This is not a valid type 0 or type 1 MIDI file.  Tempo, Key or Time Signature may be wrong.\n",
      "  warnings.warn(\n",
      "C:\\Users\\chris\\AppData\\Local\\Temp\\ipykernel_11408\\1506090990.py:87: FutureWarning: The frame.append method is deprecated and will be removed from pandas in a future version. Use pandas.concat instead.\n",
      "  df = df.append({\"Composer\": composer_name, \"Times\": times, \"Pitch\": pitch,\n",
      "C:\\Users\\chris\\AppData\\Roaming\\Python\\Python39\\site-packages\\pretty_midi\\pretty_midi.py:100: RuntimeWarning: Tempo, Key or Time signature change events found on non-zero tracks.  This is not a valid type 0 or type 1 MIDI file.  Tempo, Key or Time Signature may be wrong.\n",
      "  warnings.warn(\n",
      "C:\\Users\\chris\\AppData\\Local\\Temp\\ipykernel_11408\\1506090990.py:87: FutureWarning: The frame.append method is deprecated and will be removed from pandas in a future version. Use pandas.concat instead.\n",
      "  df = df.append({\"Composer\": composer_name, \"Times\": times, \"Pitch\": pitch,\n",
      "C:\\Users\\chris\\AppData\\Roaming\\Python\\Python39\\site-packages\\pretty_midi\\pretty_midi.py:100: RuntimeWarning: Tempo, Key or Time signature change events found on non-zero tracks.  This is not a valid type 0 or type 1 MIDI file.  Tempo, Key or Time Signature may be wrong.\n",
      "  warnings.warn(\n",
      "C:\\Users\\chris\\AppData\\Local\\Temp\\ipykernel_11408\\1506090990.py:87: FutureWarning: The frame.append method is deprecated and will be removed from pandas in a future version. Use pandas.concat instead.\n",
      "  df = df.append({\"Composer\": composer_name, \"Times\": times, \"Pitch\": pitch,\n",
      "C:\\Users\\chris\\AppData\\Local\\Temp\\ipykernel_11408\\1506090990.py:87: FutureWarning: The frame.append method is deprecated and will be removed from pandas in a future version. Use pandas.concat instead.\n",
      "  df = df.append({\"Composer\": composer_name, \"Times\": times, \"Pitch\": pitch,\n"
     ]
    },
    {
     "name": "stdout",
     "output_type": "stream",
     "text": [
      "Processing train\\handel\\handel104.mid...\n",
      "Processing train\\handel\\handel105.mid...\n",
      "Processing train\\handel\\handel108.mid...\n",
      "Processing train\\handel\\handel109.mid...\n"
     ]
    },
    {
     "name": "stderr",
     "output_type": "stream",
     "text": [
      "C:\\Users\\chris\\AppData\\Roaming\\Python\\Python39\\site-packages\\pretty_midi\\pretty_midi.py:100: RuntimeWarning: Tempo, Key or Time signature change events found on non-zero tracks.  This is not a valid type 0 or type 1 MIDI file.  Tempo, Key or Time Signature may be wrong.\n",
      "  warnings.warn(\n",
      "C:\\Users\\chris\\AppData\\Local\\Temp\\ipykernel_11408\\1506090990.py:87: FutureWarning: The frame.append method is deprecated and will be removed from pandas in a future version. Use pandas.concat instead.\n",
      "  df = df.append({\"Composer\": composer_name, \"Times\": times, \"Pitch\": pitch,\n",
      "C:\\Users\\chris\\AppData\\Roaming\\Python\\Python39\\site-packages\\pretty_midi\\pretty_midi.py:100: RuntimeWarning: Tempo, Key or Time signature change events found on non-zero tracks.  This is not a valid type 0 or type 1 MIDI file.  Tempo, Key or Time Signature may be wrong.\n",
      "  warnings.warn(\n",
      "C:\\Users\\chris\\AppData\\Local\\Temp\\ipykernel_11408\\1506090990.py:87: FutureWarning: The frame.append method is deprecated and will be removed from pandas in a future version. Use pandas.concat instead.\n",
      "  df = df.append({\"Composer\": composer_name, \"Times\": times, \"Pitch\": pitch,\n",
      "C:\\Users\\chris\\AppData\\Roaming\\Python\\Python39\\site-packages\\pretty_midi\\pretty_midi.py:100: RuntimeWarning: Tempo, Key or Time signature change events found on non-zero tracks.  This is not a valid type 0 or type 1 MIDI file.  Tempo, Key or Time Signature may be wrong.\n",
      "  warnings.warn(\n",
      "C:\\Users\\chris\\AppData\\Local\\Temp\\ipykernel_11408\\1506090990.py:87: FutureWarning: The frame.append method is deprecated and will be removed from pandas in a future version. Use pandas.concat instead.\n",
      "  df = df.append({\"Composer\": composer_name, \"Times\": times, \"Pitch\": pitch,\n",
      "C:\\Users\\chris\\AppData\\Roaming\\Python\\Python39\\site-packages\\pretty_midi\\pretty_midi.py:100: RuntimeWarning: Tempo, Key or Time signature change events found on non-zero tracks.  This is not a valid type 0 or type 1 MIDI file.  Tempo, Key or Time Signature may be wrong.\n",
      "  warnings.warn(\n",
      "C:\\Users\\chris\\AppData\\Local\\Temp\\ipykernel_11408\\1506090990.py:87: FutureWarning: The frame.append method is deprecated and will be removed from pandas in a future version. Use pandas.concat instead.\n",
      "  df = df.append({\"Composer\": composer_name, \"Times\": times, \"Pitch\": pitch,\n"
     ]
    },
    {
     "name": "stdout",
     "output_type": "stream",
     "text": [
      "Processing train\\handel\\handel110.mid...\n",
      "Processing train\\handel\\handel111.mid...\n",
      "Processing train\\handel\\handel113.mid...\n",
      "Processing train\\handel\\handel114.mid...\n"
     ]
    },
    {
     "name": "stderr",
     "output_type": "stream",
     "text": [
      "C:\\Users\\chris\\AppData\\Local\\Temp\\ipykernel_11408\\1506090990.py:87: FutureWarning: The frame.append method is deprecated and will be removed from pandas in a future version. Use pandas.concat instead.\n",
      "  df = df.append({\"Composer\": composer_name, \"Times\": times, \"Pitch\": pitch,\n",
      "C:\\Users\\chris\\AppData\\Local\\Temp\\ipykernel_11408\\1506090990.py:87: FutureWarning: The frame.append method is deprecated and will be removed from pandas in a future version. Use pandas.concat instead.\n",
      "  df = df.append({\"Composer\": composer_name, \"Times\": times, \"Pitch\": pitch,\n",
      "C:\\Users\\chris\\AppData\\Roaming\\Python\\Python39\\site-packages\\pretty_midi\\pretty_midi.py:100: RuntimeWarning: Tempo, Key or Time signature change events found on non-zero tracks.  This is not a valid type 0 or type 1 MIDI file.  Tempo, Key or Time Signature may be wrong.\n",
      "  warnings.warn(\n",
      "C:\\Users\\chris\\AppData\\Local\\Temp\\ipykernel_11408\\1506090990.py:87: FutureWarning: The frame.append method is deprecated and will be removed from pandas in a future version. Use pandas.concat instead.\n",
      "  df = df.append({\"Composer\": composer_name, \"Times\": times, \"Pitch\": pitch,\n",
      "C:\\Users\\chris\\AppData\\Roaming\\Python\\Python39\\site-packages\\pretty_midi\\pretty_midi.py:100: RuntimeWarning: Tempo, Key or Time signature change events found on non-zero tracks.  This is not a valid type 0 or type 1 MIDI file.  Tempo, Key or Time Signature may be wrong.\n",
      "  warnings.warn(\n",
      "C:\\Users\\chris\\AppData\\Local\\Temp\\ipykernel_11408\\1506090990.py:87: FutureWarning: The frame.append method is deprecated and will be removed from pandas in a future version. Use pandas.concat instead.\n",
      "  df = df.append({\"Composer\": composer_name, \"Times\": times, \"Pitch\": pitch,\n"
     ]
    },
    {
     "name": "stdout",
     "output_type": "stream",
     "text": [
      "Processing train\\handel\\handel115.mid...\n",
      "Processing train\\handel\\handel116.mid...\n",
      "Processing train\\handel\\handel117.mid...\n",
      "Processing train\\handel\\handel118.mid...\n"
     ]
    },
    {
     "name": "stderr",
     "output_type": "stream",
     "text": [
      "C:\\Users\\chris\\AppData\\Roaming\\Python\\Python39\\site-packages\\pretty_midi\\pretty_midi.py:100: RuntimeWarning: Tempo, Key or Time signature change events found on non-zero tracks.  This is not a valid type 0 or type 1 MIDI file.  Tempo, Key or Time Signature may be wrong.\n",
      "  warnings.warn(\n",
      "C:\\Users\\chris\\AppData\\Local\\Temp\\ipykernel_11408\\1506090990.py:87: FutureWarning: The frame.append method is deprecated and will be removed from pandas in a future version. Use pandas.concat instead.\n",
      "  df = df.append({\"Composer\": composer_name, \"Times\": times, \"Pitch\": pitch,\n",
      "C:\\Users\\chris\\AppData\\Roaming\\Python\\Python39\\site-packages\\pretty_midi\\pretty_midi.py:100: RuntimeWarning: Tempo, Key or Time signature change events found on non-zero tracks.  This is not a valid type 0 or type 1 MIDI file.  Tempo, Key or Time Signature may be wrong.\n",
      "  warnings.warn(\n",
      "C:\\Users\\chris\\AppData\\Local\\Temp\\ipykernel_11408\\1506090990.py:87: FutureWarning: The frame.append method is deprecated and will be removed from pandas in a future version. Use pandas.concat instead.\n",
      "  df = df.append({\"Composer\": composer_name, \"Times\": times, \"Pitch\": pitch,\n",
      "C:\\Users\\chris\\AppData\\Roaming\\Python\\Python39\\site-packages\\pretty_midi\\pretty_midi.py:100: RuntimeWarning: Tempo, Key or Time signature change events found on non-zero tracks.  This is not a valid type 0 or type 1 MIDI file.  Tempo, Key or Time Signature may be wrong.\n",
      "  warnings.warn(\n",
      "C:\\Users\\chris\\AppData\\Local\\Temp\\ipykernel_11408\\1506090990.py:87: FutureWarning: The frame.append method is deprecated and will be removed from pandas in a future version. Use pandas.concat instead.\n",
      "  df = df.append({\"Composer\": composer_name, \"Times\": times, \"Pitch\": pitch,\n"
     ]
    },
    {
     "name": "stdout",
     "output_type": "stream",
     "text": [
      "Processing train\\handel\\handel120.mid...\n",
      "Processing train\\handel\\handel121.mid...\n",
      "Processing train\\handel\\handel122.mid...\n"
     ]
    },
    {
     "name": "stderr",
     "output_type": "stream",
     "text": [
      "C:\\Users\\chris\\AppData\\Local\\Temp\\ipykernel_11408\\1506090990.py:87: FutureWarning: The frame.append method is deprecated and will be removed from pandas in a future version. Use pandas.concat instead.\n",
      "  df = df.append({\"Composer\": composer_name, \"Times\": times, \"Pitch\": pitch,\n",
      "C:\\Users\\chris\\AppData\\Roaming\\Python\\Python39\\site-packages\\pretty_midi\\pretty_midi.py:100: RuntimeWarning: Tempo, Key or Time signature change events found on non-zero tracks.  This is not a valid type 0 or type 1 MIDI file.  Tempo, Key or Time Signature may be wrong.\n",
      "  warnings.warn(\n",
      "C:\\Users\\chris\\AppData\\Local\\Temp\\ipykernel_11408\\1506090990.py:87: FutureWarning: The frame.append method is deprecated and will be removed from pandas in a future version. Use pandas.concat instead.\n",
      "  df = df.append({\"Composer\": composer_name, \"Times\": times, \"Pitch\": pitch,\n"
     ]
    },
    {
     "name": "stdout",
     "output_type": "stream",
     "text": [
      "Processing train\\handel\\handel123.mid...\n",
      "Processing train\\handel\\handel124.mid...\n"
     ]
    },
    {
     "name": "stderr",
     "output_type": "stream",
     "text": [
      "C:\\Users\\chris\\AppData\\Roaming\\Python\\Python39\\site-packages\\pretty_midi\\pretty_midi.py:100: RuntimeWarning: Tempo, Key or Time signature change events found on non-zero tracks.  This is not a valid type 0 or type 1 MIDI file.  Tempo, Key or Time Signature may be wrong.\n",
      "  warnings.warn(\n",
      "C:\\Users\\chris\\AppData\\Local\\Temp\\ipykernel_11408\\1506090990.py:87: FutureWarning: The frame.append method is deprecated and will be removed from pandas in a future version. Use pandas.concat instead.\n",
      "  df = df.append({\"Composer\": composer_name, \"Times\": times, \"Pitch\": pitch,\n",
      "C:\\Users\\chris\\AppData\\Local\\Temp\\ipykernel_11408\\1506090990.py:87: FutureWarning: The frame.append method is deprecated and will be removed from pandas in a future version. Use pandas.concat instead.\n",
      "  df = df.append({\"Composer\": composer_name, \"Times\": times, \"Pitch\": pitch,\n"
     ]
    },
    {
     "name": "stdout",
     "output_type": "stream",
     "text": [
      "Processing train\\handel\\handel125.mid...\n",
      "Processing train\\handel\\handel126.mid...\n"
     ]
    },
    {
     "name": "stderr",
     "output_type": "stream",
     "text": [
      "C:\\Users\\chris\\AppData\\Local\\Temp\\ipykernel_11408\\1506090990.py:87: FutureWarning: The frame.append method is deprecated and will be removed from pandas in a future version. Use pandas.concat instead.\n",
      "  df = df.append({\"Composer\": composer_name, \"Times\": times, \"Pitch\": pitch,\n",
      "C:\\Users\\chris\\AppData\\Roaming\\Python\\Python39\\site-packages\\pretty_midi\\pretty_midi.py:100: RuntimeWarning: Tempo, Key or Time signature change events found on non-zero tracks.  This is not a valid type 0 or type 1 MIDI file.  Tempo, Key or Time Signature may be wrong.\n",
      "  warnings.warn(\n",
      "C:\\Users\\chris\\AppData\\Local\\Temp\\ipykernel_11408\\1506090990.py:87: FutureWarning: The frame.append method is deprecated and will be removed from pandas in a future version. Use pandas.concat instead.\n",
      "  df = df.append({\"Composer\": composer_name, \"Times\": times, \"Pitch\": pitch,\n",
      "C:\\Users\\chris\\AppData\\Roaming\\Python\\Python39\\site-packages\\pretty_midi\\pretty_midi.py:100: RuntimeWarning: Tempo, Key or Time signature change events found on non-zero tracks.  This is not a valid type 0 or type 1 MIDI file.  Tempo, Key or Time Signature may be wrong.\n",
      "  warnings.warn(\n",
      "C:\\Users\\chris\\AppData\\Local\\Temp\\ipykernel_11408\\1506090990.py:87: FutureWarning: The frame.append method is deprecated and will be removed from pandas in a future version. Use pandas.concat instead.\n",
      "  df = df.append({\"Composer\": composer_name, \"Times\": times, \"Pitch\": pitch,\n",
      "C:\\Users\\chris\\AppData\\Roaming\\Python\\Python39\\site-packages\\pretty_midi\\pretty_midi.py:100: RuntimeWarning: Tempo, Key or Time signature change events found on non-zero tracks.  This is not a valid type 0 or type 1 MIDI file.  Tempo, Key or Time Signature may be wrong.\n",
      "  warnings.warn(\n",
      "C:\\Users\\chris\\AppData\\Local\\Temp\\ipykernel_11408\\1506090990.py:87: FutureWarning: The frame.append method is deprecated and will be removed from pandas in a future version. Use pandas.concat instead.\n",
      "  df = df.append({\"Composer\": composer_name, \"Times\": times, \"Pitch\": pitch,\n",
      "C:\\Users\\chris\\AppData\\Roaming\\Python\\Python39\\site-packages\\pretty_midi\\pretty_midi.py:100: RuntimeWarning: Tempo, Key or Time signature change events found on non-zero tracks.  This is not a valid type 0 or type 1 MIDI file.  Tempo, Key or Time Signature may be wrong.\n",
      "  warnings.warn(\n",
      "C:\\Users\\chris\\AppData\\Local\\Temp\\ipykernel_11408\\1506090990.py:87: FutureWarning: The frame.append method is deprecated and will be removed from pandas in a future version. Use pandas.concat instead.\n",
      "  df = df.append({\"Composer\": composer_name, \"Times\": times, \"Pitch\": pitch,\n"
     ]
    },
    {
     "name": "stdout",
     "output_type": "stream",
     "text": [
      "Processing train\\handel\\handel127.mid...\n",
      "Processing train\\handel\\handel128.mid...\n",
      "Processing train\\handel\\handel129.mid...\n",
      "Processing train\\handel\\handel130.mid...\n",
      "Processing train\\handel\\handel131.mid...\n"
     ]
    },
    {
     "name": "stderr",
     "output_type": "stream",
     "text": [
      "C:\\Users\\chris\\AppData\\Local\\Temp\\ipykernel_11408\\1506090990.py:87: FutureWarning: The frame.append method is deprecated and will be removed from pandas in a future version. Use pandas.concat instead.\n",
      "  df = df.append({\"Composer\": composer_name, \"Times\": times, \"Pitch\": pitch,\n",
      "C:\\Users\\chris\\AppData\\Roaming\\Python\\Python39\\site-packages\\pretty_midi\\pretty_midi.py:100: RuntimeWarning: Tempo, Key or Time signature change events found on non-zero tracks.  This is not a valid type 0 or type 1 MIDI file.  Tempo, Key or Time Signature may be wrong.\n",
      "  warnings.warn(\n",
      "C:\\Users\\chris\\AppData\\Local\\Temp\\ipykernel_11408\\1506090990.py:87: FutureWarning: The frame.append method is deprecated and will be removed from pandas in a future version. Use pandas.concat instead.\n",
      "  df = df.append({\"Composer\": composer_name, \"Times\": times, \"Pitch\": pitch,\n",
      "C:\\Users\\chris\\AppData\\Roaming\\Python\\Python39\\site-packages\\pretty_midi\\pretty_midi.py:100: RuntimeWarning: Tempo, Key or Time signature change events found on non-zero tracks.  This is not a valid type 0 or type 1 MIDI file.  Tempo, Key or Time Signature may be wrong.\n",
      "  warnings.warn(\n",
      "C:\\Users\\chris\\AppData\\Local\\Temp\\ipykernel_11408\\1506090990.py:87: FutureWarning: The frame.append method is deprecated and will be removed from pandas in a future version. Use pandas.concat instead.\n",
      "  df = df.append({\"Composer\": composer_name, \"Times\": times, \"Pitch\": pitch,\n"
     ]
    },
    {
     "name": "stdout",
     "output_type": "stream",
     "text": [
      "Processing train\\handel\\handel132.mid...\n",
      "Processing train\\handel\\handel133.mid...\n",
      "Processing train\\handel\\handel134.mid...\n"
     ]
    },
    {
     "name": "stderr",
     "output_type": "stream",
     "text": [
      "C:\\Users\\chris\\AppData\\Roaming\\Python\\Python39\\site-packages\\pretty_midi\\pretty_midi.py:100: RuntimeWarning: Tempo, Key or Time signature change events found on non-zero tracks.  This is not a valid type 0 or type 1 MIDI file.  Tempo, Key or Time Signature may be wrong.\n",
      "  warnings.warn(\n",
      "C:\\Users\\chris\\AppData\\Local\\Temp\\ipykernel_11408\\1506090990.py:87: FutureWarning: The frame.append method is deprecated and will be removed from pandas in a future version. Use pandas.concat instead.\n",
      "  df = df.append({\"Composer\": composer_name, \"Times\": times, \"Pitch\": pitch,\n",
      "C:\\Users\\chris\\AppData\\Local\\Temp\\ipykernel_11408\\1506090990.py:87: FutureWarning: The frame.append method is deprecated and will be removed from pandas in a future version. Use pandas.concat instead.\n",
      "  df = df.append({\"Composer\": composer_name, \"Times\": times, \"Pitch\": pitch,\n",
      "C:\\Users\\chris\\AppData\\Roaming\\Python\\Python39\\site-packages\\pretty_midi\\pretty_midi.py:100: RuntimeWarning: Tempo, Key or Time signature change events found on non-zero tracks.  This is not a valid type 0 or type 1 MIDI file.  Tempo, Key or Time Signature may be wrong.\n",
      "  warnings.warn(\n",
      "C:\\Users\\chris\\AppData\\Local\\Temp\\ipykernel_11408\\1506090990.py:87: FutureWarning: The frame.append method is deprecated and will be removed from pandas in a future version. Use pandas.concat instead.\n",
      "  df = df.append({\"Composer\": composer_name, \"Times\": times, \"Pitch\": pitch,\n"
     ]
    },
    {
     "name": "stdout",
     "output_type": "stream",
     "text": [
      "Processing train\\handel\\handel135.mid...\n",
      "Processing train\\handel\\handel136.mid...\n",
      "Processing train\\handel\\handel138.mid...\n"
     ]
    },
    {
     "name": "stderr",
     "output_type": "stream",
     "text": [
      "C:\\Users\\chris\\AppData\\Roaming\\Python\\Python39\\site-packages\\pretty_midi\\pretty_midi.py:100: RuntimeWarning: Tempo, Key or Time signature change events found on non-zero tracks.  This is not a valid type 0 or type 1 MIDI file.  Tempo, Key or Time Signature may be wrong.\n",
      "  warnings.warn(\n",
      "C:\\Users\\chris\\AppData\\Local\\Temp\\ipykernel_11408\\1506090990.py:87: FutureWarning: The frame.append method is deprecated and will be removed from pandas in a future version. Use pandas.concat instead.\n",
      "  df = df.append({\"Composer\": composer_name, \"Times\": times, \"Pitch\": pitch,\n",
      "C:\\Users\\chris\\AppData\\Roaming\\Python\\Python39\\site-packages\\pretty_midi\\pretty_midi.py:100: RuntimeWarning: Tempo, Key or Time signature change events found on non-zero tracks.  This is not a valid type 0 or type 1 MIDI file.  Tempo, Key or Time Signature may be wrong.\n",
      "  warnings.warn(\n",
      "C:\\Users\\chris\\AppData\\Local\\Temp\\ipykernel_11408\\1506090990.py:87: FutureWarning: The frame.append method is deprecated and will be removed from pandas in a future version. Use pandas.concat instead.\n",
      "  df = df.append({\"Composer\": composer_name, \"Times\": times, \"Pitch\": pitch,\n",
      "C:\\Users\\chris\\AppData\\Roaming\\Python\\Python39\\site-packages\\pretty_midi\\pretty_midi.py:100: RuntimeWarning: Tempo, Key or Time signature change events found on non-zero tracks.  This is not a valid type 0 or type 1 MIDI file.  Tempo, Key or Time Signature may be wrong.\n",
      "  warnings.warn(\n",
      "C:\\Users\\chris\\AppData\\Local\\Temp\\ipykernel_11408\\1506090990.py:87: FutureWarning: The frame.append method is deprecated and will be removed from pandas in a future version. Use pandas.concat instead.\n",
      "  df = df.append({\"Composer\": composer_name, \"Times\": times, \"Pitch\": pitch,\n",
      "C:\\Users\\chris\\AppData\\Roaming\\Python\\Python39\\site-packages\\pretty_midi\\pretty_midi.py:100: RuntimeWarning: Tempo, Key or Time signature change events found on non-zero tracks.  This is not a valid type 0 or type 1 MIDI file.  Tempo, Key or Time Signature may be wrong.\n",
      "  warnings.warn(\n",
      "C:\\Users\\chris\\AppData\\Local\\Temp\\ipykernel_11408\\1506090990.py:87: FutureWarning: The frame.append method is deprecated and will be removed from pandas in a future version. Use pandas.concat instead.\n",
      "  df = df.append({\"Composer\": composer_name, \"Times\": times, \"Pitch\": pitch,\n"
     ]
    },
    {
     "name": "stdout",
     "output_type": "stream",
     "text": [
      "Processing train\\handel\\handel140.mid...\n",
      "Processing train\\handel\\handel141.mid...\n",
      "Processing train\\handel\\handel143.mid...\n",
      "Processing train\\handel\\handel144.mid...\n"
     ]
    },
    {
     "name": "stderr",
     "output_type": "stream",
     "text": [
      "C:\\Users\\chris\\AppData\\Local\\Temp\\ipykernel_11408\\1506090990.py:87: FutureWarning: The frame.append method is deprecated and will be removed from pandas in a future version. Use pandas.concat instead.\n",
      "  df = df.append({\"Composer\": composer_name, \"Times\": times, \"Pitch\": pitch,\n",
      "C:\\Users\\chris\\AppData\\Roaming\\Python\\Python39\\site-packages\\pretty_midi\\pretty_midi.py:100: RuntimeWarning: Tempo, Key or Time signature change events found on non-zero tracks.  This is not a valid type 0 or type 1 MIDI file.  Tempo, Key or Time Signature may be wrong.\n",
      "  warnings.warn(\n",
      "C:\\Users\\chris\\AppData\\Local\\Temp\\ipykernel_11408\\1506090990.py:87: FutureWarning: The frame.append method is deprecated and will be removed from pandas in a future version. Use pandas.concat instead.\n",
      "  df = df.append({\"Composer\": composer_name, \"Times\": times, \"Pitch\": pitch,\n",
      "C:\\Users\\chris\\AppData\\Roaming\\Python\\Python39\\site-packages\\pretty_midi\\pretty_midi.py:100: RuntimeWarning: Tempo, Key or Time signature change events found on non-zero tracks.  This is not a valid type 0 or type 1 MIDI file.  Tempo, Key or Time Signature may be wrong.\n",
      "  warnings.warn(\n"
     ]
    },
    {
     "name": "stdout",
     "output_type": "stream",
     "text": [
      "Processing train\\handel\\handel146.mid...\n",
      "Processing train\\handel\\handel148.mid...\n"
     ]
    },
    {
     "name": "stderr",
     "output_type": "stream",
     "text": [
      "C:\\Users\\chris\\AppData\\Local\\Temp\\ipykernel_11408\\1506090990.py:87: FutureWarning: The frame.append method is deprecated and will be removed from pandas in a future version. Use pandas.concat instead.\n",
      "  df = df.append({\"Composer\": composer_name, \"Times\": times, \"Pitch\": pitch,\n",
      "C:\\Users\\chris\\AppData\\Local\\Temp\\ipykernel_11408\\1506090990.py:87: FutureWarning: The frame.append method is deprecated and will be removed from pandas in a future version. Use pandas.concat instead.\n",
      "  df = df.append({\"Composer\": composer_name, \"Times\": times, \"Pitch\": pitch,\n",
      "C:\\Users\\chris\\AppData\\Local\\Temp\\ipykernel_11408\\1506090990.py:87: FutureWarning: The frame.append method is deprecated and will be removed from pandas in a future version. Use pandas.concat instead.\n",
      "  df = df.append({\"Composer\": composer_name, \"Times\": times, \"Pitch\": pitch,\n"
     ]
    },
    {
     "name": "stdout",
     "output_type": "stream",
     "text": [
      "Processing hummel MIDI files...\n",
      "Processing train\\hummel\\hummel292.mid...\n",
      "Processing train\\hummel\\hummel293.mid...\n",
      "Processing train\\hummel\\hummel294.mid...\n"
     ]
    },
    {
     "name": "stderr",
     "output_type": "stream",
     "text": [
      "C:\\Users\\chris\\AppData\\Local\\Temp\\ipykernel_11408\\1506090990.py:87: FutureWarning: The frame.append method is deprecated and will be removed from pandas in a future version. Use pandas.concat instead.\n",
      "  df = df.append({\"Composer\": composer_name, \"Times\": times, \"Pitch\": pitch,\n",
      "C:\\Users\\chris\\AppData\\Local\\Temp\\ipykernel_11408\\1506090990.py:87: FutureWarning: The frame.append method is deprecated and will be removed from pandas in a future version. Use pandas.concat instead.\n",
      "  df = df.append({\"Composer\": composer_name, \"Times\": times, \"Pitch\": pitch,\n",
      "C:\\Users\\chris\\AppData\\Local\\Temp\\ipykernel_11408\\1506090990.py:87: FutureWarning: The frame.append method is deprecated and will be removed from pandas in a future version. Use pandas.concat instead.\n",
      "  df = df.append({\"Composer\": composer_name, \"Times\": times, \"Pitch\": pitch,\n"
     ]
    },
    {
     "name": "stdout",
     "output_type": "stream",
     "text": [
      "Processing train\\hummel\\hummel295.mid...\n",
      "Processing train\\hummel\\hummel296.mid...\n",
      "Processing train\\hummel\\hummel297.mid...\n"
     ]
    },
    {
     "name": "stderr",
     "output_type": "stream",
     "text": [
      "C:\\Users\\chris\\AppData\\Local\\Temp\\ipykernel_11408\\1506090990.py:87: FutureWarning: The frame.append method is deprecated and will be removed from pandas in a future version. Use pandas.concat instead.\n",
      "  df = df.append({\"Composer\": composer_name, \"Times\": times, \"Pitch\": pitch,\n"
     ]
    },
    {
     "name": "stdout",
     "output_type": "stream",
     "text": [
      "Processing train\\hummel\\hummel298.mid...\n"
     ]
    },
    {
     "name": "stderr",
     "output_type": "stream",
     "text": [
      "C:\\Users\\chris\\AppData\\Local\\Temp\\ipykernel_11408\\1506090990.py:87: FutureWarning: The frame.append method is deprecated and will be removed from pandas in a future version. Use pandas.concat instead.\n",
      "  df = df.append({\"Composer\": composer_name, \"Times\": times, \"Pitch\": pitch,\n"
     ]
    },
    {
     "name": "stdout",
     "output_type": "stream",
     "text": [
      "Processing train\\hummel\\hummel299.mid...\n"
     ]
    },
    {
     "name": "stderr",
     "output_type": "stream",
     "text": [
      "C:\\Users\\chris\\AppData\\Local\\Temp\\ipykernel_11408\\1506090990.py:87: FutureWarning: The frame.append method is deprecated and will be removed from pandas in a future version. Use pandas.concat instead.\n",
      "  df = df.append({\"Composer\": composer_name, \"Times\": times, \"Pitch\": pitch,\n",
      "C:\\Users\\chris\\AppData\\Local\\Temp\\ipykernel_11408\\1506090990.py:87: FutureWarning: The frame.append method is deprecated and will be removed from pandas in a future version. Use pandas.concat instead.\n",
      "  df = df.append({\"Composer\": composer_name, \"Times\": times, \"Pitch\": pitch,\n"
     ]
    },
    {
     "name": "stdout",
     "output_type": "stream",
     "text": [
      "Processing train\\hummel\\hummel300.mid...\n",
      "Processing train\\hummel\\hummel302.mid...\n"
     ]
    },
    {
     "name": "stderr",
     "output_type": "stream",
     "text": [
      "C:\\Users\\chris\\AppData\\Local\\Temp\\ipykernel_11408\\1506090990.py:87: FutureWarning: The frame.append method is deprecated and will be removed from pandas in a future version. Use pandas.concat instead.\n",
      "  df = df.append({\"Composer\": composer_name, \"Times\": times, \"Pitch\": pitch,\n",
      "C:\\Users\\chris\\AppData\\Local\\Temp\\ipykernel_11408\\1506090990.py:87: FutureWarning: The frame.append method is deprecated and will be removed from pandas in a future version. Use pandas.concat instead.\n",
      "  df = df.append({\"Composer\": composer_name, \"Times\": times, \"Pitch\": pitch,\n"
     ]
    },
    {
     "name": "stdout",
     "output_type": "stream",
     "text": [
      "Processing train\\hummel\\hummel305.mid...\n",
      "Processing train\\hummel\\hummel306.mid...\n"
     ]
    },
    {
     "name": "stderr",
     "output_type": "stream",
     "text": [
      "C:\\Users\\chris\\AppData\\Local\\Temp\\ipykernel_11408\\1506090990.py:87: FutureWarning: The frame.append method is deprecated and will be removed from pandas in a future version. Use pandas.concat instead.\n",
      "  df = df.append({\"Composer\": composer_name, \"Times\": times, \"Pitch\": pitch,\n"
     ]
    },
    {
     "name": "stdout",
     "output_type": "stream",
     "text": [
      "Processing train\\hummel\\hummel307.mid...\n"
     ]
    },
    {
     "name": "stderr",
     "output_type": "stream",
     "text": [
      "C:\\Users\\chris\\AppData\\Local\\Temp\\ipykernel_11408\\1506090990.py:87: FutureWarning: The frame.append method is deprecated and will be removed from pandas in a future version. Use pandas.concat instead.\n",
      "  df = df.append({\"Composer\": composer_name, \"Times\": times, \"Pitch\": pitch,\n"
     ]
    },
    {
     "name": "stdout",
     "output_type": "stream",
     "text": [
      "Processing train\\hummel\\hummel308.mid...\n"
     ]
    },
    {
     "name": "stderr",
     "output_type": "stream",
     "text": [
      "C:\\Users\\chris\\AppData\\Local\\Temp\\ipykernel_11408\\1506090990.py:87: FutureWarning: The frame.append method is deprecated and will be removed from pandas in a future version. Use pandas.concat instead.\n",
      "  df = df.append({\"Composer\": composer_name, \"Times\": times, \"Pitch\": pitch,\n"
     ]
    },
    {
     "name": "stdout",
     "output_type": "stream",
     "text": [
      "Processing train\\hummel\\hummel309.mid...\n"
     ]
    },
    {
     "name": "stderr",
     "output_type": "stream",
     "text": [
      "C:\\Users\\chris\\AppData\\Local\\Temp\\ipykernel_11408\\1506090990.py:87: FutureWarning: The frame.append method is deprecated and will be removed from pandas in a future version. Use pandas.concat instead.\n",
      "  df = df.append({\"Composer\": composer_name, \"Times\": times, \"Pitch\": pitch,\n",
      "C:\\Users\\chris\\AppData\\Local\\Temp\\ipykernel_11408\\1506090990.py:87: FutureWarning: The frame.append method is deprecated and will be removed from pandas in a future version. Use pandas.concat instead.\n",
      "  df = df.append({\"Composer\": composer_name, \"Times\": times, \"Pitch\": pitch,\n"
     ]
    },
    {
     "name": "stdout",
     "output_type": "stream",
     "text": [
      "Processing train\\hummel\\hummel310.mid...\n",
      "Processing train\\hummel\\hummel311.mid...\n"
     ]
    },
    {
     "name": "stderr",
     "output_type": "stream",
     "text": [
      "C:\\Users\\chris\\AppData\\Local\\Temp\\ipykernel_11408\\1506090990.py:87: FutureWarning: The frame.append method is deprecated and will be removed from pandas in a future version. Use pandas.concat instead.\n",
      "  df = df.append({\"Composer\": composer_name, \"Times\": times, \"Pitch\": pitch,\n"
     ]
    },
    {
     "name": "stdout",
     "output_type": "stream",
     "text": [
      "Processing train\\hummel\\hummel313.mid...\n"
     ]
    },
    {
     "name": "stderr",
     "output_type": "stream",
     "text": [
      "C:\\Users\\chris\\AppData\\Local\\Temp\\ipykernel_11408\\1506090990.py:87: FutureWarning: The frame.append method is deprecated and will be removed from pandas in a future version. Use pandas.concat instead.\n",
      "  df = df.append({\"Composer\": composer_name, \"Times\": times, \"Pitch\": pitch,\n"
     ]
    },
    {
     "name": "stdout",
     "output_type": "stream",
     "text": [
      "Processing train\\hummel\\hummel315.mid...\n"
     ]
    },
    {
     "name": "stderr",
     "output_type": "stream",
     "text": [
      "C:\\Users\\chris\\AppData\\Local\\Temp\\ipykernel_11408\\1506090990.py:87: FutureWarning: The frame.append method is deprecated and will be removed from pandas in a future version. Use pandas.concat instead.\n",
      "  df = df.append({\"Composer\": composer_name, \"Times\": times, \"Pitch\": pitch,\n",
      "C:\\Users\\chris\\AppData\\Local\\Temp\\ipykernel_11408\\1506090990.py:87: FutureWarning: The frame.append method is deprecated and will be removed from pandas in a future version. Use pandas.concat instead.\n",
      "  df = df.append({\"Composer\": composer_name, \"Times\": times, \"Pitch\": pitch,\n",
      "C:\\Users\\chris\\AppData\\Local\\Temp\\ipykernel_11408\\1506090990.py:87: FutureWarning: The frame.append method is deprecated and will be removed from pandas in a future version. Use pandas.concat instead.\n",
      "  df = df.append({\"Composer\": composer_name, \"Times\": times, \"Pitch\": pitch,\n"
     ]
    },
    {
     "name": "stdout",
     "output_type": "stream",
     "text": [
      "Processing train\\hummel\\hummel316.mid...\n",
      "Processing train\\hummel\\hummel317.mid...\n",
      "Processing train\\hummel\\hummel318.mid...\n"
     ]
    },
    {
     "name": "stderr",
     "output_type": "stream",
     "text": [
      "C:\\Users\\chris\\AppData\\Local\\Temp\\ipykernel_11408\\1506090990.py:87: FutureWarning: The frame.append method is deprecated and will be removed from pandas in a future version. Use pandas.concat instead.\n",
      "  df = df.append({\"Composer\": composer_name, \"Times\": times, \"Pitch\": pitch,\n",
      "C:\\Users\\chris\\AppData\\Local\\Temp\\ipykernel_11408\\1506090990.py:87: FutureWarning: The frame.append method is deprecated and will be removed from pandas in a future version. Use pandas.concat instead.\n",
      "  df = df.append({\"Composer\": composer_name, \"Times\": times, \"Pitch\": pitch,\n"
     ]
    },
    {
     "name": "stdout",
     "output_type": "stream",
     "text": [
      "Processing train\\hummel\\hummel319.mid...\n",
      "Processing train\\hummel\\hummel320.mid...\n"
     ]
    },
    {
     "name": "stderr",
     "output_type": "stream",
     "text": [
      "C:\\Users\\chris\\AppData\\Local\\Temp\\ipykernel_11408\\1506090990.py:87: FutureWarning: The frame.append method is deprecated and will be removed from pandas in a future version. Use pandas.concat instead.\n",
      "  df = df.append({\"Composer\": composer_name, \"Times\": times, \"Pitch\": pitch,\n"
     ]
    },
    {
     "name": "stdout",
     "output_type": "stream",
     "text": [
      "Processing train\\hummel\\hummel321.mid...\n"
     ]
    },
    {
     "name": "stderr",
     "output_type": "stream",
     "text": [
      "C:\\Users\\chris\\AppData\\Local\\Temp\\ipykernel_11408\\1506090990.py:87: FutureWarning: The frame.append method is deprecated and will be removed from pandas in a future version. Use pandas.concat instead.\n",
      "  df = df.append({\"Composer\": composer_name, \"Times\": times, \"Pitch\": pitch,\n",
      "C:\\Users\\chris\\AppData\\Local\\Temp\\ipykernel_11408\\1506090990.py:87: FutureWarning: The frame.append method is deprecated and will be removed from pandas in a future version. Use pandas.concat instead.\n",
      "  df = df.append({\"Composer\": composer_name, \"Times\": times, \"Pitch\": pitch,\n"
     ]
    },
    {
     "name": "stdout",
     "output_type": "stream",
     "text": [
      "Processing train\\hummel\\hummel322.mid...\n",
      "Processing train\\hummel\\hummel324.mid...\n"
     ]
    },
    {
     "name": "stderr",
     "output_type": "stream",
     "text": [
      "C:\\Users\\chris\\AppData\\Local\\Temp\\ipykernel_11408\\1506090990.py:87: FutureWarning: The frame.append method is deprecated and will be removed from pandas in a future version. Use pandas.concat instead.\n",
      "  df = df.append({\"Composer\": composer_name, \"Times\": times, \"Pitch\": pitch,\n",
      "C:\\Users\\chris\\AppData\\Local\\Temp\\ipykernel_11408\\1506090990.py:87: FutureWarning: The frame.append method is deprecated and will be removed from pandas in a future version. Use pandas.concat instead.\n",
      "  df = df.append({\"Composer\": composer_name, \"Times\": times, \"Pitch\": pitch,\n"
     ]
    },
    {
     "name": "stdout",
     "output_type": "stream",
     "text": [
      "Processing train\\hummel\\hummel325.mid...\n",
      "Processing train\\hummel\\hummel326.mid...\n"
     ]
    },
    {
     "name": "stderr",
     "output_type": "stream",
     "text": [
      "C:\\Users\\chris\\AppData\\Local\\Temp\\ipykernel_11408\\1506090990.py:87: FutureWarning: The frame.append method is deprecated and will be removed from pandas in a future version. Use pandas.concat instead.\n",
      "  df = df.append({\"Composer\": composer_name, \"Times\": times, \"Pitch\": pitch,\n",
      "C:\\Users\\chris\\AppData\\Local\\Temp\\ipykernel_11408\\1506090990.py:87: FutureWarning: The frame.append method is deprecated and will be removed from pandas in a future version. Use pandas.concat instead.\n",
      "  df = df.append({\"Composer\": composer_name, \"Times\": times, \"Pitch\": pitch,\n"
     ]
    },
    {
     "name": "stdout",
     "output_type": "stream",
     "text": [
      "Processing train\\hummel\\hummel328.mid...\n",
      "Processing train\\hummel\\hummel329.mid...\n"
     ]
    },
    {
     "name": "stderr",
     "output_type": "stream",
     "text": [
      "C:\\Users\\chris\\AppData\\Local\\Temp\\ipykernel_11408\\1506090990.py:87: FutureWarning: The frame.append method is deprecated and will be removed from pandas in a future version. Use pandas.concat instead.\n",
      "  df = df.append({\"Composer\": composer_name, \"Times\": times, \"Pitch\": pitch,\n",
      "C:\\Users\\chris\\AppData\\Local\\Temp\\ipykernel_11408\\1506090990.py:87: FutureWarning: The frame.append method is deprecated and will be removed from pandas in a future version. Use pandas.concat instead.\n",
      "  df = df.append({\"Composer\": composer_name, \"Times\": times, \"Pitch\": pitch,\n"
     ]
    },
    {
     "name": "stdout",
     "output_type": "stream",
     "text": [
      "Processing train\\hummel\\hummel330.mid...\n",
      "Processing train\\hummel\\hummel331.mid...\n"
     ]
    },
    {
     "name": "stderr",
     "output_type": "stream",
     "text": [
      "C:\\Users\\chris\\AppData\\Local\\Temp\\ipykernel_11408\\1506090990.py:87: FutureWarning: The frame.append method is deprecated and will be removed from pandas in a future version. Use pandas.concat instead.\n",
      "  df = df.append({\"Composer\": composer_name, \"Times\": times, \"Pitch\": pitch,\n",
      "C:\\Users\\chris\\AppData\\Local\\Temp\\ipykernel_11408\\1506090990.py:87: FutureWarning: The frame.append method is deprecated and will be removed from pandas in a future version. Use pandas.concat instead.\n",
      "  df = df.append({\"Composer\": composer_name, \"Times\": times, \"Pitch\": pitch,\n"
     ]
    },
    {
     "name": "stdout",
     "output_type": "stream",
     "text": [
      "Processing train\\hummel\\hummel332.mid...\n",
      "Processing train\\hummel\\hummel333.mid...\n"
     ]
    },
    {
     "name": "stderr",
     "output_type": "stream",
     "text": [
      "C:\\Users\\chris\\AppData\\Local\\Temp\\ipykernel_11408\\1506090990.py:87: FutureWarning: The frame.append method is deprecated and will be removed from pandas in a future version. Use pandas.concat instead.\n",
      "  df = df.append({\"Composer\": composer_name, \"Times\": times, \"Pitch\": pitch,\n"
     ]
    },
    {
     "name": "stdout",
     "output_type": "stream",
     "text": [
      "Processing train\\hummel\\hummel334.mid...\n"
     ]
    },
    {
     "name": "stderr",
     "output_type": "stream",
     "text": [
      "C:\\Users\\chris\\AppData\\Local\\Temp\\ipykernel_11408\\1506090990.py:87: FutureWarning: The frame.append method is deprecated and will be removed from pandas in a future version. Use pandas.concat instead.\n",
      "  df = df.append({\"Composer\": composer_name, \"Times\": times, \"Pitch\": pitch,\n"
     ]
    },
    {
     "name": "stdout",
     "output_type": "stream",
     "text": [
      "Processing train\\hummel\\hummel336.mid...\n"
     ]
    },
    {
     "name": "stderr",
     "output_type": "stream",
     "text": [
      "C:\\Users\\chris\\AppData\\Local\\Temp\\ipykernel_11408\\1506090990.py:87: FutureWarning: The frame.append method is deprecated and will be removed from pandas in a future version. Use pandas.concat instead.\n",
      "  df = df.append({\"Composer\": composer_name, \"Times\": times, \"Pitch\": pitch,\n",
      "C:\\Users\\chris\\AppData\\Local\\Temp\\ipykernel_11408\\1506090990.py:87: FutureWarning: The frame.append method is deprecated and will be removed from pandas in a future version. Use pandas.concat instead.\n",
      "  df = df.append({\"Composer\": composer_name, \"Times\": times, \"Pitch\": pitch,\n"
     ]
    },
    {
     "name": "stdout",
     "output_type": "stream",
     "text": [
      "Processing train\\hummel\\hummel337.mid...\n",
      "Processing train\\hummel\\hummel338.mid...\n"
     ]
    },
    {
     "name": "stderr",
     "output_type": "stream",
     "text": [
      "C:\\Users\\chris\\AppData\\Local\\Temp\\ipykernel_11408\\1506090990.py:87: FutureWarning: The frame.append method is deprecated and will be removed from pandas in a future version. Use pandas.concat instead.\n",
      "  df = df.append({\"Composer\": composer_name, \"Times\": times, \"Pitch\": pitch,\n",
      "C:\\Users\\chris\\AppData\\Local\\Temp\\ipykernel_11408\\1506090990.py:87: FutureWarning: The frame.append method is deprecated and will be removed from pandas in a future version. Use pandas.concat instead.\n",
      "  df = df.append({\"Composer\": composer_name, \"Times\": times, \"Pitch\": pitch,\n"
     ]
    },
    {
     "name": "stdout",
     "output_type": "stream",
     "text": [
      "Processing train\\hummel\\hummel339.mid...\n",
      "Processing train\\hummel\\hummel340.mid...\n"
     ]
    },
    {
     "name": "stderr",
     "output_type": "stream",
     "text": [
      "C:\\Users\\chris\\AppData\\Local\\Temp\\ipykernel_11408\\1506090990.py:87: FutureWarning: The frame.append method is deprecated and will be removed from pandas in a future version. Use pandas.concat instead.\n",
      "  df = df.append({\"Composer\": composer_name, \"Times\": times, \"Pitch\": pitch,\n",
      "C:\\Users\\chris\\AppData\\Local\\Temp\\ipykernel_11408\\1506090990.py:87: FutureWarning: The frame.append method is deprecated and will be removed from pandas in a future version. Use pandas.concat instead.\n",
      "  df = df.append({\"Composer\": composer_name, \"Times\": times, \"Pitch\": pitch,\n"
     ]
    },
    {
     "name": "stdout",
     "output_type": "stream",
     "text": [
      "Processing train\\hummel\\hummel341.mid...\n",
      "Processing mendelssohn MIDI files...\n",
      "Processing train\\mendelssohn\\mendelssohn243.mid...\n",
      "Processing train\\mendelssohn\\mendelssohn244.mid...\n",
      "Processing train\\mendelssohn\\mendelssohn245.mid...\n",
      "Processing train\\mendelssohn\\mendelssohn246.mid...\n",
      "Processing train\\mendelssohn\\mendelssohn247.mid...\n",
      "Processing train\\mendelssohn\\mendelssohn248.mid...\n"
     ]
    },
    {
     "name": "stderr",
     "output_type": "stream",
     "text": [
      "C:\\Users\\chris\\AppData\\Local\\Temp\\ipykernel_11408\\1506090990.py:87: FutureWarning: The frame.append method is deprecated and will be removed from pandas in a future version. Use pandas.concat instead.\n",
      "  df = df.append({\"Composer\": composer_name, \"Times\": times, \"Pitch\": pitch,\n",
      "C:\\Users\\chris\\AppData\\Local\\Temp\\ipykernel_11408\\1506090990.py:87: FutureWarning: The frame.append method is deprecated and will be removed from pandas in a future version. Use pandas.concat instead.\n",
      "  df = df.append({\"Composer\": composer_name, \"Times\": times, \"Pitch\": pitch,\n",
      "C:\\Users\\chris\\AppData\\Roaming\\Python\\Python39\\site-packages\\pretty_midi\\pretty_midi.py:100: RuntimeWarning: Tempo, Key or Time signature change events found on non-zero tracks.  This is not a valid type 0 or type 1 MIDI file.  Tempo, Key or Time Signature may be wrong.\n",
      "  warnings.warn(\n",
      "C:\\Users\\chris\\AppData\\Local\\Temp\\ipykernel_11408\\1506090990.py:87: FutureWarning: The frame.append method is deprecated and will be removed from pandas in a future version. Use pandas.concat instead.\n",
      "  df = df.append({\"Composer\": composer_name, \"Times\": times, \"Pitch\": pitch,\n",
      "C:\\Users\\chris\\AppData\\Local\\Temp\\ipykernel_11408\\1506090990.py:87: FutureWarning: The frame.append method is deprecated and will be removed from pandas in a future version. Use pandas.concat instead.\n",
      "  df = df.append({\"Composer\": composer_name, \"Times\": times, \"Pitch\": pitch,\n",
      "C:\\Users\\chris\\AppData\\Roaming\\Python\\Python39\\site-packages\\pretty_midi\\pretty_midi.py:100: RuntimeWarning: Tempo, Key or Time signature change events found on non-zero tracks.  This is not a valid type 0 or type 1 MIDI file.  Tempo, Key or Time Signature may be wrong.\n",
      "  warnings.warn(\n",
      "C:\\Users\\chris\\AppData\\Local\\Temp\\ipykernel_11408\\1506090990.py:87: FutureWarning: The frame.append method is deprecated and will be removed from pandas in a future version. Use pandas.concat instead.\n",
      "  df = df.append({\"Composer\": composer_name, \"Times\": times, \"Pitch\": pitch,\n",
      "C:\\Users\\chris\\AppData\\Local\\Temp\\ipykernel_11408\\1506090990.py:87: FutureWarning: The frame.append method is deprecated and will be removed from pandas in a future version. Use pandas.concat instead.\n",
      "  df = df.append({\"Composer\": composer_name, \"Times\": times, \"Pitch\": pitch,\n",
      "C:\\Users\\chris\\AppData\\Local\\Temp\\ipykernel_11408\\1506090990.py:87: FutureWarning: The frame.append method is deprecated and will be removed from pandas in a future version. Use pandas.concat instead.\n",
      "  df = df.append({\"Composer\": composer_name, \"Times\": times, \"Pitch\": pitch,\n",
      "C:\\Users\\chris\\AppData\\Roaming\\Python\\Python39\\site-packages\\pretty_midi\\pretty_midi.py:100: RuntimeWarning: Tempo, Key or Time signature change events found on non-zero tracks.  This is not a valid type 0 or type 1 MIDI file.  Tempo, Key or Time Signature may be wrong.\n",
      "  warnings.warn(\n"
     ]
    },
    {
     "name": "stdout",
     "output_type": "stream",
     "text": [
      "Processing train\\mendelssohn\\mendelssohn249.mid...\n",
      "Processing train\\mendelssohn\\mendelssohn250.mid...\n"
     ]
    },
    {
     "name": "stderr",
     "output_type": "stream",
     "text": [
      "C:\\Users\\chris\\AppData\\Local\\Temp\\ipykernel_11408\\1506090990.py:87: FutureWarning: The frame.append method is deprecated and will be removed from pandas in a future version. Use pandas.concat instead.\n",
      "  df = df.append({\"Composer\": composer_name, \"Times\": times, \"Pitch\": pitch,\n",
      "C:\\Users\\chris\\AppData\\Local\\Temp\\ipykernel_11408\\1506090990.py:87: FutureWarning: The frame.append method is deprecated and will be removed from pandas in a future version. Use pandas.concat instead.\n",
      "  df = df.append({\"Composer\": composer_name, \"Times\": times, \"Pitch\": pitch,\n",
      "C:\\Users\\chris\\AppData\\Roaming\\Python\\Python39\\site-packages\\pretty_midi\\pretty_midi.py:100: RuntimeWarning: Tempo, Key or Time signature change events found on non-zero tracks.  This is not a valid type 0 or type 1 MIDI file.  Tempo, Key or Time Signature may be wrong.\n",
      "  warnings.warn(\n",
      "C:\\Users\\chris\\AppData\\Local\\Temp\\ipykernel_11408\\1506090990.py:87: FutureWarning: The frame.append method is deprecated and will be removed from pandas in a future version. Use pandas.concat instead.\n",
      "  df = df.append({\"Composer\": composer_name, \"Times\": times, \"Pitch\": pitch,\n",
      "C:\\Users\\chris\\AppData\\Local\\Temp\\ipykernel_11408\\1506090990.py:87: FutureWarning: The frame.append method is deprecated and will be removed from pandas in a future version. Use pandas.concat instead.\n",
      "  df = df.append({\"Composer\": composer_name, \"Times\": times, \"Pitch\": pitch,\n"
     ]
    },
    {
     "name": "stdout",
     "output_type": "stream",
     "text": [
      "Processing train\\mendelssohn\\mendelssohn251.mid...\n",
      "Processing train\\mendelssohn\\mendelssohn252.mid...\n",
      "Processing train\\mendelssohn\\mendelssohn253.mid...\n",
      "Processing train\\mendelssohn\\mendelssohn254.mid...\n"
     ]
    },
    {
     "name": "stderr",
     "output_type": "stream",
     "text": [
      "C:\\Users\\chris\\AppData\\Local\\Temp\\ipykernel_11408\\1506090990.py:87: FutureWarning: The frame.append method is deprecated and will be removed from pandas in a future version. Use pandas.concat instead.\n",
      "  df = df.append({\"Composer\": composer_name, \"Times\": times, \"Pitch\": pitch,\n",
      "C:\\Users\\chris\\AppData\\Local\\Temp\\ipykernel_11408\\1506090990.py:87: FutureWarning: The frame.append method is deprecated and will be removed from pandas in a future version. Use pandas.concat instead.\n",
      "  df = df.append({\"Composer\": composer_name, \"Times\": times, \"Pitch\": pitch,\n",
      "C:\\Users\\chris\\AppData\\Local\\Temp\\ipykernel_11408\\1506090990.py:87: FutureWarning: The frame.append method is deprecated and will be removed from pandas in a future version. Use pandas.concat instead.\n",
      "  df = df.append({\"Composer\": composer_name, \"Times\": times, \"Pitch\": pitch,\n"
     ]
    },
    {
     "name": "stdout",
     "output_type": "stream",
     "text": [
      "Processing train\\mendelssohn\\mendelssohn255.mid...\n",
      "Processing train\\mendelssohn\\mendelssohn256.mid...\n",
      "Processing train\\mendelssohn\\mendelssohn257.mid...\n"
     ]
    },
    {
     "name": "stderr",
     "output_type": "stream",
     "text": [
      "C:\\Users\\chris\\AppData\\Local\\Temp\\ipykernel_11408\\1506090990.py:87: FutureWarning: The frame.append method is deprecated and will be removed from pandas in a future version. Use pandas.concat instead.\n",
      "  df = df.append({\"Composer\": composer_name, \"Times\": times, \"Pitch\": pitch,\n",
      "C:\\Users\\chris\\AppData\\Local\\Temp\\ipykernel_11408\\1506090990.py:87: FutureWarning: The frame.append method is deprecated and will be removed from pandas in a future version. Use pandas.concat instead.\n",
      "  df = df.append({\"Composer\": composer_name, \"Times\": times, \"Pitch\": pitch,\n",
      "C:\\Users\\chris\\AppData\\Local\\Temp\\ipykernel_11408\\1506090990.py:87: FutureWarning: The frame.append method is deprecated and will be removed from pandas in a future version. Use pandas.concat instead.\n",
      "  df = df.append({\"Composer\": composer_name, \"Times\": times, \"Pitch\": pitch,\n"
     ]
    },
    {
     "name": "stdout",
     "output_type": "stream",
     "text": [
      "Processing train\\mendelssohn\\mendelssohn260.mid...\n",
      "Processing train\\mendelssohn\\mendelssohn261.mid...\n",
      "Processing train\\mendelssohn\\mendelssohn263.mid...\n"
     ]
    },
    {
     "name": "stderr",
     "output_type": "stream",
     "text": [
      "C:\\Users\\chris\\AppData\\Local\\Temp\\ipykernel_11408\\1506090990.py:87: FutureWarning: The frame.append method is deprecated and will be removed from pandas in a future version. Use pandas.concat instead.\n",
      "  df = df.append({\"Composer\": composer_name, \"Times\": times, \"Pitch\": pitch,\n"
     ]
    },
    {
     "name": "stdout",
     "output_type": "stream",
     "text": [
      "Processing train\\mendelssohn\\mendelssohn264.mid...\n"
     ]
    },
    {
     "name": "stderr",
     "output_type": "stream",
     "text": [
      "C:\\Users\\chris\\AppData\\Local\\Temp\\ipykernel_11408\\1506090990.py:87: FutureWarning: The frame.append method is deprecated and will be removed from pandas in a future version. Use pandas.concat instead.\n",
      "  df = df.append({\"Composer\": composer_name, \"Times\": times, \"Pitch\": pitch,\n",
      "C:\\Users\\chris\\AppData\\Local\\Temp\\ipykernel_11408\\1506090990.py:87: FutureWarning: The frame.append method is deprecated and will be removed from pandas in a future version. Use pandas.concat instead.\n",
      "  df = df.append({\"Composer\": composer_name, \"Times\": times, \"Pitch\": pitch,\n",
      "C:\\Users\\chris\\AppData\\Local\\Temp\\ipykernel_11408\\1506090990.py:87: FutureWarning: The frame.append method is deprecated and will be removed from pandas in a future version. Use pandas.concat instead.\n",
      "  df = df.append({\"Composer\": composer_name, \"Times\": times, \"Pitch\": pitch,\n"
     ]
    },
    {
     "name": "stdout",
     "output_type": "stream",
     "text": [
      "Processing train\\mendelssohn\\mendelssohn266.mid...\n",
      "Processing train\\mendelssohn\\mendelssohn267.mid...\n",
      "Processing train\\mendelssohn\\mendelssohn268.mid...\n"
     ]
    },
    {
     "name": "stderr",
     "output_type": "stream",
     "text": [
      "C:\\Users\\chris\\AppData\\Local\\Temp\\ipykernel_11408\\1506090990.py:87: FutureWarning: The frame.append method is deprecated and will be removed from pandas in a future version. Use pandas.concat instead.\n",
      "  df = df.append({\"Composer\": composer_name, \"Times\": times, \"Pitch\": pitch,\n",
      "C:\\Users\\chris\\AppData\\Local\\Temp\\ipykernel_11408\\1506090990.py:87: FutureWarning: The frame.append method is deprecated and will be removed from pandas in a future version. Use pandas.concat instead.\n",
      "  df = df.append({\"Composer\": composer_name, \"Times\": times, \"Pitch\": pitch,\n"
     ]
    },
    {
     "name": "stdout",
     "output_type": "stream",
     "text": [
      "Processing train\\mendelssohn\\mendelssohn269.mid...\n",
      "Processing train\\mendelssohn\\mendelssohn271.mid...\n"
     ]
    },
    {
     "name": "stderr",
     "output_type": "stream",
     "text": [
      "C:\\Users\\chris\\AppData\\Local\\Temp\\ipykernel_11408\\1506090990.py:87: FutureWarning: The frame.append method is deprecated and will be removed from pandas in a future version. Use pandas.concat instead.\n",
      "  df = df.append({\"Composer\": composer_name, \"Times\": times, \"Pitch\": pitch,\n"
     ]
    },
    {
     "name": "stdout",
     "output_type": "stream",
     "text": [
      "Processing train\\mendelssohn\\mendelssohn272.mid...\n"
     ]
    },
    {
     "name": "stderr",
     "output_type": "stream",
     "text": [
      "C:\\Users\\chris\\AppData\\Local\\Temp\\ipykernel_11408\\1506090990.py:87: FutureWarning: The frame.append method is deprecated and will be removed from pandas in a future version. Use pandas.concat instead.\n",
      "  df = df.append({\"Composer\": composer_name, \"Times\": times, \"Pitch\": pitch,\n",
      "C:\\Users\\chris\\AppData\\Local\\Temp\\ipykernel_11408\\1506090990.py:87: FutureWarning: The frame.append method is deprecated and will be removed from pandas in a future version. Use pandas.concat instead.\n",
      "  df = df.append({\"Composer\": composer_name, \"Times\": times, \"Pitch\": pitch,\n",
      "C:\\Users\\chris\\AppData\\Local\\Temp\\ipykernel_11408\\1506090990.py:87: FutureWarning: The frame.append method is deprecated and will be removed from pandas in a future version. Use pandas.concat instead.\n",
      "  df = df.append({\"Composer\": composer_name, \"Times\": times, \"Pitch\": pitch,\n"
     ]
    },
    {
     "name": "stdout",
     "output_type": "stream",
     "text": [
      "Processing train\\mendelssohn\\mendelssohn273.mid...\n",
      "Processing train\\mendelssohn\\mendelssohn274.mid...\n",
      "Processing train\\mendelssohn\\mendelssohn275.mid...\n"
     ]
    },
    {
     "name": "stderr",
     "output_type": "stream",
     "text": [
      "C:\\Users\\chris\\AppData\\Local\\Temp\\ipykernel_11408\\1506090990.py:87: FutureWarning: The frame.append method is deprecated and will be removed from pandas in a future version. Use pandas.concat instead.\n",
      "  df = df.append({\"Composer\": composer_name, \"Times\": times, \"Pitch\": pitch,\n",
      "C:\\Users\\chris\\AppData\\Local\\Temp\\ipykernel_11408\\1506090990.py:87: FutureWarning: The frame.append method is deprecated and will be removed from pandas in a future version. Use pandas.concat instead.\n",
      "  df = df.append({\"Composer\": composer_name, \"Times\": times, \"Pitch\": pitch,\n"
     ]
    },
    {
     "name": "stdout",
     "output_type": "stream",
     "text": [
      "Processing train\\mendelssohn\\mendelssohn276.mid...\n",
      "Processing train\\mendelssohn\\mendelssohn277.mid...\n"
     ]
    },
    {
     "name": "stderr",
     "output_type": "stream",
     "text": [
      "C:\\Users\\chris\\AppData\\Local\\Temp\\ipykernel_11408\\1506090990.py:87: FutureWarning: The frame.append method is deprecated and will be removed from pandas in a future version. Use pandas.concat instead.\n",
      "  df = df.append({\"Composer\": composer_name, \"Times\": times, \"Pitch\": pitch,\n"
     ]
    },
    {
     "name": "stdout",
     "output_type": "stream",
     "text": [
      "Processing train\\mendelssohn\\mendelssohn278.mid...\n"
     ]
    },
    {
     "name": "stderr",
     "output_type": "stream",
     "text": [
      "C:\\Users\\chris\\AppData\\Local\\Temp\\ipykernel_11408\\1506090990.py:87: FutureWarning: The frame.append method is deprecated and will be removed from pandas in a future version. Use pandas.concat instead.\n",
      "  df = df.append({\"Composer\": composer_name, \"Times\": times, \"Pitch\": pitch,\n",
      "C:\\Users\\chris\\AppData\\Local\\Temp\\ipykernel_11408\\1506090990.py:87: FutureWarning: The frame.append method is deprecated and will be removed from pandas in a future version. Use pandas.concat instead.\n",
      "  df = df.append({\"Composer\": composer_name, \"Times\": times, \"Pitch\": pitch,\n",
      "C:\\Users\\chris\\AppData\\Local\\Temp\\ipykernel_11408\\1506090990.py:87: FutureWarning: The frame.append method is deprecated and will be removed from pandas in a future version. Use pandas.concat instead.\n",
      "  df = df.append({\"Composer\": composer_name, \"Times\": times, \"Pitch\": pitch,\n"
     ]
    },
    {
     "name": "stdout",
     "output_type": "stream",
     "text": [
      "Processing train\\mendelssohn\\mendelssohn279.mid...\n",
      "Processing train\\mendelssohn\\mendelssohn280.mid...\n",
      "Processing train\\mendelssohn\\mendelssohn281.mid...\n"
     ]
    },
    {
     "name": "stderr",
     "output_type": "stream",
     "text": [
      "C:\\Users\\chris\\AppData\\Local\\Temp\\ipykernel_11408\\1506090990.py:87: FutureWarning: The frame.append method is deprecated and will be removed from pandas in a future version. Use pandas.concat instead.\n",
      "  df = df.append({\"Composer\": composer_name, \"Times\": times, \"Pitch\": pitch,\n",
      "C:\\Users\\chris\\AppData\\Local\\Temp\\ipykernel_11408\\1506090990.py:87: FutureWarning: The frame.append method is deprecated and will be removed from pandas in a future version. Use pandas.concat instead.\n",
      "  df = df.append({\"Composer\": composer_name, \"Times\": times, \"Pitch\": pitch,\n",
      "C:\\Users\\chris\\AppData\\Local\\Temp\\ipykernel_11408\\1506090990.py:87: FutureWarning: The frame.append method is deprecated and will be removed from pandas in a future version. Use pandas.concat instead.\n",
      "  df = df.append({\"Composer\": composer_name, \"Times\": times, \"Pitch\": pitch,\n"
     ]
    },
    {
     "name": "stdout",
     "output_type": "stream",
     "text": [
      "Processing train\\mendelssohn\\mendelssohn283.mid...\n",
      "Processing train\\mendelssohn\\mendelssohn285.mid...\n",
      "Processing train\\mendelssohn\\mendelssohn286.mid...\n"
     ]
    },
    {
     "name": "stderr",
     "output_type": "stream",
     "text": [
      "C:\\Users\\chris\\AppData\\Local\\Temp\\ipykernel_11408\\1506090990.py:87: FutureWarning: The frame.append method is deprecated and will be removed from pandas in a future version. Use pandas.concat instead.\n",
      "  df = df.append({\"Composer\": composer_name, \"Times\": times, \"Pitch\": pitch,\n",
      "C:\\Users\\chris\\AppData\\Local\\Temp\\ipykernel_11408\\1506090990.py:87: FutureWarning: The frame.append method is deprecated and will be removed from pandas in a future version. Use pandas.concat instead.\n",
      "  df = df.append({\"Composer\": composer_name, \"Times\": times, \"Pitch\": pitch,\n"
     ]
    },
    {
     "name": "stdout",
     "output_type": "stream",
     "text": [
      "Processing train\\mendelssohn\\mendelssohn287.mid...\n",
      "Processing train\\mendelssohn\\mendelssohn289.mid...\n"
     ]
    },
    {
     "name": "stderr",
     "output_type": "stream",
     "text": [
      "C:\\Users\\chris\\AppData\\Local\\Temp\\ipykernel_11408\\1506090990.py:87: FutureWarning: The frame.append method is deprecated and will be removed from pandas in a future version. Use pandas.concat instead.\n",
      "  df = df.append({\"Composer\": composer_name, \"Times\": times, \"Pitch\": pitch,\n",
      "C:\\Users\\chris\\AppData\\Local\\Temp\\ipykernel_11408\\1506090990.py:87: FutureWarning: The frame.append method is deprecated and will be removed from pandas in a future version. Use pandas.concat instead.\n",
      "  df = df.append({\"Composer\": composer_name, \"Times\": times, \"Pitch\": pitch,\n"
     ]
    },
    {
     "name": "stdout",
     "output_type": "stream",
     "text": [
      "Processing train\\mendelssohn\\mendelssohn290.mid...\n",
      "Processing train\\mendelssohn\\mendelssohn291.mid...\n"
     ]
    },
    {
     "name": "stderr",
     "output_type": "stream",
     "text": [
      "C:\\Users\\chris\\AppData\\Local\\Temp\\ipykernel_11408\\1506090990.py:87: FutureWarning: The frame.append method is deprecated and will be removed from pandas in a future version. Use pandas.concat instead.\n",
      "  df = df.append({\"Composer\": composer_name, \"Times\": times, \"Pitch\": pitch,\n"
     ]
    },
    {
     "name": "stdout",
     "output_type": "stream",
     "text": [
      "Processing mozart MIDI files...\n",
      "Processing train\\mozart\\mozart000.mid...\n"
     ]
    },
    {
     "name": "stderr",
     "output_type": "stream",
     "text": [
      "C:\\Users\\chris\\AppData\\Local\\Temp\\ipykernel_11408\\1506090990.py:87: FutureWarning: The frame.append method is deprecated and will be removed from pandas in a future version. Use pandas.concat instead.\n",
      "  df = df.append({\"Composer\": composer_name, \"Times\": times, \"Pitch\": pitch,\n",
      "C:\\Users\\chris\\AppData\\Local\\Temp\\ipykernel_11408\\1506090990.py:87: FutureWarning: The frame.append method is deprecated and will be removed from pandas in a future version. Use pandas.concat instead.\n",
      "  df = df.append({\"Composer\": composer_name, \"Times\": times, \"Pitch\": pitch,\n"
     ]
    },
    {
     "name": "stdout",
     "output_type": "stream",
     "text": [
      "Processing train\\mozart\\mozart001.mid...\n",
      "Processing train\\mozart\\mozart002.mid...\n"
     ]
    },
    {
     "name": "stderr",
     "output_type": "stream",
     "text": [
      "C:\\Users\\chris\\AppData\\Roaming\\Python\\Python39\\site-packages\\pretty_midi\\pretty_midi.py:100: RuntimeWarning: Tempo, Key or Time signature change events found on non-zero tracks.  This is not a valid type 0 or type 1 MIDI file.  Tempo, Key or Time Signature may be wrong.\n",
      "  warnings.warn(\n",
      "C:\\Users\\chris\\AppData\\Local\\Temp\\ipykernel_11408\\1506090990.py:87: FutureWarning: The frame.append method is deprecated and will be removed from pandas in a future version. Use pandas.concat instead.\n",
      "  df = df.append({\"Composer\": composer_name, \"Times\": times, \"Pitch\": pitch,\n",
      "C:\\Users\\chris\\AppData\\Roaming\\Python\\Python39\\site-packages\\pretty_midi\\pretty_midi.py:100: RuntimeWarning: Tempo, Key or Time signature change events found on non-zero tracks.  This is not a valid type 0 or type 1 MIDI file.  Tempo, Key or Time Signature may be wrong.\n",
      "  warnings.warn(\n"
     ]
    },
    {
     "name": "stdout",
     "output_type": "stream",
     "text": [
      "Processing train\\mozart\\mozart003.mid...\n",
      "Processing train\\mozart\\mozart005.mid...\n"
     ]
    },
    {
     "name": "stderr",
     "output_type": "stream",
     "text": [
      "C:\\Users\\chris\\AppData\\Local\\Temp\\ipykernel_11408\\1506090990.py:87: FutureWarning: The frame.append method is deprecated and will be removed from pandas in a future version. Use pandas.concat instead.\n",
      "  df = df.append({\"Composer\": composer_name, \"Times\": times, \"Pitch\": pitch,\n",
      "C:\\Users\\chris\\AppData\\Roaming\\Python\\Python39\\site-packages\\pretty_midi\\pretty_midi.py:100: RuntimeWarning: Tempo, Key or Time signature change events found on non-zero tracks.  This is not a valid type 0 or type 1 MIDI file.  Tempo, Key or Time Signature may be wrong.\n",
      "  warnings.warn(\n",
      "C:\\Users\\chris\\AppData\\Local\\Temp\\ipykernel_11408\\1506090990.py:87: FutureWarning: The frame.append method is deprecated and will be removed from pandas in a future version. Use pandas.concat instead.\n",
      "  df = df.append({\"Composer\": composer_name, \"Times\": times, \"Pitch\": pitch,\n",
      "C:\\Users\\chris\\AppData\\Roaming\\Python\\Python39\\site-packages\\pretty_midi\\pretty_midi.py:100: RuntimeWarning: Tempo, Key or Time signature change events found on non-zero tracks.  This is not a valid type 0 or type 1 MIDI file.  Tempo, Key or Time Signature may be wrong.\n",
      "  warnings.warn(\n"
     ]
    },
    {
     "name": "stdout",
     "output_type": "stream",
     "text": [
      "Processing train\\mozart\\mozart006.mid...\n",
      "Processing train\\mozart\\mozart007.mid...\n"
     ]
    },
    {
     "name": "stderr",
     "output_type": "stream",
     "text": [
      "C:\\Users\\chris\\AppData\\Local\\Temp\\ipykernel_11408\\1506090990.py:87: FutureWarning: The frame.append method is deprecated and will be removed from pandas in a future version. Use pandas.concat instead.\n",
      "  df = df.append({\"Composer\": composer_name, \"Times\": times, \"Pitch\": pitch,\n",
      "C:\\Users\\chris\\AppData\\Roaming\\Python\\Python39\\site-packages\\pretty_midi\\pretty_midi.py:100: RuntimeWarning: Tempo, Key or Time signature change events found on non-zero tracks.  This is not a valid type 0 or type 1 MIDI file.  Tempo, Key or Time Signature may be wrong.\n",
      "  warnings.warn(\n",
      "C:\\Users\\chris\\AppData\\Local\\Temp\\ipykernel_11408\\1506090990.py:87: FutureWarning: The frame.append method is deprecated and will be removed from pandas in a future version. Use pandas.concat instead.\n",
      "  df = df.append({\"Composer\": composer_name, \"Times\": times, \"Pitch\": pitch,\n",
      "C:\\Users\\chris\\AppData\\Local\\Temp\\ipykernel_11408\\1506090990.py:87: FutureWarning: The frame.append method is deprecated and will be removed from pandas in a future version. Use pandas.concat instead.\n",
      "  df = df.append({\"Composer\": composer_name, \"Times\": times, \"Pitch\": pitch,\n"
     ]
    },
    {
     "name": "stdout",
     "output_type": "stream",
     "text": [
      "Processing train\\mozart\\mozart008.mid...\n",
      "Processing train\\mozart\\mozart009.mid...\n"
     ]
    },
    {
     "name": "stderr",
     "output_type": "stream",
     "text": [
      "C:\\Users\\chris\\AppData\\Roaming\\Python\\Python39\\site-packages\\pretty_midi\\pretty_midi.py:100: RuntimeWarning: Tempo, Key or Time signature change events found on non-zero tracks.  This is not a valid type 0 or type 1 MIDI file.  Tempo, Key or Time Signature may be wrong.\n",
      "  warnings.warn(\n",
      "C:\\Users\\chris\\AppData\\Local\\Temp\\ipykernel_11408\\1506090990.py:87: FutureWarning: The frame.append method is deprecated and will be removed from pandas in a future version. Use pandas.concat instead.\n",
      "  df = df.append({\"Composer\": composer_name, \"Times\": times, \"Pitch\": pitch,\n"
     ]
    },
    {
     "name": "stdout",
     "output_type": "stream",
     "text": [
      "Processing train\\mozart\\mozart010.mid...\n"
     ]
    },
    {
     "name": "stderr",
     "output_type": "stream",
     "text": [
      "C:\\Users\\chris\\AppData\\Roaming\\Python\\Python39\\site-packages\\pretty_midi\\pretty_midi.py:100: RuntimeWarning: Tempo, Key or Time signature change events found on non-zero tracks.  This is not a valid type 0 or type 1 MIDI file.  Tempo, Key or Time Signature may be wrong.\n",
      "  warnings.warn(\n",
      "C:\\Users\\chris\\AppData\\Local\\Temp\\ipykernel_11408\\1506090990.py:87: FutureWarning: The frame.append method is deprecated and will be removed from pandas in a future version. Use pandas.concat instead.\n",
      "  df = df.append({\"Composer\": composer_name, \"Times\": times, \"Pitch\": pitch,\n",
      "C:\\Users\\chris\\AppData\\Roaming\\Python\\Python39\\site-packages\\pretty_midi\\pretty_midi.py:100: RuntimeWarning: Tempo, Key or Time signature change events found on non-zero tracks.  This is not a valid type 0 or type 1 MIDI file.  Tempo, Key or Time Signature may be wrong.\n",
      "  warnings.warn(\n",
      "C:\\Users\\chris\\AppData\\Local\\Temp\\ipykernel_11408\\1506090990.py:87: FutureWarning: The frame.append method is deprecated and will be removed from pandas in a future version. Use pandas.concat instead.\n",
      "  df = df.append({\"Composer\": composer_name, \"Times\": times, \"Pitch\": pitch,\n"
     ]
    },
    {
     "name": "stdout",
     "output_type": "stream",
     "text": [
      "Processing train\\mozart\\mozart011.mid...\n",
      "Processing train\\mozart\\mozart012.mid...\n"
     ]
    },
    {
     "name": "stderr",
     "output_type": "stream",
     "text": [
      "C:\\Users\\chris\\AppData\\Roaming\\Python\\Python39\\site-packages\\pretty_midi\\pretty_midi.py:100: RuntimeWarning: Tempo, Key or Time signature change events found on non-zero tracks.  This is not a valid type 0 or type 1 MIDI file.  Tempo, Key or Time Signature may be wrong.\n",
      "  warnings.warn(\n",
      "C:\\Users\\chris\\AppData\\Local\\Temp\\ipykernel_11408\\1506090990.py:87: FutureWarning: The frame.append method is deprecated and will be removed from pandas in a future version. Use pandas.concat instead.\n",
      "  df = df.append({\"Composer\": composer_name, \"Times\": times, \"Pitch\": pitch,\n",
      "C:\\Users\\chris\\AppData\\Local\\Temp\\ipykernel_11408\\1506090990.py:87: FutureWarning: The frame.append method is deprecated and will be removed from pandas in a future version. Use pandas.concat instead.\n",
      "  df = df.append({\"Composer\": composer_name, \"Times\": times, \"Pitch\": pitch,\n",
      "C:\\Users\\chris\\AppData\\Roaming\\Python\\Python39\\site-packages\\pretty_midi\\pretty_midi.py:100: RuntimeWarning: Tempo, Key or Time signature change events found on non-zero tracks.  This is not a valid type 0 or type 1 MIDI file.  Tempo, Key or Time Signature may be wrong.\n",
      "  warnings.warn(\n"
     ]
    },
    {
     "name": "stdout",
     "output_type": "stream",
     "text": [
      "Processing train\\mozart\\mozart013.mid...\n",
      "Processing train\\mozart\\mozart015.mid...\n",
      "Processing train\\mozart\\mozart016.mid...\n"
     ]
    },
    {
     "name": "stderr",
     "output_type": "stream",
     "text": [
      "C:\\Users\\chris\\AppData\\Local\\Temp\\ipykernel_11408\\1506090990.py:87: FutureWarning: The frame.append method is deprecated and will be removed from pandas in a future version. Use pandas.concat instead.\n",
      "  df = df.append({\"Composer\": composer_name, \"Times\": times, \"Pitch\": pitch,\n",
      "C:\\Users\\chris\\AppData\\Roaming\\Python\\Python39\\site-packages\\pretty_midi\\pretty_midi.py:100: RuntimeWarning: Tempo, Key or Time signature change events found on non-zero tracks.  This is not a valid type 0 or type 1 MIDI file.  Tempo, Key or Time Signature may be wrong.\n",
      "  warnings.warn(\n",
      "C:\\Users\\chris\\AppData\\Local\\Temp\\ipykernel_11408\\1506090990.py:87: FutureWarning: The frame.append method is deprecated and will be removed from pandas in a future version. Use pandas.concat instead.\n",
      "  df = df.append({\"Composer\": composer_name, \"Times\": times, \"Pitch\": pitch,\n"
     ]
    },
    {
     "name": "stdout",
     "output_type": "stream",
     "text": [
      "Processing train\\mozart\\mozart017.mid...\n",
      "Processing train\\mozart\\mozart018.mid...\n"
     ]
    },
    {
     "name": "stderr",
     "output_type": "stream",
     "text": [
      "C:\\Users\\chris\\AppData\\Roaming\\Python\\Python39\\site-packages\\pretty_midi\\pretty_midi.py:100: RuntimeWarning: Tempo, Key or Time signature change events found on non-zero tracks.  This is not a valid type 0 or type 1 MIDI file.  Tempo, Key or Time Signature may be wrong.\n",
      "  warnings.warn(\n",
      "C:\\Users\\chris\\AppData\\Local\\Temp\\ipykernel_11408\\1506090990.py:87: FutureWarning: The frame.append method is deprecated and will be removed from pandas in a future version. Use pandas.concat instead.\n",
      "  df = df.append({\"Composer\": composer_name, \"Times\": times, \"Pitch\": pitch,\n",
      "C:\\Users\\chris\\AppData\\Local\\Temp\\ipykernel_11408\\1506090990.py:87: FutureWarning: The frame.append method is deprecated and will be removed from pandas in a future version. Use pandas.concat instead.\n",
      "  df = df.append({\"Composer\": composer_name, \"Times\": times, \"Pitch\": pitch,\n"
     ]
    },
    {
     "name": "stdout",
     "output_type": "stream",
     "text": [
      "Processing train\\mozart\\mozart019.mid...\n"
     ]
    },
    {
     "name": "stderr",
     "output_type": "stream",
     "text": [
      "C:\\Users\\chris\\AppData\\Local\\Temp\\ipykernel_11408\\1506090990.py:87: FutureWarning: The frame.append method is deprecated and will be removed from pandas in a future version. Use pandas.concat instead.\n",
      "  df = df.append({\"Composer\": composer_name, \"Times\": times, \"Pitch\": pitch,\n",
      "C:\\Users\\chris\\AppData\\Local\\Temp\\ipykernel_11408\\1506090990.py:87: FutureWarning: The frame.append method is deprecated and will be removed from pandas in a future version. Use pandas.concat instead.\n",
      "  df = df.append({\"Composer\": composer_name, \"Times\": times, \"Pitch\": pitch,\n"
     ]
    },
    {
     "name": "stdout",
     "output_type": "stream",
     "text": [
      "Processing train\\mozart\\mozart021.mid...\n",
      "Processing train\\mozart\\mozart022.mid...\n"
     ]
    },
    {
     "name": "stderr",
     "output_type": "stream",
     "text": [
      "C:\\Users\\chris\\AppData\\Roaming\\Python\\Python39\\site-packages\\pretty_midi\\pretty_midi.py:100: RuntimeWarning: Tempo, Key or Time signature change events found on non-zero tracks.  This is not a valid type 0 or type 1 MIDI file.  Tempo, Key or Time Signature may be wrong.\n",
      "  warnings.warn(\n",
      "C:\\Users\\chris\\AppData\\Local\\Temp\\ipykernel_11408\\1506090990.py:87: FutureWarning: The frame.append method is deprecated and will be removed from pandas in a future version. Use pandas.concat instead.\n",
      "  df = df.append({\"Composer\": composer_name, \"Times\": times, \"Pitch\": pitch,\n",
      "C:\\Users\\chris\\AppData\\Roaming\\Python\\Python39\\site-packages\\pretty_midi\\pretty_midi.py:100: RuntimeWarning: Tempo, Key or Time signature change events found on non-zero tracks.  This is not a valid type 0 or type 1 MIDI file.  Tempo, Key or Time Signature may be wrong.\n",
      "  warnings.warn(\n",
      "C:\\Users\\chris\\AppData\\Local\\Temp\\ipykernel_11408\\1506090990.py:87: FutureWarning: The frame.append method is deprecated and will be removed from pandas in a future version. Use pandas.concat instead.\n",
      "  df = df.append({\"Composer\": composer_name, \"Times\": times, \"Pitch\": pitch,\n"
     ]
    },
    {
     "name": "stdout",
     "output_type": "stream",
     "text": [
      "Processing train\\mozart\\mozart023.mid...\n",
      "Processing train\\mozart\\mozart024.mid...\n"
     ]
    },
    {
     "name": "stderr",
     "output_type": "stream",
     "text": [
      "C:\\Users\\chris\\AppData\\Roaming\\Python\\Python39\\site-packages\\pretty_midi\\pretty_midi.py:100: RuntimeWarning: Tempo, Key or Time signature change events found on non-zero tracks.  This is not a valid type 0 or type 1 MIDI file.  Tempo, Key or Time Signature may be wrong.\n",
      "  warnings.warn(\n",
      "C:\\Users\\chris\\AppData\\Local\\Temp\\ipykernel_11408\\1506090990.py:87: FutureWarning: The frame.append method is deprecated and will be removed from pandas in a future version. Use pandas.concat instead.\n",
      "  df = df.append({\"Composer\": composer_name, \"Times\": times, \"Pitch\": pitch,\n",
      "C:\\Users\\chris\\AppData\\Roaming\\Python\\Python39\\site-packages\\pretty_midi\\pretty_midi.py:100: RuntimeWarning: Tempo, Key or Time signature change events found on non-zero tracks.  This is not a valid type 0 or type 1 MIDI file.  Tempo, Key or Time Signature may be wrong.\n",
      "  warnings.warn(\n",
      "C:\\Users\\chris\\AppData\\Local\\Temp\\ipykernel_11408\\1506090990.py:87: FutureWarning: The frame.append method is deprecated and will be removed from pandas in a future version. Use pandas.concat instead.\n",
      "  df = df.append({\"Composer\": composer_name, \"Times\": times, \"Pitch\": pitch,\n",
      "C:\\Users\\chris\\AppData\\Local\\Temp\\ipykernel_11408\\1506090990.py:87: FutureWarning: The frame.append method is deprecated and will be removed from pandas in a future version. Use pandas.concat instead.\n",
      "  df = df.append({\"Composer\": composer_name, \"Times\": times, \"Pitch\": pitch,\n"
     ]
    },
    {
     "name": "stdout",
     "output_type": "stream",
     "text": [
      "Processing train\\mozart\\mozart026.mid...\n",
      "Processing train\\mozart\\mozart027.mid...\n",
      "Processing train\\mozart\\mozart028.mid...\n"
     ]
    },
    {
     "name": "stderr",
     "output_type": "stream",
     "text": [
      "C:\\Users\\chris\\AppData\\Roaming\\Python\\Python39\\site-packages\\pretty_midi\\pretty_midi.py:100: RuntimeWarning: Tempo, Key or Time signature change events found on non-zero tracks.  This is not a valid type 0 or type 1 MIDI file.  Tempo, Key or Time Signature may be wrong.\n",
      "  warnings.warn(\n",
      "C:\\Users\\chris\\AppData\\Local\\Temp\\ipykernel_11408\\1506090990.py:87: FutureWarning: The frame.append method is deprecated and will be removed from pandas in a future version. Use pandas.concat instead.\n",
      "  df = df.append({\"Composer\": composer_name, \"Times\": times, \"Pitch\": pitch,\n",
      "C:\\Users\\chris\\AppData\\Roaming\\Python\\Python39\\site-packages\\pretty_midi\\pretty_midi.py:100: RuntimeWarning: Tempo, Key or Time signature change events found on non-zero tracks.  This is not a valid type 0 or type 1 MIDI file.  Tempo, Key or Time Signature may be wrong.\n",
      "  warnings.warn(\n"
     ]
    },
    {
     "name": "stdout",
     "output_type": "stream",
     "text": [
      "Processing train\\mozart\\mozart029.mid...\n",
      "Processing train\\mozart\\mozart030.mid...\n"
     ]
    },
    {
     "name": "stderr",
     "output_type": "stream",
     "text": [
      "C:\\Users\\chris\\AppData\\Local\\Temp\\ipykernel_11408\\1506090990.py:87: FutureWarning: The frame.append method is deprecated and will be removed from pandas in a future version. Use pandas.concat instead.\n",
      "  df = df.append({\"Composer\": composer_name, \"Times\": times, \"Pitch\": pitch,\n",
      "C:\\Users\\chris\\AppData\\Local\\Temp\\ipykernel_11408\\1506090990.py:87: FutureWarning: The frame.append method is deprecated and will be removed from pandas in a future version. Use pandas.concat instead.\n",
      "  df = df.append({\"Composer\": composer_name, \"Times\": times, \"Pitch\": pitch,\n",
      "C:\\Users\\chris\\AppData\\Local\\Temp\\ipykernel_11408\\1506090990.py:87: FutureWarning: The frame.append method is deprecated and will be removed from pandas in a future version. Use pandas.concat instead.\n",
      "  df = df.append({\"Composer\": composer_name, \"Times\": times, \"Pitch\": pitch,\n",
      "C:\\Users\\chris\\AppData\\Roaming\\Python\\Python39\\site-packages\\pretty_midi\\pretty_midi.py:100: RuntimeWarning: Tempo, Key or Time signature change events found on non-zero tracks.  This is not a valid type 0 or type 1 MIDI file.  Tempo, Key or Time Signature may be wrong.\n",
      "  warnings.warn(\n"
     ]
    },
    {
     "name": "stdout",
     "output_type": "stream",
     "text": [
      "Processing train\\mozart\\mozart031.mid...\n",
      "Processing train\\mozart\\mozart032.mid...\n"
     ]
    },
    {
     "name": "stderr",
     "output_type": "stream",
     "text": [
      "C:\\Users\\chris\\AppData\\Local\\Temp\\ipykernel_11408\\1506090990.py:87: FutureWarning: The frame.append method is deprecated and will be removed from pandas in a future version. Use pandas.concat instead.\n",
      "  df = df.append({\"Composer\": composer_name, \"Times\": times, \"Pitch\": pitch,\n",
      "C:\\Users\\chris\\AppData\\Roaming\\Python\\Python39\\site-packages\\pretty_midi\\pretty_midi.py:100: RuntimeWarning: Tempo, Key or Time signature change events found on non-zero tracks.  This is not a valid type 0 or type 1 MIDI file.  Tempo, Key or Time Signature may be wrong.\n",
      "  warnings.warn(\n"
     ]
    },
    {
     "name": "stdout",
     "output_type": "stream",
     "text": [
      "Processing train\\mozart\\mozart033.mid...\n"
     ]
    },
    {
     "name": "stderr",
     "output_type": "stream",
     "text": [
      "C:\\Users\\chris\\AppData\\Local\\Temp\\ipykernel_11408\\1506090990.py:87: FutureWarning: The frame.append method is deprecated and will be removed from pandas in a future version. Use pandas.concat instead.\n",
      "  df = df.append({\"Composer\": composer_name, \"Times\": times, \"Pitch\": pitch,\n",
      "C:\\Users\\chris\\AppData\\Roaming\\Python\\Python39\\site-packages\\pretty_midi\\pretty_midi.py:100: RuntimeWarning: Tempo, Key or Time signature change events found on non-zero tracks.  This is not a valid type 0 or type 1 MIDI file.  Tempo, Key or Time Signature may be wrong.\n",
      "  warnings.warn(\n",
      "C:\\Users\\chris\\AppData\\Local\\Temp\\ipykernel_11408\\1506090990.py:87: FutureWarning: The frame.append method is deprecated and will be removed from pandas in a future version. Use pandas.concat instead.\n",
      "  df = df.append({\"Composer\": composer_name, \"Times\": times, \"Pitch\": pitch,\n",
      "C:\\Users\\chris\\AppData\\Local\\Temp\\ipykernel_11408\\1506090990.py:87: FutureWarning: The frame.append method is deprecated and will be removed from pandas in a future version. Use pandas.concat instead.\n",
      "  df = df.append({\"Composer\": composer_name, \"Times\": times, \"Pitch\": pitch,\n"
     ]
    },
    {
     "name": "stdout",
     "output_type": "stream",
     "text": [
      "Processing train\\mozart\\mozart034.mid...\n",
      "Processing train\\mozart\\mozart036.mid...\n",
      "Processing train\\mozart\\mozart037.mid...\n"
     ]
    },
    {
     "name": "stderr",
     "output_type": "stream",
     "text": [
      "C:\\Users\\chris\\AppData\\Roaming\\Python\\Python39\\site-packages\\pretty_midi\\pretty_midi.py:100: RuntimeWarning: Tempo, Key or Time signature change events found on non-zero tracks.  This is not a valid type 0 or type 1 MIDI file.  Tempo, Key or Time Signature may be wrong.\n",
      "  warnings.warn(\n",
      "C:\\Users\\chris\\AppData\\Local\\Temp\\ipykernel_11408\\1506090990.py:87: FutureWarning: The frame.append method is deprecated and will be removed from pandas in a future version. Use pandas.concat instead.\n",
      "  df = df.append({\"Composer\": composer_name, \"Times\": times, \"Pitch\": pitch,\n"
     ]
    },
    {
     "name": "stdout",
     "output_type": "stream",
     "text": [
      "Processing train\\mozart\\mozart041.mid...\n"
     ]
    },
    {
     "name": "stderr",
     "output_type": "stream",
     "text": [
      "C:\\Users\\chris\\AppData\\Local\\Temp\\ipykernel_11408\\1506090990.py:87: FutureWarning: The frame.append method is deprecated and will be removed from pandas in a future version. Use pandas.concat instead.\n",
      "  df = df.append({\"Composer\": composer_name, \"Times\": times, \"Pitch\": pitch,\n",
      "C:\\Users\\chris\\AppData\\Roaming\\Python\\Python39\\site-packages\\pretty_midi\\pretty_midi.py:100: RuntimeWarning: Tempo, Key or Time signature change events found on non-zero tracks.  This is not a valid type 0 or type 1 MIDI file.  Tempo, Key or Time Signature may be wrong.\n",
      "  warnings.warn(\n",
      "C:\\Users\\chris\\AppData\\Local\\Temp\\ipykernel_11408\\1506090990.py:87: FutureWarning: The frame.append method is deprecated and will be removed from pandas in a future version. Use pandas.concat instead.\n",
      "  df = df.append({\"Composer\": composer_name, \"Times\": times, \"Pitch\": pitch,\n",
      "C:\\Users\\chris\\AppData\\Local\\Temp\\ipykernel_11408\\1506090990.py:87: FutureWarning: The frame.append method is deprecated and will be removed from pandas in a future version. Use pandas.concat instead.\n",
      "  df = df.append({\"Composer\": composer_name, \"Times\": times, \"Pitch\": pitch,\n"
     ]
    },
    {
     "name": "stdout",
     "output_type": "stream",
     "text": [
      "Processing train\\mozart\\mozart042.mid...\n",
      "Processing train\\mozart\\mozart043.mid...\n",
      "Processing train\\mozart\\mozart044.mid...\n"
     ]
    },
    {
     "name": "stderr",
     "output_type": "stream",
     "text": [
      "C:\\Users\\chris\\AppData\\Local\\Temp\\ipykernel_11408\\1506090990.py:87: FutureWarning: The frame.append method is deprecated and will be removed from pandas in a future version. Use pandas.concat instead.\n",
      "  df = df.append({\"Composer\": composer_name, \"Times\": times, \"Pitch\": pitch,\n"
     ]
    },
    {
     "name": "stdout",
     "output_type": "stream",
     "text": [
      "Processing train\\mozart\\mozart045.mid...\n",
      "Processing train\\mozart\\mozart046.mid...\n"
     ]
    },
    {
     "name": "stderr",
     "output_type": "stream",
     "text": [
      "C:\\Users\\chris\\AppData\\Local\\Temp\\ipykernel_11408\\1506090990.py:87: FutureWarning: The frame.append method is deprecated and will be removed from pandas in a future version. Use pandas.concat instead.\n",
      "  df = df.append({\"Composer\": composer_name, \"Times\": times, \"Pitch\": pitch,\n",
      "C:\\Users\\chris\\AppData\\Local\\Temp\\ipykernel_11408\\1506090990.py:87: FutureWarning: The frame.append method is deprecated and will be removed from pandas in a future version. Use pandas.concat instead.\n",
      "  df = df.append({\"Composer\": composer_name, \"Times\": times, \"Pitch\": pitch,\n",
      "C:\\Users\\chris\\AppData\\Local\\Temp\\ipykernel_11408\\1506090990.py:87: FutureWarning: The frame.append method is deprecated and will be removed from pandas in a future version. Use pandas.concat instead.\n",
      "  df = df.append({\"Composer\": composer_name, \"Times\": times, \"Pitch\": pitch,\n"
     ]
    },
    {
     "name": "stdout",
     "output_type": "stream",
     "text": [
      "Processing train\\mozart\\mozart047.mid...\n",
      "Processing train\\mozart\\mozart048.mid...\n",
      "Processing schumann MIDI files...\n"
     ]
    },
    {
     "name": "stderr",
     "output_type": "stream",
     "text": [
      "C:\\Users\\chris\\AppData\\Local\\Temp\\ipykernel_11408\\1506090990.py:87: FutureWarning: The frame.append method is deprecated and will be removed from pandas in a future version. Use pandas.concat instead.\n",
      "  df = df.append({\"Composer\": composer_name, \"Times\": times, \"Pitch\": pitch,\n"
     ]
    },
    {
     "name": "stdout",
     "output_type": "stream",
     "text": [
      "Processing train\\schumann\\schumann199.mid...\n"
     ]
    },
    {
     "name": "stderr",
     "output_type": "stream",
     "text": [
      "C:\\Users\\chris\\AppData\\Local\\Temp\\ipykernel_11408\\1506090990.py:87: FutureWarning: The frame.append method is deprecated and will be removed from pandas in a future version. Use pandas.concat instead.\n",
      "  df = df.append({\"Composer\": composer_name, \"Times\": times, \"Pitch\": pitch,\n"
     ]
    },
    {
     "name": "stdout",
     "output_type": "stream",
     "text": [
      "Processing train\\schumann\\schumann200.mid...\n"
     ]
    },
    {
     "name": "stderr",
     "output_type": "stream",
     "text": [
      "C:\\Users\\chris\\AppData\\Local\\Temp\\ipykernel_11408\\1506090990.py:87: FutureWarning: The frame.append method is deprecated and will be removed from pandas in a future version. Use pandas.concat instead.\n",
      "  df = df.append({\"Composer\": composer_name, \"Times\": times, \"Pitch\": pitch,\n",
      "C:\\Users\\chris\\AppData\\Local\\Temp\\ipykernel_11408\\1506090990.py:87: FutureWarning: The frame.append method is deprecated and will be removed from pandas in a future version. Use pandas.concat instead.\n",
      "  df = df.append({\"Composer\": composer_name, \"Times\": times, \"Pitch\": pitch,\n"
     ]
    },
    {
     "name": "stdout",
     "output_type": "stream",
     "text": [
      "Processing train\\schumann\\schumann201.mid...\n",
      "Processing train\\schumann\\schumann202.mid...\n"
     ]
    },
    {
     "name": "stderr",
     "output_type": "stream",
     "text": [
      "C:\\Users\\chris\\AppData\\Roaming\\Python\\Python39\\site-packages\\pretty_midi\\pretty_midi.py:100: RuntimeWarning: Tempo, Key or Time signature change events found on non-zero tracks.  This is not a valid type 0 or type 1 MIDI file.  Tempo, Key or Time Signature may be wrong.\n",
      "  warnings.warn(\n",
      "C:\\Users\\chris\\AppData\\Local\\Temp\\ipykernel_11408\\1506090990.py:87: FutureWarning: The frame.append method is deprecated and will be removed from pandas in a future version. Use pandas.concat instead.\n",
      "  df = df.append({\"Composer\": composer_name, \"Times\": times, \"Pitch\": pitch,\n"
     ]
    },
    {
     "name": "stdout",
     "output_type": "stream",
     "text": [
      "Processing train\\schumann\\schumann203.mid...\n"
     ]
    },
    {
     "name": "stderr",
     "output_type": "stream",
     "text": [
      "C:\\Users\\chris\\AppData\\Local\\Temp\\ipykernel_11408\\1506090990.py:87: FutureWarning: The frame.append method is deprecated and will be removed from pandas in a future version. Use pandas.concat instead.\n",
      "  df = df.append({\"Composer\": composer_name, \"Times\": times, \"Pitch\": pitch,\n",
      "C:\\Users\\chris\\AppData\\Local\\Temp\\ipykernel_11408\\1506090990.py:87: FutureWarning: The frame.append method is deprecated and will be removed from pandas in a future version. Use pandas.concat instead.\n",
      "  df = df.append({\"Composer\": composer_name, \"Times\": times, \"Pitch\": pitch,\n",
      "C:\\Users\\chris\\AppData\\Local\\Temp\\ipykernel_11408\\1506090990.py:87: FutureWarning: The frame.append method is deprecated and will be removed from pandas in a future version. Use pandas.concat instead.\n",
      "  df = df.append({\"Composer\": composer_name, \"Times\": times, \"Pitch\": pitch,\n",
      "C:\\Users\\chris\\AppData\\Roaming\\Python\\Python39\\site-packages\\pretty_midi\\pretty_midi.py:100: RuntimeWarning: Tempo, Key or Time signature change events found on non-zero tracks.  This is not a valid type 0 or type 1 MIDI file.  Tempo, Key or Time Signature may be wrong.\n",
      "  warnings.warn(\n",
      "C:\\Users\\chris\\AppData\\Local\\Temp\\ipykernel_11408\\1506090990.py:87: FutureWarning: The frame.append method is deprecated and will be removed from pandas in a future version. Use pandas.concat instead.\n",
      "  df = df.append({\"Composer\": composer_name, \"Times\": times, \"Pitch\": pitch,\n",
      "C:\\Users\\chris\\AppData\\Local\\Temp\\ipykernel_11408\\1506090990.py:87: FutureWarning: The frame.append method is deprecated and will be removed from pandas in a future version. Use pandas.concat instead.\n",
      "  df = df.append({\"Composer\": composer_name, \"Times\": times, \"Pitch\": pitch,\n"
     ]
    },
    {
     "name": "stdout",
     "output_type": "stream",
     "text": [
      "Processing train\\schumann\\schumann204.mid...\n",
      "Processing train\\schumann\\schumann206.mid...\n",
      "Processing train\\schumann\\schumann207.mid...\n",
      "Processing train\\schumann\\schumann208.mid...\n",
      "Processing train\\schumann\\schumann210.mid...\n"
     ]
    },
    {
     "name": "stderr",
     "output_type": "stream",
     "text": [
      "C:\\Users\\chris\\AppData\\Local\\Temp\\ipykernel_11408\\1506090990.py:87: FutureWarning: The frame.append method is deprecated and will be removed from pandas in a future version. Use pandas.concat instead.\n",
      "  df = df.append({\"Composer\": composer_name, \"Times\": times, \"Pitch\": pitch,\n",
      "C:\\Users\\chris\\AppData\\Local\\Temp\\ipykernel_11408\\1506090990.py:87: FutureWarning: The frame.append method is deprecated and will be removed from pandas in a future version. Use pandas.concat instead.\n",
      "  df = df.append({\"Composer\": composer_name, \"Times\": times, \"Pitch\": pitch,\n",
      "C:\\Users\\chris\\AppData\\Local\\Temp\\ipykernel_11408\\1506090990.py:87: FutureWarning: The frame.append method is deprecated and will be removed from pandas in a future version. Use pandas.concat instead.\n",
      "  df = df.append({\"Composer\": composer_name, \"Times\": times, \"Pitch\": pitch,\n",
      "C:\\Users\\chris\\AppData\\Local\\Temp\\ipykernel_11408\\1506090990.py:87: FutureWarning: The frame.append method is deprecated and will be removed from pandas in a future version. Use pandas.concat instead.\n",
      "  df = df.append({\"Composer\": composer_name, \"Times\": times, \"Pitch\": pitch,\n",
      "C:\\Users\\chris\\AppData\\Local\\Temp\\ipykernel_11408\\1506090990.py:87: FutureWarning: The frame.append method is deprecated and will be removed from pandas in a future version. Use pandas.concat instead.\n",
      "  df = df.append({\"Composer\": composer_name, \"Times\": times, \"Pitch\": pitch,\n",
      "C:\\Users\\chris\\AppData\\Local\\Temp\\ipykernel_11408\\1506090990.py:87: FutureWarning: The frame.append method is deprecated and will be removed from pandas in a future version. Use pandas.concat instead.\n",
      "  df = df.append({\"Composer\": composer_name, \"Times\": times, \"Pitch\": pitch,\n",
      "C:\\Users\\chris\\AppData\\Local\\Temp\\ipykernel_11408\\1506090990.py:87: FutureWarning: The frame.append method is deprecated and will be removed from pandas in a future version. Use pandas.concat instead.\n",
      "  df = df.append({\"Composer\": composer_name, \"Times\": times, \"Pitch\": pitch,\n"
     ]
    },
    {
     "name": "stdout",
     "output_type": "stream",
     "text": [
      "Processing train\\schumann\\schumann211.mid...\n",
      "Processing train\\schumann\\schumann212.mid...\n",
      "Processing train\\schumann\\schumann213.mid...\n",
      "Processing train\\schumann\\schumann214.mid...\n",
      "Processing train\\schumann\\schumann215.mid...\n",
      "Processing train\\schumann\\schumann216.mid...\n",
      "Processing train\\schumann\\schumann218.mid...\n"
     ]
    },
    {
     "name": "stderr",
     "output_type": "stream",
     "text": [
      "C:\\Users\\chris\\AppData\\Local\\Temp\\ipykernel_11408\\1506090990.py:87: FutureWarning: The frame.append method is deprecated and will be removed from pandas in a future version. Use pandas.concat instead.\n",
      "  df = df.append({\"Composer\": composer_name, \"Times\": times, \"Pitch\": pitch,\n"
     ]
    },
    {
     "name": "stdout",
     "output_type": "stream",
     "text": [
      "Processing train\\schumann\\schumann219.mid...\n"
     ]
    },
    {
     "name": "stderr",
     "output_type": "stream",
     "text": [
      "C:\\Users\\chris\\AppData\\Local\\Temp\\ipykernel_11408\\1506090990.py:87: FutureWarning: The frame.append method is deprecated and will be removed from pandas in a future version. Use pandas.concat instead.\n",
      "  df = df.append({\"Composer\": composer_name, \"Times\": times, \"Pitch\": pitch,\n"
     ]
    },
    {
     "name": "stdout",
     "output_type": "stream",
     "text": [
      "Processing train\\schumann\\schumann221.mid...\n"
     ]
    },
    {
     "name": "stderr",
     "output_type": "stream",
     "text": [
      "C:\\Users\\chris\\AppData\\Local\\Temp\\ipykernel_11408\\1506090990.py:87: FutureWarning: The frame.append method is deprecated and will be removed from pandas in a future version. Use pandas.concat instead.\n",
      "  df = df.append({\"Composer\": composer_name, \"Times\": times, \"Pitch\": pitch,\n",
      "C:\\Users\\chris\\AppData\\Local\\Temp\\ipykernel_11408\\1506090990.py:87: FutureWarning: The frame.append method is deprecated and will be removed from pandas in a future version. Use pandas.concat instead.\n",
      "  df = df.append({\"Composer\": composer_name, \"Times\": times, \"Pitch\": pitch,\n",
      "C:\\Users\\chris\\AppData\\Local\\Temp\\ipykernel_11408\\1506090990.py:87: FutureWarning: The frame.append method is deprecated and will be removed from pandas in a future version. Use pandas.concat instead.\n",
      "  df = df.append({\"Composer\": composer_name, \"Times\": times, \"Pitch\": pitch,\n",
      "C:\\Users\\chris\\AppData\\Local\\Temp\\ipykernel_11408\\1506090990.py:87: FutureWarning: The frame.append method is deprecated and will be removed from pandas in a future version. Use pandas.concat instead.\n",
      "  df = df.append({\"Composer\": composer_name, \"Times\": times, \"Pitch\": pitch,\n",
      "C:\\Users\\chris\\AppData\\Local\\Temp\\ipykernel_11408\\1506090990.py:87: FutureWarning: The frame.append method is deprecated and will be removed from pandas in a future version. Use pandas.concat instead.\n",
      "  df = df.append({\"Composer\": composer_name, \"Times\": times, \"Pitch\": pitch,\n"
     ]
    },
    {
     "name": "stdout",
     "output_type": "stream",
     "text": [
      "Processing train\\schumann\\schumann222.mid...\n",
      "Processing train\\schumann\\schumann223.mid...\n",
      "Processing train\\schumann\\schumann224.mid...\n",
      "Processing train\\schumann\\schumann225.mid...\n",
      "Processing train\\schumann\\schumann226.mid...\n"
     ]
    },
    {
     "name": "stderr",
     "output_type": "stream",
     "text": [
      "C:\\Users\\chris\\AppData\\Roaming\\Python\\Python39\\site-packages\\pretty_midi\\pretty_midi.py:100: RuntimeWarning: Tempo, Key or Time signature change events found on non-zero tracks.  This is not a valid type 0 or type 1 MIDI file.  Tempo, Key or Time Signature may be wrong.\n",
      "  warnings.warn(\n",
      "C:\\Users\\chris\\AppData\\Local\\Temp\\ipykernel_11408\\1506090990.py:87: FutureWarning: The frame.append method is deprecated and will be removed from pandas in a future version. Use pandas.concat instead.\n",
      "  df = df.append({\"Composer\": composer_name, \"Times\": times, \"Pitch\": pitch,\n",
      "C:\\Users\\chris\\AppData\\Local\\Temp\\ipykernel_11408\\1506090990.py:87: FutureWarning: The frame.append method is deprecated and will be removed from pandas in a future version. Use pandas.concat instead.\n",
      "  df = df.append({\"Composer\": composer_name, \"Times\": times, \"Pitch\": pitch,\n",
      "C:\\Users\\chris\\AppData\\Local\\Temp\\ipykernel_11408\\1506090990.py:87: FutureWarning: The frame.append method is deprecated and will be removed from pandas in a future version. Use pandas.concat instead.\n",
      "  df = df.append({\"Composer\": composer_name, \"Times\": times, \"Pitch\": pitch,\n",
      "C:\\Users\\chris\\AppData\\Local\\Temp\\ipykernel_11408\\1506090990.py:87: FutureWarning: The frame.append method is deprecated and will be removed from pandas in a future version. Use pandas.concat instead.\n",
      "  df = df.append({\"Composer\": composer_name, \"Times\": times, \"Pitch\": pitch,\n",
      "C:\\Users\\chris\\AppData\\Local\\Temp\\ipykernel_11408\\1506090990.py:87: FutureWarning: The frame.append method is deprecated and will be removed from pandas in a future version. Use pandas.concat instead.\n",
      "  df = df.append({\"Composer\": composer_name, \"Times\": times, \"Pitch\": pitch,\n"
     ]
    },
    {
     "name": "stdout",
     "output_type": "stream",
     "text": [
      "Processing train\\schumann\\schumann227.mid...\n",
      "Processing train\\schumann\\schumann228.mid...\n",
      "Processing train\\schumann\\schumann229.mid...\n",
      "Processing train\\schumann\\schumann230.mid...\n",
      "Processing train\\schumann\\schumann231.mid...\n"
     ]
    },
    {
     "name": "stderr",
     "output_type": "stream",
     "text": [
      "C:\\Users\\chris\\AppData\\Local\\Temp\\ipykernel_11408\\1506090990.py:87: FutureWarning: The frame.append method is deprecated and will be removed from pandas in a future version. Use pandas.concat instead.\n",
      "  df = df.append({\"Composer\": composer_name, \"Times\": times, \"Pitch\": pitch,\n",
      "C:\\Users\\chris\\AppData\\Local\\Temp\\ipykernel_11408\\1506090990.py:87: FutureWarning: The frame.append method is deprecated and will be removed from pandas in a future version. Use pandas.concat instead.\n",
      "  df = df.append({\"Composer\": composer_name, \"Times\": times, \"Pitch\": pitch,\n"
     ]
    },
    {
     "name": "stdout",
     "output_type": "stream",
     "text": [
      "Processing train\\schumann\\schumann232.mid...\n",
      "Processing train\\schumann\\schumann233.mid...\n",
      "Processing train\\schumann\\schumann234.mid...\n"
     ]
    },
    {
     "name": "stderr",
     "output_type": "stream",
     "text": [
      "C:\\Users\\chris\\AppData\\Local\\Temp\\ipykernel_11408\\1506090990.py:87: FutureWarning: The frame.append method is deprecated and will be removed from pandas in a future version. Use pandas.concat instead.\n",
      "  df = df.append({\"Composer\": composer_name, \"Times\": times, \"Pitch\": pitch,\n",
      "C:\\Users\\chris\\AppData\\Roaming\\Python\\Python39\\site-packages\\pretty_midi\\pretty_midi.py:100: RuntimeWarning: Tempo, Key or Time signature change events found on non-zero tracks.  This is not a valid type 0 or type 1 MIDI file.  Tempo, Key or Time Signature may be wrong.\n",
      "  warnings.warn(\n",
      "C:\\Users\\chris\\AppData\\Local\\Temp\\ipykernel_11408\\1506090990.py:87: FutureWarning: The frame.append method is deprecated and will be removed from pandas in a future version. Use pandas.concat instead.\n",
      "  df = df.append({\"Composer\": composer_name, \"Times\": times, \"Pitch\": pitch,\n",
      "C:\\Users\\chris\\AppData\\Local\\Temp\\ipykernel_11408\\1506090990.py:87: FutureWarning: The frame.append method is deprecated and will be removed from pandas in a future version. Use pandas.concat instead.\n",
      "  df = df.append({\"Composer\": composer_name, \"Times\": times, \"Pitch\": pitch,\n"
     ]
    },
    {
     "name": "stdout",
     "output_type": "stream",
     "text": [
      "Processing train\\schumann\\schumann235.mid...\n",
      "Processing train\\schumann\\schumann236.mid...\n"
     ]
    },
    {
     "name": "stderr",
     "output_type": "stream",
     "text": [
      "C:\\Users\\chris\\AppData\\Local\\Temp\\ipykernel_11408\\1506090990.py:87: FutureWarning: The frame.append method is deprecated and will be removed from pandas in a future version. Use pandas.concat instead.\n",
      "  df = df.append({\"Composer\": composer_name, \"Times\": times, \"Pitch\": pitch,\n",
      "C:\\Users\\chris\\AppData\\Local\\Temp\\ipykernel_11408\\1506090990.py:87: FutureWarning: The frame.append method is deprecated and will be removed from pandas in a future version. Use pandas.concat instead.\n",
      "  df = df.append({\"Composer\": composer_name, \"Times\": times, \"Pitch\": pitch,\n",
      "C:\\Users\\chris\\AppData\\Local\\Temp\\ipykernel_11408\\1506090990.py:87: FutureWarning: The frame.append method is deprecated and will be removed from pandas in a future version. Use pandas.concat instead.\n",
      "  df = df.append({\"Composer\": composer_name, \"Times\": times, \"Pitch\": pitch,\n"
     ]
    },
    {
     "name": "stdout",
     "output_type": "stream",
     "text": [
      "Processing train\\schumann\\schumann237.mid...\n",
      "Processing train\\schumann\\schumann239.mid...\n",
      "Processing train\\schumann\\schumann241.mid...\n"
     ]
    },
    {
     "name": "stderr",
     "output_type": "stream",
     "text": [
      "C:\\Users\\chris\\AppData\\Roaming\\Python\\Python39\\site-packages\\pretty_midi\\pretty_midi.py:100: RuntimeWarning: Tempo, Key or Time signature change events found on non-zero tracks.  This is not a valid type 0 or type 1 MIDI file.  Tempo, Key or Time Signature may be wrong.\n",
      "  warnings.warn(\n"
     ]
    },
    {
     "name": "stdout",
     "output_type": "stream",
     "text": [
      "Processing train\\schumann\\schumann242.mid...\n"
     ]
    },
    {
     "name": "stderr",
     "output_type": "stream",
     "text": [
      "C:\\Users\\chris\\AppData\\Local\\Temp\\ipykernel_11408\\1506090990.py:87: FutureWarning: The frame.append method is deprecated and will be removed from pandas in a future version. Use pandas.concat instead.\n",
      "  df = df.append({\"Composer\": composer_name, \"Times\": times, \"Pitch\": pitch,\n",
      "C:\\Users\\chris\\AppData\\Local\\Temp\\ipykernel_11408\\1506090990.py:87: FutureWarning: The frame.append method is deprecated and will be removed from pandas in a future version. Use pandas.concat instead.\n",
      "  df = df.append({\"Composer\": composer_name, \"Times\": times, \"Pitch\": pitch,\n"
     ]
    }
   ],
   "source": [
    "# Data Processing\n",
    "# Feature extraction\n",
    "\n",
    "pickle_file = base_dir + \"/\" + pickle_file_name\n",
    "# Check if the pickle file exists\n",
    "if not os.path.exists(pickle_file):\n",
    "    print(\"Music Data not Pickled, creating dataset using feature extract.\")\n",
    "    df = process_composer_data()\n",
    "else:\n",
    "    # Open the pickle file in binary mode and load the data\n",
    "    with open(pickle_file, 'rb') as file:\n",
    "        data = pickle.load(file)\n",
    "\n",
    "    # Create a DataFrame from the loaded data\n",
    "    df = pd.DataFrame(data)\n",
    "\n",
    "    # Now you have your DataFrame ready for use\n",
    "    print(df.head())"
   ]
  },
  {
   "cell_type": "code",
   "execution_count": 20,
   "id": "f685c16e",
   "metadata": {},
   "outputs": [
    {
     "name": "stdout",
     "output_type": "stream",
     "text": [
      "  Composer                                              Times  \\\n",
      "0     bach  [0.0, 1.0, 2.0, 3.0, 4.0, 5.0, 6.0, 7.0, 8.0, ...   \n",
      "1     bach  [0.0, 1.0, 2.0, 3.0, 4.0, 5.0, 6.0, 7.0, 8.0, ...   \n",
      "2     bach  [0.0, 1.0, 2.0, 3.0, 4.0, 5.0, 6.0, 7.0, 8.0, ...   \n",
      "3     bach  [0.0, 1.0, 2.0, 3.0, 4.0, 5.0, 6.0, 7.0, 8.0, ...   \n",
      "4     bach  [0.0, 1.0, 2.0, 3.0, 4.0, 5.0, 6.0, 7.0, 8.0, ...   \n",
      "\n",
      "                                               Pitch  \\\n",
      "0  [0.0, 0.0, 0.0, 0.0, 0.0, 0.0, 0.0, 0.0, 73.0,...   \n",
      "1  [0.0, 78.0, 78.0, 0.0, 66.0, 66.0, 0.0, 0.0, 6...   \n",
      "2  [0.0, 67.0, 43.0, 0.0, 67.0, 0.0, 43.0, 55.0, ...   \n",
      "3  [0.0, 0.0, 50.0, 74.0, 0.0, 74.0, 0.0, 74.0, 0...   \n",
      "4  [0.0, 63.0, 69.0, 0.0, 0.0, 69.0, 0.0, 45.0, 0...   \n",
      "\n",
      "                                        Note_Density  \\\n",
      "0  [0.0, 0.0, 0.0, 0.0, 0.0, 0.0, 0.0, 0.0, 1.0, ...   \n",
      "1  [0.0, 1.0, 1.0, 0.0, 1.0, 1.0, 0.0, 0.0, 1.0, ...   \n",
      "2  [0.0, 1.0, 1.0, 0.0, 1.0, 0.0, 1.0, 1.0, 0.0, ...   \n",
      "3  [0.0, 0.0, 1.0, 1.0, 0.0, 1.0, 0.0, 1.0, 0.0, ...   \n",
      "4  [0.0, 2.0, 1.0, 0.0, 0.0, 1.0, 0.0, 1.0, 0.0, ...   \n",
      "\n",
      "                                              Volume  Rhythmic_Complexity  \\\n",
      "0  [0.0, 0.0, 0.0, 0.0, 0.0, 0.0, 0.0, 0.0, 127.0...             4.609656   \n",
      "1  [0.0, 127.0, 127.0, 0.0, 127.0, 127.0, 0.0, 0....             1.625026   \n",
      "2  [0.0, 127.0, 127.0, 0.0, 127.0, 0.0, 127.0, 12...             2.137464   \n",
      "3  [0.0, 0.0, 127.0, 127.0, 0.0, 127.0, 0.0, 127....             1.291966   \n",
      "4  [0.0, 127.0, 127.0, 0.0, 0.0, 127.0, 0.0, 127....             0.866606   \n",
      "\n",
      "                                               Tempo  \n",
      "0  [120.0, 120.0, 120.0, 120.0, 120.0, 120.0, 120...  \n",
      "1  [120.0, 120.0, 120.0, 120.0, 120.0, 120.0, 120...  \n",
      "2  [120.0, 120.0, 120.0, 120.0, 120.0, 120.0, 120...  \n",
      "3  [120.0, 120.0, 120.0, 120.0, 120.0, 120.0, 120...  \n",
      "4  [120.0, 120.0, 120.0, 120.0, 120.0, 120.0, 120...  \n",
      "<class 'pandas.core.frame.DataFrame'>\n",
      "RangeIndex: 369 entries, 0 to 368\n",
      "Data columns (total 7 columns):\n",
      " #   Column               Non-Null Count  Dtype  \n",
      "---  ------               --------------  -----  \n",
      " 0   Composer             369 non-null    object \n",
      " 1   Times                369 non-null    object \n",
      " 2   Pitch                369 non-null    object \n",
      " 3   Note_Density         369 non-null    object \n",
      " 4   Volume               369 non-null    object \n",
      " 5   Rhythmic_Complexity  369 non-null    float64\n",
      " 6   Tempo                369 non-null    object \n",
      "dtypes: float64(1), object(6)\n",
      "memory usage: 20.3+ KB\n",
      "None\n"
     ]
    }
   ],
   "source": [
    "# Data Pre-processing\n",
    "print(df.head())\n",
    "print(df.info())"
   ]
  },
  {
   "cell_type": "code",
   "execution_count": null,
   "id": "3e9108c4",
   "metadata": {},
   "outputs": [],
   "source": [
    "# Feature Extraction"
   ]
  },
  {
   "cell_type": "code",
   "execution_count": null,
   "id": "a9c4f346",
   "metadata": {},
   "outputs": [],
   "source": []
  },
  {
   "cell_type": "code",
   "execution_count": null,
   "id": "a4fc2837",
   "metadata": {},
   "outputs": [],
   "source": [
    "# Model Building"
   ]
  },
  {
   "cell_type": "code",
   "execution_count": null,
   "id": "34c73d86",
   "metadata": {},
   "outputs": [],
   "source": [
    "# Model Training"
   ]
  },
  {
   "cell_type": "code",
   "execution_count": null,
   "id": "f78c6da3",
   "metadata": {},
   "outputs": [],
   "source": [
    "# Model Evaluation"
   ]
  },
  {
   "cell_type": "code",
   "execution_count": null,
   "id": "539b6743",
   "metadata": {},
   "outputs": [],
   "source": [
    "# Model Optimization"
   ]
  }
 ],
 "metadata": {
  "kernelspec": {
   "display_name": "Python 3 (ipykernel)",
   "language": "python",
   "name": "python3"
  },
  "language_info": {
   "codemirror_mode": {
    "name": "ipython",
    "version": 3
   },
   "file_extension": ".py",
   "mimetype": "text/x-python",
   "name": "python",
   "nbconvert_exporter": "python",
   "pygments_lexer": "ipython3",
   "version": "3.9.15"
  }
 },
 "nbformat": 4,
 "nbformat_minor": 5
}
