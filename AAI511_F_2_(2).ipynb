{
  "cells": [
    {
      "cell_type": "markdown",
      "metadata": {
        "id": "o0gVCFkZLlkQ"
      },
      "source": [
        "###########################################################################\n",
        "# AAI 511 - Group 8\n",
        "## MIDI Dataset\n",
        "Christopher Teli, Ikenna Opurum, Adam Graves\n",
        "###########################################################################"
      ]
    },
    {
      "cell_type": "markdown",
      "metadata": {
        "id": "LvBD5TcQMhL3"
      },
      "source": [
        "###Tasks Breakdown\n",
        "* Data Collection: Data is collected and provided to you.\n",
        "* Data Pre-processing: Convert the musical scores into a format suitable for deep learning models. This involves converting the musical scores into MIDI files and applying data augmentation techniques.\n",
        "* Feature Extraction: Extractfeatures from the MIDI files, such as notes, chords, and tempo, using music analysis tools.\n",
        "* Model Building: Develop a deep learning model using LSTM and CNN architectures to classify the musical scores according to the composer.\n",
        "* Model Training: Train the deep learning model using the pre-processed and feature-extracted data.\n",
        "* Model Evaluation: Evaluate the performance of the deep learning model using accuracy, precision, and recall metrics.\n",
        "* Model Optimization: Optimize the deep learning model by fine-tuning hyperparameters.\n",
        "\n",
        "\n",
        "\n"
      ]
    },
    {
      "cell_type": "code",
      "execution_count": 1,
      "metadata": {
        "colab": {
          "base_uri": "https://localhost:8080/"
        },
        "id": "7-tagqZ18D4v",
        "outputId": "dbefc391-b1b0-4b9f-9240-584c11a7cb66"
      },
      "outputs": [
        {
          "output_type": "stream",
          "name": "stdout",
          "text": [
            "Collecting pretty_midi\n",
            "  Downloading pretty_midi-0.2.10.tar.gz (5.6 MB)\n",
            "\u001b[2K     \u001b[90m━━━━━━━━━━━━━━━━━━━━━━━━━━━━━━━━━━━━━━━━\u001b[0m \u001b[32m5.6/5.6 MB\u001b[0m \u001b[31m14.4 MB/s\u001b[0m eta \u001b[36m0:00:00\u001b[0m\n",
            "\u001b[?25h  Preparing metadata (setup.py) ... \u001b[?25l\u001b[?25hdone\n",
            "Requirement already satisfied: numpy>=1.7.0 in /usr/local/lib/python3.10/dist-packages (from pretty_midi) (1.25.2)\n",
            "Collecting mido>=1.1.16 (from pretty_midi)\n",
            "  Downloading mido-1.3.0-py3-none-any.whl (50 kB)\n",
            "\u001b[2K     \u001b[90m━━━━━━━━━━━━━━━━━━━━━━━━━━━━━━━━━━━━━━━━\u001b[0m \u001b[32m50.3/50.3 kB\u001b[0m \u001b[31m4.6 MB/s\u001b[0m eta \u001b[36m0:00:00\u001b[0m\n",
            "\u001b[?25hRequirement already satisfied: six in /usr/local/lib/python3.10/dist-packages (from pretty_midi) (1.16.0)\n",
            "Requirement already satisfied: packaging~=23.1 in /usr/local/lib/python3.10/dist-packages (from mido>=1.1.16->pretty_midi) (23.1)\n",
            "Building wheels for collected packages: pretty_midi\n",
            "  Building wheel for pretty_midi (setup.py) ... \u001b[?25l\u001b[?25hdone\n",
            "  Created wheel for pretty_midi: filename=pretty_midi-0.2.10-py3-none-any.whl size=5592287 sha256=ee19dbbdc35ba65c7242d0f2c07b6bde760dbc71eba7a795209d0c52db505e6b\n",
            "  Stored in directory: /root/.cache/pip/wheels/cd/a5/30/7b8b7f58709f5150f67f98fde4b891ebf0be9ef07a8af49f25\n",
            "Successfully built pretty_midi\n",
            "Installing collected packages: mido, pretty_midi\n",
            "Successfully installed mido-1.3.0 pretty_midi-0.2.10\n"
          ]
        }
      ],
      "source": [
        "#Install library for loading a MIDI file\n",
        "!pip install pretty_midi"
      ]
    },
    {
      "cell_type": "code",
      "source": [
        "from google.colab import drive\n",
        "drive.mount('/content/drive')"
      ],
      "metadata": {
        "colab": {
          "base_uri": "https://localhost:8080/"
        },
        "id": "awAk7e31kHTK",
        "outputId": "cabd76b4-eb00-4bdf-9bdc-6409a638e4c1"
      },
      "execution_count": 7,
      "outputs": [
        {
          "output_type": "stream",
          "name": "stdout",
          "text": [
            "Mounted at /content/drive\n"
          ]
        }
      ]
    },
    {
      "cell_type": "code",
      "execution_count": 2,
      "metadata": {
        "id": "faqJehvp8VXA"
      },
      "outputs": [],
      "source": [
        "#@title 1: Functions for Data Collection\n",
        "# Function for Feature extractions\n",
        "import os\n",
        "import glob\n",
        "import pretty_midi\n",
        "import numpy as np\n",
        "import matplotlib.pyplot as plt\n",
        "import pandas as pd\n",
        "# Ignore warnings\n",
        "import warnings\n",
        "warnings.filterwarnings('ignore')\n",
        "from sklearn.metrics import accuracy_score, precision_score, recall_score, f1_score\n",
        "import tensorflow as tf\n",
        "from tensorflow.keras import layers, models, optimizers\n",
        "from tensorflow.keras.preprocessing.image import ImageDataGenerator\n",
        "from sklearn.metrics import classification_report\n",
        "from keras import models, layers\n",
        "\n",
        "# Check if pickle file exists and use the file for dataset\n",
        "import pickle"
      ]
    },
    {
      "cell_type": "code",
      "execution_count": 3,
      "metadata": {
        "id": "eBfDfcz97pCd"
      },
      "outputs": [],
      "source": [
        "#@title 2: Do Data Extraction (ETL) process\n",
        "# Directory of MIDI files\n",
        "base_dir = '/content/drive/MyDrive/AAI-511/Load Data/Final'\n",
        "\n",
        "# Specify the path and filename of the pickle file\n",
        "# Since the pkl file exists, that means the data was processed and features extracted\n",
        "pickle_file_name = 'team8_composer_dataset.pkl'"
      ]
    },
    {
      "cell_type": "code",
      "execution_count": 4,
      "metadata": {
        "id": "S5J6I4eI9G8f"
      },
      "outputs": [],
      "source": [
        "#@title 2.1: Extract features using librosa for further feature extraction\n",
        "def calculate_features(midi_file):\n",
        "    # Load MIDI file\n",
        "    midi_data = pretty_midi.PrettyMIDI(midi_file)\n",
        "\n",
        "    # Time interval for calculating features\n",
        "    interval = 1.0  # 1 second\n",
        "    times = np.arange(0, midi_data.get_end_time(), interval)\n",
        "\n",
        "    # Create arrays for storing time series data\n",
        "    pitch = np.zeros(len(times))\n",
        "    volume = np.zeros(len(times))\n",
        "    note_density = np.zeros(len(times))\n",
        "    tempo = np.zeros(len(times))\n",
        "\n",
        "    # Calculate time series data for each feature\n",
        "    for i, t in enumerate(times):\n",
        "        # Get notes that are playing at this time\n",
        "        notes = [note for note in midi_data.instruments[0].notes if note.start <= t < note.end]\n",
        "\n",
        "        # Calculate average pitch\n",
        "        if notes:\n",
        "            pitch[i] = np.mean([note.pitch for note in notes])\n",
        "\n",
        "        # Calculate note density (notes per second)\n",
        "        note_density[i] = len(notes) / interval\n",
        "\n",
        "        # Calculate average volume\n",
        "        if notes:\n",
        "            volume[i] = np.mean([note.velocity for note in notes])\n",
        "\n",
        "    # Calculate rhythmic complexity (variance in inter-onset intervals)\n",
        "    inter_onset_intervals = np.diff([note.start for note in midi_data.instruments[0].notes])\n",
        "    rhythmic_complexity = np.var(inter_onset_intervals)\n",
        "\n",
        "    # Calculate tempo for each moment in time\n",
        "    tempo_changes = midi_data.get_tempo_changes()\n",
        "    tempo = np.interp(times, tempo_changes[0], tempo_changes[1])\n",
        "\n",
        "    return times, pitch, note_density, volume, rhythmic_complexity, tempo"
      ]
    },
    {
      "cell_type": "code",
      "execution_count": 5,
      "metadata": {
        "id": "DUZ4KIkH9Nkv"
      },
      "outputs": [],
      "source": [
        "#@title 2.2: Process composer data to df\n",
        "def process_composer_data():\n",
        "    # Initialize DataFrame\n",
        "    df = pd.DataFrame(columns=[\"Composer\",\"Times\", \"Pitch\", \"Note_Density\", \"Volume\",\n",
        "                               \"Rhythmic_Complexity\", \"Tempo\"])\n",
        "\n",
        "    # Iterate over all composer directories\n",
        "    for composer_dir in glob.glob(os.path.join(base_dir, '*')):\n",
        "        # Get the composer's name\n",
        "        composer_name = os.path.basename(composer_dir)\n",
        "        print(f\"Processing {composer_name} MIDI files...\")\n",
        "\n",
        "        # Iterate over all MIDI files in composer's directory\n",
        "        for midi_file in glob.glob(os.path.join(composer_dir, '*.mid')):\n",
        "            print(f\"Processing {midi_file}...\")\n",
        "            try:\n",
        "                times, pitch, note_density, volume, rhythmic_complexity, tempo = calculate_features(midi_file)\n",
        "                # Append to DataFrame\n",
        "                df = df.append({\"Composer\": composer_name, \"Times\": times, \"Pitch\": pitch,\n",
        "                                \"Note_Density\": note_density, \"Volume\": volume,\n",
        "                                \"Rhythmic_Complexity\": rhythmic_complexity,\n",
        "                                \"Tempo\": tempo},\n",
        "                               ignore_index=True)\n",
        "            except Exception as e:\n",
        "                print(f\"Error processing {midi_file}: {str(e)}\")\n",
        "\n",
        "    # Write the DataFrame to a pickle file\n",
        "    df.to_pickle(base_dir + \"/\" + pickle_file_name)\n",
        "\n",
        "    return df"
      ]
    },
    {
      "cell_type": "code",
      "execution_count": 8,
      "metadata": {
        "colab": {
          "base_uri": "https://localhost:8080/"
        },
        "id": "ytI0Lz6H9SSe",
        "outputId": "8e981d93-e6e3-4209-e620-77faa3ad2c86"
      },
      "outputs": [
        {
          "output_type": "stream",
          "name": "stdout",
          "text": [
            "  Composer                                              Times  \\\n",
            "0     bach  [0.0, 1.0, 2.0, 3.0, 4.0, 5.0, 6.0, 7.0, 8.0, ...   \n",
            "1     bach  [0.0, 1.0, 2.0, 3.0, 4.0, 5.0, 6.0, 7.0, 8.0, ...   \n",
            "2     bach  [0.0, 1.0, 2.0, 3.0, 4.0, 5.0, 6.0, 7.0, 8.0, ...   \n",
            "3     bach  [0.0, 1.0, 2.0, 3.0, 4.0, 5.0, 6.0, 7.0, 8.0, ...   \n",
            "4     bach  [0.0, 1.0, 2.0, 3.0, 4.0, 5.0, 6.0, 7.0, 8.0, ...   \n",
            "\n",
            "                                               Pitch  \\\n",
            "0  [0.0, 0.0, 0.0, 0.0, 0.0, 0.0, 0.0, 0.0, 73.0,...   \n",
            "1  [0.0, 78.0, 78.0, 0.0, 66.0, 66.0, 0.0, 0.0, 6...   \n",
            "2  [0.0, 67.0, 43.0, 0.0, 67.0, 0.0, 43.0, 55.0, ...   \n",
            "3  [0.0, 0.0, 50.0, 74.0, 0.0, 74.0, 0.0, 74.0, 0...   \n",
            "4  [0.0, 63.0, 69.0, 0.0, 0.0, 69.0, 0.0, 45.0, 0...   \n",
            "\n",
            "                                        Note_Density  \\\n",
            "0  [0.0, 0.0, 0.0, 0.0, 0.0, 0.0, 0.0, 0.0, 1.0, ...   \n",
            "1  [0.0, 1.0, 1.0, 0.0, 1.0, 1.0, 0.0, 0.0, 1.0, ...   \n",
            "2  [0.0, 1.0, 1.0, 0.0, 1.0, 0.0, 1.0, 1.0, 0.0, ...   \n",
            "3  [0.0, 0.0, 1.0, 1.0, 0.0, 1.0, 0.0, 1.0, 0.0, ...   \n",
            "4  [0.0, 2.0, 1.0, 0.0, 0.0, 1.0, 0.0, 1.0, 0.0, ...   \n",
            "\n",
            "                                              Volume  Rhythmic_Complexity  \\\n",
            "0  [0.0, 0.0, 0.0, 0.0, 0.0, 0.0, 0.0, 0.0, 127.0...             4.609656   \n",
            "1  [0.0, 127.0, 127.0, 0.0, 127.0, 127.0, 0.0, 0....             1.625026   \n",
            "2  [0.0, 127.0, 127.0, 0.0, 127.0, 0.0, 127.0, 12...             2.137464   \n",
            "3  [0.0, 0.0, 127.0, 127.0, 0.0, 127.0, 0.0, 127....             1.291966   \n",
            "4  [0.0, 127.0, 127.0, 0.0, 0.0, 127.0, 0.0, 127....             0.866606   \n",
            "\n",
            "                                               Tempo  \n",
            "0  [120.0, 120.0, 120.0, 120.0, 120.0, 120.0, 120...  \n",
            "1  [120.0, 120.0, 120.0, 120.0, 120.0, 120.0, 120...  \n",
            "2  [120.0, 120.0, 120.0, 120.0, 120.0, 120.0, 120...  \n",
            "3  [120.0, 120.0, 120.0, 120.0, 120.0, 120.0, 120...  \n",
            "4  [120.0, 120.0, 120.0, 120.0, 120.0, 120.0, 120...  \n"
          ]
        }
      ],
      "source": [
        "#@title 2.3: Data Processing - Feature extraction\n",
        "\n",
        "pickle_file = base_dir + \"/\" + pickle_file_name\n",
        "# Check if the pickle file exists\n",
        "if not os.path.exists(pickle_file):\n",
        "    print(\"Music Data not Pickled, creating dataset using feature extract.\")\n",
        "    df = process_composer_data()\n",
        "else:\n",
        "    # Open the pickle file in binary mode and load the data\n",
        "    with open(pickle_file, 'rb') as file:\n",
        "        data = pickle.load(file)\n",
        "\n",
        "    # Create a DataFrame from the loaded data\n",
        "    df = pd.DataFrame(data)\n",
        "\n",
        "    # Now you have your DataFrame ready for use\n",
        "    print(df.head())"
      ]
    },
    {
      "cell_type": "code",
      "execution_count": 9,
      "metadata": {
        "colab": {
          "base_uri": "https://localhost:8080/"
        },
        "id": "BueGo-wUUIqV",
        "outputId": "cf42c3c3-b7c6-49fc-ea9e-aedb8bed7672"
      },
      "outputs": [
        {
          "output_type": "stream",
          "name": "stdout",
          "text": [
            "  Composer                                              Times  \\\n",
            "0     bach  [0.0, 1.0, 2.0, 3.0, 4.0, 5.0, 6.0, 7.0, 8.0, ...   \n",
            "1     bach  [0.0, 1.0, 2.0, 3.0, 4.0, 5.0, 6.0, 7.0, 8.0, ...   \n",
            "2     bach  [0.0, 1.0, 2.0, 3.0, 4.0, 5.0, 6.0, 7.0, 8.0, ...   \n",
            "3     bach  [0.0, 1.0, 2.0, 3.0, 4.0, 5.0, 6.0, 7.0, 8.0, ...   \n",
            "4     bach  [0.0, 1.0, 2.0, 3.0, 4.0, 5.0, 6.0, 7.0, 8.0, ...   \n",
            "\n",
            "                                               Pitch  \\\n",
            "0  [0.0, 0.0, 0.0, 0.0, 0.0, 0.0, 0.0, 0.0, 73.0,...   \n",
            "1  [0.0, 78.0, 78.0, 0.0, 66.0, 66.0, 0.0, 0.0, 6...   \n",
            "2  [0.0, 67.0, 43.0, 0.0, 67.0, 0.0, 43.0, 55.0, ...   \n",
            "3  [0.0, 0.0, 50.0, 74.0, 0.0, 74.0, 0.0, 74.0, 0...   \n",
            "4  [0.0, 63.0, 69.0, 0.0, 0.0, 69.0, 0.0, 45.0, 0...   \n",
            "\n",
            "                                        Note_Density  \\\n",
            "0  [0.0, 0.0, 0.0, 0.0, 0.0, 0.0, 0.0, 0.0, 1.0, ...   \n",
            "1  [0.0, 1.0, 1.0, 0.0, 1.0, 1.0, 0.0, 0.0, 1.0, ...   \n",
            "2  [0.0, 1.0, 1.0, 0.0, 1.0, 0.0, 1.0, 1.0, 0.0, ...   \n",
            "3  [0.0, 0.0, 1.0, 1.0, 0.0, 1.0, 0.0, 1.0, 0.0, ...   \n",
            "4  [0.0, 2.0, 1.0, 0.0, 0.0, 1.0, 0.0, 1.0, 0.0, ...   \n",
            "\n",
            "                                              Volume  Rhythmic_Complexity  \\\n",
            "0  [0.0, 0.0, 0.0, 0.0, 0.0, 0.0, 0.0, 0.0, 127.0...             4.609656   \n",
            "1  [0.0, 127.0, 127.0, 0.0, 127.0, 127.0, 0.0, 0....             1.625026   \n",
            "2  [0.0, 127.0, 127.0, 0.0, 127.0, 0.0, 127.0, 12...             2.137464   \n",
            "3  [0.0, 0.0, 127.0, 127.0, 0.0, 127.0, 0.0, 127....             1.291966   \n",
            "4  [0.0, 127.0, 127.0, 0.0, 0.0, 127.0, 0.0, 127....             0.866606   \n",
            "\n",
            "                                               Tempo  \n",
            "0  [120.0, 120.0, 120.0, 120.0, 120.0, 120.0, 120...  \n",
            "1  [120.0, 120.0, 120.0, 120.0, 120.0, 120.0, 120...  \n",
            "2  [120.0, 120.0, 120.0, 120.0, 120.0, 120.0, 120...  \n",
            "3  [120.0, 120.0, 120.0, 120.0, 120.0, 120.0, 120...  \n",
            "4  [120.0, 120.0, 120.0, 120.0, 120.0, 120.0, 120...  \n",
            "<class 'pandas.core.frame.DataFrame'>\n",
            "RangeIndex: 369 entries, 0 to 368\n",
            "Data columns (total 7 columns):\n",
            " #   Column               Non-Null Count  Dtype  \n",
            "---  ------               --------------  -----  \n",
            " 0   Composer             369 non-null    object \n",
            " 1   Times                369 non-null    object \n",
            " 2   Pitch                369 non-null    object \n",
            " 3   Note_Density         369 non-null    object \n",
            " 4   Volume               369 non-null    object \n",
            " 5   Rhythmic_Complexity  369 non-null    float64\n",
            " 6   Tempo                369 non-null    object \n",
            "dtypes: float64(1), object(6)\n",
            "memory usage: 20.3+ KB\n",
            "None\n"
          ]
        }
      ],
      "source": [
        "#@title 2.4: Data Pre-processing - verifications\n",
        "print(df.head())\n",
        "print(df.info())"
      ]
    },
    {
      "cell_type": "code",
      "execution_count": 10,
      "metadata": {
        "colab": {
          "base_uri": "https://localhost:8080/",
          "height": 510
        },
        "id": "HBTT8K_EWZGN",
        "outputId": "4afc78e1-80ec-4f4b-a9d8-1e50b069cfd0"
      },
      "outputs": [
        {
          "output_type": "execute_result",
          "data": {
            "text/plain": [
              "  Composer                                              Times  \\\n",
              "0     bach  [0.0, 1.0, 2.0, 3.0, 4.0, 5.0, 6.0, 7.0, 8.0, ...   \n",
              "1     bach  [0.0, 1.0, 2.0, 3.0, 4.0, 5.0, 6.0, 7.0, 8.0, ...   \n",
              "2     bach  [0.0, 1.0, 2.0, 3.0, 4.0, 5.0, 6.0, 7.0, 8.0, ...   \n",
              "3     bach  [0.0, 1.0, 2.0, 3.0, 4.0, 5.0, 6.0, 7.0, 8.0, ...   \n",
              "4     bach  [0.0, 1.0, 2.0, 3.0, 4.0, 5.0, 6.0, 7.0, 8.0, ...   \n",
              "\n",
              "                                               Pitch  \\\n",
              "0  [0.0, 0.0, 0.0, 0.0, 0.0, 0.0, 0.0, 0.0, 73.0,...   \n",
              "1  [0.0, 78.0, 78.0, 0.0, 66.0, 66.0, 0.0, 0.0, 6...   \n",
              "2  [0.0, 67.0, 43.0, 0.0, 67.0, 0.0, 43.0, 55.0, ...   \n",
              "3  [0.0, 0.0, 50.0, 74.0, 0.0, 74.0, 0.0, 74.0, 0...   \n",
              "4  [0.0, 63.0, 69.0, 0.0, 0.0, 69.0, 0.0, 45.0, 0...   \n",
              "\n",
              "                                        Note_Density  \\\n",
              "0  [0.0, 0.0, 0.0, 0.0, 0.0, 0.0, 0.0, 0.0, 1.0, ...   \n",
              "1  [0.0, 1.0, 1.0, 0.0, 1.0, 1.0, 0.0, 0.0, 1.0, ...   \n",
              "2  [0.0, 1.0, 1.0, 0.0, 1.0, 0.0, 1.0, 1.0, 0.0, ...   \n",
              "3  [0.0, 0.0, 1.0, 1.0, 0.0, 1.0, 0.0, 1.0, 0.0, ...   \n",
              "4  [0.0, 2.0, 1.0, 0.0, 0.0, 1.0, 0.0, 1.0, 0.0, ...   \n",
              "\n",
              "                                              Volume  Rhythmic_Complexity  \\\n",
              "0  [0.0, 0.0, 0.0, 0.0, 0.0, 0.0, 0.0, 0.0, 127.0...             4.609656   \n",
              "1  [0.0, 127.0, 127.0, 0.0, 127.0, 127.0, 0.0, 0....             1.625026   \n",
              "2  [0.0, 127.0, 127.0, 0.0, 127.0, 0.0, 127.0, 12...             2.137464   \n",
              "3  [0.0, 0.0, 127.0, 127.0, 0.0, 127.0, 0.0, 127....             1.291966   \n",
              "4  [0.0, 127.0, 127.0, 0.0, 0.0, 127.0, 0.0, 127....             0.866606   \n",
              "\n",
              "                                               Tempo  \n",
              "0  [120.0, 120.0, 120.0, 120.0, 120.0, 120.0, 120...  \n",
              "1  [120.0, 120.0, 120.0, 120.0, 120.0, 120.0, 120...  \n",
              "2  [120.0, 120.0, 120.0, 120.0, 120.0, 120.0, 120...  \n",
              "3  [120.0, 120.0, 120.0, 120.0, 120.0, 120.0, 120...  \n",
              "4  [120.0, 120.0, 120.0, 120.0, 120.0, 120.0, 120...  "
            ],
            "text/html": [
              "\n",
              "\n",
              "  <div id=\"df-6ee1581b-6e2b-4e73-88e1-e7dccd387964\">\n",
              "    <div class=\"colab-df-container\">\n",
              "      <div>\n",
              "<style scoped>\n",
              "    .dataframe tbody tr th:only-of-type {\n",
              "        vertical-align: middle;\n",
              "    }\n",
              "\n",
              "    .dataframe tbody tr th {\n",
              "        vertical-align: top;\n",
              "    }\n",
              "\n",
              "    .dataframe thead th {\n",
              "        text-align: right;\n",
              "    }\n",
              "</style>\n",
              "<table border=\"1\" class=\"dataframe\">\n",
              "  <thead>\n",
              "    <tr style=\"text-align: right;\">\n",
              "      <th></th>\n",
              "      <th>Composer</th>\n",
              "      <th>Times</th>\n",
              "      <th>Pitch</th>\n",
              "      <th>Note_Density</th>\n",
              "      <th>Volume</th>\n",
              "      <th>Rhythmic_Complexity</th>\n",
              "      <th>Tempo</th>\n",
              "    </tr>\n",
              "  </thead>\n",
              "  <tbody>\n",
              "    <tr>\n",
              "      <th>0</th>\n",
              "      <td>bach</td>\n",
              "      <td>[0.0, 1.0, 2.0, 3.0, 4.0, 5.0, 6.0, 7.0, 8.0, ...</td>\n",
              "      <td>[0.0, 0.0, 0.0, 0.0, 0.0, 0.0, 0.0, 0.0, 73.0,...</td>\n",
              "      <td>[0.0, 0.0, 0.0, 0.0, 0.0, 0.0, 0.0, 0.0, 1.0, ...</td>\n",
              "      <td>[0.0, 0.0, 0.0, 0.0, 0.0, 0.0, 0.0, 0.0, 127.0...</td>\n",
              "      <td>4.609656</td>\n",
              "      <td>[120.0, 120.0, 120.0, 120.0, 120.0, 120.0, 120...</td>\n",
              "    </tr>\n",
              "    <tr>\n",
              "      <th>1</th>\n",
              "      <td>bach</td>\n",
              "      <td>[0.0, 1.0, 2.0, 3.0, 4.0, 5.0, 6.0, 7.0, 8.0, ...</td>\n",
              "      <td>[0.0, 78.0, 78.0, 0.0, 66.0, 66.0, 0.0, 0.0, 6...</td>\n",
              "      <td>[0.0, 1.0, 1.0, 0.0, 1.0, 1.0, 0.0, 0.0, 1.0, ...</td>\n",
              "      <td>[0.0, 127.0, 127.0, 0.0, 127.0, 127.0, 0.0, 0....</td>\n",
              "      <td>1.625026</td>\n",
              "      <td>[120.0, 120.0, 120.0, 120.0, 120.0, 120.0, 120...</td>\n",
              "    </tr>\n",
              "    <tr>\n",
              "      <th>2</th>\n",
              "      <td>bach</td>\n",
              "      <td>[0.0, 1.0, 2.0, 3.0, 4.0, 5.0, 6.0, 7.0, 8.0, ...</td>\n",
              "      <td>[0.0, 67.0, 43.0, 0.0, 67.0, 0.0, 43.0, 55.0, ...</td>\n",
              "      <td>[0.0, 1.0, 1.0, 0.0, 1.0, 0.0, 1.0, 1.0, 0.0, ...</td>\n",
              "      <td>[0.0, 127.0, 127.0, 0.0, 127.0, 0.0, 127.0, 12...</td>\n",
              "      <td>2.137464</td>\n",
              "      <td>[120.0, 120.0, 120.0, 120.0, 120.0, 120.0, 120...</td>\n",
              "    </tr>\n",
              "    <tr>\n",
              "      <th>3</th>\n",
              "      <td>bach</td>\n",
              "      <td>[0.0, 1.0, 2.0, 3.0, 4.0, 5.0, 6.0, 7.0, 8.0, ...</td>\n",
              "      <td>[0.0, 0.0, 50.0, 74.0, 0.0, 74.0, 0.0, 74.0, 0...</td>\n",
              "      <td>[0.0, 0.0, 1.0, 1.0, 0.0, 1.0, 0.0, 1.0, 0.0, ...</td>\n",
              "      <td>[0.0, 0.0, 127.0, 127.0, 0.0, 127.0, 0.0, 127....</td>\n",
              "      <td>1.291966</td>\n",
              "      <td>[120.0, 120.0, 120.0, 120.0, 120.0, 120.0, 120...</td>\n",
              "    </tr>\n",
              "    <tr>\n",
              "      <th>4</th>\n",
              "      <td>bach</td>\n",
              "      <td>[0.0, 1.0, 2.0, 3.0, 4.0, 5.0, 6.0, 7.0, 8.0, ...</td>\n",
              "      <td>[0.0, 63.0, 69.0, 0.0, 0.0, 69.0, 0.0, 45.0, 0...</td>\n",
              "      <td>[0.0, 2.0, 1.0, 0.0, 0.0, 1.0, 0.0, 1.0, 0.0, ...</td>\n",
              "      <td>[0.0, 127.0, 127.0, 0.0, 0.0, 127.0, 0.0, 127....</td>\n",
              "      <td>0.866606</td>\n",
              "      <td>[120.0, 120.0, 120.0, 120.0, 120.0, 120.0, 120...</td>\n",
              "    </tr>\n",
              "  </tbody>\n",
              "</table>\n",
              "</div>\n",
              "      <button class=\"colab-df-convert\" onclick=\"convertToInteractive('df-6ee1581b-6e2b-4e73-88e1-e7dccd387964')\"\n",
              "              title=\"Convert this dataframe to an interactive table.\"\n",
              "              style=\"display:none;\">\n",
              "\n",
              "  <svg xmlns=\"http://www.w3.org/2000/svg\" height=\"24px\"viewBox=\"0 0 24 24\"\n",
              "       width=\"24px\">\n",
              "    <path d=\"M0 0h24v24H0V0z\" fill=\"none\"/>\n",
              "    <path d=\"M18.56 5.44l.94 2.06.94-2.06 2.06-.94-2.06-.94-.94-2.06-.94 2.06-2.06.94zm-11 1L8.5 8.5l.94-2.06 2.06-.94-2.06-.94L8.5 2.5l-.94 2.06-2.06.94zm10 10l.94 2.06.94-2.06 2.06-.94-2.06-.94-.94-2.06-.94 2.06-2.06.94z\"/><path d=\"M17.41 7.96l-1.37-1.37c-.4-.4-.92-.59-1.43-.59-.52 0-1.04.2-1.43.59L10.3 9.45l-7.72 7.72c-.78.78-.78 2.05 0 2.83L4 21.41c.39.39.9.59 1.41.59.51 0 1.02-.2 1.41-.59l7.78-7.78 2.81-2.81c.8-.78.8-2.07 0-2.86zM5.41 20L4 18.59l7.72-7.72 1.47 1.35L5.41 20z\"/>\n",
              "  </svg>\n",
              "      </button>\n",
              "\n",
              "\n",
              "\n",
              "    <div id=\"df-4ddfc68f-794a-4296-b0d0-b8d40c420e36\">\n",
              "      <button class=\"colab-df-quickchart\" onclick=\"quickchart('df-4ddfc68f-794a-4296-b0d0-b8d40c420e36')\"\n",
              "              title=\"Suggest charts.\"\n",
              "              style=\"display:none;\">\n",
              "\n",
              "<svg xmlns=\"http://www.w3.org/2000/svg\" height=\"24px\"viewBox=\"0 0 24 24\"\n",
              "     width=\"24px\">\n",
              "    <g>\n",
              "        <path d=\"M19 3H5c-1.1 0-2 .9-2 2v14c0 1.1.9 2 2 2h14c1.1 0 2-.9 2-2V5c0-1.1-.9-2-2-2zM9 17H7v-7h2v7zm4 0h-2V7h2v10zm4 0h-2v-4h2v4z\"/>\n",
              "    </g>\n",
              "</svg>\n",
              "      </button>\n",
              "    </div>\n",
              "\n",
              "<style>\n",
              "  .colab-df-quickchart {\n",
              "    background-color: #E8F0FE;\n",
              "    border: none;\n",
              "    border-radius: 50%;\n",
              "    cursor: pointer;\n",
              "    display: none;\n",
              "    fill: #1967D2;\n",
              "    height: 32px;\n",
              "    padding: 0 0 0 0;\n",
              "    width: 32px;\n",
              "  }\n",
              "\n",
              "  .colab-df-quickchart:hover {\n",
              "    background-color: #E2EBFA;\n",
              "    box-shadow: 0px 1px 2px rgba(60, 64, 67, 0.3), 0px 1px 3px 1px rgba(60, 64, 67, 0.15);\n",
              "    fill: #174EA6;\n",
              "  }\n",
              "\n",
              "  [theme=dark] .colab-df-quickchart {\n",
              "    background-color: #3B4455;\n",
              "    fill: #D2E3FC;\n",
              "  }\n",
              "\n",
              "  [theme=dark] .colab-df-quickchart:hover {\n",
              "    background-color: #434B5C;\n",
              "    box-shadow: 0px 1px 3px 1px rgba(0, 0, 0, 0.15);\n",
              "    filter: drop-shadow(0px 1px 2px rgba(0, 0, 0, 0.3));\n",
              "    fill: #FFFFFF;\n",
              "  }\n",
              "</style>\n",
              "\n",
              "    <script>\n",
              "      async function quickchart(key) {\n",
              "        const containerElement = document.querySelector('#' + key);\n",
              "        const charts = await google.colab.kernel.invokeFunction(\n",
              "            'suggestCharts', [key], {});\n",
              "      }\n",
              "    </script>\n",
              "\n",
              "      <script>\n",
              "\n",
              "function displayQuickchartButton(domScope) {\n",
              "  let quickchartButtonEl =\n",
              "    domScope.querySelector('#df-4ddfc68f-794a-4296-b0d0-b8d40c420e36 button.colab-df-quickchart');\n",
              "  quickchartButtonEl.style.display =\n",
              "    google.colab.kernel.accessAllowed ? 'block' : 'none';\n",
              "}\n",
              "\n",
              "        displayQuickchartButton(document);\n",
              "      </script>\n",
              "      <style>\n",
              "    .colab-df-container {\n",
              "      display:flex;\n",
              "      flex-wrap:wrap;\n",
              "      gap: 12px;\n",
              "    }\n",
              "\n",
              "    .colab-df-convert {\n",
              "      background-color: #E8F0FE;\n",
              "      border: none;\n",
              "      border-radius: 50%;\n",
              "      cursor: pointer;\n",
              "      display: none;\n",
              "      fill: #1967D2;\n",
              "      height: 32px;\n",
              "      padding: 0 0 0 0;\n",
              "      width: 32px;\n",
              "    }\n",
              "\n",
              "    .colab-df-convert:hover {\n",
              "      background-color: #E2EBFA;\n",
              "      box-shadow: 0px 1px 2px rgba(60, 64, 67, 0.3), 0px 1px 3px 1px rgba(60, 64, 67, 0.15);\n",
              "      fill: #174EA6;\n",
              "    }\n",
              "\n",
              "    [theme=dark] .colab-df-convert {\n",
              "      background-color: #3B4455;\n",
              "      fill: #D2E3FC;\n",
              "    }\n",
              "\n",
              "    [theme=dark] .colab-df-convert:hover {\n",
              "      background-color: #434B5C;\n",
              "      box-shadow: 0px 1px 3px 1px rgba(0, 0, 0, 0.15);\n",
              "      filter: drop-shadow(0px 1px 2px rgba(0, 0, 0, 0.3));\n",
              "      fill: #FFFFFF;\n",
              "    }\n",
              "  </style>\n",
              "\n",
              "      <script>\n",
              "        const buttonEl =\n",
              "          document.querySelector('#df-6ee1581b-6e2b-4e73-88e1-e7dccd387964 button.colab-df-convert');\n",
              "        buttonEl.style.display =\n",
              "          google.colab.kernel.accessAllowed ? 'block' : 'none';\n",
              "\n",
              "        async function convertToInteractive(key) {\n",
              "          const element = document.querySelector('#df-6ee1581b-6e2b-4e73-88e1-e7dccd387964');\n",
              "          const dataTable =\n",
              "            await google.colab.kernel.invokeFunction('convertToInteractive',\n",
              "                                                     [key], {});\n",
              "          if (!dataTable) return;\n",
              "\n",
              "          const docLinkHtml = 'Like what you see? Visit the ' +\n",
              "            '<a target=\"_blank\" href=https://colab.research.google.com/notebooks/data_table.ipynb>data table notebook</a>'\n",
              "            + ' to learn more about interactive tables.';\n",
              "          element.innerHTML = '';\n",
              "          dataTable['output_type'] = 'display_data';\n",
              "          await google.colab.output.renderOutput(dataTable, element);\n",
              "          const docLink = document.createElement('div');\n",
              "          docLink.innerHTML = docLinkHtml;\n",
              "          element.appendChild(docLink);\n",
              "        }\n",
              "      </script>\n",
              "    </div>\n",
              "  </div>\n"
            ]
          },
          "metadata": {},
          "execution_count": 10
        }
      ],
      "source": [
        "#@title 2.5: Check df\n",
        "df.head()"
      ]
    },
    {
      "cell_type": "code",
      "execution_count": 11,
      "metadata": {
        "colab": {
          "base_uri": "https://localhost:8080/"
        },
        "id": "YTVJ2qgQe2MH",
        "outputId": "926f858b-85e1-47b0-8b84-336d416256ca"
      },
      "outputs": [
        {
          "output_type": "stream",
          "name": "stdout",
          "text": [
            "bach           42\n",
            "bartok         41\n",
            "byrd           42\n",
            "chopin         41\n",
            "handel         41\n",
            "hummel         42\n",
            "mendelssohn    41\n",
            "mozart         41\n",
            "schumann       38\n",
            "Name: Composer, dtype: int64\n"
          ]
        }
      ],
      "source": [
        "#@title 2.6: Check composer names and Count the occurrences of each 'quality' value\n",
        "composer_counts = df['Composer'].value_counts()\n",
        "\n",
        "# Sort the count by 'quality' values\n",
        "sorted_composer_counts = composer_counts.sort_index()\n",
        "\n",
        "# Print the count for each 'quality' value\n",
        "print(sorted_composer_counts)"
      ]
    },
    {
      "cell_type": "code",
      "execution_count": 12,
      "metadata": {
        "colab": {
          "base_uri": "https://localhost:8080/"
        },
        "id": "LuyNFPOUWf9L",
        "outputId": "2623eb08-b6f7-48a7-a8af-105ec72c2670"
      },
      "outputs": [
        {
          "output_type": "stream",
          "name": "stdout",
          "text": [
            "(369, 7)\n",
            "       Rhythmic_Complexity\n",
            "count           369.000000\n",
            "mean              4.887834\n",
            "std              27.596210\n",
            "min               0.000153\n",
            "25%               0.111875\n",
            "50%               0.529536\n",
            "75%               1.486953\n",
            "max             356.946073\n"
          ]
        }
      ],
      "source": [
        "#@title 2.7: Check on df shape and info\n",
        "print(df.shape)\n",
        "print(df.describe())"
      ]
    },
    {
      "cell_type": "code",
      "execution_count": 13,
      "metadata": {
        "id": "daBzwP08BNgH"
      },
      "outputs": [],
      "source": [
        "#@title 3: Preparing the data for LSTM\n",
        "#Load related libraries\n",
        "from sklearn.preprocessing import LabelEncoder\n",
        "from sklearn.model_selection import train_test_split\n",
        "from keras.utils import np_utils\n",
        "\n",
        "# Convert all other features to have an extra dimension for LSTM\n",
        "def transform_series(series, num_steps):\n",
        "    # Reshape series to (samples, time_steps, features)\n",
        "    X = np.zeros((len(series), num_steps, 1))\n",
        "    for i in range(len(series)):\n",
        "        X[i,:,0] = series.iloc[i][:num_steps]\n",
        "    return X"
      ]
    },
    {
      "cell_type": "code",
      "execution_count": 14,
      "metadata": {
        "id": "RQUUzbbuWmPb"
      },
      "outputs": [],
      "source": [
        "#@title 3.1: Split train and test data sets (80-20)\n",
        "# Using stratify to ensure the datasets have same prorportions of each composer as original dataset\n",
        "df_train_val, df_test = train_test_split(df, test_size=0.2, random_state=42, stratify=df['Composer'])\n",
        "\n",
        "# Second, we separate the remaining data into the train and validation sets (75-25)\n",
        "df_train, df_val = train_test_split(df_train_val, test_size=0.25, random_state=42, stratify=df_train_val['Composer'])\n",
        "\n",
        "# The train/val/test split is now 60%/20%/20%\n",
        "\n",
        "# Encode the labels\n",
        "encoder = LabelEncoder()\n",
        "encoder.fit(df['Composer'])  # Fit on the whole dataset\n",
        "\n",
        "# Transform the labels to one-hot encoded form for each subset\n",
        "y_train = np_utils.to_categorical(encoder.transform(df_train['Composer']))\n",
        "y_val = np_utils.to_categorical(encoder.transform(df_val['Composer']))\n",
        "y_test = np_utils.to_categorical(encoder.transform(df_test['Composer']))"
      ]
    },
    {
      "cell_type": "code",
      "execution_count": 15,
      "metadata": {
        "id": "VMS5rtnjWrcb"
      },
      "outputs": [],
      "source": [
        "#@title 3.2: Apply transform_series on each feature for each subset\n",
        "def prepare_data(df, num_steps):\n",
        "    pitch = transform_series(df['Pitch'], num_steps)\n",
        "    note_density = transform_series(df['Note_Density'], num_steps)\n",
        "    volume = transform_series(df['Volume'], num_steps)\n",
        "    rhythmic_complexity = np.array([df['Rhythmic_Complexity'].values]*num_steps).T[:,:,np.newaxis]\n",
        "    tempo = transform_series(df['Tempo'], num_steps)\n",
        "\n",
        "    X = np.concatenate([pitch, note_density, volume, rhythmic_complexity, tempo], axis=-1)\n",
        "    return X\n",
        "\n",
        "num_steps = 27\n",
        "X_train = prepare_data(df_train, num_steps)\n",
        "X_val = prepare_data(df_val, num_steps)\n",
        "X_test = prepare_data(df_test, num_steps)"
      ]
    },
    {
      "cell_type": "code",
      "execution_count": 16,
      "metadata": {
        "colab": {
          "base_uri": "https://localhost:8080/"
        },
        "id": "yiqXSyMiUiPL",
        "outputId": "65b5abd2-7af5-4e96-ef74-014229a31bd4"
      },
      "outputs": [
        {
          "output_type": "stream",
          "name": "stdout",
          "text": [
            "9\n",
            "(74, 27, 5)\n",
            "[[0. 0. 0. ... 0. 0. 0.]\n",
            " [0. 0. 0. ... 0. 0. 0.]\n",
            " [1. 0. 0. ... 0. 0. 0.]\n",
            " ...\n",
            " [0. 0. 0. ... 0. 0. 1.]\n",
            " [0. 0. 0. ... 0. 0. 0.]\n",
            " [0. 0. 0. ... 0. 0. 0.]]\n"
          ]
        }
      ],
      "source": [
        "#@title 3.3: Validate shapes\n",
        "print(y_train.shape[1])\n",
        "print(X_val.shape)\n",
        "print(y_train)"
      ]
    },
    {
      "cell_type": "code",
      "execution_count": 17,
      "metadata": {
        "colab": {
          "base_uri": "https://localhost:8080/"
        },
        "id": "qCoSwJHbW0WF",
        "outputId": "5971d9cb-39c9-4bb9-a284-0aaf5ec9d117"
      },
      "outputs": [
        {
          "output_type": "execute_result",
          "data": {
            "text/plain": [
              "(221, 27, 5)"
            ]
          },
          "metadata": {},
          "execution_count": 17
        }
      ],
      "source": [
        "#@title 3.4: X_Train shape validation\n",
        "X_train.shape"
      ]
    },
    {
      "cell_type": "markdown",
      "metadata": {
        "id": "14YXhrfgk4m7"
      },
      "source": [
        "Notes: X_train contains 221 samples, 27 time_steps and 5 features"
      ]
    },
    {
      "cell_type": "code",
      "source": [
        "#@title 3.5v: Reshape the input data to make it 2D\n",
        "X_train_reshaped = X_train.reshape(X_train.shape[0], -1)\n",
        "X_val_reshaped = X_val.reshape(X_val.shape[0], -1)\n",
        "X_test_reshaped = X_test.reshape(X_test.shape[0], -1)"
      ],
      "metadata": {
        "id": "Pz65JaV3jc42"
      },
      "execution_count": 18,
      "outputs": []
    },
    {
      "cell_type": "code",
      "source": [
        "#@title 3.6v: Scale the data using StandardScaler\n",
        "from sklearn.preprocessing import LabelEncoder, StandardScaler\n",
        "scaler = StandardScaler()\n",
        "X_train_scaled = scaler.fit_transform(X_train_reshaped)\n",
        "X_val_scaled = scaler.transform(X_val_reshaped)\n",
        "X_test_scaled = scaler.transform(X_test_reshaped)"
      ],
      "metadata": {
        "id": "kPBNT4yqjgHV"
      },
      "execution_count": 19,
      "outputs": []
    },
    {
      "cell_type": "markdown",
      "source": [
        "#Build an LSTM Model (Ver.1)"
      ],
      "metadata": {
        "id": "L65x2w6nwUlt"
      }
    },
    {
      "cell_type": "code",
      "execution_count": 59,
      "metadata": {
        "colab": {
          "base_uri": "https://localhost:8080/"
        },
        "id": "djnpay4UBQpP",
        "outputId": "dc87b235-7d0f-43f9-b329-b9d9434d1dd9"
      },
      "outputs": [
        {
          "output_type": "stream",
          "name": "stdout",
          "text": [
            "Model: \"sequential_5\"\n",
            "_________________________________________________________________\n",
            " Layer (type)                Output Shape              Param #   \n",
            "=================================================================\n",
            " lstm_13 (LSTM)              (None, 50)                11200     \n",
            "                                                                 \n",
            " dense_5 (Dense)             (None, 9)                 459       \n",
            "                                                                 \n",
            "=================================================================\n",
            "Total params: 11,659\n",
            "Trainable params: 11,659\n",
            "Non-trainable params: 0\n",
            "_________________________________________________________________\n"
          ]
        }
      ],
      "source": [
        "#@title 4v: LSTM Model Building V1 (One Layer)\n",
        "from tensorflow.keras.models import Sequential\n",
        "from tensorflow.keras.layers import LSTM, Dropout, Dense\n",
        "\n",
        "num_classes = y_train.shape[1]\n",
        "num_features = 5\n",
        "model = Sequential([\n",
        "    LSTM(50, activation='relu', input_shape=(num_steps, num_features)),\n",
        "    Dense(num_classes, activation='softmax')\n",
        "])\n",
        "\n",
        "model.compile(optimizer='adam', loss='categorical_crossentropy', metrics=['accuracy'])\n",
        "\n",
        "# Print a summary of the model\n",
        "model.summary()"
      ]
    },
    {
      "cell_type": "code",
      "execution_count": 60,
      "metadata": {
        "colab": {
          "base_uri": "https://localhost:8080/"
        },
        "id": "J4QZJCYlBYm_",
        "outputId": "aa46df35-14bf-45ee-9e0f-c527616c888a"
      },
      "outputs": [
        {
          "output_type": "stream",
          "name": "stdout",
          "text": [
            "Epoch 1/10\n",
            "7/7 [==============================] - 3s 95ms/step - loss: 2.2045 - accuracy: 0.0860 - val_loss: 2.1910 - val_accuracy: 0.1622\n",
            "Epoch 2/10\n",
            "7/7 [==============================] - 0s 34ms/step - loss: 2.1522 - accuracy: 0.1810 - val_loss: 2.1939 - val_accuracy: 0.2432\n",
            "Epoch 3/10\n",
            "7/7 [==============================] - 0s 30ms/step - loss: 2.0988 - accuracy: 0.2760 - val_loss: 2.1662 - val_accuracy: 0.2432\n",
            "Epoch 4/10\n",
            "7/7 [==============================] - 0s 29ms/step - loss: 2.0389 - accuracy: 0.3167 - val_loss: 2.1288 - val_accuracy: 0.2432\n",
            "Epoch 5/10\n",
            "7/7 [==============================] - 0s 28ms/step - loss: 1.9336 - accuracy: 0.3439 - val_loss: 2.1981 - val_accuracy: 0.2432\n",
            "Epoch 6/10\n",
            "7/7 [==============================] - 0s 25ms/step - loss: 1.8283 - accuracy: 0.3439 - val_loss: 2.4243 - val_accuracy: 0.2973\n",
            "Epoch 7/10\n",
            "7/7 [==============================] - 0s 27ms/step - loss: 1.8248 - accuracy: 0.3846 - val_loss: 2.2199 - val_accuracy: 0.2973\n",
            "Epoch 8/10\n",
            "7/7 [==============================] - 0s 27ms/step - loss: 1.7601 - accuracy: 0.4072 - val_loss: 2.2312 - val_accuracy: 0.3108\n",
            "Epoch 9/10\n",
            "7/7 [==============================] - 0s 30ms/step - loss: 1.7079 - accuracy: 0.4480 - val_loss: 2.3088 - val_accuracy: 0.3649\n",
            "Epoch 10/10\n",
            "7/7 [==============================] - 0s 28ms/step - loss: 1.6317 - accuracy: 0.4661 - val_loss: 2.2128 - val_accuracy: 0.4054\n"
          ]
        }
      ],
      "source": [
        "#@title 4.1: LSTM V1 Model Training\n",
        "\n",
        "# LSTM Model Training\n",
        "history1 = model.fit(X_train_scaled.reshape(X_train_scaled.shape[0], num_steps, num_features),\n",
        "                    y_train, epochs=10, validation_data=(X_val_scaled.reshape(X_val_scaled.shape[0], num_steps, num_features), y_val))"
      ]
    },
    {
      "cell_type": "code",
      "execution_count": 61,
      "metadata": {
        "colab": {
          "base_uri": "https://localhost:8080/"
        },
        "id": "LP2egfABBgJt",
        "outputId": "25944df7-60b7-4251-8571-de121e5fe95b"
      },
      "outputs": [
        {
          "output_type": "stream",
          "name": "stdout",
          "text": [
            "3/3 [==============================] - 0s 9ms/step - loss: 1.8028 - accuracy: 0.4189\n",
            "Test Loss: 1.8027530908584595\n",
            "Test Accuracy: 0.4189189076423645\n"
          ]
        }
      ],
      "source": [
        "#@title 4.1v: Evaluate the model\n",
        "test_loss, test_accuracy = model.evaluate(X_test_scaled.reshape(X_test_scaled.shape[0], num_steps, num_features), y_test)\n",
        "print('Test Loss: {}'.format(test_loss))\n",
        "print('Test Accuracy: {}'.format(test_accuracy))"
      ]
    },
    {
      "cell_type": "code",
      "execution_count": 62,
      "metadata": {
        "id": "WZpWG4quXFs1"
      },
      "outputs": [],
      "source": [
        "#@title 5: Plot the training and validation loss V1\n",
        "def plot_learning_curves(history):\n",
        "    plt.plot(history1.history['loss'], label='Train Loss')\n",
        "    plt.plot(history1.history['val_loss'], label='Validation Loss')\n",
        "    plt.legend()\n",
        "    plt.show()\n",
        "\n",
        "    # Plot the training and validation accuracy\n",
        "    plt.plot(history1.history['accuracy'], label='Train Accuracy')\n",
        "    plt.plot(history1.history['val_accuracy'], label='Validation Accuracy')\n",
        "    plt.legend()\n",
        "    plt.show()\n",
        "    return plot_learning_curves"
      ]
    },
    {
      "cell_type": "code",
      "execution_count": 63,
      "metadata": {
        "colab": {
          "base_uri": "https://localhost:8080/",
          "height": 860
        },
        "id": "alRYAlz1m1vL",
        "outputId": "9a5a077d-2d50-4775-ca79-38b524af71ad"
      },
      "outputs": [
        {
          "output_type": "display_data",
          "data": {
            "text/plain": [
              "<Figure size 640x480 with 1 Axes>"
            ],
            "image/png": "[encoded data removed]"
          },
          "metadata": {}
        },
        {
          "output_type": "display_data",
          "data": {
            "text/plain": [
              "<Figure size 640x480 with 1 Axes>"
            ],
            "image/png": "[encoded data removed]"
          },
          "metadata": {}
        },
        {
          "output_type": "execute_result",
          "data": {
            "text/plain": [
              "<function __main__.plot_learning_curves(history)>"
            ]
          },
          "metadata": {},
          "execution_count": 63
        }
      ],
      "source": [
        "#@title 5.1: Show plot\n",
        "plot_learning_curves(history)"
      ]
    },
    {
      "cell_type": "markdown",
      "metadata": {
        "id": "yhckno8GniA0"
      },
      "source": [
        "Notes: The LSTM Ver 1 model's training and test losses are good at Test Loss: 3.615931272506714\n",
        "Test Accuracy: 0.4189189076423645w. Next step is to improve the model's performance by adding more layers and increasing the number of epochs."
      ]
    },
    {
      "cell_type": "code",
      "execution_count": 64,
      "metadata": {
        "colab": {
          "base_uri": "https://localhost:8080/"
        },
        "id": "yWQT6VdQXGfz",
        "outputId": "ea3a82a6-44c5-4960-a31c-1012e3400c10"
      },
      "outputs": [
        {
          "output_type": "stream",
          "name": "stdout",
          "text": [
            "3/3 [==============================] - 0s 9ms/step\n"
          ]
        }
      ],
      "source": [
        "#@title 6: Make predictions on the scaled and reshaped test set V1\n",
        "y_test_pred = model.predict(X_test_scaled.reshape(X_test_scaled.shape[0], num_steps, num_features))\n",
        "\n",
        "# Convert predicted probabilities to class labels\n",
        "y_test_pred_class = np.argmax(y_test_pred, axis=1)"
      ]
    },
    {
      "cell_type": "code",
      "source": [
        "#@title 6.1v: Print the true class labels and predicted class labels\n",
        "for true_label, pred_label in zip(y_test, y_test_pred_class):\n",
        "    true_class = encoder.inverse_transform([np.argmax(true_label)])[0]\n",
        "    pred_class = encoder.inverse_transform([pred_label])[0]\n",
        "    print(f\"True Class: {true_class}, Predicted Class: {pred_class}\")"
      ],
      "metadata": {
        "colab": {
          "base_uri": "https://localhost:8080/"
        },
        "id": "HoPJf9xznQNs",
        "outputId": "cc15e4e9-0a40-4400-dd79-ef827754e0e0"
      },
      "execution_count": 65,
      "outputs": [
        {
          "output_type": "stream",
          "name": "stdout",
          "text": [
            "True Class: bach, Predicted Class: mozart\n",
            "True Class: mozart, Predicted Class: handel\n",
            "True Class: chopin, Predicted Class: schumann\n",
            "True Class: hummel, Predicted Class: bach\n",
            "True Class: hummel, Predicted Class: byrd\n",
            "True Class: handel, Predicted Class: mozart\n",
            "True Class: handel, Predicted Class: handel\n",
            "True Class: mendelssohn, Predicted Class: hummel\n",
            "True Class: bach, Predicted Class: byrd\n",
            "True Class: schumann, Predicted Class: chopin\n",
            "True Class: hummel, Predicted Class: hummel\n",
            "True Class: chopin, Predicted Class: bartok\n",
            "True Class: hummel, Predicted Class: handel\n",
            "True Class: hummel, Predicted Class: hummel\n",
            "True Class: bach, Predicted Class: byrd\n",
            "True Class: chopin, Predicted Class: chopin\n",
            "True Class: mozart, Predicted Class: mozart\n",
            "True Class: bach, Predicted Class: bach\n",
            "True Class: mozart, Predicted Class: bartok\n",
            "True Class: bach, Predicted Class: byrd\n",
            "True Class: mendelssohn, Predicted Class: bach\n",
            "True Class: mozart, Predicted Class: mendelssohn\n",
            "True Class: byrd, Predicted Class: byrd\n",
            "True Class: hummel, Predicted Class: bach\n",
            "True Class: bartok, Predicted Class: bartok\n",
            "True Class: mozart, Predicted Class: bartok\n",
            "True Class: schumann, Predicted Class: hummel\n",
            "True Class: mozart, Predicted Class: mozart\n",
            "True Class: bach, Predicted Class: bach\n",
            "True Class: bartok, Predicted Class: bach\n",
            "True Class: mendelssohn, Predicted Class: mendelssohn\n",
            "True Class: byrd, Predicted Class: byrd\n",
            "True Class: chopin, Predicted Class: chopin\n",
            "True Class: handel, Predicted Class: mendelssohn\n",
            "True Class: handel, Predicted Class: handel\n",
            "True Class: handel, Predicted Class: handel\n",
            "True Class: chopin, Predicted Class: schumann\n",
            "True Class: schumann, Predicted Class: schumann\n",
            "True Class: mozart, Predicted Class: mozart\n",
            "True Class: schumann, Predicted Class: bartok\n",
            "True Class: chopin, Predicted Class: chopin\n",
            "True Class: byrd, Predicted Class: byrd\n",
            "True Class: schumann, Predicted Class: byrd\n",
            "True Class: handel, Predicted Class: schumann\n",
            "True Class: bach, Predicted Class: bach\n",
            "True Class: mendelssohn, Predicted Class: mendelssohn\n",
            "True Class: schumann, Predicted Class: chopin\n",
            "True Class: bartok, Predicted Class: handel\n",
            "True Class: bartok, Predicted Class: handel\n",
            "True Class: bartok, Predicted Class: bartok\n",
            "True Class: byrd, Predicted Class: byrd\n",
            "True Class: bartok, Predicted Class: bartok\n",
            "True Class: bach, Predicted Class: byrd\n",
            "True Class: mendelssohn, Predicted Class: schumann\n",
            "True Class: mendelssohn, Predicted Class: handel\n",
            "True Class: mendelssohn, Predicted Class: chopin\n",
            "True Class: bach, Predicted Class: byrd\n",
            "True Class: chopin, Predicted Class: hummel\n",
            "True Class: bartok, Predicted Class: bartok\n",
            "True Class: bartok, Predicted Class: bartok\n",
            "True Class: hummel, Predicted Class: handel\n",
            "True Class: handel, Predicted Class: mozart\n",
            "True Class: schumann, Predicted Class: chopin\n",
            "True Class: byrd, Predicted Class: bach\n",
            "True Class: mendelssohn, Predicted Class: mendelssohn\n",
            "True Class: byrd, Predicted Class: byrd\n",
            "True Class: byrd, Predicted Class: byrd\n",
            "True Class: handel, Predicted Class: mozart\n",
            "True Class: byrd, Predicted Class: byrd\n",
            "True Class: hummel, Predicted Class: handel\n",
            "True Class: mozart, Predicted Class: handel\n",
            "True Class: schumann, Predicted Class: schumann\n",
            "True Class: chopin, Predicted Class: bartok\n",
            "True Class: hummel, Predicted Class: handel\n"
          ]
        }
      ]
    },
    {
      "cell_type": "code",
      "execution_count": null,
      "metadata": {
        "id": "y1aNQ8Y-bE6C"
      },
      "outputs": [],
      "source": [
        "#@title 6.1: Prepare for score of train vs. test\n",
        "from sklearn.preprocessing import MultiLabelBinarizer\n",
        "\n",
        "# Create a MultiLabelBinarizer object\n",
        "mlb = MultiLabelBinarizer()\n",
        "\n",
        "# Fit the MultiLabelBinarizer object to the y_test array\n",
        "mlb.fit(y_test)\n",
        "\n",
        "# Convert the y_test array to a multi-label indicator target\n",
        "y_test_multilabel = mlb.transform(y_test)\n",
        "\n",
        "# Convert the y_test_pred array to a multi-label indicator target\n",
        "y_test_pred_multilabel = mlb.transform(y_test_pred)"
      ]
    },
    {
      "cell_type": "code",
      "source": [
        "#@title 6.2: Print a confusion matrix V1\n",
        "from sklearn.metrics import confusion_matrix\n",
        "import seaborn as sns\n",
        "#mport matplotlib.pyplot as plt\n",
        "\n",
        "# Generate the confusion matrix\n",
        "cm = confusion_matrix(np.argmax(y_test, axis=1), y_test_pred_class)\n",
        "\n",
        "# Create a heatmap of the confusion matrix\n",
        "plt.figure(figsize=(8, 6))\n",
        "sns.heatmap(cm, annot=True, fmt='d', cmap='Blues', xticklabels=encoder.classes_, yticklabels=encoder.classes_)\n",
        "plt.xlabel('Predicted Labels')\n",
        "plt.ylabel('True Labels')\n",
        "plt.title('Confusion Matrix')\n",
        "plt.show()"
      ],
      "metadata": {
        "colab": {
          "base_uri": "https://localhost:8080/",
          "height": 642
        },
        "id": "zIZiOOkUnYrE",
        "outputId": "f2ffe135-d747-40b1-930b-f23823f9c3bf"
      },
      "execution_count": 66,
      "outputs": [
        {
          "output_type": "display_data",
          "data": {
            "text/plain": [
              "<Figure size 800x600 with 2 Axes>"
            ],
            "image/png": "[encoded data removed]"
          },
          "metadata": {}
        }
      ]
    },
    {
      "cell_type": "code",
      "execution_count": 67,
      "metadata": {
        "colab": {
          "base_uri": "https://localhost:8080/"
        },
        "id": "X_VLEOfBcttM",
        "outputId": "5c174d24-3a1e-4c17-8c57-9fde1db3cfc5"
      },
      "outputs": [
        {
          "output_type": "stream",
          "name": "stdout",
          "text": [
            "3/3 [==============================] - 0s 9ms/step\n",
            "Classification Report - LSTM Model ver 1:\n",
            "               precision    recall  f1-score   support\n",
            "\n",
            "        bach       0.38      0.33      0.35         9\n",
            "      bartok       0.50      0.62      0.56         8\n",
            "        byrd       0.50      0.88      0.64         8\n",
            "      chopin       0.43      0.38      0.40         8\n",
            "      handel       0.25      0.38      0.30         8\n",
            "      hummel       0.40      0.22      0.29         9\n",
            " mendelssohn       0.60      0.38      0.46         8\n",
            "      mozart       0.43      0.38      0.40         8\n",
            "    schumann       0.33      0.25      0.29         8\n",
            "\n",
            "    accuracy                           0.42        74\n",
            "   macro avg       0.42      0.42      0.41        74\n",
            "weighted avg       0.42      0.42      0.41        74\n",
            "\n"
          ]
        }
      ],
      "source": [
        "#@title 6.3: Report the confusion matrix V1\n",
        "# Reshape the input data for prediction\n",
        "X_test_scaled_reshaped = X_test_scaled.reshape(X_test_scaled.shape[0], num_steps, num_features)\n",
        "\n",
        "# Make predictions on the reshaped test set\n",
        "y_test_pred = model.predict(X_test_scaled_reshaped)\n",
        "y_test_pred_class = np.argmax(y_test_pred, axis=1)\n",
        "\n",
        "# Convert predicted class labels back to original composer labels using the encoder\n",
        "lstm_pred_labels = encoder.inverse_transform(y_test_pred_class)\n",
        "lstm_true_labels = encoder.inverse_transform(np.argmax(y_test, axis=1))  # Convert true class labels back\n",
        "\n",
        "# Print the classification report\n",
        "lstm_classification_report_v1 = classification_report(lstm_true_labels, lstm_pred_labels, target_names=encoder.classes_)\n",
        "print(\"Classification Report - LSTM Model ver 1:\\n\", lstm_classification_report_v1)"
      ]
    },
    {
      "cell_type": "markdown",
      "source": [
        "Notes: Prediction from the LSTM model Ver. 1 shows good results with a 42% accuracy. some composer prediction do better than others."
      ],
      "metadata": {
        "id": "TbN7F5oknw_F"
      }
    },
    {
      "cell_type": "markdown",
      "source": [
        "#Version 2: LSTM with 3 Hidden Layers"
      ],
      "metadata": {
        "id": "HsNqiGo6oOqO"
      }
    },
    {
      "cell_type": "code",
      "execution_count": 68,
      "metadata": {
        "colab": {
          "base_uri": "https://localhost:8080/"
        },
        "id": "qaGfPjduXJ11",
        "outputId": "6faced5a-35b7-4bc0-b66c-a908b8782a64"
      },
      "outputs": [
        {
          "output_type": "stream",
          "name": "stdout",
          "text": [
            "Model: \"sequential_6\"\n",
            "_________________________________________________________________\n",
            " Layer (type)                Output Shape              Param #   \n",
            "=================================================================\n",
            " lstm_14 (LSTM)              (None, 27, 128)           68608     \n",
            "                                                                 \n",
            " lstm_15 (LSTM)              (None, 27, 64)            49408     \n",
            "                                                                 \n",
            " lstm_16 (LSTM)              (None, 32)                12416     \n",
            "                                                                 \n",
            " dense_6 (Dense)             (None, 9)                 297       \n",
            "                                                                 \n",
            "=================================================================\n",
            "Total params: 130,729\n",
            "Trainable params: 130,729\n",
            "Non-trainable params: 0\n",
            "_________________________________________________________________\n"
          ]
        }
      ],
      "source": [
        "#@title 7: LSTM Model Building V2\n",
        "#from tensorflow.keras.callbacks import EarlyStopping\n",
        "\n",
        "#early_stopping = EarlyStopping(patience=15)\n",
        "\n",
        "num_classes = y_train.shape[1]\n",
        "num_features = 5\n",
        "model = Sequential([\n",
        "    LSTM(128, activation='relu', input_shape=(num_steps, num_features), return_sequences=True),  # Note the return_sequences=True\n",
        "    LSTM(64, activation='relu',return_sequences=True),  # Adding another LSTM layer\n",
        "    LSTM(32, activation='relu'),  # Adding another LSTM layer\n",
        "    Dense(num_classes, activation='softmax')\n",
        "]) # 3 Hidden Layers\n",
        "\n",
        "model.compile(optimizer='adam', loss='categorical_crossentropy', metrics=['accuracy'])\n",
        "\n",
        "# Print a summary of the model\n",
        "model.summary()"
      ]
    },
    {
      "cell_type": "code",
      "source": [
        "#@title 7.1: LSTM Model Training V2\n",
        "history2 = model.fit(X_train_scaled.reshape(X_train_scaled.shape[0], num_steps, num_features),\n",
        "                    y_train, epochs=100,\n",
        "                    validation_data=(X_val_scaled.reshape(X_val_scaled.shape[0], num_steps, num_features), y_val)\n",
        ")"
      ],
      "metadata": {
        "colab": {
          "base_uri": "https://localhost:8080/"
        },
        "id": "JriOzWYgowve",
        "outputId": "65c4db65-d0fb-4e96-d21d-1a4541633a8a"
      },
      "execution_count": 69,
      "outputs": [
        {
          "output_type": "stream",
          "name": "stdout",
          "text": [
            "Epoch 1/100\n",
            "7/7 [==============================] - 8s 245ms/step - loss: 2.1796 - accuracy: 0.1448 - val_loss: 8.1361 - val_accuracy: 0.1892\n",
            "Epoch 2/100\n",
            "7/7 [==============================] - 1s 99ms/step - loss: 2.2080 - accuracy: 0.2036 - val_loss: 6.1377 - val_accuracy: 0.2297\n",
            "Epoch 3/100\n",
            "7/7 [==============================] - 1s 102ms/step - loss: 2.0260 - accuracy: 0.3077 - val_loss: 5.9858 - val_accuracy: 0.2703\n",
            "Epoch 4/100\n",
            "7/7 [==============================] - 1s 101ms/step - loss: 3.4427 - accuracy: 0.3394 - val_loss: 3.7851 - val_accuracy: 0.3108\n",
            "Epoch 5/100\n",
            "7/7 [==============================] - 1s 102ms/step - loss: 1.9123 - accuracy: 0.3756 - val_loss: 5.4624 - val_accuracy: 0.3108\n",
            "Epoch 6/100\n",
            "7/7 [==============================] - 1s 98ms/step - loss: 1.7635 - accuracy: 0.3801 - val_loss: 7.5251 - val_accuracy: 0.3649\n",
            "Epoch 7/100\n",
            "7/7 [==============================] - 1s 101ms/step - loss: 1.8105 - accuracy: 0.4389 - val_loss: 9.6032 - val_accuracy: 0.3649\n",
            "Epoch 8/100\n",
            "7/7 [==============================] - 1s 101ms/step - loss: 1.5303 - accuracy: 0.4208 - val_loss: 8.4616 - val_accuracy: 0.4595\n",
            "Epoch 9/100\n",
            "7/7 [==============================] - 1s 104ms/step - loss: 1.4719 - accuracy: 0.4661 - val_loss: 15.5587 - val_accuracy: 0.4189\n",
            "Epoch 10/100\n",
            "7/7 [==============================] - 1s 97ms/step - loss: 1.3979 - accuracy: 0.4887 - val_loss: 17.3018 - val_accuracy: 0.4459\n",
            "Epoch 11/100\n",
            "7/7 [==============================] - 1s 96ms/step - loss: 1.2909 - accuracy: 0.4977 - val_loss: 18.6061 - val_accuracy: 0.4459\n",
            "Epoch 12/100\n",
            "7/7 [==============================] - 1s 102ms/step - loss: 1.2718 - accuracy: 0.5023 - val_loss: 17.4640 - val_accuracy: 0.4459\n",
            "Epoch 13/100\n",
            "7/7 [==============================] - 1s 91ms/step - loss: 1.3044 - accuracy: 0.4796 - val_loss: 17.0537 - val_accuracy: 0.3514\n",
            "Epoch 14/100\n",
            "7/7 [==============================] - 1s 91ms/step - loss: 1.2462 - accuracy: 0.4661 - val_loss: 18.7207 - val_accuracy: 0.3919\n",
            "Epoch 15/100\n",
            "7/7 [==============================] - 1s 90ms/step - loss: 1.1899 - accuracy: 0.5158 - val_loss: 15.6360 - val_accuracy: 0.4189\n",
            "Epoch 16/100\n",
            "7/7 [==============================] - 1s 95ms/step - loss: 1.1576 - accuracy: 0.5113 - val_loss: 17.0011 - val_accuracy: 0.3919\n",
            "Epoch 17/100\n",
            "7/7 [==============================] - 1s 90ms/step - loss: 1.1226 - accuracy: 0.5475 - val_loss: 19.6782 - val_accuracy: 0.4189\n",
            "Epoch 18/100\n",
            "7/7 [==============================] - 1s 93ms/step - loss: 1.1184 - accuracy: 0.5385 - val_loss: 20.6940 - val_accuracy: 0.3784\n",
            "Epoch 19/100\n",
            "7/7 [==============================] - 1s 95ms/step - loss: 1.0629 - accuracy: 0.5882 - val_loss: 19.1166 - val_accuracy: 0.4054\n",
            "Epoch 20/100\n",
            "7/7 [==============================] - 1s 89ms/step - loss: 1.0591 - accuracy: 0.5339 - val_loss: 25.6476 - val_accuracy: 0.4459\n",
            "Epoch 21/100\n",
            "7/7 [==============================] - 1s 91ms/step - loss: 1.0228 - accuracy: 0.5656 - val_loss: 21.6827 - val_accuracy: 0.4324\n",
            "Epoch 22/100\n",
            "7/7 [==============================] - 1s 92ms/step - loss: 1.1108 - accuracy: 0.5430 - val_loss: 18.1823 - val_accuracy: 0.4189\n",
            "Epoch 23/100\n",
            "7/7 [==============================] - 1s 91ms/step - loss: 1.1359 - accuracy: 0.5792 - val_loss: 22.3009 - val_accuracy: 0.4459\n",
            "Epoch 24/100\n",
            "7/7 [==============================] - 1s 93ms/step - loss: 1.3859 - accuracy: 0.5249 - val_loss: 3.2378 - val_accuracy: 0.2838\n",
            "Epoch 25/100\n",
            "7/7 [==============================] - 1s 93ms/step - loss: 1.9191 - accuracy: 0.4344 - val_loss: 3.9983 - val_accuracy: 0.3514\n",
            "Epoch 26/100\n",
            "7/7 [==============================] - 1s 94ms/step - loss: 1.7667 - accuracy: 0.4434 - val_loss: 7.4075 - val_accuracy: 0.3784\n",
            "Epoch 27/100\n",
            "7/7 [==============================] - 1s 95ms/step - loss: 1.4474 - accuracy: 0.4706 - val_loss: 6.9429 - val_accuracy: 0.3243\n",
            "Epoch 28/100\n",
            "7/7 [==============================] - 1s 87ms/step - loss: 1.4369 - accuracy: 0.4977 - val_loss: 10.8466 - val_accuracy: 0.3784\n",
            "Epoch 29/100\n",
            "7/7 [==============================] - 1s 90ms/step - loss: 1.3109 - accuracy: 0.4796 - val_loss: 8.1210 - val_accuracy: 0.3784\n",
            "Epoch 30/100\n",
            "7/7 [==============================] - 1s 91ms/step - loss: 1.2749 - accuracy: 0.5023 - val_loss: 5.5243 - val_accuracy: 0.3919\n",
            "Epoch 31/100\n",
            "7/7 [==============================] - 1s 90ms/step - loss: 1.2297 - accuracy: 0.4887 - val_loss: 5.2731 - val_accuracy: 0.3784\n",
            "Epoch 32/100\n",
            "7/7 [==============================] - 1s 90ms/step - loss: 1.1816 - accuracy: 0.5339 - val_loss: 7.7140 - val_accuracy: 0.4054\n",
            "Epoch 33/100\n",
            "7/7 [==============================] - 1s 95ms/step - loss: 1.1436 - accuracy: 0.5204 - val_loss: 9.6812 - val_accuracy: 0.4189\n",
            "Epoch 34/100\n",
            "7/7 [==============================] - 1s 93ms/step - loss: 1.1109 - accuracy: 0.5158 - val_loss: 10.1908 - val_accuracy: 0.4459\n",
            "Epoch 35/100\n",
            "7/7 [==============================] - 1s 97ms/step - loss: 1.1097 - accuracy: 0.5068 - val_loss: 9.6008 - val_accuracy: 0.4054\n",
            "Epoch 36/100\n",
            "7/7 [==============================] - 1s 96ms/step - loss: 1.0962 - accuracy: 0.5158 - val_loss: 12.0647 - val_accuracy: 0.4054\n",
            "Epoch 37/100\n",
            "7/7 [==============================] - 1s 94ms/step - loss: 1.0878 - accuracy: 0.5430 - val_loss: 11.9853 - val_accuracy: 0.4324\n",
            "Epoch 38/100\n",
            "7/7 [==============================] - 1s 98ms/step - loss: 1.0411 - accuracy: 0.5747 - val_loss: 11.6972 - val_accuracy: 0.4189\n",
            "Epoch 39/100\n",
            "7/7 [==============================] - 1s 102ms/step - loss: 1.0175 - accuracy: 0.5520 - val_loss: 17.1278 - val_accuracy: 0.4189\n",
            "Epoch 40/100\n",
            "7/7 [==============================] - 0s 67ms/step - loss: 1.0071 - accuracy: 0.5928 - val_loss: 17.8338 - val_accuracy: 0.4189\n",
            "Epoch 41/100\n",
            "7/7 [==============================] - 0s 66ms/step - loss: 1.1327 - accuracy: 0.5566 - val_loss: 13.0469 - val_accuracy: 0.4459\n",
            "Epoch 42/100\n",
            "7/7 [==============================] - 0s 60ms/step - loss: 1.2561 - accuracy: 0.5566 - val_loss: 51.6465 - val_accuracy: 0.4324\n",
            "Epoch 43/100\n",
            "7/7 [==============================] - 0s 66ms/step - loss: 1.1603 - accuracy: 0.5656 - val_loss: 56.3107 - val_accuracy: 0.4054\n",
            "Epoch 44/100\n",
            "7/7 [==============================] - 0s 68ms/step - loss: 1.1731 - accuracy: 0.5475 - val_loss: 57.2567 - val_accuracy: 0.4324\n",
            "Epoch 45/100\n",
            "7/7 [==============================] - 0s 68ms/step - loss: 1.3441 - accuracy: 0.5294 - val_loss: 70.3920 - val_accuracy: 0.4459\n",
            "Epoch 46/100\n",
            "7/7 [==============================] - 0s 63ms/step - loss: 1.1065 - accuracy: 0.5611 - val_loss: 75.2357 - val_accuracy: 0.4730\n",
            "Epoch 47/100\n",
            "7/7 [==============================] - 0s 59ms/step - loss: 1.1202 - accuracy: 0.5475 - val_loss: 85.2150 - val_accuracy: 0.5000\n",
            "Epoch 48/100\n",
            "7/7 [==============================] - 0s 60ms/step - loss: 1.3223 - accuracy: 0.5023 - val_loss: 95.4543 - val_accuracy: 0.4595\n",
            "Epoch 49/100\n",
            "7/7 [==============================] - 0s 62ms/step - loss: 1.2495 - accuracy: 0.5249 - val_loss: 79.5597 - val_accuracy: 0.4730\n",
            "Epoch 50/100\n",
            "7/7 [==============================] - 0s 67ms/step - loss: 1.0851 - accuracy: 0.5701 - val_loss: 66.3976 - val_accuracy: 0.4595\n",
            "Epoch 51/100\n",
            "7/7 [==============================] - 0s 73ms/step - loss: 1.0390 - accuracy: 0.5656 - val_loss: 53.4084 - val_accuracy: 0.4730\n",
            "Epoch 52/100\n",
            "7/7 [==============================] - 1s 95ms/step - loss: 0.9611 - accuracy: 0.5928 - val_loss: 44.8082 - val_accuracy: 0.4324\n",
            "Epoch 53/100\n",
            "7/7 [==============================] - 1s 88ms/step - loss: 1.0980 - accuracy: 0.5882 - val_loss: 49.3577 - val_accuracy: 0.4595\n",
            "Epoch 54/100\n",
            "7/7 [==============================] - 1s 87ms/step - loss: 0.9914 - accuracy: 0.6018 - val_loss: 45.0730 - val_accuracy: 0.4459\n",
            "Epoch 55/100\n",
            "7/7 [==============================] - 1s 89ms/step - loss: 1.0413 - accuracy: 0.5882 - val_loss: 42.4848 - val_accuracy: 0.4324\n",
            "Epoch 56/100\n",
            "7/7 [==============================] - 1s 99ms/step - loss: 1.0606 - accuracy: 0.5701 - val_loss: 40.9273 - val_accuracy: 0.4595\n",
            "Epoch 57/100\n",
            "7/7 [==============================] - 1s 97ms/step - loss: 1.0167 - accuracy: 0.5837 - val_loss: 39.6474 - val_accuracy: 0.4054\n",
            "Epoch 58/100\n",
            "7/7 [==============================] - 1s 95ms/step - loss: 0.9932 - accuracy: 0.5837 - val_loss: 38.4328 - val_accuracy: 0.4324\n",
            "Epoch 59/100\n",
            "7/7 [==============================] - 1s 93ms/step - loss: 0.9510 - accuracy: 0.6018 - val_loss: 38.3439 - val_accuracy: 0.4595\n",
            "Epoch 60/100\n",
            "7/7 [==============================] - 1s 94ms/step - loss: 0.9108 - accuracy: 0.5973 - val_loss: 37.9224 - val_accuracy: 0.4324\n",
            "Epoch 61/100\n",
            "7/7 [==============================] - 1s 94ms/step - loss: 0.8954 - accuracy: 0.6199 - val_loss: 34.9363 - val_accuracy: 0.4324\n",
            "Epoch 62/100\n",
            "7/7 [==============================] - 1s 107ms/step - loss: 1.0988 - accuracy: 0.5928 - val_loss: 26.4485 - val_accuracy: 0.4324\n",
            "Epoch 63/100\n",
            "7/7 [==============================] - 1s 105ms/step - loss: 1.0375 - accuracy: 0.5701 - val_loss: 19.7541 - val_accuracy: 0.3108\n",
            "Epoch 64/100\n",
            "7/7 [==============================] - 1s 96ms/step - loss: 1.0999 - accuracy: 0.5475 - val_loss: 17.4013 - val_accuracy: 0.4459\n",
            "Epoch 65/100\n",
            "7/7 [==============================] - 1s 94ms/step - loss: 0.9669 - accuracy: 0.5701 - val_loss: 17.4690 - val_accuracy: 0.4459\n",
            "Epoch 66/100\n",
            "7/7 [==============================] - 1s 94ms/step - loss: 0.9681 - accuracy: 0.6063 - val_loss: 19.4531 - val_accuracy: 0.5135\n",
            "Epoch 67/100\n",
            "7/7 [==============================] - 1s 95ms/step - loss: 0.9202 - accuracy: 0.6063 - val_loss: 20.9713 - val_accuracy: 0.4865\n",
            "Epoch 68/100\n",
            "7/7 [==============================] - 1s 104ms/step - loss: 0.9139 - accuracy: 0.6154 - val_loss: 23.1441 - val_accuracy: 0.4730\n",
            "Epoch 69/100\n",
            "7/7 [==============================] - 1s 94ms/step - loss: 0.8976 - accuracy: 0.6290 - val_loss: 23.8608 - val_accuracy: 0.5000\n",
            "Epoch 70/100\n",
            "7/7 [==============================] - 1s 96ms/step - loss: 0.9370 - accuracy: 0.6154 - val_loss: 24.4145 - val_accuracy: 0.4595\n",
            "Epoch 71/100\n",
            "7/7 [==============================] - 1s 88ms/step - loss: 0.9118 - accuracy: 0.6244 - val_loss: 25.3319 - val_accuracy: 0.5000\n",
            "Epoch 72/100\n",
            "7/7 [==============================] - 1s 92ms/step - loss: 0.8976 - accuracy: 0.6290 - val_loss: 24.7993 - val_accuracy: 0.5135\n",
            "Epoch 73/100\n",
            "7/7 [==============================] - 1s 91ms/step - loss: 0.8632 - accuracy: 0.6380 - val_loss: 25.3416 - val_accuracy: 0.5000\n",
            "Epoch 74/100\n",
            "7/7 [==============================] - 1s 93ms/step - loss: 0.8829 - accuracy: 0.6244 - val_loss: 25.1915 - val_accuracy: 0.5135\n",
            "Epoch 75/100\n",
            "7/7 [==============================] - 1s 98ms/step - loss: 0.8320 - accuracy: 0.6290 - val_loss: 24.9833 - val_accuracy: 0.5000\n",
            "Epoch 76/100\n",
            "7/7 [==============================] - 1s 103ms/step - loss: 0.9652 - accuracy: 0.5973 - val_loss: 23.6080 - val_accuracy: 0.4865\n",
            "Epoch 77/100\n",
            "7/7 [==============================] - 1s 100ms/step - loss: 1.1129 - accuracy: 0.5747 - val_loss: 24.4976 - val_accuracy: 0.4865\n",
            "Epoch 78/100\n",
            "7/7 [==============================] - 1s 96ms/step - loss: 0.9843 - accuracy: 0.5701 - val_loss: 24.2054 - val_accuracy: 0.4054\n",
            "Epoch 79/100\n",
            "7/7 [==============================] - 1s 92ms/step - loss: 0.9700 - accuracy: 0.5973 - val_loss: 24.8550 - val_accuracy: 0.4865\n",
            "Epoch 80/100\n",
            "7/7 [==============================] - 1s 94ms/step - loss: 0.8912 - accuracy: 0.5973 - val_loss: 25.1770 - val_accuracy: 0.4730\n",
            "Epoch 81/100\n",
            "7/7 [==============================] - 1s 91ms/step - loss: 0.9758 - accuracy: 0.5837 - val_loss: 25.8428 - val_accuracy: 0.5000\n",
            "Epoch 82/100\n",
            "7/7 [==============================] - 1s 88ms/step - loss: 0.8920 - accuracy: 0.6154 - val_loss: 27.3761 - val_accuracy: 0.4865\n",
            "Epoch 83/100\n",
            "7/7 [==============================] - 1s 93ms/step - loss: 0.9184 - accuracy: 0.6290 - val_loss: 28.2021 - val_accuracy: 0.5000\n",
            "Epoch 84/100\n",
            "7/7 [==============================] - 1s 92ms/step - loss: 0.8803 - accuracy: 0.6335 - val_loss: 28.6332 - val_accuracy: 0.5000\n",
            "Epoch 85/100\n",
            "7/7 [==============================] - 1s 91ms/step - loss: 0.8918 - accuracy: 0.5928 - val_loss: 26.9799 - val_accuracy: 0.3649\n",
            "Epoch 86/100\n",
            "7/7 [==============================] - 1s 96ms/step - loss: 0.8691 - accuracy: 0.6380 - val_loss: 27.6199 - val_accuracy: 0.4730\n",
            "Epoch 87/100\n",
            "7/7 [==============================] - 1s 97ms/step - loss: 0.8594 - accuracy: 0.6516 - val_loss: 27.2310 - val_accuracy: 0.4865\n",
            "Epoch 88/100\n",
            "7/7 [==============================] - 1s 98ms/step - loss: 0.8549 - accuracy: 0.6290 - val_loss: 27.5054 - val_accuracy: 0.5000\n",
            "Epoch 89/100\n",
            "7/7 [==============================] - 1s 97ms/step - loss: 0.8151 - accuracy: 0.6561 - val_loss: 27.8125 - val_accuracy: 0.4595\n",
            "Epoch 90/100\n",
            "7/7 [==============================] - 1s 101ms/step - loss: 0.7791 - accuracy: 0.6968 - val_loss: 28.0651 - val_accuracy: 0.5270\n",
            "Epoch 91/100\n",
            "7/7 [==============================] - 1s 105ms/step - loss: 0.7478 - accuracy: 0.7014 - val_loss: 29.4088 - val_accuracy: 0.4324\n",
            "Epoch 92/100\n",
            "7/7 [==============================] - 1s 95ms/step - loss: 0.7275 - accuracy: 0.6923 - val_loss: 30.0575 - val_accuracy: 0.5000\n",
            "Epoch 93/100\n",
            "7/7 [==============================] - 1s 95ms/step - loss: 0.6834 - accuracy: 0.7240 - val_loss: 30.4761 - val_accuracy: 0.4865\n",
            "Epoch 94/100\n",
            "7/7 [==============================] - 1s 99ms/step - loss: 0.6912 - accuracy: 0.7240 - val_loss: 31.0457 - val_accuracy: 0.4595\n",
            "Epoch 95/100\n",
            "7/7 [==============================] - 1s 92ms/step - loss: 0.6864 - accuracy: 0.7014 - val_loss: 33.2943 - val_accuracy: 0.5135\n",
            "Epoch 96/100\n",
            "7/7 [==============================] - 1s 91ms/step - loss: 0.6743 - accuracy: 0.6968 - val_loss: 32.2970 - val_accuracy: 0.4595\n",
            "Epoch 97/100\n",
            "7/7 [==============================] - 1s 90ms/step - loss: 0.6374 - accuracy: 0.7285 - val_loss: 33.9523 - val_accuracy: 0.5000\n",
            "Epoch 98/100\n",
            "7/7 [==============================] - 1s 91ms/step - loss: 0.6867 - accuracy: 0.6878 - val_loss: 33.5105 - val_accuracy: 0.4189\n",
            "Epoch 99/100\n",
            "7/7 [==============================] - 1s 87ms/step - loss: 0.7490 - accuracy: 0.6968 - val_loss: 32.2574 - val_accuracy: 0.5135\n",
            "Epoch 100/100\n",
            "7/7 [==============================] - 1s 91ms/step - loss: 0.7199 - accuracy: 0.7104 - val_loss: 30.7259 - val_accuracy: 0.5000\n"
          ]
        }
      ]
    },
    {
      "cell_type": "code",
      "source": [
        "#@title 7.2: Evaluate the model V2\n",
        "test_loss, test_accuracy = model.evaluate(X_test_scaled.reshape(X_test_scaled.shape[0], num_steps, num_features), y_test)\n",
        "print('Test Loss: {}'.format(test_loss))\n",
        "print('Test Accuracy: {}'.format(test_accuracy))"
      ],
      "metadata": {
        "colab": {
          "base_uri": "https://localhost:8080/"
        },
        "id": "54k1CdY_qF5i",
        "outputId": "0329ae80-c701-47a1-ed13-f95056519ec4"
      },
      "execution_count": 70,
      "outputs": [
        {
          "output_type": "stream",
          "name": "stdout",
          "text": [
            "3/3 [==============================] - 0s 30ms/step - loss: 3.0773 - accuracy: 0.5000\n",
            "Test Loss: 3.077254295349121\n",
            "Test Accuracy: 0.5\n"
          ]
        }
      ]
    },
    {
      "cell_type": "markdown",
      "source": [
        "Notes: Performance has increased with the added layer.\n",
        "Test Loss: 3.077254295349121\n",
        "Test Accuracy: 0.5"
      ],
      "metadata": {
        "id": "oL38bKYAqPbr"
      }
    },
    {
      "cell_type": "code",
      "execution_count": 71,
      "metadata": {
        "colab": {
          "base_uri": "https://localhost:8080/",
          "height": 860
        },
        "id": "1HbS94YTXSYs",
        "outputId": "220d06f0-78e7-49ad-c820-575b49112031"
      },
      "outputs": [
        {
          "output_type": "display_data",
          "data": {
            "text/plain": [
              "<Figure size 640x480 with 1 Axes>"
            ],
            "image/png": "[encoded data removed]"
          },
          "metadata": {}
        },
        {
          "output_type": "display_data",
          "data": {
            "text/plain": [
              "<Figure size 640x480 with 1 Axes>"
            ],
            "image/png": "[encoded data removed]"
          },
          "metadata": {}
        },
        {
          "output_type": "execute_result",
          "data": {
            "text/plain": [
              "<function __main__.plot_learning_curves(history)>"
            ]
          },
          "metadata": {},
          "execution_count": 71
        }
      ],
      "source": [
        "#@title 8: Plot v2\n",
        "plot_learning_curves(history2)"
      ]
    },
    {
      "cell_type": "code",
      "execution_count": 72,
      "metadata": {
        "colab": {
          "base_uri": "https://localhost:8080/"
        },
        "id": "_VtSGhgkXV1T",
        "outputId": "a6ec152d-ed2a-46e5-bf97-82f33b80a0f8"
      },
      "outputs": [
        {
          "output_type": "stream",
          "name": "stdout",
          "text": [
            "3/3 [==============================] - 1s 30ms/step\n"
          ]
        }
      ],
      "source": [
        "#@title 9: Save the model - And run predictions V2\n",
        "model.save('team8_composer_model.h5') #file name\n",
        "\n",
        "# Load the model\n",
        "from tensorflow.keras.models import load_model\n",
        "model = load_model('team8_composer_model.h5')\n",
        "\n",
        "#@title 6v2: Make predictions on the scaled and reshaped test set\n",
        "y_test_pred = model.predict(X_test_scaled.reshape(X_test_scaled.shape[0], num_steps, num_features))\n",
        "\n",
        "# Convert predicted probabilities to class labels\n",
        "y_test_pred_class = np.argmax(y_test_pred, axis=1)"
      ]
    },
    {
      "cell_type": "code",
      "execution_count": 73,
      "metadata": {
        "colab": {
          "base_uri": "https://localhost:8080/",
          "height": 642
        },
        "id": "1fOTD1aKo8w6",
        "outputId": "97f125a5-12d5-4806-bf52-cb4f57435b1f"
      },
      "outputs": [
        {
          "output_type": "display_data",
          "data": {
            "text/plain": [
              "<Figure size 800x600 with 2 Axes>"
            ],
            "image/png": "[encoded data removed]"
          },
          "metadata": {}
        }
      ],
      "source": [
        "#@title 10.1: Plot the confusion matrix V2\n",
        "# Generate the confusion matrix\n",
        "cm = confusion_matrix(np.argmax(y_test, axis=1), y_test_pred_class)\n",
        "\n",
        "# Create a heatmap of the confusion matrix\n",
        "plt.figure(figsize=(8, 6))\n",
        "sns.heatmap(cm, annot=True, fmt='d', cmap='Blues', xticklabels=encoder.classes_, yticklabels=encoder.classes_)\n",
        "plt.xlabel('Predicted Labels')\n",
        "plt.ylabel('True Labels')\n",
        "plt.title('Confusion Matrix')\n",
        "plt.show()"
      ]
    },
    {
      "cell_type": "code",
      "source": [
        "#@title 10.2: Report the confusion matrix V2\n",
        "# Reshape the input data for prediction\n",
        "X_test_scaled_reshaped = X_test_scaled.reshape(X_test_scaled.shape[0], num_steps, num_features)\n",
        "\n",
        "# Make predictions on the reshaped test set\n",
        "y_test_pred = model.predict(X_test_scaled_reshaped)\n",
        "y_test_pred_class = np.argmax(y_test_pred, axis=1)\n",
        "\n",
        "# Convert predicted class labels back to original composer labels using the encoder\n",
        "lstm_pred_labels = encoder.inverse_transform(y_test_pred_class)\n",
        "lstm_true_labels = encoder.inverse_transform(np.argmax(y_test, axis=1))  # Convert true class labels back\n",
        "\n",
        "# Print the classification report\n",
        "lstm_classification_report_v2 = classification_report(lstm_true_labels, lstm_pred_labels, target_names=encoder.classes_)\n",
        "print(\"Classification Report - LSTM Model Version 2:\\n\", lstm_classification_report_v2)"
      ],
      "metadata": {
        "colab": {
          "base_uri": "https://localhost:8080/"
        },
        "id": "Tir8cMlwrly0",
        "outputId": "629078ad-ad8b-4345-b73c-90ecfbcbe7b7"
      },
      "execution_count": 74,
      "outputs": [
        {
          "output_type": "stream",
          "name": "stdout",
          "text": [
            "3/3 [==============================] - 0s 28ms/step\n",
            "Classification Report - LSTM Model Version 2:\n",
            "               precision    recall  f1-score   support\n",
            "\n",
            "        bach       0.80      0.89      0.84         9\n",
            "      bartok       0.25      0.25      0.25         8\n",
            "        byrd       0.83      0.62      0.71         8\n",
            "      chopin       0.50      0.75      0.60         8\n",
            "      handel       0.50      0.25      0.33         8\n",
            "      hummel       0.44      0.44      0.44         9\n",
            " mendelssohn       0.44      0.50      0.47         8\n",
            "      mozart       0.38      0.38      0.38         8\n",
            "    schumann       0.38      0.38      0.38         8\n",
            "\n",
            "    accuracy                           0.50        74\n",
            "   macro avg       0.50      0.50      0.49        74\n",
            "weighted avg       0.51      0.50      0.49        74\n",
            "\n"
          ]
        }
      ]
    },
    {
      "cell_type": "markdown",
      "source": [
        "Notes: Performance has increased. The model has worked correctly with all composers, set at an S1 score of 50%"
      ],
      "metadata": {
        "id": "t8dTSaLKrudT"
      }
    },
    {
      "cell_type": "markdown",
      "source": [
        "#Version 3 of LSTM, changing the Optimizer and doing an Eralystop"
      ],
      "metadata": {
        "id": "JF6Tie7O01VN"
      }
    },
    {
      "cell_type": "code",
      "execution_count": 75,
      "metadata": {
        "colab": {
          "base_uri": "https://localhost:8080/"
        },
        "id": "G_LNqInIXeo7",
        "outputId": "3b2afb35-2f5f-43e5-8d18-0240304da01c"
      },
      "outputs": [
        {
          "output_type": "stream",
          "name": "stdout",
          "text": [
            "Model: \"sequential_7\"\n",
            "_________________________________________________________________\n",
            " Layer (type)                Output Shape              Param #   \n",
            "=================================================================\n",
            " lstm_17 (LSTM)              (None, 27, 128)           68608     \n",
            "                                                                 \n",
            " lstm_18 (LSTM)              (None, 27, 64)            49408     \n",
            "                                                                 \n",
            " lstm_19 (LSTM)              (None, 32)                12416     \n",
            "                                                                 \n",
            " dense_7 (Dense)             (None, 9)                 297       \n",
            "                                                                 \n",
            "=================================================================\n",
            "Total params: 130,729\n",
            "Trainable params: 130,729\n",
            "Non-trainable params: 0\n",
            "_________________________________________________________________\n"
          ]
        }
      ],
      "source": [
        "#@title 11: Updating more variables in the LSTM model and optimizer V3\n",
        "from tensorflow.keras.optimizers import Adamax\n",
        "\n",
        "#@title 7: LSTM Model Building\n",
        "from tensorflow.keras.callbacks import EarlyStopping\n",
        "\n",
        "# Adding an early stop to prevent overfitting\n",
        "early_stopping = EarlyStopping(patience=15)\n",
        "\n",
        "#define the optimizer\n",
        "learning_rate = 0.01\n",
        "optimizer = Adamax(learning_rate=learning_rate)\n",
        "\n",
        "#Build the model\n",
        "num_classes = y_train.shape[1]\n",
        "num_features = 5\n",
        "model = Sequential([\n",
        "    LSTM(128, activation='relu', input_shape=(num_steps, num_features), return_sequences=True),  # Note the return_sequences=True\n",
        "    LSTM(64, activation='relu',return_sequences=True),  # Adding another LSTM layer\n",
        "    LSTM(32, activation='relu'),  # Adding another LSTM layer\n",
        "    Dense(num_classes, activation='softmax')\n",
        "]) # 3 Hidden Layers\n",
        "\n",
        "model.compile(optimizer=optimizer, loss='categorical_crossentropy', metrics=['accuracy'])\n",
        "\n",
        "# Print a summary of the model\n",
        "model.summary()"
      ]
    },
    {
      "cell_type": "code",
      "source": [
        "#@title 11.1: LSTM Model Training V3\n",
        "history3 = model.fit(X_train_scaled.reshape(X_train_scaled.shape[0], num_steps, num_features),\n",
        "                    y_train, epochs=100,\n",
        "                    validation_data=(X_val_scaled.reshape(X_val_scaled.shape[0], num_steps, num_features), y_val),\n",
        "                    callbacks=[early_stopping])"
      ],
      "metadata": {
        "colab": {
          "base_uri": "https://localhost:8080/"
        },
        "id": "YkGg6fMEu-3J",
        "outputId": "2c039d17-be72-4408-ea93-2c51235575d4"
      },
      "execution_count": 76,
      "outputs": [
        {
          "output_type": "stream",
          "name": "stdout",
          "text": [
            "Epoch 1/100\n",
            "7/7 [==============================] - 8s 298ms/step - loss: 5.7065 - accuracy: 0.1403 - val_loss: 2.1193 - val_accuracy: 0.2568\n",
            "Epoch 2/100\n",
            "7/7 [==============================] - 1s 96ms/step - loss: 2.2823 - accuracy: 0.2579 - val_loss: 2.0364 - val_accuracy: 0.2432\n",
            "Epoch 3/100\n",
            "7/7 [==============================] - 1s 103ms/step - loss: 2.9281 - accuracy: 0.2851 - val_loss: 2.9626 - val_accuracy: 0.1622\n",
            "Epoch 4/100\n",
            "7/7 [==============================] - 1s 104ms/step - loss: 2.0920 - accuracy: 0.2534 - val_loss: 2.0342 - val_accuracy: 0.2432\n",
            "Epoch 5/100\n",
            "7/7 [==============================] - 1s 101ms/step - loss: 1.8689 - accuracy: 0.3394 - val_loss: 2.1388 - val_accuracy: 0.2838\n",
            "Epoch 6/100\n",
            "7/7 [==============================] - 1s 94ms/step - loss: 1.6934 - accuracy: 0.3394 - val_loss: 2.2628 - val_accuracy: 0.3108\n",
            "Epoch 7/100\n",
            "7/7 [==============================] - 1s 92ms/step - loss: 1.6872 - accuracy: 0.4027 - val_loss: 2.5447 - val_accuracy: 0.2703\n",
            "Epoch 8/100\n",
            "7/7 [==============================] - 1s 102ms/step - loss: 1.5545 - accuracy: 0.4027 - val_loss: 3.6157 - val_accuracy: 0.2973\n",
            "Epoch 9/100\n",
            "7/7 [==============================] - 1s 100ms/step - loss: 1.4994 - accuracy: 0.3937 - val_loss: 3.9298 - val_accuracy: 0.3378\n",
            "Epoch 10/100\n",
            "7/7 [==============================] - 1s 107ms/step - loss: 1.4205 - accuracy: 0.4570 - val_loss: 2.1597 - val_accuracy: 0.3649\n",
            "Epoch 11/100\n",
            "7/7 [==============================] - 1s 97ms/step - loss: 1.3666 - accuracy: 0.4525 - val_loss: 2.0482 - val_accuracy: 0.3378\n",
            "Epoch 12/100\n",
            "7/7 [==============================] - 1s 98ms/step - loss: 1.3468 - accuracy: 0.4344 - val_loss: 2.0739 - val_accuracy: 0.3243\n",
            "Epoch 13/100\n",
            "7/7 [==============================] - 1s 104ms/step - loss: 1.3673 - accuracy: 0.4027 - val_loss: 2.0072 - val_accuracy: 0.3649\n",
            "Epoch 14/100\n",
            "7/7 [==============================] - 1s 108ms/step - loss: 1.3020 - accuracy: 0.4887 - val_loss: 2.3762 - val_accuracy: 0.3784\n",
            "Epoch 15/100\n",
            "7/7 [==============================] - 1s 101ms/step - loss: 1.3136 - accuracy: 0.4344 - val_loss: 3.8354 - val_accuracy: 0.3243\n",
            "Epoch 16/100\n",
            "7/7 [==============================] - 1s 104ms/step - loss: 1.3666 - accuracy: 0.4299 - val_loss: 5.6700 - val_accuracy: 0.3108\n",
            "Epoch 17/100\n",
            "7/7 [==============================] - 1s 98ms/step - loss: 1.2596 - accuracy: 0.4751 - val_loss: 4.7925 - val_accuracy: 0.4054\n",
            "Epoch 18/100\n",
            "7/7 [==============================] - 1s 96ms/step - loss: 1.2766 - accuracy: 0.4525 - val_loss: 3.7369 - val_accuracy: 0.4054\n",
            "Epoch 19/100\n",
            "7/7 [==============================] - 1s 88ms/step - loss: 1.2294 - accuracy: 0.5023 - val_loss: 3.6309 - val_accuracy: 0.3649\n",
            "Epoch 20/100\n",
            "7/7 [==============================] - 1s 85ms/step - loss: 1.1591 - accuracy: 0.5113 - val_loss: 3.6834 - val_accuracy: 0.3784\n",
            "Epoch 21/100\n",
            "7/7 [==============================] - 1s 90ms/step - loss: 1.1363 - accuracy: 0.5113 - val_loss: 2.1558 - val_accuracy: 0.4189\n",
            "Epoch 22/100\n",
            "7/7 [==============================] - 1s 97ms/step - loss: 1.0933 - accuracy: 0.5611 - val_loss: 2.3233 - val_accuracy: 0.4324\n",
            "Epoch 23/100\n",
            "7/7 [==============================] - 1s 111ms/step - loss: 1.0854 - accuracy: 0.5339 - val_loss: 2.3888 - val_accuracy: 0.4459\n",
            "Epoch 24/100\n",
            "7/7 [==============================] - 1s 95ms/step - loss: 1.0890 - accuracy: 0.5023 - val_loss: 3.1494 - val_accuracy: 0.4865\n",
            "Epoch 25/100\n",
            "7/7 [==============================] - 1s 98ms/step - loss: 1.0439 - accuracy: 0.5611 - val_loss: 2.7653 - val_accuracy: 0.4054\n",
            "Epoch 26/100\n",
            "7/7 [==============================] - 1s 88ms/step - loss: 1.0374 - accuracy: 0.5475 - val_loss: 2.8257 - val_accuracy: 0.4595\n",
            "Epoch 27/100\n",
            "7/7 [==============================] - 1s 100ms/step - loss: 1.0118 - accuracy: 0.5656 - val_loss: 3.6648 - val_accuracy: 0.4595\n",
            "Epoch 28/100\n",
            "7/7 [==============================] - 1s 99ms/step - loss: 1.0121 - accuracy: 0.5928 - val_loss: 3.1987 - val_accuracy: 0.4730\n"
          ]
        }
      ]
    },
    {
      "cell_type": "code",
      "source": [
        "#@title 11.2: Report the confusion matrix V3\n",
        "# Reshape the input data for prediction\n",
        "X_test_scaled_reshaped = X_test_scaled.reshape(X_test_scaled.shape[0], num_steps, num_features)\n",
        "\n",
        "# Make predictions on the reshaped test set\n",
        "y_test_pred = model.predict(X_test_scaled_reshaped)\n",
        "y_test_pred_class = np.argmax(y_test_pred, axis=1)\n",
        "\n",
        "# Convert predicted class labels back to original composer labels using the encoder\n",
        "lstm_pred_labels = encoder.inverse_transform(y_test_pred_class)\n",
        "lstm_true_labels = encoder.inverse_transform(np.argmax(y_test, axis=1))  # Convert true class labels back\n",
        "\n",
        "# Print the classification report\n",
        "lstm_classification_report_v3 = classification_report(lstm_true_labels, lstm_pred_labels, target_names=encoder.classes_)\n",
        "print(\"Classification Report - LSTM Model Version 3:\\n\", lstm_classification_report_v3)"
      ],
      "metadata": {
        "colab": {
          "base_uri": "https://localhost:8080/"
        },
        "id": "bnF7WR_9vP8F",
        "outputId": "24b6dac5-f7b8-4192-fa28-6947438323a3"
      },
      "execution_count": 79,
      "outputs": [
        {
          "output_type": "stream",
          "name": "stdout",
          "text": [
            "3/3 [==============================] - 0s 30ms/step\n",
            "Classification Report - LSTM Model Version 3:\n",
            "               precision    recall  f1-score   support\n",
            "\n",
            "        bach       0.73      0.89      0.80         9\n",
            "      bartok       0.29      0.25      0.27         8\n",
            "        byrd       0.86      0.75      0.80         8\n",
            "      chopin       0.60      0.38      0.46         8\n",
            "      handel       0.33      0.25      0.29         8\n",
            "      hummel       0.50      0.11      0.18         9\n",
            " mendelssohn       0.13      0.25      0.17         8\n",
            "      mozart       0.22      0.25      0.24         8\n",
            "    schumann       0.33      0.50      0.40         8\n",
            "\n",
            "    accuracy                           0.41        74\n",
            "   macro avg       0.44      0.40      0.40        74\n",
            "weighted avg       0.45      0.41      0.40        74\n",
            "\n"
          ]
        }
      ]
    },
    {
      "cell_type": "markdown",
      "metadata": {
        "id": "ew4W7FACXuaL"
      },
      "source": [
        "The best performance is of the Version 2 LSTM model, a 3 layer model utilizing the ReLU activation function and the Adam optimizer, with 100 ephocs.\n",
        "See results:\n",
        "Classification Report - LSTM Model Version 2:\n",
        "               precision    recall  f1-score   support\n",
        "\n",
        "        bach       0.80      0.89      0.84         9\n",
        "      bartok       0.25      0.25      0.25         8\n",
        "        byrd       0.83      0.62      0.71         8\n",
        "      chopin       0.50      0.75      0.60         8\n",
        "      handel       0.50      0.25      0.33         8\n",
        "      hummel       0.44      0.44      0.44         9\n",
        " mendelssohn       0.44      0.50      0.47         8\n",
        "      mozart       0.38      0.38      0.38         8\n",
        "    schumann       0.38      0.38      0.38         8\n",
        "\n",
        "    accuracy                           0.50        74\n",
        "   macro avg       0.50      0.50      0.49        74\n",
        "weighted avg       0.51      0.50      0.49        74"
      ]
    },
    {
      "cell_type": "code",
      "execution_count": 80,
      "metadata": {
        "colab": {
          "base_uri": "https://localhost:8080/"
        },
        "id": "nyClX-XVXqPM",
        "outputId": "835bf1ea-1c16-4ae9-fa96-36304a787abd"
      },
      "outputs": [
        {
          "output_type": "stream",
          "name": "stdout",
          "text": [
            "Training set size: 221\n",
            "Validation set size: 74\n",
            "Test set size: 74\n"
          ]
        }
      ],
      "source": [
        "#@title 11.1: Check how we can improve for possible training set overfitting\n",
        "# Small amounts of data may lead to overfitting of the model.\n",
        "print(f\"Training set size: {len(df_train)}\")\n",
        "print(f\"Validation set size: {len(df_val)}\")\n",
        "print(f\"Test set size: {len(df_test)}\")"
      ]
    },
    {
      "cell_type": "markdown",
      "metadata": {
        "id": "v6tw4pBuX0nD"
      },
      "source": [
        "Notes: These small amounts of data explain why there is a huge difference between the training and validation accuracies and those of the test data as well. The small data size can lead to overfitting, where the model becomes too specialized for the training data and performs poorly on unseen data. Additionally, limited data may not capture the full complexity of the problem, resulting in suboptimal performance on both validation and test datasets. Let's try to optimize the LSTM model and see how it does, but note that optimizing hyperparameters when there is a small amount of data may not improve model performance. The best bet is to augment the data. However, the ideal metric for this project is not accuracy but categorical cross-entropy loss.\n",
        "\n",
        "Next, let's optimize the model by adding L2 regularization to the LSTM layers to penalize large weights and reduce overfitting."
      ]
    },
    {
      "cell_type": "markdown",
      "metadata": {
        "id": "WbTZEzNpX_j8"
      },
      "source": [
        "Notes: Increasing the model training time did reduce the losses, which is good, and it did increase the training accuracy. However, the difference between the validating accuracy and the training one is too much. Again, not having enough validation data is the cause of this overfitting."
      ]
    },
    {
      "cell_type": "markdown",
      "metadata": {
        "id": "m9NKJ-R2YFMK"
      },
      "source": [
        "Notes: So, we still did not achieve better validation and test accuracies even after reducing the number of units in the LSTM layers, adding L2 regularization, and increasing the dropout rate. Additionally, we increased the number of epochs to give the model more training time. Let's try early stopping. Not that we think it will improve the model's accuracy very much, but this time we will just decrease the number of epochs to 200 and set the stopping criteria to 10 to detect and stop the model's overfitting."
      ]
    },
    {
      "cell_type": "markdown",
      "metadata": {
        "id": "bMVNtwFpYLlb"
      },
      "source": [
        "Notes: Clearly, introducing the early stopping criteria helped reduce overfitting and computational time. Notice how the scores are close enough to when we trained the same model earlier with 500 epochs but without early stopping."
      ]
    },
    {
      "cell_type": "markdown",
      "metadata": {
        "id": "zOAG8vbhYR5b"
      },
      "source": [
        "Notes: The plot for the early stopping up to epoch 15, where the training was discontinued, showed a near-perfect trend for both the loss and accuracy metrics. Beyond this epoch and based on our patience/stopping criteria of 10, the model will start to show signs of overfitting. The loss metric will begin to increase slightly, while the accuracy metric will start to plateau. This indicates that the model had learned all it could from the training data and that further training would not lead to better performance."
      ]
    },
    {
      "cell_type": "markdown",
      "metadata": {
        "id": "hnc8CIlSfaWR"
      },
      "source": [
        "# CNN Model V1"
      ]
    },
    {
      "cell_type": "code",
      "execution_count": 81,
      "metadata": {
        "colab": {
          "base_uri": "https://localhost:8080/"
        },
        "id": "EliWx-bPfixU",
        "outputId": "1d115e47-58ac-4095-cff1-21836380f15a"
      },
      "outputs": [
        {
          "output_type": "stream",
          "name": "stdout",
          "text": [
            "Model: \"sequential_8\"\n",
            "_________________________________________________________________\n",
            " Layer (type)                Output Shape              Param #   \n",
            "=================================================================\n",
            " conv1d (Conv1D)             (None, 25, 64)            1024      \n",
            "                                                                 \n",
            " max_pooling1d (MaxPooling1D  (None, 12, 64)           0         \n",
            " )                                                               \n",
            "                                                                 \n",
            " conv1d_1 (Conv1D)           (None, 10, 128)           24704     \n",
            "                                                                 \n",
            " max_pooling1d_1 (MaxPooling  (None, 5, 128)           0         \n",
            " 1D)                                                             \n",
            "                                                                 \n",
            " flatten (Flatten)           (None, 640)               0         \n",
            "                                                                 \n",
            " dense_8 (Dense)             (None, 128)               82048     \n",
            "                                                                 \n",
            " dropout (Dropout)           (None, 128)               0         \n",
            "                                                                 \n",
            " dense_9 (Dense)             (None, 9)                 1161      \n",
            "                                                                 \n",
            "=================================================================\n",
            "Total params: 108,937\n",
            "Trainable params: 108,937\n",
            "Non-trainable params: 0\n",
            "_________________________________________________________________\n"
          ]
        }
      ],
      "source": [
        "#@title 16: Build CNN Model\n",
        "#Load related libraries\n",
        "from tensorflow.keras.layers import Conv1D, MaxPooling1D, Flatten, Dense, Dropout\n",
        "\n",
        "# Define the number of classes (number of composers)\n",
        "num_classes = len(encoder.classes_)\n",
        "\n",
        "# Build the CNN model\n",
        "model = Sequential([\n",
        "    Conv1D(64, 3, activation='relu', input_shape=(num_steps, X_train.shape[2])),\n",
        "    MaxPooling1D(2),\n",
        "    Conv1D(128, 3, activation='relu'),\n",
        "    MaxPooling1D(2),\n",
        "    Flatten(),\n",
        "    Dense(128, activation='relu'),\n",
        "    Dropout(0.3),\n",
        "    Dense(num_classes, activation='softmax')\n",
        "])\n",
        "\n",
        "# Compile the model\n",
        "model.compile(optimizer='adam', loss='categorical_crossentropy', metrics=['accuracy'])\n",
        "\n",
        "# Print a summary of the model\n",
        "model.summary()"
      ]
    },
    {
      "cell_type": "code",
      "execution_count": 82,
      "metadata": {
        "colab": {
          "base_uri": "https://localhost:8080/"
        },
        "id": "IjFX_OpIfxed",
        "outputId": "7c2c2329-3e33-44d9-fc57-62b9d66d5ef8"
      },
      "outputs": [
        {
          "output_type": "stream",
          "name": "stdout",
          "text": [
            "Epoch 1/50\n",
            "7/7 [==============================] - 2s 58ms/step - loss: 12.0866 - accuracy: 0.1403 - val_loss: 5.4812 - val_accuracy: 0.2568\n",
            "Epoch 2/50\n",
            "7/7 [==============================] - 0s 14ms/step - loss: 4.8394 - accuracy: 0.2715 - val_loss: 3.6626 - val_accuracy: 0.2568\n",
            "Epoch 3/50\n",
            "7/7 [==============================] - 0s 15ms/step - loss: 2.9806 - accuracy: 0.2851 - val_loss: 2.8137 - val_accuracy: 0.2703\n",
            "Epoch 4/50\n",
            "7/7 [==============================] - 0s 15ms/step - loss: 1.8298 - accuracy: 0.4118 - val_loss: 2.4100 - val_accuracy: 0.2703\n",
            "Epoch 5/50\n",
            "7/7 [==============================] - 0s 14ms/step - loss: 1.5586 - accuracy: 0.4661 - val_loss: 2.2878 - val_accuracy: 0.2973\n",
            "Epoch 6/50\n",
            "7/7 [==============================] - 0s 13ms/step - loss: 1.4629 - accuracy: 0.4977 - val_loss: 2.2467 - val_accuracy: 0.2973\n",
            "Epoch 7/50\n",
            "7/7 [==============================] - 0s 14ms/step - loss: 1.3634 - accuracy: 0.4751 - val_loss: 2.2397 - val_accuracy: 0.3378\n",
            "Epoch 8/50\n",
            "7/7 [==============================] - 0s 16ms/step - loss: 1.1917 - accuracy: 0.5882 - val_loss: 2.2729 - val_accuracy: 0.3378\n",
            "Epoch 9/50\n",
            "7/7 [==============================] - 0s 14ms/step - loss: 1.1142 - accuracy: 0.5792 - val_loss: 2.3345 - val_accuracy: 0.3919\n",
            "Epoch 10/50\n",
            "7/7 [==============================] - 0s 14ms/step - loss: 1.0083 - accuracy: 0.6606 - val_loss: 2.3258 - val_accuracy: 0.3919\n",
            "Epoch 11/50\n",
            "7/7 [==============================] - 0s 14ms/step - loss: 0.9822 - accuracy: 0.6697 - val_loss: 2.2528 - val_accuracy: 0.3514\n",
            "Epoch 12/50\n",
            "7/7 [==============================] - 0s 13ms/step - loss: 1.0741 - accuracy: 0.6380 - val_loss: 2.1711 - val_accuracy: 0.4054\n",
            "Epoch 13/50\n",
            "7/7 [==============================] - 0s 14ms/step - loss: 0.9429 - accuracy: 0.7104 - val_loss: 2.4673 - val_accuracy: 0.4054\n",
            "Epoch 14/50\n",
            "7/7 [==============================] - 0s 14ms/step - loss: 0.8384 - accuracy: 0.7059 - val_loss: 2.6888 - val_accuracy: 0.4189\n",
            "Epoch 15/50\n",
            "7/7 [==============================] - 0s 15ms/step - loss: 0.9134 - accuracy: 0.6606 - val_loss: 2.5380 - val_accuracy: 0.4054\n",
            "Epoch 16/50\n",
            "7/7 [==============================] - 0s 14ms/step - loss: 0.8028 - accuracy: 0.7149 - val_loss: 2.5040 - val_accuracy: 0.4189\n",
            "Epoch 17/50\n",
            "7/7 [==============================] - 0s 13ms/step - loss: 0.9105 - accuracy: 0.6742 - val_loss: 2.5171 - val_accuracy: 0.4189\n",
            "Epoch 18/50\n",
            "7/7 [==============================] - 0s 13ms/step - loss: 0.6568 - accuracy: 0.7828 - val_loss: 2.5878 - val_accuracy: 0.4324\n",
            "Epoch 19/50\n",
            "7/7 [==============================] - 0s 13ms/step - loss: 0.7064 - accuracy: 0.7557 - val_loss: 2.7124 - val_accuracy: 0.4459\n",
            "Epoch 20/50\n",
            "7/7 [==============================] - 0s 13ms/step - loss: 0.6816 - accuracy: 0.7466 - val_loss: 2.6380 - val_accuracy: 0.4324\n",
            "Epoch 21/50\n",
            "7/7 [==============================] - 0s 13ms/step - loss: 0.6293 - accuracy: 0.7919 - val_loss: 2.7768 - val_accuracy: 0.4324\n",
            "Epoch 22/50\n",
            "7/7 [==============================] - 0s 13ms/step - loss: 0.6403 - accuracy: 0.7692 - val_loss: 2.7473 - val_accuracy: 0.4189\n",
            "Epoch 23/50\n",
            "7/7 [==============================] - 0s 14ms/step - loss: 0.6408 - accuracy: 0.7511 - val_loss: 2.8337 - val_accuracy: 0.4189\n",
            "Epoch 24/50\n",
            "7/7 [==============================] - 0s 14ms/step - loss: 0.5887 - accuracy: 0.8326 - val_loss: 2.7966 - val_accuracy: 0.4189\n",
            "Epoch 25/50\n",
            "7/7 [==============================] - 0s 15ms/step - loss: 0.5669 - accuracy: 0.7873 - val_loss: 2.7897 - val_accuracy: 0.4459\n",
            "Epoch 26/50\n",
            "7/7 [==============================] - 0s 14ms/step - loss: 0.5783 - accuracy: 0.7692 - val_loss: 2.6239 - val_accuracy: 0.4595\n",
            "Epoch 27/50\n",
            "7/7 [==============================] - 0s 14ms/step - loss: 0.4907 - accuracy: 0.8235 - val_loss: 2.6593 - val_accuracy: 0.4730\n",
            "Epoch 28/50\n",
            "7/7 [==============================] - 0s 14ms/step - loss: 0.4715 - accuracy: 0.8281 - val_loss: 2.7435 - val_accuracy: 0.3919\n",
            "Epoch 29/50\n",
            "7/7 [==============================] - 0s 14ms/step - loss: 0.4830 - accuracy: 0.8507 - val_loss: 2.7737 - val_accuracy: 0.4865\n",
            "Epoch 30/50\n",
            "7/7 [==============================] - 0s 13ms/step - loss: 0.4190 - accuracy: 0.8507 - val_loss: 2.9134 - val_accuracy: 0.4459\n",
            "Epoch 31/50\n",
            "7/7 [==============================] - 0s 13ms/step - loss: 0.3901 - accuracy: 0.8597 - val_loss: 3.0419 - val_accuracy: 0.4054\n",
            "Epoch 32/50\n",
            "7/7 [==============================] - 0s 14ms/step - loss: 0.3763 - accuracy: 0.8959 - val_loss: 3.1772 - val_accuracy: 0.3784\n",
            "Epoch 33/50\n",
            "7/7 [==============================] - 0s 15ms/step - loss: 0.3446 - accuracy: 0.8869 - val_loss: 3.0780 - val_accuracy: 0.3784\n",
            "Epoch 34/50\n",
            "7/7 [==============================] - 0s 16ms/step - loss: 0.3547 - accuracy: 0.8869 - val_loss: 3.2153 - val_accuracy: 0.4730\n",
            "Epoch 35/50\n",
            "7/7 [==============================] - 0s 15ms/step - loss: 0.3404 - accuracy: 0.8914 - val_loss: 3.3802 - val_accuracy: 0.4189\n",
            "Epoch 36/50\n",
            "7/7 [==============================] - 0s 13ms/step - loss: 0.3465 - accuracy: 0.8778 - val_loss: 3.2988 - val_accuracy: 0.4189\n",
            "Epoch 37/50\n",
            "7/7 [==============================] - 0s 13ms/step - loss: 0.3448 - accuracy: 0.8959 - val_loss: 3.2366 - val_accuracy: 0.4189\n",
            "Epoch 38/50\n",
            "7/7 [==============================] - 0s 13ms/step - loss: 0.3243 - accuracy: 0.9005 - val_loss: 3.1916 - val_accuracy: 0.4324\n",
            "Epoch 39/50\n",
            "7/7 [==============================] - 0s 14ms/step - loss: 0.3292 - accuracy: 0.8914 - val_loss: 3.2348 - val_accuracy: 0.4865\n",
            "Epoch 40/50\n",
            "7/7 [==============================] - 0s 14ms/step - loss: 0.2844 - accuracy: 0.9276 - val_loss: 3.4510 - val_accuracy: 0.4459\n",
            "Epoch 41/50\n",
            "7/7 [==============================] - 0s 13ms/step - loss: 0.3666 - accuracy: 0.8688 - val_loss: 3.5286 - val_accuracy: 0.4459\n",
            "Epoch 42/50\n",
            "7/7 [==============================] - 0s 13ms/step - loss: 0.2880 - accuracy: 0.9050 - val_loss: 3.1513 - val_accuracy: 0.4054\n",
            "Epoch 43/50\n",
            "7/7 [==============================] - 0s 15ms/step - loss: 0.3499 - accuracy: 0.8959 - val_loss: 3.1573 - val_accuracy: 0.4189\n",
            "Epoch 44/50\n",
            "7/7 [==============================] - 0s 14ms/step - loss: 0.3066 - accuracy: 0.9050 - val_loss: 3.5230 - val_accuracy: 0.4324\n",
            "Epoch 45/50\n",
            "7/7 [==============================] - 0s 14ms/step - loss: 0.2737 - accuracy: 0.9095 - val_loss: 3.6657 - val_accuracy: 0.4324\n",
            "Epoch 46/50\n",
            "7/7 [==============================] - 0s 13ms/step - loss: 0.2502 - accuracy: 0.9231 - val_loss: 3.6966 - val_accuracy: 0.4324\n",
            "Epoch 47/50\n",
            "7/7 [==============================] - 0s 14ms/step - loss: 0.3046 - accuracy: 0.9095 - val_loss: 3.5736 - val_accuracy: 0.4324\n",
            "Epoch 48/50\n",
            "7/7 [==============================] - 0s 13ms/step - loss: 0.2428 - accuracy: 0.9276 - val_loss: 3.3977 - val_accuracy: 0.4189\n",
            "Epoch 49/50\n",
            "7/7 [==============================] - 0s 13ms/step - loss: 0.2693 - accuracy: 0.9186 - val_loss: 3.4838 - val_accuracy: 0.5000\n",
            "Epoch 50/50\n",
            "7/7 [==============================] - 0s 13ms/step - loss: 0.2279 - accuracy: 0.9412 - val_loss: 3.5778 - val_accuracy: 0.4459\n",
            "3/3 [==============================] - 0s 6ms/step - loss: 3.0093 - accuracy: 0.4324\n",
            "Test Loss: 3.009272575378418, Test Accuracy: 0.4324324429035187\n"
          ]
        }
      ],
      "source": [
        "#@title 16.1: CNN Train the model\n",
        "history = model.fit(X_train, y_train, batch_size=32, epochs=50, validation_data=(X_val, y_val))\n",
        "\n",
        "# Evaluate the model on the test set\n",
        "test_loss, test_accuracy = model.evaluate(X_test, y_test)\n",
        "\n",
        "print(f\"Test Loss: {test_loss}, Test Accuracy: {test_accuracy}\")"
      ]
    },
    {
      "cell_type": "code",
      "execution_count": 83,
      "metadata": {
        "colab": {
          "base_uri": "https://localhost:8080/",
          "height": 860
        },
        "id": "rOHNmP42f_fF",
        "outputId": "1833335f-044a-4cc4-b6bc-112d8d7ef553"
      },
      "outputs": [
        {
          "output_type": "display_data",
          "data": {
            "text/plain": [
              "<Figure size 640x480 with 1 Axes>"
            ],
            "image/png": "[encoded data removed]"
          },
          "metadata": {}
        },
        {
          "output_type": "display_data",
          "data": {
            "text/plain": [
              "<Figure size 640x480 with 1 Axes>"
            ],
            "image/png": "[encoded data removed]"
          },
          "metadata": {}
        },
        {
          "output_type": "execute_result",
          "data": {
            "text/plain": [
              "<function __main__.plot_learning_curves(history)>"
            ]
          },
          "metadata": {},
          "execution_count": 83
        }
      ],
      "source": [
        "#@title 16.2: Plot history\n",
        "plot_learning_curves(history)"
      ]
    },
    {
      "cell_type": "markdown",
      "metadata": {
        "id": "M2Aayv53gJRv"
      },
      "source": [
        "Notes: As with the LSTM model that we built earlier, this CNN model's accuracy metric is not so good on the validation data, and the reason is that we do not have sufficient validation or test data for the model to generalize well on them, further contributing to the difference in accuracy between the training and validation sets.\n",
        "\n",
        "Assuming we are focusing more on optimizing the model loss, we will make a graph of the loss alone."
      ]
    },
    {
      "cell_type": "code",
      "execution_count": 84,
      "metadata": {
        "colab": {
          "base_uri": "https://localhost:8080/",
          "height": 291
        },
        "id": "Ac4HCR3RgLTn",
        "outputId": "1958b016-9029-4ee2-a21b-33de9687cdd8"
      },
      "outputs": [
        {
          "output_type": "display_data",
          "data": {
            "text/plain": [
              "<Figure size 1500x400 with 1 Axes>"
            ],
            "image/png": "[encoded data removed]"
          },
          "metadata": {}
        }
      ],
      "source": [
        "#@title 16.3: Plot of Loss\n",
        "history_df = pd.DataFrame(history.history)\n",
        "\n",
        "# Create the figure and axes\n",
        "fig, ax = plt.subplots(figsize=(15, 4), facecolor=\"#97BACB\")\n",
        "\n",
        "# Plotting the learning curve for loss\n",
        "ax.plot(history_df[\"loss\"], color=\"#444160\")\n",
        "\n",
        "# Set title and labels\n",
        "ax.set_title(\"Learning Plot of Model for Loss\")\n",
        "ax.set_ylabel(\"Training Loss\")\n",
        "ax.set_xlabel(\"Epochs\")\n",
        "\n",
        "# Show the plot\n",
        "plt.show()"
      ]
    },
    {
      "cell_type": "markdown",
      "metadata": {
        "id": "0-T62YxrggaO"
      },
      "source": [
        "Notes: This graph clearly shows how the model improved as the training progressed and losses continued to decrease to the terminal epoch."
      ]
    },
    {
      "cell_type": "code",
      "execution_count": 85,
      "metadata": {
        "colab": {
          "base_uri": "https://localhost:8080/",
          "height": 954
        },
        "id": "rs-vv7nTgi6V",
        "outputId": "3c25ba6c-82fc-483e-b586-c4ea18dbf645"
      },
      "outputs": [
        {
          "output_type": "stream",
          "name": "stdout",
          "text": [
            "3/3 [==============================] - 0s 4ms/step\n"
          ]
        },
        {
          "output_type": "display_data",
          "data": {
            "text/plain": [
              "<Figure size 800x600 with 2 Axes>"
            ],
            "image/png": "[encoded data removed]"
          },
          "metadata": {}
        },
        {
          "output_type": "stream",
          "name": "stdout",
          "text": [
            "Classification Report - CNN Model:\n",
            "               precision    recall  f1-score   support\n",
            "\n",
            "        bach       0.55      0.67      0.60         9\n",
            "      bartok       0.50      0.38      0.43         8\n",
            "        byrd       0.60      0.75      0.67         8\n",
            "      chopin       0.38      0.75      0.50         8\n",
            "      handel       0.00      0.00      0.00         8\n",
            "      hummel       0.71      0.56      0.63         9\n",
            " mendelssohn       0.25      0.25      0.25         8\n",
            "      mozart       0.25      0.25      0.25         8\n",
            "    schumann       0.40      0.25      0.31         8\n",
            "\n",
            "    accuracy                           0.43        74\n",
            "   macro avg       0.40      0.43      0.40        74\n",
            "weighted avg       0.41      0.43      0.41        74\n",
            "\n"
          ]
        }
      ],
      "source": [
        "#@title 16.4: Store the CNN model predictions in 'cnn_predictions' and plot matrix\n",
        "cnn_predictions = model.predict(X_test)\n",
        "\n",
        "# Convert the one-hot encoded predictions and true labels back to class indices\n",
        "cnn_pred_labels = np.argmax(cnn_predictions, axis=1)\n",
        "cnn_true_labels = np.argmax(y_test, axis=1)\n",
        "\n",
        "# Calculate the confusion matrix\n",
        "cnn_cm = confusion_matrix(cnn_true_labels, cnn_pred_labels)\n",
        "\n",
        "# Plot the confusion matrix\n",
        "plt.figure(figsize=(8, 6))\n",
        "sns.heatmap(cnn_cm, annot=True, fmt='d', cmap='Greens', xticklabels=encoder.classes_, yticklabels=encoder.classes_)\n",
        "plt.xlabel('Predicted Labels')\n",
        "plt.ylabel('True Labels')\n",
        "plt.title('Confusion Matrix - CNN Model')\n",
        "plt.show()\n",
        "\n",
        "# Print the classification report\n",
        "cnn_classification_report = classification_report(cnn_true_labels, cnn_pred_labels, target_names=encoder.classes_)\n",
        "print(\"Classification Report - CNN Model:\\n\", cnn_classification_report)"
      ]
    },
    {
      "cell_type": "markdown",
      "metadata": {
        "id": "wDTy8Bmqg4-9"
      },
      "source": [
        "Notes: We noticed that the test loss, validation loss, test accuracy, and validation accuracy parameters are almost identical. This could be because of the size of their data sets. To address the difference in training and validation accuracies, we can try augmenting the data by applying small, random transformations to the input data. This will might help improve the accuracy of the model."
      ]
    },
    {
      "cell_type": "markdown",
      "metadata": {
        "id": "Ig_9I2NWij3Y"
      },
      "source": [
        "# 17: CNN V2: Convert MIDI data to Spectrum visuals\n",
        "## Converting Midi Files to Wav files\n",
        "- Using fluidsynth and sound font files to convert midi files to wav files\n",
        "- Created a shell script to iterate through the directories"
      ]
    },
    {
      "cell_type": "markdown",
      "metadata": {
        "id": "cTn3iIZ0itbv"
      },
      "source": [
        "\n",
        "````\n",
        "#!/bin/bash\n",
        "\n",
        "# Set the location of your soundfont file\n",
        "sound_font=\"../TimGM6mb.sf2\"\n",
        "\n",
        "# Iterate over all directories in the current directory\n",
        "for dir in */\n",
        "do\n",
        "  # Go inside each directory\n",
        "  cd \"$dir\"\n",
        "\n",
        "  # Iterate over all .mid files in the current directory\n",
        "  for midi_file in *.mid\n",
        "  do\n",
        "    # Replace the file extension from .mid to .wav\n",
        "    wav_file=\"${midi_file%.mid}.wav\"\n",
        "\n",
        "    # Use fluidsynth to convert the midi file to a wav file\n",
        "    /mnt/host/c/tools/fluidsynth-2.3.2-win10-x64/bin/fluidsynth.exe -ni \"$sound_font\" \"$midi_file\" -F \"$wav_file\" -r 44100\n",
        "  done\n",
        "\n",
        "  # Go back to the parent directory\n",
        "  cd ..\n",
        "done\n",
        "\n",
        "````"
      ]
    },
    {
      "cell_type": "code",
      "execution_count": 86,
      "metadata": {
        "colab": {
          "base_uri": "https://localhost:8080/",
          "height": 391
        },
        "id": "HZA21X5ajK5c",
        "outputId": "4150e663-4c22-4127-c91d-ef83be28c0fa"
      },
      "outputs": [
        {
          "output_type": "error",
          "ename": "SystemError",
          "evalue": "ignored",
          "traceback": [
            "\u001b[0;31m---------------------------------------------------------------------------\u001b[0m",
            "\u001b[0;31mSystemError\u001b[0m                               Traceback (most recent call last)",
            "\u001b[0;32m<ipython-input-86-e2166e8ab663>\u001b[0m in \u001b[0;36m<cell line: 5>\u001b[0;34m()\u001b[0m\n\u001b[1;32m      3\u001b[0m \u001b[0;32mimport\u001b[0m \u001b[0mlibrosa\u001b[0m\u001b[0;34m\u001b[0m\u001b[0;34m\u001b[0m\u001b[0m\n\u001b[1;32m      4\u001b[0m \u001b[0maudio_data\u001b[0m \u001b[0;34m=\u001b[0m \u001b[0;34m\"train/bach/bach346.wav\"\u001b[0m\u001b[0;34m\u001b[0m\u001b[0;34m\u001b[0m\u001b[0m\n\u001b[0;32m----> 5\u001b[0;31m \u001b[0mlibrosa\u001b[0m\u001b[0;34m.\u001b[0m\u001b[0mload\u001b[0m\u001b[0;34m(\u001b[0m\u001b[0maudio_data\u001b[0m\u001b[0;34m)\u001b[0m\u001b[0;34m\u001b[0m\u001b[0;34m\u001b[0m\u001b[0m\n\u001b[0m\u001b[1;32m      6\u001b[0m \u001b[0;32mimport\u001b[0m \u001b[0mmatplotlib\u001b[0m\u001b[0;34m.\u001b[0m\u001b[0mpyplot\u001b[0m \u001b[0;32mas\u001b[0m \u001b[0mplt\u001b[0m\u001b[0;34m\u001b[0m\u001b[0;34m\u001b[0m\u001b[0m\n\u001b[1;32m      7\u001b[0m \u001b[0mx\u001b[0m \u001b[0;34m,\u001b[0m \u001b[0msr\u001b[0m \u001b[0;34m=\u001b[0m \u001b[0mlibrosa\u001b[0m\u001b[0;34m.\u001b[0m\u001b[0mload\u001b[0m\u001b[0;34m(\u001b[0m\u001b[0maudio_data\u001b[0m\u001b[0;34m)\u001b[0m\u001b[0;34m\u001b[0m\u001b[0;34m\u001b[0m\u001b[0m\n",
            "\u001b[0;32m/usr/local/lib/python3.10/dist-packages/lazy_loader/__init__.py\u001b[0m in \u001b[0;36m__getattr__\u001b[0;34m(name)\u001b[0m\n\u001b[1;32m     76\u001b[0m             \u001b[0msubmod_path\u001b[0m \u001b[0;34m=\u001b[0m \u001b[0;34mf\"{package_name}.{attr_to_modules[name]}\"\u001b[0m\u001b[0;34m\u001b[0m\u001b[0;34m\u001b[0m\u001b[0m\n\u001b[1;32m     77\u001b[0m             \u001b[0msubmod\u001b[0m \u001b[0;34m=\u001b[0m \u001b[0mimportlib\u001b[0m\u001b[0;34m.\u001b[0m\u001b[0mimport_module\u001b[0m\u001b[0;34m(\u001b[0m\u001b[0msubmod_path\u001b[0m\u001b[0;34m)\u001b[0m\u001b[0;34m\u001b[0m\u001b[0;34m\u001b[0m\u001b[0m\n\u001b[0;32m---> 78\u001b[0;31m             \u001b[0mattr\u001b[0m \u001b[0;34m=\u001b[0m \u001b[0mgetattr\u001b[0m\u001b[0;34m(\u001b[0m\u001b[0msubmod\u001b[0m\u001b[0;34m,\u001b[0m \u001b[0mname\u001b[0m\u001b[0;34m)\u001b[0m\u001b[0;34m\u001b[0m\u001b[0;34m\u001b[0m\u001b[0m\n\u001b[0m\u001b[1;32m     79\u001b[0m \u001b[0;34m\u001b[0m\u001b[0m\n\u001b[1;32m     80\u001b[0m             \u001b[0;31m# If the attribute lives in a file (module) with the same\u001b[0m\u001b[0;34m\u001b[0m\u001b[0;34m\u001b[0m\u001b[0m\n",
            "\u001b[0;32m/usr/local/lib/python3.10/dist-packages/lazy_loader/__init__.py\u001b[0m in \u001b[0;36m__getattr__\u001b[0;34m(name)\u001b[0m\n\u001b[1;32m     75\u001b[0m         \u001b[0;32melif\u001b[0m \u001b[0mname\u001b[0m \u001b[0;32min\u001b[0m \u001b[0mattr_to_modules\u001b[0m\u001b[0;34m:\u001b[0m\u001b[0;34m\u001b[0m\u001b[0;34m\u001b[0m\u001b[0m\n\u001b[1;32m     76\u001b[0m             \u001b[0msubmod_path\u001b[0m \u001b[0;34m=\u001b[0m \u001b[0;34mf\"{package_name}.{attr_to_modules[name]}\"\u001b[0m\u001b[0;34m\u001b[0m\u001b[0;34m\u001b[0m\u001b[0m\n\u001b[0;32m---> 77\u001b[0;31m             \u001b[0msubmod\u001b[0m \u001b[0;34m=\u001b[0m \u001b[0mimportlib\u001b[0m\u001b[0;34m.\u001b[0m\u001b[0mimport_module\u001b[0m\u001b[0;34m(\u001b[0m\u001b[0msubmod_path\u001b[0m\u001b[0;34m)\u001b[0m\u001b[0;34m\u001b[0m\u001b[0;34m\u001b[0m\u001b[0m\n\u001b[0m\u001b[1;32m     78\u001b[0m             \u001b[0mattr\u001b[0m \u001b[0;34m=\u001b[0m \u001b[0mgetattr\u001b[0m\u001b[0;34m(\u001b[0m\u001b[0msubmod\u001b[0m\u001b[0;34m,\u001b[0m \u001b[0mname\u001b[0m\u001b[0;34m)\u001b[0m\u001b[0;34m\u001b[0m\u001b[0;34m\u001b[0m\u001b[0m\n\u001b[1;32m     79\u001b[0m \u001b[0;34m\u001b[0m\u001b[0m\n",
            "\u001b[0;32m/usr/lib/python3.10/importlib/__init__.py\u001b[0m in \u001b[0;36mimport_module\u001b[0;34m(name, package)\u001b[0m\n\u001b[1;32m    124\u001b[0m                 \u001b[0;32mbreak\u001b[0m\u001b[0;34m\u001b[0m\u001b[0;34m\u001b[0m\u001b[0m\n\u001b[1;32m    125\u001b[0m             \u001b[0mlevel\u001b[0m \u001b[0;34m+=\u001b[0m \u001b[0;36m1\u001b[0m\u001b[0;34m\u001b[0m\u001b[0;34m\u001b[0m\u001b[0m\n\u001b[0;32m--> 126\u001b[0;31m     \u001b[0;32mreturn\u001b[0m \u001b[0m_bootstrap\u001b[0m\u001b[0;34m.\u001b[0m\u001b[0m_gcd_import\u001b[0m\u001b[0;34m(\u001b[0m\u001b[0mname\u001b[0m\u001b[0;34m[\u001b[0m\u001b[0mlevel\u001b[0m\u001b[0;34m:\u001b[0m\u001b[0;34m]\u001b[0m\u001b[0;34m,\u001b[0m \u001b[0mpackage\u001b[0m\u001b[0;34m,\u001b[0m \u001b[0mlevel\u001b[0m\u001b[0;34m)\u001b[0m\u001b[0;34m\u001b[0m\u001b[0;34m\u001b[0m\u001b[0m\n\u001b[0m\u001b[1;32m    127\u001b[0m \u001b[0;34m\u001b[0m\u001b[0m\n\u001b[1;32m    128\u001b[0m \u001b[0;34m\u001b[0m\u001b[0m\n",
            "\u001b[0;32m/usr/lib/python3.10/importlib/_bootstrap.py\u001b[0m in \u001b[0;36m_gcd_import\u001b[0;34m(name, package, level)\u001b[0m\n",
            "\u001b[0;32m/usr/lib/python3.10/importlib/_bootstrap.py\u001b[0m in \u001b[0;36m_find_and_load\u001b[0;34m(name, import_)\u001b[0m\n",
            "\u001b[0;32m/usr/lib/python3.10/importlib/_bootstrap.py\u001b[0m in \u001b[0;36m_find_and_load_unlocked\u001b[0;34m(name, import_)\u001b[0m\n",
            "\u001b[0;32m/usr/lib/python3.10/importlib/_bootstrap.py\u001b[0m in \u001b[0;36m_load_unlocked\u001b[0;34m(spec)\u001b[0m\n",
            "\u001b[0;32m/usr/lib/python3.10/importlib/_bootstrap_external.py\u001b[0m in \u001b[0;36mexec_module\u001b[0;34m(self, module)\u001b[0m\n",
            "\u001b[0;32m/usr/lib/python3.10/importlib/_bootstrap.py\u001b[0m in \u001b[0;36m_call_with_frames_removed\u001b[0;34m(f, *args, **kwds)\u001b[0m\n",
            "\u001b[0;32m/usr/local/lib/python3.10/dist-packages/librosa/core/audio.py\u001b[0m in \u001b[0;36m<module>\u001b[0;34m\u001b[0m\n\u001b[1;32m     15\u001b[0m \u001b[0;32mimport\u001b[0m \u001b[0mlazy_loader\u001b[0m \u001b[0;32mas\u001b[0m \u001b[0mlazy\u001b[0m\u001b[0;34m\u001b[0m\u001b[0;34m\u001b[0m\u001b[0m\n\u001b[1;32m     16\u001b[0m \u001b[0;34m\u001b[0m\u001b[0m\n\u001b[0;32m---> 17\u001b[0;31m \u001b[0;32mfrom\u001b[0m \u001b[0mnumba\u001b[0m \u001b[0;32mimport\u001b[0m \u001b[0mjit\u001b[0m\u001b[0;34m,\u001b[0m \u001b[0mstencil\u001b[0m\u001b[0;34m,\u001b[0m \u001b[0mguvectorize\u001b[0m\u001b[0;34m\u001b[0m\u001b[0;34m\u001b[0m\u001b[0m\n\u001b[0m\u001b[1;32m     18\u001b[0m \u001b[0;32mfrom\u001b[0m \u001b[0;34m.\u001b[0m\u001b[0mfft\u001b[0m \u001b[0;32mimport\u001b[0m \u001b[0mget_fftlib\u001b[0m\u001b[0;34m\u001b[0m\u001b[0;34m\u001b[0m\u001b[0m\n\u001b[1;32m     19\u001b[0m \u001b[0;32mfrom\u001b[0m \u001b[0;34m.\u001b[0m\u001b[0mconvert\u001b[0m \u001b[0;32mimport\u001b[0m \u001b[0mframes_to_samples\u001b[0m\u001b[0;34m,\u001b[0m \u001b[0mtime_to_samples\u001b[0m\u001b[0;34m\u001b[0m\u001b[0;34m\u001b[0m\u001b[0m\n",
            "\u001b[0;32m/usr/local/lib/python3.10/dist-packages/numba/__init__.py\u001b[0m in \u001b[0;36m<module>\u001b[0;34m\u001b[0m\n\u001b[1;32m     40\u001b[0m \u001b[0;34m\u001b[0m\u001b[0m\n\u001b[1;32m     41\u001b[0m \u001b[0;31m# Re-export vectorize decorators and the thread layer querying function\u001b[0m\u001b[0;34m\u001b[0m\u001b[0;34m\u001b[0m\u001b[0m\n\u001b[0;32m---> 42\u001b[0;31m from numba.np.ufunc import (vectorize, guvectorize, threading_layer,\n\u001b[0m\u001b[1;32m     43\u001b[0m                             \u001b[0mget_num_threads\u001b[0m\u001b[0;34m,\u001b[0m \u001b[0mset_num_threads\u001b[0m\u001b[0;34m,\u001b[0m\u001b[0;34m\u001b[0m\u001b[0;34m\u001b[0m\u001b[0m\n\u001b[1;32m     44\u001b[0m                             \u001b[0mset_parallel_chunksize\u001b[0m\u001b[0;34m,\u001b[0m \u001b[0mget_parallel_chunksize\u001b[0m\u001b[0;34m,\u001b[0m\u001b[0;34m\u001b[0m\u001b[0;34m\u001b[0m\u001b[0m\n",
            "\u001b[0;32m/usr/local/lib/python3.10/dist-packages/numba/np/ufunc/__init__.py\u001b[0m in \u001b[0;36m<module>\u001b[0;34m\u001b[0m\n\u001b[1;32m      1\u001b[0m \u001b[0;31m# -*- coding: utf-8 -*-\u001b[0m\u001b[0;34m\u001b[0m\u001b[0;34m\u001b[0m\u001b[0m\n\u001b[1;32m      2\u001b[0m \u001b[0;34m\u001b[0m\u001b[0m\n\u001b[0;32m----> 3\u001b[0;31m \u001b[0;32mfrom\u001b[0m \u001b[0mnumba\u001b[0m\u001b[0;34m.\u001b[0m\u001b[0mnp\u001b[0m\u001b[0;34m.\u001b[0m\u001b[0mufunc\u001b[0m\u001b[0;34m.\u001b[0m\u001b[0mdecorators\u001b[0m \u001b[0;32mimport\u001b[0m \u001b[0mVectorize\u001b[0m\u001b[0;34m,\u001b[0m \u001b[0mGUVectorize\u001b[0m\u001b[0;34m,\u001b[0m \u001b[0mvectorize\u001b[0m\u001b[0;34m,\u001b[0m \u001b[0mguvectorize\u001b[0m\u001b[0;34m\u001b[0m\u001b[0;34m\u001b[0m\u001b[0m\n\u001b[0m\u001b[1;32m      4\u001b[0m \u001b[0;32mfrom\u001b[0m \u001b[0mnumba\u001b[0m\u001b[0;34m.\u001b[0m\u001b[0mnp\u001b[0m\u001b[0;34m.\u001b[0m\u001b[0mufunc\u001b[0m\u001b[0;34m.\u001b[0m\u001b[0m_internal\u001b[0m \u001b[0;32mimport\u001b[0m \u001b[0mPyUFunc_None\u001b[0m\u001b[0;34m,\u001b[0m \u001b[0mPyUFunc_Zero\u001b[0m\u001b[0;34m,\u001b[0m \u001b[0mPyUFunc_One\u001b[0m\u001b[0;34m\u001b[0m\u001b[0;34m\u001b[0m\u001b[0m\n\u001b[1;32m      5\u001b[0m \u001b[0;32mfrom\u001b[0m \u001b[0mnumba\u001b[0m\u001b[0;34m.\u001b[0m\u001b[0mnp\u001b[0m\u001b[0;34m.\u001b[0m\u001b[0mufunc\u001b[0m \u001b[0;32mimport\u001b[0m \u001b[0m_internal\u001b[0m\u001b[0;34m,\u001b[0m \u001b[0marray_exprs\u001b[0m\u001b[0;34m\u001b[0m\u001b[0;34m\u001b[0m\u001b[0m\n",
            "\u001b[0;32m/usr/local/lib/python3.10/dist-packages/numba/np/ufunc/decorators.py\u001b[0m in \u001b[0;36m<module>\u001b[0;34m\u001b[0m\n\u001b[1;32m      1\u001b[0m \u001b[0;32mimport\u001b[0m \u001b[0minspect\u001b[0m\u001b[0;34m\u001b[0m\u001b[0;34m\u001b[0m\u001b[0m\n\u001b[1;32m      2\u001b[0m \u001b[0;34m\u001b[0m\u001b[0m\n\u001b[0;32m----> 3\u001b[0;31m \u001b[0;32mfrom\u001b[0m \u001b[0mnumba\u001b[0m\u001b[0;34m.\u001b[0m\u001b[0mnp\u001b[0m\u001b[0;34m.\u001b[0m\u001b[0mufunc\u001b[0m \u001b[0;32mimport\u001b[0m \u001b[0m_internal\u001b[0m\u001b[0;34m\u001b[0m\u001b[0;34m\u001b[0m\u001b[0m\n\u001b[0m\u001b[1;32m      4\u001b[0m \u001b[0;32mfrom\u001b[0m \u001b[0mnumba\u001b[0m\u001b[0;34m.\u001b[0m\u001b[0mnp\u001b[0m\u001b[0;34m.\u001b[0m\u001b[0mufunc\u001b[0m\u001b[0;34m.\u001b[0m\u001b[0mparallel\u001b[0m \u001b[0;32mimport\u001b[0m \u001b[0mParallelUFuncBuilder\u001b[0m\u001b[0;34m,\u001b[0m \u001b[0mParallelGUFuncBuilder\u001b[0m\u001b[0;34m\u001b[0m\u001b[0;34m\u001b[0m\u001b[0m\n\u001b[1;32m      5\u001b[0m \u001b[0;34m\u001b[0m\u001b[0m\n",
            "\u001b[0;31mSystemError\u001b[0m: initialization of _internal failed without raising an exception"
          ]
        }
      ],
      "source": [
        "#@title 17.1: Load related libraries\n",
        "### Sample of wav file and spectrograph\n",
        "import librosa\n",
        "audio_data = \"train/bach/bach346.wav\"\n",
        "librosa.load(audio_data)\n",
        "import matplotlib.pyplot as plt\n",
        "x , sr = librosa.load(audio_data)\n",
        "X = librosa.stft(x)\n",
        "Xdb = librosa.amplitude_to_db(abs(X))\n",
        "plt.figure(figsize=(14, 5))\n",
        "librosa.display.specshow(Xdb, sr=sr, x_axis='time', y_axis='hz')\n",
        "plt.colorbar()"
      ]
    },
    {
      "cell_type": "markdown",
      "metadata": {
        "id": "d56twvOtjK5c"
      },
      "source": [
        "## 17.2: Code to generate png files from wav files\n",
        "- code run once as wav files generated were very large and not stored in CM (github)\n",
        "- once the png files were generated they were stored as png files in CM (github)"
      ]
    },
    {
      "cell_type": "code",
      "execution_count": null,
      "metadata": {
        "id": "f-17ItA9jK5c"
      },
      "outputs": [],
      "source": [
        "from PIL import Image\n",
        "import numpy as np\n",
        "import os\n",
        "from skimage import transform\n",
        "import librosa\n",
        "import matplotlib.pyplot as plt\n",
        "from scipy import ndimage\n",
        "import matplotlib.pyplot as plt\n",
        "\n",
        "import re\n",
        "\n",
        "def change_extension(filename, new_extension):\n",
        "    return re.sub(r'\\.\\w+$', new_extension, filename)\n",
        "\n",
        "def generate_images(dataset_path):\n",
        "    X = []\n",
        "    y = []\n",
        "    composers = os.listdir(dataset_path)\n",
        "    for i, composer in enumerate(composers):\n",
        "        composer_path = os.path.join(dataset_path, composer)\n",
        "         # Check if it is a directory\n",
        "        if os.path.isdir(composer_path):\n",
        "            for filename in os.listdir(composer_path):\n",
        "                if filename.endswith('.wav'):\n",
        "                    print(dataset_path + \"/\" + composer + \"/\" + filename)\n",
        "                    %matplotlib inline\n",
        "                    x , sr = librosa.load(dataset_path + \"/\" + composer + \"/\" + filename)\n",
        "                    X = librosa.stft(x)\n",
        "                    img_filename = change_extension(filename, \".png\")\n",
        "\n",
        "                    # Generate spectrogram\n",
        "                    D = np.abs(X)\n",
        "                    # Resize to 224x224\n",
        "                    D_resized = ndimage.zoom(D, (224.0/D.shape[0], 224.0/D.shape[1]))\n",
        "\n",
        "                    # Generate the image\n",
        "                    plt.figure(figsize=(5, 5))\n",
        "                    librosa.display.specshow(librosa.amplitude_to_db(D_resized, ref=np.max), sr=sr, x_axis='time', y_axis='log')\n",
        "                    plt.tight_layout()\n",
        "                    plt.savefig(dataset_path + \"/\" + composer + \"/\" + img_filename)\n",
        "                    print(img_filename)\n",
        "                    plt.close()\n",
        ""
      ]
    },
    {
      "cell_type": "markdown",
      "metadata": {
        "id": "bmZztpkEjK5d"
      },
      "source": [
        "### 17.3: Read image files to generate numpy array to train CNN"
      ]
    },
    {
      "cell_type": "code",
      "execution_count": null,
      "metadata": {
        "id": "aKWkm4LdjK5d"
      },
      "outputs": [],
      "source": [
        "# Not used as the png files were already generated\n",
        "# generate_images('train')"
      ]
    },
    {
      "cell_type": "code",
      "execution_count": null,
      "metadata": {
        "id": "rHgARMA1jK5d"
      },
      "outputs": [],
      "source": [
        "def load_image(filename):\n",
        "    img = Image.open(filename)\n",
        "    img = img.convert('RGB')  # Convert image to RGB if it's not\n",
        "    return np.array(img)\n",
        "\n",
        "def load_dataset(dataset_path):\n",
        "    composers = os.listdir(dataset_path)\n",
        "    img_count = sum([len(files) for r, d, files in os.walk(dataset_path) if files])\n",
        "\n",
        "    X = np.zeros((img_count, 500, 500, 3), dtype=np.uint8)\n",
        "    y = np.zeros(img_count, dtype=np.int)\n",
        "\n",
        "    index = 0\n",
        "    for i, composer in enumerate(composers):\n",
        "        composer_path = os.path.join(dataset_path, composer)\n",
        "        # Check if it is a directory\n",
        "        if os.path.isdir(composer_path):\n",
        "            print(f'Processing {composer_path}')\n",
        "            for filename in os.listdir(composer_path):\n",
        "                if filename.endswith('.png'):\n",
        "                    # Load the image\n",
        "                    img_array = load_image(os.path.join(composer_path, filename))\n",
        "\n",
        "                    # Check if the image has the expected shape\n",
        "                    if img_array.shape != (500, 500, 3):\n",
        "                        print(f\"Skipping {filename} due to shape mismatch. Expected (500, 500, 3), got {img_array.shape}.\")\n",
        "                        continue\n",
        "\n",
        "                    # Append the image to the dataset\n",
        "                    X[index] = img_array\n",
        "                    # Append the composer's index to the labels\n",
        "                    y[index] = i\n",
        "                    index += 1\n",
        "\n",
        "    y = np.array(y)\n",
        "    print(y.shape)\n",
        "    print(X.shape)\n",
        "    return X[:index], y[:index] # Return only the part of the arrays that was filled\n",
        "\n",
        "\n"
      ]
    },
    {
      "cell_type": "code",
      "execution_count": null,
      "metadata": {
        "id": "WO4b0Tw6jK5d",
        "outputId": "0613dd02-10ae-4893-a6f3-3d0b30d3c22b"
      },
      "outputs": [
        {
          "name": "stderr",
          "output_type": "stream",
          "text": [
            "C:\\Users\\chris\\AppData\\Local\\Temp\\ipykernel_27616\\1515538692.py:11: DeprecationWarning: `np.int` is a deprecated alias for the builtin `int`. To silence this warning, use `int` by itself. Doing this will not modify any behavior and is safe. When replacing `np.int`, you may wish to use e.g. `np.int64` or `np.int32` to specify the precision. If you wish to review your current use, check the release note link for additional information.\n",
            "Deprecated in NumPy 1.20; for more details and guidance: https://numpy.org/devdocs/release/1.20.0-notes.html#deprecations\n",
            "  y = np.zeros(img_count, dtype=np.int)\n"
          ]
        },
        {
          "name": "stdout",
          "output_type": "stream",
          "text": [
            "Processing train\\bach\n",
            "Skipping bach343.png due to shape mismatch. Expected (500, 500, 3), got (500, 1400, 3).\n",
            "Processing train\\bartok\n",
            "Processing train\\byrd\n",
            "Processing train\\chopin\n",
            "Processing train\\handel\n",
            "Processing train\\hummel\n",
            "Processing train\\mendelssohn\n",
            "Processing train\\mozart\n",
            "Processing train\\schumann\n",
            "(752,)\n",
            "(752, 500, 500, 3)\n"
          ]
        }
      ],
      "source": [
        "# Load the dataset\n",
        "X, y = load_dataset('train')"
      ]
    },
    {
      "cell_type": "markdown",
      "metadata": {
        "id": "GrHUXrHljK5d"
      },
      "source": [
        "## 17.4: Create CNN-2 to check if using spectrographs will provide a better model"
      ]
    },
    {
      "cell_type": "code",
      "execution_count": null,
      "metadata": {
        "scrolled": false,
        "id": "-jCpEBxqjK5d",
        "outputId": "af29d8ca-0f20-40ea-f290-0ab766c122f4"
      },
      "outputs": [
        {
          "name": "stdout",
          "output_type": "stream",
          "text": [
            "Epoch 1/10\n",
            "10/10 [==============================] - 45s 3s/step - loss: 22.2864 - accuracy: 0.1190 - val_loss: 2.4631 - val_accuracy: 0.1216\n",
            "Epoch 2/10\n",
            "10/10 [==============================] - 32s 3s/step - loss: 2.1911 - accuracy: 0.1531 - val_loss: 2.4841 - val_accuracy: 0.0811\n",
            "Epoch 3/10\n",
            "10/10 [==============================] - 31s 3s/step - loss: 1.9691 - accuracy: 0.2517 - val_loss: 1.7227 - val_accuracy: 0.3514\n",
            "Epoch 4/10\n",
            "10/10 [==============================] - 31s 3s/step - loss: 1.5068 - accuracy: 0.4830 - val_loss: 1.7567 - val_accuracy: 0.2568\n",
            "Epoch 5/10\n",
            "10/10 [==============================] - 31s 3s/step - loss: 1.4346 - accuracy: 0.4728 - val_loss: 1.4142 - val_accuracy: 0.4459\n",
            "Epoch 6/10\n",
            "10/10 [==============================] - 31s 3s/step - loss: 0.8556 - accuracy: 0.7109 - val_loss: 1.1984 - val_accuracy: 0.5676\n",
            "Epoch 7/10\n",
            "10/10 [==============================] - 30s 3s/step - loss: 0.6289 - accuracy: 0.8129 - val_loss: 1.2843 - val_accuracy: 0.5135\n",
            "Epoch 8/10\n",
            "10/10 [==============================] - 31s 3s/step - loss: 0.3688 - accuracy: 0.9048 - val_loss: 2.7591 - val_accuracy: 0.4054\n",
            "Epoch 9/10\n",
            "10/10 [==============================] - 30s 3s/step - loss: 0.2911 - accuracy: 0.9150 - val_loss: 1.2021 - val_accuracy: 0.5270\n",
            "Epoch 10/10\n",
            "10/10 [==============================] - 30s 3s/step - loss: 0.1721 - accuracy: 0.9592 - val_loss: 1.7114 - val_accuracy: 0.5135\n"
          ]
        }
      ],
      "source": [
        "#Load related libraries\n",
        "from tensorflow.keras.models import Sequential\n",
        "from tensorflow.keras.layers import Conv2D, MaxPooling2D, Flatten, Dense\n",
        "from sklearn.model_selection import train_test_split\n",
        "import tensorflow as tf\n",
        "from tensorflow.keras.utils import to_categorical\n",
        "\n",
        "number_of_classes = 11  # Assuming you have 10 classes\n",
        "\n",
        "X = X/255.0\n",
        "\n",
        "# Split the dataset into a training and testing set\n",
        "X_train, X_test, y_train, y_test = train_test_split(X, y, test_size=0.2, random_state=42)\n",
        "\n",
        "y_train = y_train.reshape(-1)\n",
        "y_test = y_test.reshape(-1)\n",
        "\n",
        "# Create a CNN model\n",
        "model = Sequential([\n",
        "    Conv2D(32, (3, 3), activation='relu', input_shape=(500, 500, 3)),\n",
        "    MaxPooling2D((2, 2)),\n",
        "    Conv2D(64, (3, 3), activation='relu'),\n",
        "    MaxPooling2D((2, 2)),\n",
        "    Conv2D(64, (3, 3), activation='relu'),\n",
        "    Flatten(),\n",
        "    Dense(64, activation='relu'),\n",
        "    Dense(number_of_classes)  # Output layer without activation, since we're using from_logits=True\n",
        "])\n",
        "\n",
        "# Compile the model with sparse categorical cross-entropy loss\n",
        "model.compile(optimizer='adam',\n",
        "              loss=tf.keras.losses.SparseCategoricalCrossentropy(from_logits=True),\n",
        "              metrics=['accuracy'])\n",
        "\n",
        "# Train the model\n",
        "history = model.fit(X_train, y_train, epochs=10, validation_data=(X_test, y_test))\n"
      ]
    },
    {
      "cell_type": "code",
      "execution_count": null,
      "metadata": {
        "id": "TLWZNGgxjK5d",
        "outputId": "6bf0fa22-35d2-4368-8004-abb8b3965df9"
      },
      "outputs": [
        {
          "data": {
            "image/png": "[encoded data removed]",
            "text/plain": [
              "<Figure size 640x480 with 1 Axes>"
            ]
          },
          "metadata": {},
          "output_type": "display_data"
        },
        {
          "data": {
            "image/png": "[encoded data removed]",
            "text/plain": [
              "<Figure size 640x480 with 1 Axes>"
            ]
          },
          "metadata": {},
          "output_type": "display_data"
        },
        {
          "data": {
            "text/plain": [
              "<function __main__.plot_learning_curves(history)>"
            ]
          },
          "execution_count": 18,
          "metadata": {},
          "output_type": "execute_result"
        }
      ],
      "source": [
        "#@title 17.5: Plot the training and validation loss\n",
        "def plot_learning_curves(history):\n",
        "    plt.plot(history.history['loss'], label='Train Loss')\n",
        "    plt.plot(history.history['val_loss'], label='Validation Loss')\n",
        "    plt.legend()\n",
        "    plt.show()\n",
        "\n",
        "    # Plot the training and validation accuracy\n",
        "    plt.plot(history.history['accuracy'], label='Train Accuracy')\n",
        "    plt.plot(history.history['val_accuracy'], label='Validation Accuracy')\n",
        "    plt.legend()\n",
        "    plt.show()\n",
        "    return plot_learning_curves\n",
        "\n",
        "\n",
        "plot_learning_curves(history)"
      ]
    }
  ],
  "metadata": {
    "accelerator": "TPU",
    "colab": {
      "machine_shape": "hm",
      "provenance": []
    },
    "kernelspec": {
      "display_name": "Python 3 (ipykernel)",
      "language": "python",
      "name": "python3"
    },
    "language_info": {
      "codemirror_mode": {
        "name": "ipython",
        "version": 3
      },
      "file_extension": ".py",
      "mimetype": "text/x-python",
      "name": "python",
      "nbconvert_exporter": "python",
      "pygments_lexer": "ipython3",
      "version": "3.9.15"
    }
  },
  "nbformat": 4,
  "nbformat_minor": 0
}