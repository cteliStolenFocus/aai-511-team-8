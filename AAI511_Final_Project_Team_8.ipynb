{
  "cells": [
    {
      "cell_type": "markdown",
      "metadata": {
        "id": "view-in-github"
      },
      "source": [
        "<a href=\"https://colab.research.google.com/github/cteliStolenFocus/aai-511-team-8/blob/main/AAI511_Final_Project_Team_8.ipynb\" target=\"_parent\"><img src=\"https://colab.research.google.com/assets/colab-badge.svg\" alt=\"Open In Colab\"/></a>"
      ]
    },
    {
      "cell_type": "markdown",
      "metadata": {
        "id": "o0gVCFkZLlkQ"
      },
      "source": [
        "###########################################################################\n",
        "# AAI 511 - Final Project - Team 8\n",
        "## Predict a Composer with a MIDI Dataset\n",
        "Christopher Teli, Ikenna Opurum, Adam Graves\n",
        "###########################################################################"
      ]
    },
    {
      "cell_type": "markdown",
      "metadata": {
        "id": "LvBD5TcQMhL3"
      },
      "source": [
        "###Tasks Breakdown\n",
        "* Data Collection: Data is collected and provided to you.\n",
        "* Data Pre-processing: Convert the musical scores into a format suitable for deep learning models. This involves converting the musical scores into MIDI files and applying data augmentation techniques.\n",
        "* Feature Extraction: Extractfeatures from the MIDI files, such as notes, chords, and tempo, using music analysis tools.\n",
        "* Model Building: Develop a deep learning model using LSTM and CNN architectures to classify the musical scores according to the composer.\n",
        "* Model Training: Train the deep learning model using the pre-processed and feature-extracted data.\n",
        "* Model Evaluation: Evaluate the performance of the deep learning model using accuracy, precision, and recall metrics.\n",
        "* Model Optimization: Optimize the deep learning model by fine-tuning hyperparameters.\n",
        "\n",
        "\n",
        "\n"
      ]
    },
    {
      "cell_type": "code",
      "execution_count": null,
      "metadata": {
        "colab": {
          "base_uri": "https://localhost:8080/",
          "height": 1000
        },
        "id": "7-tagqZ18D4v",
        "outputId": "e7ec50b4-05fa-46b1-ebc6-c34fb9c94227"
      },
      "outputs": [
        {
          "output_type": "stream",
          "name": "stdout",
          "text": [
            "Collecting pretty_midi\n",
            "  Downloading pretty_midi-0.2.10.tar.gz (5.6 MB)\n",
            "\u001b[2K     \u001b[90m━━━━━━━━━━━━━━━━━━━━━━━━━━━━━━━━━━━━━━━━\u001b[0m \u001b[32m5.6/5.6 MB\u001b[0m \u001b[31m14.2 MB/s\u001b[0m eta \u001b[36m0:00:00\u001b[0m\n",
            "\u001b[?25h  Preparing metadata (setup.py) ... \u001b[?25l\u001b[?25hdone\n",
            "Requirement already satisfied: numpy>=1.7.0 in /usr/local/lib/python3.10/dist-packages (from pretty_midi) (1.25.2)\n",
            "Collecting mido>=1.1.16 (from pretty_midi)\n",
            "  Downloading mido-1.3.0-py3-none-any.whl (50 kB)\n",
            "\u001b[2K     \u001b[90m━━━━━━━━━━━━━━━━━━━━━━━━━━━━━━━━━━━━━━━━\u001b[0m \u001b[32m50.3/50.3 kB\u001b[0m \u001b[31m6.0 MB/s\u001b[0m eta \u001b[36m0:00:00\u001b[0m\n",
            "\u001b[?25hRequirement already satisfied: six in /usr/local/lib/python3.10/dist-packages (from pretty_midi) (1.16.0)\n",
            "Requirement already satisfied: packaging~=23.1 in /usr/local/lib/python3.10/dist-packages (from mido>=1.1.16->pretty_midi) (23.1)\n",
            "Building wheels for collected packages: pretty_midi\n",
            "  Building wheel for pretty_midi (setup.py) ... \u001b[?25l\u001b[?25hdone\n",
            "  Created wheel for pretty_midi: filename=pretty_midi-0.2.10-py3-none-any.whl size=5592285 sha256=2b4eb58bcce87d980975b116b56ac1a17aa8dc41a36f35750b4b4f8a64af3158\n",
            "  Stored in directory: /root/.cache/pip/wheels/cd/a5/30/7b8b7f58709f5150f67f98fde4b891ebf0be9ef07a8af49f25\n",
            "Successfully built pretty_midi\n",
            "Installing collected packages: mido, pretty_midi\n",
            "Successfully installed mido-1.3.0 pretty_midi-0.2.10\n",
            "Requirement already satisfied: librosa in /usr/local/lib/python3.10/dist-packages (0.10.0.post2)\n",
            "Requirement already satisfied: audioread>=2.1.9 in /usr/local/lib/python3.10/dist-packages (from librosa) (3.0.0)\n",
            "Requirement already satisfied: numpy!=1.22.0,!=1.22.1,!=1.22.2,>=1.20.3 in /usr/local/lib/python3.10/dist-packages (from librosa) (1.25.2)\n",
            "Requirement already satisfied: scipy>=1.2.0 in /usr/local/lib/python3.10/dist-packages (from librosa) (1.11.1)\n",
            "Requirement already satisfied: scikit-learn>=0.20.0 in /usr/local/lib/python3.10/dist-packages (from librosa) (1.2.2)\n",
            "Requirement already satisfied: joblib>=0.14 in /usr/local/lib/python3.10/dist-packages (from librosa) (1.3.2)\n",
            "Requirement already satisfied: decorator>=4.3.0 in /usr/local/lib/python3.10/dist-packages (from librosa) (4.4.2)\n",
            "Requirement already satisfied: numba>=0.51.0 in /usr/local/lib/python3.10/dist-packages (from librosa) (0.56.4)\n",
            "Requirement already satisfied: soundfile>=0.12.1 in /usr/local/lib/python3.10/dist-packages (from librosa) (0.12.1)\n",
            "Requirement already satisfied: pooch<1.7,>=1.0 in /usr/local/lib/python3.10/dist-packages (from librosa) (1.6.0)\n",
            "Requirement already satisfied: soxr>=0.3.2 in /usr/local/lib/python3.10/dist-packages (from librosa) (0.3.5)\n",
            "Requirement already satisfied: typing-extensions>=4.1.1 in /usr/local/lib/python3.10/dist-packages (from librosa) (4.7.1)\n",
            "Requirement already satisfied: lazy-loader>=0.1 in /usr/local/lib/python3.10/dist-packages (from librosa) (0.3)\n",
            "Requirement already satisfied: msgpack>=1.0 in /usr/local/lib/python3.10/dist-packages (from librosa) (1.0.5)\n",
            "Requirement already satisfied: llvmlite<0.40,>=0.39.0dev0 in /usr/local/lib/python3.10/dist-packages (from numba>=0.51.0->librosa) (0.39.1)\n",
            "Collecting numpy!=1.22.0,!=1.22.1,!=1.22.2,>=1.20.3 (from librosa)\n",
            "  Downloading numpy-1.23.5-cp310-cp310-manylinux_2_17_x86_64.manylinux2014_x86_64.whl (17.1 MB)\n",
            "\u001b[2K     \u001b[90m━━━━━━━━━━━━━━━━━━━━━━━━━━━━━━━━━━━━━━━━\u001b[0m \u001b[32m17.1/17.1 MB\u001b[0m \u001b[31m42.0 MB/s\u001b[0m eta \u001b[36m0:00:00\u001b[0m\n",
            "\u001b[?25hRequirement already satisfied: setuptools in /usr/local/lib/python3.10/dist-packages (from numba>=0.51.0->librosa) (67.7.2)\n",
            "Requirement already satisfied: appdirs>=1.3.0 in /usr/local/lib/python3.10/dist-packages (from pooch<1.7,>=1.0->librosa) (1.4.4)\n",
            "Requirement already satisfied: packaging>=20.0 in /usr/local/lib/python3.10/dist-packages (from pooch<1.7,>=1.0->librosa) (23.1)\n",
            "Requirement already satisfied: requests>=2.19.0 in /usr/local/lib/python3.10/dist-packages (from pooch<1.7,>=1.0->librosa) (2.31.0)\n",
            "Requirement already satisfied: threadpoolctl>=2.0.0 in /usr/local/lib/python3.10/dist-packages (from scikit-learn>=0.20.0->librosa) (3.2.0)\n",
            "Requirement already satisfied: cffi>=1.0 in /usr/local/lib/python3.10/dist-packages (from soundfile>=0.12.1->librosa) (1.15.1)\n",
            "Requirement already satisfied: pycparser in /usr/local/lib/python3.10/dist-packages (from cffi>=1.0->soundfile>=0.12.1->librosa) (2.21)\n",
            "Requirement already satisfied: charset-normalizer<4,>=2 in /usr/local/lib/python3.10/dist-packages (from requests>=2.19.0->pooch<1.7,>=1.0->librosa) (3.2.0)\n",
            "Requirement already satisfied: idna<4,>=2.5 in /usr/local/lib/python3.10/dist-packages (from requests>=2.19.0->pooch<1.7,>=1.0->librosa) (3.4)\n",
            "Requirement already satisfied: urllib3<3,>=1.21.1 in /usr/local/lib/python3.10/dist-packages (from requests>=2.19.0->pooch<1.7,>=1.0->librosa) (2.0.4)\n",
            "Requirement already satisfied: certifi>=2017.4.17 in /usr/local/lib/python3.10/dist-packages (from requests>=2.19.0->pooch<1.7,>=1.0->librosa) (2023.7.22)\n",
            "Installing collected packages: numpy\n",
            "  Attempting uninstall: numpy\n",
            "    Found existing installation: numpy 1.25.2\n",
            "    Uninstalling numpy-1.25.2:\n",
            "      Successfully uninstalled numpy-1.25.2\n",
            "\u001b[31mERROR: pip's dependency resolver does not currently take into account all the packages that are installed. This behaviour is the source of the following dependency conflicts.\n",
            "orbax-checkpoint 0.3.2 requires jax>=0.4.9, but you have jax 0.3.25 which is incompatible.\u001b[0m\u001b[31m\n",
            "\u001b[0mSuccessfully installed numpy-1.23.5\n"
          ]
        },
        {
          "output_type": "display_data",
          "data": {
            "application/vnd.colab-display-data+json": {
              "pip_warning": {
                "packages": [
                  "numpy"
                ]
              }
            }
          },
          "metadata": {}
        },
        {
          "output_type": "stream",
          "name": "stdout",
          "text": [
            "Requirement already satisfied: pydot in /usr/local/lib/python3.10/dist-packages (1.4.2)\n",
            "Requirement already satisfied: graphviz in /usr/local/lib/python3.10/dist-packages (0.20.1)\n",
            "Requirement already satisfied: pyparsing>=2.1.4 in /usr/local/lib/python3.10/dist-packages (from pydot) (3.0.9)\n"
          ]
        }
      ],
      "source": [
        "#Install library for loading a MIDI file\n",
        "!pip install pretty_midi\n",
        "!pip install librosa\n",
        "!pip install pydot graphviz"
      ]
    },
    {
      "cell_type": "code",
      "source": [
        "#if needed to mount a google drive for the data (our testing does)\n",
        "from google.colab import drive\n",
        "drive.mount('/content/drive')"
      ],
      "metadata": {
        "colab": {
          "base_uri": "https://localhost:8080/"
        },
        "id": "Wo37XAAEffvb",
        "outputId": "73e8cc65-4d62-43f6-9435-e988b536d3b7"
      },
      "execution_count": null,
      "outputs": [
        {
          "output_type": "stream",
          "name": "stdout",
          "text": [
            "Mounted at /content/drive\n"
          ]
        }
      ]
    },
    {
      "cell_type": "code",
      "execution_count": null,
      "metadata": {
        "id": "o7gBFOOFvRpL",
        "outputId": "3152ba6e-f6f5-4c72-87d6-1546b140a402"
      },
      "outputs": [
        {
          "name": "stderr",
          "output_type": "stream",
          "text": [
            "Cloning into 'aai-511-team-8'...\n",
            "Updating files:  61% (468/758)\n",
            "Updating files:  62% (470/758)\n",
            "Updating files:  63% (478/758)\n",
            "Updating files:  64% (486/758)\n",
            "Updating files:  65% (493/758)\n",
            "Updating files:  66% (501/758)\n",
            "Updating files:  67% (508/758)\n",
            "Updating files:  68% (516/758)\n",
            "Updating files:  69% (524/758)\n",
            "Updating files:  70% (531/758)\n",
            "Updating files:  71% (539/758)\n",
            "Updating files:  72% (546/758)\n",
            "Updating files:  73% (554/758)\n",
            "Updating files:  74% (561/758)\n",
            "Updating files:  75% (569/758)\n",
            "Updating files:  76% (577/758)\n",
            "Updating files:  77% (584/758)\n",
            "Updating files:  78% (592/758)\n",
            "Updating files:  79% (599/758)\n",
            "Updating files:  80% (607/758)\n",
            "Updating files:  81% (614/758)\n",
            "Updating files:  82% (622/758)\n",
            "Updating files:  83% (630/758)\n",
            "Updating files:  84% (637/758)\n",
            "Updating files:  85% (645/758)\n",
            "Updating files:  86% (652/758)\n",
            "Updating files:  87% (660/758)\n",
            "Updating files:  88% (668/758)\n",
            "Updating files:  89% (675/758)\n",
            "Updating files:  90% (683/758)\n",
            "Updating files:  91% (690/758)\n",
            "Updating files:  92% (698/758)\n",
            "Updating files:  93% (705/758)\n",
            "Updating files:  94% (713/758)\n",
            "Updating files:  95% (721/758)\n",
            "Updating files:  96% (728/758)\n",
            "Updating files:  97% (736/758)\n",
            "Updating files:  98% (743/758)\n",
            "Updating files:  99% (751/758)\n",
            "Updating files: 100% (758/758)\n",
            "Updating files: 100% (758/758), done.\n"
          ]
        }
      ],
      "source": [
        "#Reading data from github for the project\n",
        "!git clone https://github.com/cteliStolenFocus/aai-511-team-8"
      ]
    },
    {
      "cell_type": "code",
      "execution_count": null,
      "metadata": {
        "id": "faqJehvp8VXA"
      },
      "outputs": [],
      "source": [
        "#@title 1: Functions for Data Collection\n",
        "# Function for Feature extractions\n",
        "import os\n",
        "import glob\n",
        "import pretty_midi\n",
        "import numpy as np\n",
        "import matplotlib.pyplot as plt\n",
        "import pandas as pd\n",
        "# Ignore warnings\n",
        "import warnings\n",
        "warnings.filterwarnings('ignore')\n",
        "from sklearn.metrics import accuracy_score, precision_score, recall_score, f1_score\n",
        "import tensorflow as tf\n",
        "from tensorflow.keras import layers, models, optimizers\n",
        "from tensorflow.keras.preprocessing.image import ImageDataGenerator\n",
        "from sklearn.metrics import classification_report\n",
        "from keras import models, layers\n",
        "\n",
        "# Check if pickle file exists and use the file for dataset\n",
        "import pickle"
      ]
    },
    {
      "cell_type": "code",
      "execution_count": null,
      "metadata": {
        "id": "eBfDfcz97pCd"
      },
      "outputs": [],
      "source": [
        "#@title 2: Directory of MIDI files for Google Drive\n",
        "base_dir = '/content/drive/MyDrive/AAI-511/Load Data/Final' # Google Drive\n",
        "# base_dir in local machine\n",
        "#base_dir = 'train'\n",
        "\n",
        "# # Directory of MIDI files\n",
        "# base_dir = 'train'\n",
        "\n",
        "# Specify the path and filename of the pickle file\n",
        "# Since the pkl file exists, that means the data was processed and features extracted\n",
        "pickle_file_name = 'team8_composer_dataset.pkl'\n",
        "\n",
        "\n",
        "# #@title 2: Do Data Extraction (ETL) process\n",
        "# # Directory of MIDI files\n",
        "# # To support multiple developer environments we will set the base_dir accordingly\n",
        "# def environment_base_dir():\n",
        "#     try:\n",
        "#         # Check for Google Colab\n",
        "#         from google.colab import drive\n",
        "#         return \"/content/aai-511-team-8/train\"\n",
        "#     except ImportError:\n",
        "#         # Check for Jupyter Notebook\n",
        "#         print('Checking Jupyter notebook')\n",
        "#         try:\n",
        "#             cfg = get_ipython().config\n",
        "#             if cfg is not None:\n",
        "#                 return \"aai-511-team-8/train\"\n",
        "#         except:\n",
        "#             return None\n",
        "\n",
        "# base_dir = environment_base_dir()\n",
        "# print(f\"Using base_dir {base_dir}\")\n",
        "\n",
        "# # Specify the path and filename of the pickle file\n",
        "# # Since the pkl file exists, that means the data was processed and features extracted\n",
        "# pickle_file_name = 'team8_composer_dataset.pkl'"
      ]
    },
    {
      "cell_type": "code",
      "execution_count": null,
      "metadata": {
        "id": "S5J6I4eI9G8f"
      },
      "outputs": [],
      "source": [
        "#@title 2.1: Extract features using librosa for further feature extraction (ETL)\n",
        "#newer version of code\n",
        "def calculate_features(midi_file):\n",
        "    # Load MIDI file\n",
        "    midi_data = pretty_midi.PrettyMIDI(midi_file)\n",
        "\n",
        "    # Time interval for calculating features\n",
        "    interval = 1.0  # 1 second\n",
        "    times = np.arange(0, midi_data.get_end_time(), interval)\n",
        "\n",
        "    # Create arrays for storing time series data\n",
        "    pitch = np.zeros(len(times))\n",
        "    volume = np.zeros(len(times))\n",
        "    note_density = np.zeros(len(times))\n",
        "    tempo = np.zeros(len(times))\n",
        "\n",
        "    # Calculate time series data for each feature\n",
        "    for i, t in enumerate(times):\n",
        "        # Get notes that are playing at this time\n",
        "        notes = [note for note in midi_data.instruments[0].notes if note.start <= t < note.end]\n",
        "\n",
        "        # Calculate average pitch\n",
        "        if notes:\n",
        "            pitch[i] = np.mean([note.pitch for note in notes])\n",
        "\n",
        "        # Calculate note density (notes per second)\n",
        "        note_density[i] = len(notes) / interval\n",
        "\n",
        "        # Calculate average volume\n",
        "        if notes:\n",
        "            volume[i] = np.mean([note.velocity for note in notes])\n",
        "\n",
        "    # Calculate rhythmic complexity (variance in inter-onset intervals)\n",
        "    inter_onset_intervals = np.diff([note.start for note in midi_data.instruments[0].notes])\n",
        "    rhythmic_complexity = np.var(inter_onset_intervals)\n",
        "\n",
        "    # Calculate tempo for each moment in time\n",
        "    tempo_changes = midi_data.get_tempo_changes()\n",
        "    tempo = np.interp(times, tempo_changes[0], tempo_changes[1])\n",
        "\n",
        "    return times, pitch, note_density, volume, rhythmic_complexity, tempo"
      ]
    },
    {
      "cell_type": "code",
      "execution_count": null,
      "metadata": {
        "id": "DUZ4KIkH9Nkv"
      },
      "outputs": [],
      "source": [
        "#@title 2.2: Process composer data to df\n",
        "def process_composer_data():\n",
        "    # Initialize DataFrame\n",
        "    df = pd.DataFrame(columns=[\"Composer\",\"Times\", \"Pitch\", \"Note_Density\", \"Volume\",\n",
        "                               \"Rhythmic_Complexity\", \"Tempo\"])\n",
        "\n",
        "    # Iterate over all composer directories\n",
        "    for composer_dir in glob.glob(os.path.join(base_dir, '*')):\n",
        "        # Get the composer's name\n",
        "        composer_name = os.path.basename(composer_dir)\n",
        "        print(f\"Processing {composer_name} MIDI files...\")\n",
        "\n",
        "        # Iterate over all MIDI files in composer's directory\n",
        "        for midi_file in glob.glob(os.path.join(composer_dir, '*.mid')):\n",
        "            print(f\"Processing {midi_file}...\")\n",
        "            try:\n",
        "                times, pitch, note_density, volume, rhythmic_complexity, tempo = calculate_features(midi_file)\n",
        "                # Append to DataFrame\n",
        "                df = df.append({\"Composer\": composer_name, \"Times\": times, \"Pitch\": pitch,\n",
        "                                \"Note_Density\": note_density, \"Volume\": volume,\n",
        "                                \"Rhythmic_Complexity\": rhythmic_complexity,\n",
        "                                \"Tempo\": tempo},\n",
        "                               ignore_index=True)\n",
        "            except Exception as e:\n",
        "                print(f\"Error processing {midi_file}: {str(e)}\")\n",
        "\n",
        "    # Write the DataFrame to a pickle file\n",
        "    df.to_pickle(base_dir + \"/\" + pickle_file_name)\n",
        "\n",
        "    return df"
      ]
    },
    {
      "cell_type": "code",
      "execution_count": null,
      "metadata": {
        "colab": {
          "base_uri": "https://localhost:8080/"
        },
        "id": "ytI0Lz6H9SSe",
        "outputId": "46d02fb5-ae6b-4589-874c-6744ccb2df61"
      },
      "outputs": [
        {
          "output_type": "stream",
          "name": "stdout",
          "text": [
            "  Composer                                              Times  \\\n",
            "0     bach  [0.0, 1.0, 2.0, 3.0, 4.0, 5.0, 6.0, 7.0, 8.0, ...   \n",
            "1     bach  [0.0, 1.0, 2.0, 3.0, 4.0, 5.0, 6.0, 7.0, 8.0, ...   \n",
            "2     bach  [0.0, 1.0, 2.0, 3.0, 4.0, 5.0, 6.0, 7.0, 8.0, ...   \n",
            "3     bach  [0.0, 1.0, 2.0, 3.0, 4.0, 5.0, 6.0, 7.0, 8.0, ...   \n",
            "4     bach  [0.0, 1.0, 2.0, 3.0, 4.0, 5.0, 6.0, 7.0, 8.0, ...   \n",
            "\n",
            "                                               Pitch  \\\n",
            "0  [0.0, 0.0, 0.0, 0.0, 0.0, 0.0, 0.0, 0.0, 73.0,...   \n",
            "1  [0.0, 78.0, 78.0, 0.0, 66.0, 66.0, 0.0, 0.0, 6...   \n",
            "2  [0.0, 67.0, 43.0, 0.0, 67.0, 0.0, 43.0, 55.0, ...   \n",
            "3  [0.0, 0.0, 50.0, 74.0, 0.0, 74.0, 0.0, 74.0, 0...   \n",
            "4  [0.0, 63.0, 69.0, 0.0, 0.0, 69.0, 0.0, 45.0, 0...   \n",
            "\n",
            "                                        Note_Density  \\\n",
            "0  [0.0, 0.0, 0.0, 0.0, 0.0, 0.0, 0.0, 0.0, 1.0, ...   \n",
            "1  [0.0, 1.0, 1.0, 0.0, 1.0, 1.0, 0.0, 0.0, 1.0, ...   \n",
            "2  [0.0, 1.0, 1.0, 0.0, 1.0, 0.0, 1.0, 1.0, 0.0, ...   \n",
            "3  [0.0, 0.0, 1.0, 1.0, 0.0, 1.0, 0.0, 1.0, 0.0, ...   \n",
            "4  [0.0, 2.0, 1.0, 0.0, 0.0, 1.0, 0.0, 1.0, 0.0, ...   \n",
            "\n",
            "                                              Volume  Rhythmic_Complexity  \\\n",
            "0  [0.0, 0.0, 0.0, 0.0, 0.0, 0.0, 0.0, 0.0, 127.0...             4.609656   \n",
            "1  [0.0, 127.0, 127.0, 0.0, 127.0, 127.0, 0.0, 0....             1.625026   \n",
            "2  [0.0, 127.0, 127.0, 0.0, 127.0, 0.0, 127.0, 12...             2.137464   \n",
            "3  [0.0, 0.0, 127.0, 127.0, 0.0, 127.0, 0.0, 127....             1.291966   \n",
            "4  [0.0, 127.0, 127.0, 0.0, 0.0, 127.0, 0.0, 127....             0.866606   \n",
            "\n",
            "                                               Tempo  \n",
            "0  [120.0, 120.0, 120.0, 120.0, 120.0, 120.0, 120...  \n",
            "1  [120.0, 120.0, 120.0, 120.0, 120.0, 120.0, 120...  \n",
            "2  [120.0, 120.0, 120.0, 120.0, 120.0, 120.0, 120...  \n",
            "3  [120.0, 120.0, 120.0, 120.0, 120.0, 120.0, 120...  \n",
            "4  [120.0, 120.0, 120.0, 120.0, 120.0, 120.0, 120...  \n"
          ]
        }
      ],
      "source": [
        "#@title 2.3: Data Processing - Feature extraction\n",
        "\n",
        "pickle_file = base_dir + \"/\" + pickle_file_name\n",
        "# Check if the pickle file exists\n",
        "if not os.path.exists(pickle_file):\n",
        "    print(\"Music Data not Pickled, creating dataset using feature extract.\")\n",
        "    df = process_composer_data()\n",
        "else:\n",
        "    # Open the pickle file in binary mode and load the data\n",
        "    with open(pickle_file, 'rb') as file:\n",
        "        data = pickle.load(file)\n",
        "\n",
        "    # Create a DataFrame from the loaded data\n",
        "    df = pd.DataFrame(data)\n",
        "\n",
        "    # Now you have your DataFrame ready for use\n",
        "    print(df.head())"
      ]
    },
    {
      "cell_type": "code",
      "execution_count": null,
      "metadata": {
        "colab": {
          "base_uri": "https://localhost:8080/"
        },
        "id": "BueGo-wUUIqV",
        "outputId": "ba6c1fc1-36ee-44a8-b6a5-8506742fece9"
      },
      "outputs": [
        {
          "output_type": "stream",
          "name": "stdout",
          "text": [
            "  Composer                                              Times  \\\n",
            "0     bach  [0.0, 1.0, 2.0, 3.0, 4.0, 5.0, 6.0, 7.0, 8.0, ...   \n",
            "1     bach  [0.0, 1.0, 2.0, 3.0, 4.0, 5.0, 6.0, 7.0, 8.0, ...   \n",
            "2     bach  [0.0, 1.0, 2.0, 3.0, 4.0, 5.0, 6.0, 7.0, 8.0, ...   \n",
            "3     bach  [0.0, 1.0, 2.0, 3.0, 4.0, 5.0, 6.0, 7.0, 8.0, ...   \n",
            "4     bach  [0.0, 1.0, 2.0, 3.0, 4.0, 5.0, 6.0, 7.0, 8.0, ...   \n",
            "\n",
            "                                               Pitch  \\\n",
            "0  [0.0, 0.0, 0.0, 0.0, 0.0, 0.0, 0.0, 0.0, 73.0,...   \n",
            "1  [0.0, 78.0, 78.0, 0.0, 66.0, 66.0, 0.0, 0.0, 6...   \n",
            "2  [0.0, 67.0, 43.0, 0.0, 67.0, 0.0, 43.0, 55.0, ...   \n",
            "3  [0.0, 0.0, 50.0, 74.0, 0.0, 74.0, 0.0, 74.0, 0...   \n",
            "4  [0.0, 63.0, 69.0, 0.0, 0.0, 69.0, 0.0, 45.0, 0...   \n",
            "\n",
            "                                        Note_Density  \\\n",
            "0  [0.0, 0.0, 0.0, 0.0, 0.0, 0.0, 0.0, 0.0, 1.0, ...   \n",
            "1  [0.0, 1.0, 1.0, 0.0, 1.0, 1.0, 0.0, 0.0, 1.0, ...   \n",
            "2  [0.0, 1.0, 1.0, 0.0, 1.0, 0.0, 1.0, 1.0, 0.0, ...   \n",
            "3  [0.0, 0.0, 1.0, 1.0, 0.0, 1.0, 0.0, 1.0, 0.0, ...   \n",
            "4  [0.0, 2.0, 1.0, 0.0, 0.0, 1.0, 0.0, 1.0, 0.0, ...   \n",
            "\n",
            "                                              Volume  Rhythmic_Complexity  \\\n",
            "0  [0.0, 0.0, 0.0, 0.0, 0.0, 0.0, 0.0, 0.0, 127.0...             4.609656   \n",
            "1  [0.0, 127.0, 127.0, 0.0, 127.0, 127.0, 0.0, 0....             1.625026   \n",
            "2  [0.0, 127.0, 127.0, 0.0, 127.0, 0.0, 127.0, 12...             2.137464   \n",
            "3  [0.0, 0.0, 127.0, 127.0, 0.0, 127.0, 0.0, 127....             1.291966   \n",
            "4  [0.0, 127.0, 127.0, 0.0, 0.0, 127.0, 0.0, 127....             0.866606   \n",
            "\n",
            "                                               Tempo  \n",
            "0  [120.0, 120.0, 120.0, 120.0, 120.0, 120.0, 120...  \n",
            "1  [120.0, 120.0, 120.0, 120.0, 120.0, 120.0, 120...  \n",
            "2  [120.0, 120.0, 120.0, 120.0, 120.0, 120.0, 120...  \n",
            "3  [120.0, 120.0, 120.0, 120.0, 120.0, 120.0, 120...  \n",
            "4  [120.0, 120.0, 120.0, 120.0, 120.0, 120.0, 120...  \n",
            "<class 'pandas.core.frame.DataFrame'>\n",
            "RangeIndex: 369 entries, 0 to 368\n",
            "Data columns (total 7 columns):\n",
            " #   Column               Non-Null Count  Dtype  \n",
            "---  ------               --------------  -----  \n",
            " 0   Composer             369 non-null    object \n",
            " 1   Times                369 non-null    object \n",
            " 2   Pitch                369 non-null    object \n",
            " 3   Note_Density         369 non-null    object \n",
            " 4   Volume               369 non-null    object \n",
            " 5   Rhythmic_Complexity  369 non-null    float64\n",
            " 6   Tempo                369 non-null    object \n",
            "dtypes: float64(1), object(6)\n",
            "memory usage: 20.3+ KB\n",
            "None\n"
          ]
        }
      ],
      "source": [
        "#@title 2.4: Data Pre-processing - verifications\n",
        "print(df.head())\n",
        "print(df.info())"
      ]
    },
    {
      "cell_type": "code",
      "execution_count": null,
      "metadata": {
        "colab": {
          "base_uri": "https://localhost:8080/",
          "height": 337
        },
        "id": "HBTT8K_EWZGN",
        "outputId": "5acc19e5-0d85-423d-de46-333eb6d9f04d"
      },
      "outputs": [
        {
          "output_type": "execute_result",
          "data": {
            "text/plain": [
              "  Composer                                              Times  \\\n",
              "0     bach  [0.0, 1.0, 2.0, 3.0, 4.0, 5.0, 6.0, 7.0, 8.0, ...   \n",
              "1     bach  [0.0, 1.0, 2.0, 3.0, 4.0, 5.0, 6.0, 7.0, 8.0, ...   \n",
              "2     bach  [0.0, 1.0, 2.0, 3.0, 4.0, 5.0, 6.0, 7.0, 8.0, ...   \n",
              "3     bach  [0.0, 1.0, 2.0, 3.0, 4.0, 5.0, 6.0, 7.0, 8.0, ...   \n",
              "4     bach  [0.0, 1.0, 2.0, 3.0, 4.0, 5.0, 6.0, 7.0, 8.0, ...   \n",
              "\n",
              "                                               Pitch  \\\n",
              "0  [0.0, 0.0, 0.0, 0.0, 0.0, 0.0, 0.0, 0.0, 73.0,...   \n",
              "1  [0.0, 78.0, 78.0, 0.0, 66.0, 66.0, 0.0, 0.0, 6...   \n",
              "2  [0.0, 67.0, 43.0, 0.0, 67.0, 0.0, 43.0, 55.0, ...   \n",
              "3  [0.0, 0.0, 50.0, 74.0, 0.0, 74.0, 0.0, 74.0, 0...   \n",
              "4  [0.0, 63.0, 69.0, 0.0, 0.0, 69.0, 0.0, 45.0, 0...   \n",
              "\n",
              "                                        Note_Density  \\\n",
              "0  [0.0, 0.0, 0.0, 0.0, 0.0, 0.0, 0.0, 0.0, 1.0, ...   \n",
              "1  [0.0, 1.0, 1.0, 0.0, 1.0, 1.0, 0.0, 0.0, 1.0, ...   \n",
              "2  [0.0, 1.0, 1.0, 0.0, 1.0, 0.0, 1.0, 1.0, 0.0, ...   \n",
              "3  [0.0, 0.0, 1.0, 1.0, 0.0, 1.0, 0.0, 1.0, 0.0, ...   \n",
              "4  [0.0, 2.0, 1.0, 0.0, 0.0, 1.0, 0.0, 1.0, 0.0, ...   \n",
              "\n",
              "                                              Volume  Rhythmic_Complexity  \\\n",
              "0  [0.0, 0.0, 0.0, 0.0, 0.0, 0.0, 0.0, 0.0, 127.0...             4.609656   \n",
              "1  [0.0, 127.0, 127.0, 0.0, 127.0, 127.0, 0.0, 0....             1.625026   \n",
              "2  [0.0, 127.0, 127.0, 0.0, 127.0, 0.0, 127.0, 12...             2.137464   \n",
              "3  [0.0, 0.0, 127.0, 127.0, 0.0, 127.0, 0.0, 127....             1.291966   \n",
              "4  [0.0, 127.0, 127.0, 0.0, 0.0, 127.0, 0.0, 127....             0.866606   \n",
              "\n",
              "                                               Tempo  \n",
              "0  [120.0, 120.0, 120.0, 120.0, 120.0, 120.0, 120...  \n",
              "1  [120.0, 120.0, 120.0, 120.0, 120.0, 120.0, 120...  \n",
              "2  [120.0, 120.0, 120.0, 120.0, 120.0, 120.0, 120...  \n",
              "3  [120.0, 120.0, 120.0, 120.0, 120.0, 120.0, 120...  \n",
              "4  [120.0, 120.0, 120.0, 120.0, 120.0, 120.0, 120...  "
            ],
            "text/html": [
              "\n",
              "\n",
              "  <div id=\"df-d853bd01-739f-48f1-9147-c14a4a24bb20\">\n",
              "    <div class=\"colab-df-container\">\n",
              "      <div>\n",
              "<style scoped>\n",
              "    .dataframe tbody tr th:only-of-type {\n",
              "        vertical-align: middle;\n",
              "    }\n",
              "\n",
              "    .dataframe tbody tr th {\n",
              "        vertical-align: top;\n",
              "    }\n",
              "\n",
              "    .dataframe thead th {\n",
              "        text-align: right;\n",
              "    }\n",
              "</style>\n",
              "<table border=\"1\" class=\"dataframe\">\n",
              "  <thead>\n",
              "    <tr style=\"text-align: right;\">\n",
              "      <th></th>\n",
              "      <th>Composer</th>\n",
              "      <th>Times</th>\n",
              "      <th>Pitch</th>\n",
              "      <th>Note_Density</th>\n",
              "      <th>Volume</th>\n",
              "      <th>Rhythmic_Complexity</th>\n",
              "      <th>Tempo</th>\n",
              "    </tr>\n",
              "  </thead>\n",
              "  <tbody>\n",
              "    <tr>\n",
              "      <th>0</th>\n",
              "      <td>bach</td>\n",
              "      <td>[0.0, 1.0, 2.0, 3.0, 4.0, 5.0, 6.0, 7.0, 8.0, ...</td>\n",
              "      <td>[0.0, 0.0, 0.0, 0.0, 0.0, 0.0, 0.0, 0.0, 73.0,...</td>\n",
              "      <td>[0.0, 0.0, 0.0, 0.0, 0.0, 0.0, 0.0, 0.0, 1.0, ...</td>\n",
              "      <td>[0.0, 0.0, 0.0, 0.0, 0.0, 0.0, 0.0, 0.0, 127.0...</td>\n",
              "      <td>4.609656</td>\n",
              "      <td>[120.0, 120.0, 120.0, 120.0, 120.0, 120.0, 120...</td>\n",
              "    </tr>\n",
              "    <tr>\n",
              "      <th>1</th>\n",
              "      <td>bach</td>\n",
              "      <td>[0.0, 1.0, 2.0, 3.0, 4.0, 5.0, 6.0, 7.0, 8.0, ...</td>\n",
              "      <td>[0.0, 78.0, 78.0, 0.0, 66.0, 66.0, 0.0, 0.0, 6...</td>\n",
              "      <td>[0.0, 1.0, 1.0, 0.0, 1.0, 1.0, 0.0, 0.0, 1.0, ...</td>\n",
              "      <td>[0.0, 127.0, 127.0, 0.0, 127.0, 127.0, 0.0, 0....</td>\n",
              "      <td>1.625026</td>\n",
              "      <td>[120.0, 120.0, 120.0, 120.0, 120.0, 120.0, 120...</td>\n",
              "    </tr>\n",
              "    <tr>\n",
              "      <th>2</th>\n",
              "      <td>bach</td>\n",
              "      <td>[0.0, 1.0, 2.0, 3.0, 4.0, 5.0, 6.0, 7.0, 8.0, ...</td>\n",
              "      <td>[0.0, 67.0, 43.0, 0.0, 67.0, 0.0, 43.0, 55.0, ...</td>\n",
              "      <td>[0.0, 1.0, 1.0, 0.0, 1.0, 0.0, 1.0, 1.0, 0.0, ...</td>\n",
              "      <td>[0.0, 127.0, 127.0, 0.0, 127.0, 0.0, 127.0, 12...</td>\n",
              "      <td>2.137464</td>\n",
              "      <td>[120.0, 120.0, 120.0, 120.0, 120.0, 120.0, 120...</td>\n",
              "    </tr>\n",
              "    <tr>\n",
              "      <th>3</th>\n",
              "      <td>bach</td>\n",
              "      <td>[0.0, 1.0, 2.0, 3.0, 4.0, 5.0, 6.0, 7.0, 8.0, ...</td>\n",
              "      <td>[0.0, 0.0, 50.0, 74.0, 0.0, 74.0, 0.0, 74.0, 0...</td>\n",
              "      <td>[0.0, 0.0, 1.0, 1.0, 0.0, 1.0, 0.0, 1.0, 0.0, ...</td>\n",
              "      <td>[0.0, 0.0, 127.0, 127.0, 0.0, 127.0, 0.0, 127....</td>\n",
              "      <td>1.291966</td>\n",
              "      <td>[120.0, 120.0, 120.0, 120.0, 120.0, 120.0, 120...</td>\n",
              "    </tr>\n",
              "    <tr>\n",
              "      <th>4</th>\n",
              "      <td>bach</td>\n",
              "      <td>[0.0, 1.0, 2.0, 3.0, 4.0, 5.0, 6.0, 7.0, 8.0, ...</td>\n",
              "      <td>[0.0, 63.0, 69.0, 0.0, 0.0, 69.0, 0.0, 45.0, 0...</td>\n",
              "      <td>[0.0, 2.0, 1.0, 0.0, 0.0, 1.0, 0.0, 1.0, 0.0, ...</td>\n",
              "      <td>[0.0, 127.0, 127.0, 0.0, 0.0, 127.0, 0.0, 127....</td>\n",
              "      <td>0.866606</td>\n",
              "      <td>[120.0, 120.0, 120.0, 120.0, 120.0, 120.0, 120...</td>\n",
              "    </tr>\n",
              "  </tbody>\n",
              "</table>\n",
              "</div>\n",
              "      <button class=\"colab-df-convert\" onclick=\"convertToInteractive('df-d853bd01-739f-48f1-9147-c14a4a24bb20')\"\n",
              "              title=\"Convert this dataframe to an interactive table.\"\n",
              "              style=\"display:none;\">\n",
              "\n",
              "  <svg xmlns=\"http://www.w3.org/2000/svg\" height=\"24px\"viewBox=\"0 0 24 24\"\n",
              "       width=\"24px\">\n",
              "    <path d=\"M0 0h24v24H0V0z\" fill=\"none\"/>\n",
              "    <path d=\"M18.56 5.44l.94 2.06.94-2.06 2.06-.94-2.06-.94-.94-2.06-.94 2.06-2.06.94zm-11 1L8.5 8.5l.94-2.06 2.06-.94-2.06-.94L8.5 2.5l-.94 2.06-2.06.94zm10 10l.94 2.06.94-2.06 2.06-.94-2.06-.94-.94-2.06-.94 2.06-2.06.94z\"/><path d=\"M17.41 7.96l-1.37-1.37c-.4-.4-.92-.59-1.43-.59-.52 0-1.04.2-1.43.59L10.3 9.45l-7.72 7.72c-.78.78-.78 2.05 0 2.83L4 21.41c.39.39.9.59 1.41.59.51 0 1.02-.2 1.41-.59l7.78-7.78 2.81-2.81c.8-.78.8-2.07 0-2.86zM5.41 20L4 18.59l7.72-7.72 1.47 1.35L5.41 20z\"/>\n",
              "  </svg>\n",
              "      </button>\n",
              "\n",
              "\n",
              "\n",
              "    <div id=\"df-14fee080-6e3f-4fd0-a15f-fd8f89b2bcff\">\n",
              "      <button class=\"colab-df-quickchart\" onclick=\"quickchart('df-14fee080-6e3f-4fd0-a15f-fd8f89b2bcff')\"\n",
              "              title=\"Suggest charts.\"\n",
              "              style=\"display:none;\">\n",
              "\n",
              "<svg xmlns=\"http://www.w3.org/2000/svg\" height=\"24px\"viewBox=\"0 0 24 24\"\n",
              "     width=\"24px\">\n",
              "    <g>\n",
              "        <path d=\"M19 3H5c-1.1 0-2 .9-2 2v14c0 1.1.9 2 2 2h14c1.1 0 2-.9 2-2V5c0-1.1-.9-2-2-2zM9 17H7v-7h2v7zm4 0h-2V7h2v10zm4 0h-2v-4h2v4z\"/>\n",
              "    </g>\n",
              "</svg>\n",
              "      </button>\n",
              "    </div>\n",
              "\n",
              "<style>\n",
              "  .colab-df-quickchart {\n",
              "    background-color: #E8F0FE;\n",
              "    border: none;\n",
              "    border-radius: 50%;\n",
              "    cursor: pointer;\n",
              "    display: none;\n",
              "    fill: #1967D2;\n",
              "    height: 32px;\n",
              "    padding: 0 0 0 0;\n",
              "    width: 32px;\n",
              "  }\n",
              "\n",
              "  .colab-df-quickchart:hover {\n",
              "    background-color: #E2EBFA;\n",
              "    box-shadow: 0px 1px 2px rgba(60, 64, 67, 0.3), 0px 1px 3px 1px rgba(60, 64, 67, 0.15);\n",
              "    fill: #174EA6;\n",
              "  }\n",
              "\n",
              "  [theme=dark] .colab-df-quickchart {\n",
              "    background-color: #3B4455;\n",
              "    fill: #D2E3FC;\n",
              "  }\n",
              "\n",
              "  [theme=dark] .colab-df-quickchart:hover {\n",
              "    background-color: #434B5C;\n",
              "    box-shadow: 0px 1px 3px 1px rgba(0, 0, 0, 0.15);\n",
              "    filter: drop-shadow(0px 1px 2px rgba(0, 0, 0, 0.3));\n",
              "    fill: #FFFFFF;\n",
              "  }\n",
              "</style>\n",
              "\n",
              "    <script>\n",
              "      async function quickchart(key) {\n",
              "        const containerElement = document.querySelector('#' + key);\n",
              "        const charts = await google.colab.kernel.invokeFunction(\n",
              "            'suggestCharts', [key], {});\n",
              "      }\n",
              "    </script>\n",
              "\n",
              "      <script>\n",
              "\n",
              "function displayQuickchartButton(domScope) {\n",
              "  let quickchartButtonEl =\n",
              "    domScope.querySelector('#df-14fee080-6e3f-4fd0-a15f-fd8f89b2bcff button.colab-df-quickchart');\n",
              "  quickchartButtonEl.style.display =\n",
              "    google.colab.kernel.accessAllowed ? 'block' : 'none';\n",
              "}\n",
              "\n",
              "        displayQuickchartButton(document);\n",
              "      </script>\n",
              "      <style>\n",
              "    .colab-df-container {\n",
              "      display:flex;\n",
              "      flex-wrap:wrap;\n",
              "      gap: 12px;\n",
              "    }\n",
              "\n",
              "    .colab-df-convert {\n",
              "      background-color: #E8F0FE;\n",
              "      border: none;\n",
              "      border-radius: 50%;\n",
              "      cursor: pointer;\n",
              "      display: none;\n",
              "      fill: #1967D2;\n",
              "      height: 32px;\n",
              "      padding: 0 0 0 0;\n",
              "      width: 32px;\n",
              "    }\n",
              "\n",
              "    .colab-df-convert:hover {\n",
              "      background-color: #E2EBFA;\n",
              "      box-shadow: 0px 1px 2px rgba(60, 64, 67, 0.3), 0px 1px 3px 1px rgba(60, 64, 67, 0.15);\n",
              "      fill: #174EA6;\n",
              "    }\n",
              "\n",
              "    [theme=dark] .colab-df-convert {\n",
              "      background-color: #3B4455;\n",
              "      fill: #D2E3FC;\n",
              "    }\n",
              "\n",
              "    [theme=dark] .colab-df-convert:hover {\n",
              "      background-color: #434B5C;\n",
              "      box-shadow: 0px 1px 3px 1px rgba(0, 0, 0, 0.15);\n",
              "      filter: drop-shadow(0px 1px 2px rgba(0, 0, 0, 0.3));\n",
              "      fill: #FFFFFF;\n",
              "    }\n",
              "  </style>\n",
              "\n",
              "      <script>\n",
              "        const buttonEl =\n",
              "          document.querySelector('#df-d853bd01-739f-48f1-9147-c14a4a24bb20 button.colab-df-convert');\n",
              "        buttonEl.style.display =\n",
              "          google.colab.kernel.accessAllowed ? 'block' : 'none';\n",
              "\n",
              "        async function convertToInteractive(key) {\n",
              "          const element = document.querySelector('#df-d853bd01-739f-48f1-9147-c14a4a24bb20');\n",
              "          const dataTable =\n",
              "            await google.colab.kernel.invokeFunction('convertToInteractive',\n",
              "                                                     [key], {});\n",
              "          if (!dataTable) return;\n",
              "\n",
              "          const docLinkHtml = 'Like what you see? Visit the ' +\n",
              "            '<a target=\"_blank\" href=https://colab.research.google.com/notebooks/data_table.ipynb>data table notebook</a>'\n",
              "            + ' to learn more about interactive tables.';\n",
              "          element.innerHTML = '';\n",
              "          dataTable['output_type'] = 'display_data';\n",
              "          await google.colab.output.renderOutput(dataTable, element);\n",
              "          const docLink = document.createElement('div');\n",
              "          docLink.innerHTML = docLinkHtml;\n",
              "          element.appendChild(docLink);\n",
              "        }\n",
              "      </script>\n",
              "    </div>\n",
              "  </div>\n"
            ]
          },
          "metadata": {},
          "execution_count": 18
        }
      ],
      "source": [
        "#@title 2.5: Check df\n",
        "df.head()"
      ]
    },
    {
      "cell_type": "code",
      "execution_count": null,
      "metadata": {
        "colab": {
          "base_uri": "https://localhost:8080/"
        },
        "id": "YTVJ2qgQe2MH",
        "outputId": "b23b8f4e-57e5-4056-cac7-bf26a36193d6"
      },
      "outputs": [
        {
          "output_type": "stream",
          "name": "stdout",
          "text": [
            "bach           42\n",
            "bartok         41\n",
            "byrd           42\n",
            "chopin         41\n",
            "handel         41\n",
            "hummel         42\n",
            "mendelssohn    41\n",
            "mozart         41\n",
            "schumann       38\n",
            "Name: Composer, dtype: int64\n"
          ]
        }
      ],
      "source": [
        "#@title 2.6: Check composer names and Count the occurrences of each 'quality' value\n",
        "composer_counts = df['Composer'].value_counts()\n",
        "\n",
        "# Sort the count by 'quality' values\n",
        "sorted_composer_counts = composer_counts.sort_index()\n",
        "\n",
        "# Print the count for each 'quality' value\n",
        "print(sorted_composer_counts)"
      ]
    },
    {
      "cell_type": "code",
      "execution_count": null,
      "metadata": {
        "colab": {
          "base_uri": "https://localhost:8080/"
        },
        "id": "LuyNFPOUWf9L",
        "outputId": "81b11575-06ff-49fb-de3b-348e977347ae"
      },
      "outputs": [
        {
          "output_type": "stream",
          "name": "stdout",
          "text": [
            "(369, 7)\n",
            "       Rhythmic_Complexity\n",
            "count           369.000000\n",
            "mean              4.887834\n",
            "std              27.596210\n",
            "min               0.000153\n",
            "25%               0.111875\n",
            "50%               0.529536\n",
            "75%               1.486953\n",
            "max             356.946073\n"
          ]
        }
      ],
      "source": [
        "#@title 2.7: Check on df shape and info\n",
        "print(df.shape)\n",
        "print(df.describe())"
      ]
    },
    {
      "cell_type": "code",
      "execution_count": null,
      "metadata": {
        "id": "daBzwP08BNgH"
      },
      "outputs": [],
      "source": [
        "#@title 3: Preparing the data for LSTM\n",
        "#Load related libraries\n",
        "from sklearn.preprocessing import LabelEncoder\n",
        "from sklearn.model_selection import train_test_split\n",
        "from keras.utils import np_utils\n",
        "\n",
        "# Convert all other features to have an extra dimension for LSTM\n",
        "def transform_series(series, num_steps):\n",
        "    # Reshape series to (samples, time_steps, features)\n",
        "    X = np.zeros((len(series), num_steps, 1))\n",
        "    for i in range(len(series)):\n",
        "        X[i,:,0] = series.iloc[i][:num_steps]\n",
        "    return X"
      ]
    },
    {
      "cell_type": "code",
      "execution_count": null,
      "metadata": {
        "id": "RQUUzbbuWmPb"
      },
      "outputs": [],
      "source": [
        "#@title 3.1: Split train and test data sets (80-20)\n",
        "# Using stratify to ensure the datasets have same prorportions of each composer as original dataset\n",
        "df_train_val, df_test = train_test_split(df, test_size=0.2, random_state=42, stratify=df['Composer'])\n",
        "\n",
        "# Second, we separate the remaining data into the train and validation sets (75-25)\n",
        "df_train, df_val = train_test_split(df_train_val, test_size=0.25, random_state=42, stratify=df_train_val['Composer'])\n",
        "\n",
        "# The train/val/test split is now 60%/20%/20%\n",
        "\n",
        "# Encode the labels\n",
        "encoder = LabelEncoder()\n",
        "encoder.fit(df['Composer'])  # Fit on the whole dataset\n",
        "\n",
        "# Transform the labels to one-hot encoded form for each subset\n",
        "y_train = np_utils.to_categorical(encoder.transform(df_train['Composer']))\n",
        "y_val = np_utils.to_categorical(encoder.transform(df_val['Composer']))\n",
        "y_test = np_utils.to_categorical(encoder.transform(df_test['Composer']))"
      ]
    },
    {
      "cell_type": "code",
      "execution_count": null,
      "metadata": {
        "id": "VMS5rtnjWrcb"
      },
      "outputs": [],
      "source": [
        "#@title 3.2: Apply transform_series on each feature for each subset\n",
        "def prepare_data(df, num_steps):\n",
        "    pitch = transform_series(df['Pitch'], num_steps)\n",
        "    note_density = transform_series(df['Note_Density'], num_steps)\n",
        "    volume = transform_series(df['Volume'], num_steps)\n",
        "    rhythmic_complexity = np.array([df['Rhythmic_Complexity'].values]*num_steps).T[:,:,np.newaxis]\n",
        "    tempo = transform_series(df['Tempo'], num_steps)\n",
        "\n",
        "    X = np.concatenate([pitch, note_density, volume, rhythmic_complexity, tempo], axis=-1)\n",
        "    return X\n",
        "\n",
        "num_steps = 27\n",
        "X_train = prepare_data(df_train, num_steps)\n",
        "X_val = prepare_data(df_val, num_steps)\n",
        "X_test = prepare_data(df_test, num_steps)"
      ]
    },
    {
      "cell_type": "code",
      "execution_count": null,
      "metadata": {
        "colab": {
          "base_uri": "https://localhost:8080/"
        },
        "id": "yiqXSyMiUiPL",
        "outputId": "07204d7a-6cc1-400c-c33e-3e498ba1b200"
      },
      "outputs": [
        {
          "output_type": "stream",
          "name": "stdout",
          "text": [
            "9\n",
            "(74, 27, 5)\n",
            "[[0. 0. 0. ... 0. 0. 0.]\n",
            " [0. 0. 0. ... 0. 0. 0.]\n",
            " [1. 0. 0. ... 0. 0. 0.]\n",
            " ...\n",
            " [0. 0. 0. ... 0. 0. 1.]\n",
            " [0. 0. 0. ... 0. 0. 0.]\n",
            " [0. 0. 0. ... 0. 0. 0.]]\n"
          ]
        }
      ],
      "source": [
        "#@title 3.3: Validate shapes\n",
        "print(y_train.shape[1])\n",
        "print(X_val.shape)\n",
        "print(y_train)"
      ]
    },
    {
      "cell_type": "code",
      "execution_count": null,
      "metadata": {
        "colab": {
          "base_uri": "https://localhost:8080/"
        },
        "id": "qCoSwJHbW0WF",
        "outputId": "5ade576f-d124-4924-d1b0-f216eac8e2fa"
      },
      "outputs": [
        {
          "output_type": "execute_result",
          "data": {
            "text/plain": [
              "(221, 27, 5)"
            ]
          },
          "metadata": {},
          "execution_count": 97
        }
      ],
      "source": [
        "#@title 3.4: X_Train shape validation\n",
        "X_train.shape"
      ]
    },
    {
      "cell_type": "markdown",
      "metadata": {
        "id": "14YXhrfgk4m7"
      },
      "source": [
        "Notes: X_train contains 221 samples, 27 time_steps and 5 features"
      ]
    },
    {
      "cell_type": "code",
      "execution_count": null,
      "metadata": {
        "id": "Pz65JaV3jc42"
      },
      "outputs": [],
      "source": [
        "#@title 3.5v: Reshape the input data to make it 2D\n",
        "X_train_reshaped = X_train.reshape(X_train.shape[0], -1)\n",
        "X_val_reshaped = X_val.reshape(X_val.shape[0], -1)\n",
        "X_test_reshaped = X_test.reshape(X_test.shape[0], -1)"
      ]
    },
    {
      "cell_type": "code",
      "execution_count": null,
      "metadata": {
        "id": "kPBNT4yqjgHV"
      },
      "outputs": [],
      "source": [
        "#@title 3.6v: Scale the data using StandardScaler\n",
        "from sklearn.preprocessing import LabelEncoder, StandardScaler\n",
        "scaler = StandardScaler()\n",
        "X_train_scaled = scaler.fit_transform(X_train_reshaped)\n",
        "X_val_scaled = scaler.transform(X_val_reshaped)\n",
        "X_test_scaled = scaler.transform(X_test_reshaped)"
      ]
    },
    {
      "cell_type": "markdown",
      "metadata": {
        "id": "L65x2w6nwUlt"
      },
      "source": [
        "#Build an LSTM Model (Ver.1)"
      ]
    },
    {
      "cell_type": "code",
      "execution_count": null,
      "metadata": {
        "colab": {
          "base_uri": "https://localhost:8080/"
        },
        "id": "djnpay4UBQpP",
        "outputId": "ba8da605-c910-4f31-bcc0-ab43564c18aa"
      },
      "outputs": [
        {
          "output_type": "stream",
          "name": "stdout",
          "text": [
            "Model: \"sequential_19\"\n",
            "_________________________________________________________________\n",
            " Layer (type)                Output Shape              Param #   \n",
            "=================================================================\n",
            " lstm_47 (LSTM)              (None, 50)                11200     \n",
            "                                                                 \n",
            " dense_21 (Dense)            (None, 9)                 459       \n",
            "                                                                 \n",
            "=================================================================\n",
            "Total params: 11,659\n",
            "Trainable params: 11,659\n",
            "Non-trainable params: 0\n",
            "_________________________________________________________________\n"
          ]
        }
      ],
      "source": [
        "#@title 4v: LSTM Model Building V1 (One Layer)\n",
        "from tensorflow.keras.models import Sequential\n",
        "from tensorflow.keras.layers import LSTM, Dropout, Dense\n",
        "\n",
        "num_classes = y_train.shape[1]\n",
        "num_features = 5\n",
        "model = Sequential([\n",
        "    LSTM(50, activation='relu', input_shape=(num_steps, num_features)),\n",
        "    Dense(num_classes, activation='softmax')\n",
        "])\n",
        "\n",
        "model.compile(optimizer='adam', loss='categorical_crossentropy', metrics=['accuracy'])\n",
        "\n",
        "# Print a summary of the model\n",
        "model.summary()"
      ]
    },
    {
      "cell_type": "code",
      "execution_count": null,
      "metadata": {
        "colab": {
          "base_uri": "https://localhost:8080/"
        },
        "id": "J4QZJCYlBYm_",
        "outputId": "210ff32a-1fba-4581-c4aa-26396381ed06"
      },
      "outputs": [
        {
          "output_type": "stream",
          "name": "stdout",
          "text": [
            "Epoch 1/50\n",
            "7/7 [==============================] - 2s 64ms/step - loss: 2.2547 - accuracy: 0.1312 - val_loss: 2.3025 - val_accuracy: 0.1081\n",
            "Epoch 2/50\n",
            "7/7 [==============================] - 0s 19ms/step - loss: 2.1417 - accuracy: 0.1584 - val_loss: 2.3461 - val_accuracy: 0.1216\n",
            "Epoch 3/50\n",
            "7/7 [==============================] - 0s 19ms/step - loss: 2.0926 - accuracy: 0.1991 - val_loss: 2.7428 - val_accuracy: 0.1351\n",
            "Epoch 4/50\n",
            "7/7 [==============================] - 0s 19ms/step - loss: 2.0270 - accuracy: 0.2353 - val_loss: 4.0159 - val_accuracy: 0.1757\n",
            "Epoch 5/50\n",
            "7/7 [==============================] - 0s 19ms/step - loss: 1.9513 - accuracy: 0.2805 - val_loss: 3.9532 - val_accuracy: 0.1757\n",
            "Epoch 6/50\n",
            "7/7 [==============================] - 0s 18ms/step - loss: 1.9368 - accuracy: 0.3032 - val_loss: 4.1216 - val_accuracy: 0.2027\n",
            "Epoch 7/50\n",
            "7/7 [==============================] - 0s 18ms/step - loss: 2.0618 - accuracy: 0.3303 - val_loss: 4.2791 - val_accuracy: 0.2162\n",
            "Epoch 8/50\n",
            "7/7 [==============================] - 0s 18ms/step - loss: 1.8088 - accuracy: 0.3710 - val_loss: 2.9954 - val_accuracy: 0.2027\n",
            "Epoch 9/50\n",
            "7/7 [==============================] - 0s 19ms/step - loss: 1.7893 - accuracy: 0.4072 - val_loss: 2.7343 - val_accuracy: 0.2432\n",
            "Epoch 10/50\n",
            "7/7 [==============================] - 0s 18ms/step - loss: 1.7385 - accuracy: 0.4434 - val_loss: 2.6560 - val_accuracy: 0.2432\n",
            "Epoch 11/50\n",
            "7/7 [==============================] - 0s 17ms/step - loss: 1.6933 - accuracy: 0.4887 - val_loss: 2.7368 - val_accuracy: 0.2838\n",
            "Epoch 12/50\n",
            "7/7 [==============================] - 0s 18ms/step - loss: 1.5863 - accuracy: 0.4706 - val_loss: 2.8207 - val_accuracy: 0.2838\n",
            "Epoch 13/50\n",
            "7/7 [==============================] - 0s 18ms/step - loss: 1.5885 - accuracy: 0.4570 - val_loss: 3.5780 - val_accuracy: 0.3108\n",
            "Epoch 14/50\n",
            "7/7 [==============================] - 0s 17ms/step - loss: 1.3728 - accuracy: 0.4842 - val_loss: 8.8919 - val_accuracy: 0.3243\n",
            "Epoch 15/50\n",
            "7/7 [==============================] - 0s 17ms/step - loss: 1.3273 - accuracy: 0.4796 - val_loss: 8.5782 - val_accuracy: 0.3514\n",
            "Epoch 16/50\n",
            "7/7 [==============================] - 0s 18ms/step - loss: 1.2934 - accuracy: 0.5023 - val_loss: 9.6602 - val_accuracy: 0.3649\n",
            "Epoch 17/50\n",
            "7/7 [==============================] - 0s 17ms/step - loss: 1.2856 - accuracy: 0.5204 - val_loss: 4.6698 - val_accuracy: 0.3649\n",
            "Epoch 18/50\n",
            "7/7 [==============================] - 0s 18ms/step - loss: 1.2517 - accuracy: 0.5294 - val_loss: 2.9888 - val_accuracy: 0.3784\n",
            "Epoch 19/50\n",
            "7/7 [==============================] - 0s 18ms/step - loss: 1.1943 - accuracy: 0.5249 - val_loss: 2.4711 - val_accuracy: 0.4054\n",
            "Epoch 20/50\n",
            "7/7 [==============================] - 0s 18ms/step - loss: 1.1779 - accuracy: 0.5385 - val_loss: 3.4585 - val_accuracy: 0.3919\n",
            "Epoch 21/50\n",
            "7/7 [==============================] - 0s 18ms/step - loss: 1.1608 - accuracy: 0.5249 - val_loss: 3.6865 - val_accuracy: 0.3919\n",
            "Epoch 22/50\n",
            "7/7 [==============================] - 0s 17ms/step - loss: 1.1474 - accuracy: 0.5475 - val_loss: 3.3649 - val_accuracy: 0.4054\n",
            "Epoch 23/50\n",
            "7/7 [==============================] - 0s 18ms/step - loss: 1.1561 - accuracy: 0.5701 - val_loss: 3.5529 - val_accuracy: 0.3919\n",
            "Epoch 24/50\n",
            "7/7 [==============================] - 0s 18ms/step - loss: 1.1311 - accuracy: 0.5385 - val_loss: 3.6322 - val_accuracy: 0.3919\n",
            "Epoch 25/50\n",
            "7/7 [==============================] - 0s 16ms/step - loss: 1.1087 - accuracy: 0.5520 - val_loss: 4.1883 - val_accuracy: 0.4324\n",
            "Epoch 26/50\n",
            "7/7 [==============================] - 0s 17ms/step - loss: 1.0982 - accuracy: 0.5520 - val_loss: 4.5481 - val_accuracy: 0.4189\n",
            "Epoch 27/50\n",
            "7/7 [==============================] - 0s 17ms/step - loss: 1.0785 - accuracy: 0.5928 - val_loss: 3.9216 - val_accuracy: 0.4189\n",
            "Epoch 28/50\n",
            "7/7 [==============================] - 0s 16ms/step - loss: 1.0883 - accuracy: 0.5566 - val_loss: 4.0368 - val_accuracy: 0.4324\n",
            "Epoch 29/50\n",
            "7/7 [==============================] - 0s 17ms/step - loss: 1.0577 - accuracy: 0.5837 - val_loss: 3.3824 - val_accuracy: 0.4324\n",
            "Epoch 30/50\n",
            "7/7 [==============================] - 0s 17ms/step - loss: 1.0699 - accuracy: 0.5792 - val_loss: 4.0805 - val_accuracy: 0.4189\n",
            "Epoch 31/50\n",
            "7/7 [==============================] - 0s 18ms/step - loss: 1.1354 - accuracy: 0.5882 - val_loss: 3.9389 - val_accuracy: 0.4054\n",
            "Epoch 32/50\n",
            "7/7 [==============================] - 0s 17ms/step - loss: 1.0641 - accuracy: 0.5475 - val_loss: 3.8736 - val_accuracy: 0.4189\n",
            "Epoch 33/50\n",
            "7/7 [==============================] - 0s 17ms/step - loss: 1.0252 - accuracy: 0.5747 - val_loss: 3.2378 - val_accuracy: 0.4459\n",
            "Epoch 34/50\n",
            "7/7 [==============================] - 0s 17ms/step - loss: 0.9952 - accuracy: 0.5882 - val_loss: 5.6673 - val_accuracy: 0.4324\n",
            "Epoch 35/50\n",
            "7/7 [==============================] - 0s 18ms/step - loss: 0.9752 - accuracy: 0.5837 - val_loss: 5.6790 - val_accuracy: 0.4189\n",
            "Epoch 36/50\n",
            "7/7 [==============================] - 0s 18ms/step - loss: 0.9746 - accuracy: 0.5928 - val_loss: 6.0178 - val_accuracy: 0.4324\n",
            "Epoch 37/50\n",
            "7/7 [==============================] - 0s 17ms/step - loss: 0.9561 - accuracy: 0.6063 - val_loss: 4.6661 - val_accuracy: 0.3919\n",
            "Epoch 38/50\n",
            "7/7 [==============================] - 0s 17ms/step - loss: 0.9533 - accuracy: 0.5837 - val_loss: 7.2424 - val_accuracy: 0.4189\n",
            "Epoch 39/50\n",
            "7/7 [==============================] - 0s 18ms/step - loss: 0.9256 - accuracy: 0.6109 - val_loss: 4.6902 - val_accuracy: 0.4324\n",
            "Epoch 40/50\n",
            "7/7 [==============================] - 0s 17ms/step - loss: 0.9584 - accuracy: 0.5928 - val_loss: 3.7368 - val_accuracy: 0.4054\n",
            "Epoch 41/50\n",
            "7/7 [==============================] - 0s 17ms/step - loss: 0.9204 - accuracy: 0.6244 - val_loss: 3.8870 - val_accuracy: 0.4324\n",
            "Epoch 42/50\n",
            "7/7 [==============================] - 0s 18ms/step - loss: 0.9648 - accuracy: 0.5882 - val_loss: 7.8113 - val_accuracy: 0.3784\n",
            "Epoch 43/50\n",
            "7/7 [==============================] - 0s 18ms/step - loss: 0.9347 - accuracy: 0.6063 - val_loss: 11.7151 - val_accuracy: 0.3784\n",
            "Epoch 44/50\n",
            "7/7 [==============================] - 0s 18ms/step - loss: 0.9694 - accuracy: 0.6063 - val_loss: 14.1540 - val_accuracy: 0.3919\n",
            "Epoch 45/50\n",
            "7/7 [==============================] - 0s 18ms/step - loss: 1.0652 - accuracy: 0.5837 - val_loss: 6.4041 - val_accuracy: 0.4054\n",
            "Epoch 46/50\n",
            "7/7 [==============================] - 0s 17ms/step - loss: 1.0514 - accuracy: 0.5973 - val_loss: 2.3059 - val_accuracy: 0.4054\n",
            "Epoch 47/50\n",
            "7/7 [==============================] - 0s 17ms/step - loss: 1.0995 - accuracy: 0.5837 - val_loss: 1.8832 - val_accuracy: 0.3919\n",
            "Epoch 48/50\n",
            "7/7 [==============================] - 0s 18ms/step - loss: 1.0257 - accuracy: 0.5837 - val_loss: 2.0733 - val_accuracy: 0.4054\n",
            "Epoch 49/50\n",
            "7/7 [==============================] - 0s 16ms/step - loss: 1.0128 - accuracy: 0.5973 - val_loss: 2.1350 - val_accuracy: 0.4054\n",
            "Epoch 50/50\n",
            "7/7 [==============================] - 0s 17ms/step - loss: 0.9583 - accuracy: 0.6154 - val_loss: 2.1712 - val_accuracy: 0.4189\n"
          ]
        }
      ],
      "source": [
        "#@title 4.1: LSTM V1 Model Training\n",
        "\n",
        "# LSTM Model Training\n",
        "history1 = model.fit(X_train_scaled.reshape(X_train_scaled.shape[0], num_steps, num_features),\n",
        "                    y_train, epochs=50, validation_data=(X_val_scaled.reshape(X_val_scaled.shape[0], num_steps, num_features), y_val))"
      ]
    },
    {
      "cell_type": "code",
      "execution_count": null,
      "metadata": {
        "colab": {
          "base_uri": "https://localhost:8080/"
        },
        "id": "LP2egfABBgJt",
        "outputId": "73170c2b-0e09-4ee4-f8ce-c2cafecc39df"
      },
      "outputs": [
        {
          "output_type": "stream",
          "name": "stdout",
          "text": [
            "3/3 [==============================] - 0s 5ms/step - loss: 1.7956 - accuracy: 0.4459\n",
            "Test Loss: 1.7955890893936157\n",
            "Test Accuracy: 0.44594594836235046\n"
          ]
        }
      ],
      "source": [
        "#@title 4.1v: Evaluate the model\n",
        "test_loss, test_accuracy = model.evaluate(X_test_scaled.reshape(X_test_scaled.shape[0], num_steps, num_features), y_test)\n",
        "print('Test Loss: {}'.format(test_loss))\n",
        "print('Test Accuracy: {}'.format(test_accuracy))"
      ]
    },
    {
      "cell_type": "code",
      "execution_count": null,
      "metadata": {
        "id": "WZpWG4quXFs1"
      },
      "outputs": [],
      "source": [
        "#@title 5: Plot the training and validation loss V1\n",
        "def plot_learning_curves(history):\n",
        "    plt.plot(history1.history['loss'], label='Train Loss')\n",
        "    plt.plot(history1.history['val_loss'], label='Validation Loss')\n",
        "    plt.legend()\n",
        "    plt.show()\n",
        "\n",
        "    # Plot the training and validation accuracy\n",
        "    plt.plot(history1.history['accuracy'], label='Train Accuracy')\n",
        "    plt.plot(history1.history['val_accuracy'], label='Validation Accuracy')\n",
        "    plt.legend()\n",
        "    plt.show()\n",
        "    return plot_learning_curves\n"
      ]
    },
    {
      "cell_type": "code",
      "execution_count": null,
      "metadata": {
        "colab": {
          "base_uri": "https://localhost:8080/",
          "height": 860
        },
        "id": "alRYAlz1m1vL",
        "outputId": "02410e24-e3eb-4dd4-f5aa-012859ea22a7"
      },
      "outputs": [
        {
          "output_type": "display_data",
          "data": {
            "text/plain": [
              "<Figure size 640x480 with 1 Axes>"
            ],
            "image/png": "[encoded data removed]"
          },
          "metadata": {}
        },
        {
          "output_type": "display_data",
          "data": {
            "text/plain": [
              "<Figure size 640x480 with 1 Axes>"
            ],
            "image/png": "[encoded data removed]"
          },
          "metadata": {}
        },
        {
          "output_type": "execute_result",
          "data": {
            "text/plain": [
              "<function __main__.plot_learning_curves(history)>"
            ]
          },
          "metadata": {},
          "execution_count": 146
        }
      ],
      "source": [
        "#@title 5.1: Show plot\n",
        "plot_learning_curves(history1)"
      ]
    },
    {
      "cell_type": "markdown",
      "metadata": {
        "id": "yhckno8GniA0"
      },
      "source": [
        "Notes: The LSTM Ver. 1 model needs improvement in its architecture or training process, as it is underperforming. Next step is to improve the model's performance by adding more layers and increasing the number of epochs."
      ]
    },
    {
      "cell_type": "code",
      "execution_count": null,
      "metadata": {
        "id": "yWQT6VdQXGfz",
        "colab": {
          "base_uri": "https://localhost:8080/"
        },
        "outputId": "e9e2aa82-f80e-48f6-ea4b-ecdc27ee3c9f"
      },
      "outputs": [
        {
          "output_type": "stream",
          "name": "stdout",
          "text": [
            "3/3 [==============================] - 0s 5ms/step\n"
          ]
        }
      ],
      "source": [
        "#@title 6: Make predictions on the scaled and reshaped test set V1\n",
        "y_test_pred = model.predict(X_test_scaled.reshape(X_test_scaled.shape[0], num_steps, num_features))\n",
        "\n",
        "# Convert predicted probabilities to class labels\n",
        "y_test_pred_class = np.argmax(y_test_pred, axis=1)"
      ]
    },
    {
      "cell_type": "code",
      "execution_count": null,
      "metadata": {
        "colab": {
          "base_uri": "https://localhost:8080/"
        },
        "id": "HoPJf9xznQNs",
        "outputId": "afbf4c32-c063-49d5-dc0c-0a53a19c47a3"
      },
      "outputs": [
        {
          "output_type": "stream",
          "name": "stdout",
          "text": [
            "True Class: bach, Predicted Class: bach\n",
            "True Class: mozart, Predicted Class: schumann\n",
            "True Class: chopin, Predicted Class: chopin\n",
            "True Class: hummel, Predicted Class: mendelssohn\n",
            "True Class: hummel, Predicted Class: mendelssohn\n",
            "True Class: handel, Predicted Class: mozart\n",
            "True Class: handel, Predicted Class: handel\n",
            "True Class: mendelssohn, Predicted Class: hummel\n",
            "True Class: bach, Predicted Class: bach\n",
            "True Class: schumann, Predicted Class: chopin\n",
            "True Class: hummel, Predicted Class: hummel\n",
            "True Class: chopin, Predicted Class: schumann\n",
            "True Class: hummel, Predicted Class: mendelssohn\n",
            "True Class: hummel, Predicted Class: schumann\n",
            "True Class: bach, Predicted Class: bach\n",
            "True Class: chopin, Predicted Class: chopin\n",
            "True Class: mozart, Predicted Class: mozart\n",
            "True Class: bach, Predicted Class: bach\n",
            "True Class: mozart, Predicted Class: bartok\n",
            "True Class: bach, Predicted Class: bach\n",
            "True Class: mendelssohn, Predicted Class: mendelssohn\n",
            "True Class: mozart, Predicted Class: mendelssohn\n",
            "True Class: byrd, Predicted Class: byrd\n",
            "True Class: hummel, Predicted Class: mendelssohn\n",
            "True Class: bartok, Predicted Class: mendelssohn\n",
            "True Class: mozart, Predicted Class: bartok\n",
            "True Class: schumann, Predicted Class: hummel\n",
            "True Class: mozart, Predicted Class: mozart\n",
            "True Class: bach, Predicted Class: bach\n",
            "True Class: bartok, Predicted Class: mendelssohn\n",
            "True Class: mendelssohn, Predicted Class: mendelssohn\n",
            "True Class: byrd, Predicted Class: byrd\n",
            "True Class: chopin, Predicted Class: schumann\n",
            "True Class: handel, Predicted Class: mendelssohn\n",
            "True Class: handel, Predicted Class: handel\n",
            "True Class: handel, Predicted Class: hummel\n",
            "True Class: chopin, Predicted Class: chopin\n",
            "True Class: schumann, Predicted Class: schumann\n",
            "True Class: mozart, Predicted Class: mendelssohn\n",
            "True Class: schumann, Predicted Class: mendelssohn\n",
            "True Class: chopin, Predicted Class: chopin\n",
            "True Class: byrd, Predicted Class: byrd\n",
            "True Class: schumann, Predicted Class: mendelssohn\n",
            "True Class: handel, Predicted Class: chopin\n",
            "True Class: bach, Predicted Class: bach\n",
            "True Class: mendelssohn, Predicted Class: mendelssohn\n",
            "True Class: schumann, Predicted Class: chopin\n",
            "True Class: bartok, Predicted Class: handel\n",
            "True Class: bartok, Predicted Class: mendelssohn\n",
            "True Class: bartok, Predicted Class: bartok\n",
            "True Class: byrd, Predicted Class: bach\n",
            "True Class: bartok, Predicted Class: bartok\n",
            "True Class: bach, Predicted Class: bach\n",
            "True Class: mendelssohn, Predicted Class: chopin\n",
            "True Class: mendelssohn, Predicted Class: mendelssohn\n",
            "True Class: mendelssohn, Predicted Class: schumann\n",
            "True Class: bach, Predicted Class: bach\n",
            "True Class: chopin, Predicted Class: chopin\n",
            "True Class: bartok, Predicted Class: bartok\n",
            "True Class: bartok, Predicted Class: mendelssohn\n",
            "True Class: hummel, Predicted Class: handel\n",
            "True Class: handel, Predicted Class: mozart\n",
            "True Class: schumann, Predicted Class: chopin\n",
            "True Class: byrd, Predicted Class: hummel\n",
            "True Class: mendelssohn, Predicted Class: hummel\n",
            "True Class: byrd, Predicted Class: byrd\n",
            "True Class: byrd, Predicted Class: bach\n",
            "True Class: handel, Predicted Class: mozart\n",
            "True Class: byrd, Predicted Class: byrd\n",
            "True Class: hummel, Predicted Class: handel\n",
            "True Class: mozart, Predicted Class: chopin\n",
            "True Class: schumann, Predicted Class: schumann\n",
            "True Class: chopin, Predicted Class: schumann\n",
            "True Class: hummel, Predicted Class: mendelssohn\n"
          ]
        }
      ],
      "source": [
        "#@title 6.1: Print the true class labels and predicted class labels\n",
        "for true_label, pred_label in zip(y_test, y_test_pred_class):\n",
        "    true_class = encoder.inverse_transform([np.argmax(true_label)])[0]\n",
        "    pred_class = encoder.inverse_transform([pred_label])[0]\n",
        "    print(f\"True Class: {true_class}, Predicted Class: {pred_class}\")"
      ]
    },
    {
      "cell_type": "code",
      "execution_count": null,
      "metadata": {
        "colab": {
          "base_uri": "https://localhost:8080/",
          "height": 642
        },
        "id": "zIZiOOkUnYrE",
        "outputId": "81b11b64-d5b0-427e-c94b-cde26a3ab65d"
      },
      "outputs": [
        {
          "output_type": "display_data",
          "data": {
            "text/plain": [
              "<Figure size 800x600 with 2 Axes>"
            ],
            "image/png": "[encoded data removed]"
          },
          "metadata": {}
        }
      ],
      "source": [
        "#@title 6.2: Print a confusion matrix V1\n",
        "from sklearn.metrics import confusion_matrix\n",
        "import seaborn as sns\n",
        "#mport matplotlib.pyplot as plt\n",
        "\n",
        "# Generate the confusion matrix\n",
        "cm = confusion_matrix(np.argmax(y_test, axis=1), y_test_pred_class)\n",
        "\n",
        "# Create a heatmap of the confusion matrix\n",
        "plt.figure(figsize=(8, 6))\n",
        "sns.heatmap(cm, annot=True, fmt='d', cmap='Blues', xticklabels=encoder.classes_, yticklabels=encoder.classes_)\n",
        "plt.xlabel('Predicted Labels')\n",
        "plt.ylabel('True Labels')\n",
        "plt.title('Confusion Matrix')\n",
        "plt.show()"
      ]
    },
    {
      "cell_type": "code",
      "execution_count": null,
      "metadata": {
        "colab": {
          "base_uri": "https://localhost:8080/"
        },
        "id": "X_VLEOfBcttM",
        "outputId": "abff84fb-1f20-446b-9770-88d937bd8a0e"
      },
      "outputs": [
        {
          "output_type": "stream",
          "name": "stdout",
          "text": [
            "3/3 [==============================] - 0s 5ms/step\n",
            "Classification Report - LSTM Model ver 1:\n",
            "               precision    recall  f1-score   support\n",
            "\n",
            "        bach       0.82      1.00      0.90         9\n",
            "      bartok       0.60      0.38      0.46         8\n",
            "        byrd       1.00      0.62      0.77         8\n",
            "      chopin       0.45      0.62      0.53         8\n",
            "      handel       0.40      0.25      0.31         8\n",
            "      hummel       0.17      0.11      0.13         9\n",
            " mendelssohn       0.22      0.50      0.31         8\n",
            "      mozart       0.40      0.25      0.31         8\n",
            "    schumann       0.25      0.25      0.25         8\n",
            "\n",
            "    accuracy                           0.45        74\n",
            "   macro avg       0.48      0.44      0.44        74\n",
            "weighted avg       0.48      0.45      0.44        74\n",
            "\n"
          ]
        }
      ],
      "source": [
        "#@title 6.3: Report the confusion matrix V1\n",
        "# Reshape the input data for prediction\n",
        "X_test_scaled_reshaped = X_test_scaled.reshape(X_test_scaled.shape[0], num_steps, num_features)\n",
        "\n",
        "# Make predictions on the reshaped test set\n",
        "y_test_pred = model.predict(X_test_scaled_reshaped)\n",
        "y_test_pred_class = np.argmax(y_test_pred, axis=1)\n",
        "\n",
        "# Convert predicted class labels back to original composer labels using the encoder\n",
        "lstm_pred_labels = encoder.inverse_transform(y_test_pred_class)\n",
        "lstm_true_labels = encoder.inverse_transform(np.argmax(y_test, axis=1))  # Convert true class labels back\n",
        "\n",
        "# Print the classification report\n",
        "lstm_classification_report_v1 = classification_report(lstm_true_labels, lstm_pred_labels, target_names=encoder.classes_)\n",
        "print(\"Classification Report - LSTM Model ver 1:\\n\", lstm_classification_report_v1)"
      ]
    },
    {
      "cell_type": "markdown",
      "metadata": {
        "id": "TbN7F5oknw_F"
      },
      "source": [
        "Notes: The prediction from the LSTM model version 1 didn't yield good scores. Also, we see from the Classification Report that some composer predictions do better than others. Therefore, these scores need further analysis and experimentation to identify and implement the necessary adjustments."
      ]
    },
    {
      "cell_type": "markdown",
      "metadata": {
        "id": "HsNqiGo6oOqO"
      },
      "source": [
        "#Version 2: LSTM with 3 Hidden Layers"
      ]
    },
    {
      "cell_type": "code",
      "execution_count": null,
      "metadata": {
        "colab": {
          "base_uri": "https://localhost:8080/"
        },
        "id": "qaGfPjduXJ11",
        "outputId": "b9d7f0d3-c831-4d62-b70a-6cbda9dbab03"
      },
      "outputs": [
        {
          "output_type": "stream",
          "name": "stdout",
          "text": [
            "Model: \"sequential_20\"\n",
            "_________________________________________________________________\n",
            " Layer (type)                Output Shape              Param #   \n",
            "=================================================================\n",
            " lstm_48 (LSTM)              (None, 27, 128)           68608     \n",
            "                                                                 \n",
            " lstm_49 (LSTM)              (None, 27, 64)            49408     \n",
            "                                                                 \n",
            " lstm_50 (LSTM)              (None, 32)                12416     \n",
            "                                                                 \n",
            " dense_22 (Dense)            (None, 9)                 297       \n",
            "                                                                 \n",
            "=================================================================\n",
            "Total params: 130,729\n",
            "Trainable params: 130,729\n",
            "Non-trainable params: 0\n",
            "_________________________________________________________________\n"
          ]
        }
      ],
      "source": [
        "#@title 7: LSTM Model Building V2\n",
        "#from tensorflow.keras.callbacks import EarlyStopping\n",
        "\n",
        "#early_stopping = EarlyStopping(patience=15)\n",
        "\n",
        "num_classes = y_train.shape[1]\n",
        "num_features = 5\n",
        "model = Sequential([\n",
        "    LSTM(128, activation='relu', input_shape=(num_steps, num_features), return_sequences=True),  # Note the return_sequences=True\n",
        "    LSTM(64, activation='relu',return_sequences=True),  # Adding another LSTM layer\n",
        "    LSTM(32, activation='relu'),  # Adding another LSTM layer\n",
        "    Dense(num_classes, activation='softmax')\n",
        "]) # 3 Hidden Layers\n",
        "\n",
        "model.compile(optimizer='adam', loss='categorical_crossentropy', metrics=['accuracy'])\n",
        "\n",
        "# Print a summary of the model\n",
        "model.summary()"
      ]
    },
    {
      "cell_type": "code",
      "execution_count": null,
      "metadata": {
        "colab": {
          "base_uri": "https://localhost:8080/"
        },
        "id": "JriOzWYgowve",
        "outputId": "abe6b725-c9e4-4c01-f2f1-15b46d1d9a34"
      },
      "outputs": [
        {
          "output_type": "stream",
          "name": "stdout",
          "text": [
            "Epoch 1/100\n",
            "7/7 [==============================] - 6s 137ms/step - loss: 2.1916 - accuracy: 0.1765 - val_loss: 2.5540 - val_accuracy: 0.2162\n",
            "Epoch 2/100\n",
            "7/7 [==============================] - 0s 53ms/step - loss: 2.1359 - accuracy: 0.2805 - val_loss: 2.0991 - val_accuracy: 0.2297\n",
            "Epoch 3/100\n",
            "7/7 [==============================] - 0s 51ms/step - loss: 2.1983 - accuracy: 0.3032 - val_loss: 2.9446 - val_accuracy: 0.2027\n",
            "Epoch 4/100\n",
            "7/7 [==============================] - 0s 51ms/step - loss: 2.1657 - accuracy: 0.3620 - val_loss: 2.3599 - val_accuracy: 0.3243\n",
            "Epoch 5/100\n",
            "7/7 [==============================] - 0s 51ms/step - loss: 1.8420 - accuracy: 0.4480 - val_loss: 3.2774 - val_accuracy: 0.3649\n",
            "Epoch 6/100\n",
            "7/7 [==============================] - 0s 51ms/step - loss: 1.8205 - accuracy: 0.4389 - val_loss: 4.0641 - val_accuracy: 0.3243\n",
            "Epoch 7/100\n",
            "7/7 [==============================] - 0s 52ms/step - loss: 1.7229 - accuracy: 0.3937 - val_loss: 2.8402 - val_accuracy: 0.3784\n",
            "Epoch 8/100\n",
            "7/7 [==============================] - 0s 51ms/step - loss: 1.6125 - accuracy: 0.4525 - val_loss: 3.5921 - val_accuracy: 0.3514\n",
            "Epoch 9/100\n",
            "7/7 [==============================] - 0s 51ms/step - loss: 1.6146 - accuracy: 0.4389 - val_loss: 5.2974 - val_accuracy: 0.3784\n",
            "Epoch 10/100\n",
            "7/7 [==============================] - 0s 50ms/step - loss: 1.4059 - accuracy: 0.4661 - val_loss: 1.9793 - val_accuracy: 0.4324\n",
            "Epoch 11/100\n",
            "7/7 [==============================] - 0s 51ms/step - loss: 1.3680 - accuracy: 0.5158 - val_loss: 2.3889 - val_accuracy: 0.3919\n",
            "Epoch 12/100\n",
            "7/7 [==============================] - 0s 51ms/step - loss: 1.3737 - accuracy: 0.4796 - val_loss: 2.2668 - val_accuracy: 0.3919\n",
            "Epoch 13/100\n",
            "7/7 [==============================] - 0s 52ms/step - loss: 1.4105 - accuracy: 0.4842 - val_loss: 2.2760 - val_accuracy: 0.3784\n",
            "Epoch 14/100\n",
            "7/7 [==============================] - 0s 51ms/step - loss: 1.3162 - accuracy: 0.4842 - val_loss: 2.4724 - val_accuracy: 0.4189\n",
            "Epoch 15/100\n",
            "7/7 [==============================] - 0s 51ms/step - loss: 1.3078 - accuracy: 0.4932 - val_loss: 3.6106 - val_accuracy: 0.3919\n",
            "Epoch 16/100\n",
            "7/7 [==============================] - 0s 50ms/step - loss: 1.2564 - accuracy: 0.5023 - val_loss: 2.9331 - val_accuracy: 0.4189\n",
            "Epoch 17/100\n",
            "7/7 [==============================] - 0s 51ms/step - loss: 1.1918 - accuracy: 0.5023 - val_loss: 5.1004 - val_accuracy: 0.3784\n",
            "Epoch 18/100\n",
            "7/7 [==============================] - 0s 53ms/step - loss: 1.1548 - accuracy: 0.5113 - val_loss: 4.9329 - val_accuracy: 0.4459\n",
            "Epoch 19/100\n",
            "7/7 [==============================] - 0s 51ms/step - loss: 1.1536 - accuracy: 0.5339 - val_loss: 7.9319 - val_accuracy: 0.3784\n",
            "Epoch 20/100\n",
            "7/7 [==============================] - 0s 53ms/step - loss: 1.1472 - accuracy: 0.5113 - val_loss: 4.5466 - val_accuracy: 0.4189\n",
            "Epoch 21/100\n",
            "7/7 [==============================] - 0s 51ms/step - loss: 1.1211 - accuracy: 0.5294 - val_loss: 14.1881 - val_accuracy: 0.3784\n",
            "Epoch 22/100\n",
            "7/7 [==============================] - 0s 53ms/step - loss: 1.1383 - accuracy: 0.5204 - val_loss: 13.7345 - val_accuracy: 0.4324\n",
            "Epoch 23/100\n",
            "7/7 [==============================] - 0s 55ms/step - loss: 1.0675 - accuracy: 0.5339 - val_loss: 12.0004 - val_accuracy: 0.4595\n",
            "Epoch 24/100\n",
            "7/7 [==============================] - 0s 54ms/step - loss: 1.0444 - accuracy: 0.5339 - val_loss: 16.2411 - val_accuracy: 0.4324\n",
            "Epoch 25/100\n",
            "7/7 [==============================] - 0s 54ms/step - loss: 1.3328 - accuracy: 0.4932 - val_loss: 6.6508 - val_accuracy: 0.4865\n",
            "Epoch 26/100\n",
            "7/7 [==============================] - 0s 55ms/step - loss: 1.2557 - accuracy: 0.5294 - val_loss: 4.1365 - val_accuracy: 0.3378\n",
            "Epoch 27/100\n",
            "7/7 [==============================] - 0s 55ms/step - loss: 1.2415 - accuracy: 0.5385 - val_loss: 4.7904 - val_accuracy: 0.3378\n",
            "Epoch 28/100\n",
            "7/7 [==============================] - 0s 56ms/step - loss: 1.1907 - accuracy: 0.5158 - val_loss: 9.0665 - val_accuracy: 0.3378\n",
            "Epoch 29/100\n",
            "7/7 [==============================] - 0s 54ms/step - loss: 1.1522 - accuracy: 0.4932 - val_loss: 6.2664 - val_accuracy: 0.3649\n",
            "Epoch 30/100\n",
            "7/7 [==============================] - 0s 53ms/step - loss: 1.0933 - accuracy: 0.4977 - val_loss: 7.7439 - val_accuracy: 0.3784\n",
            "Epoch 31/100\n",
            "7/7 [==============================] - 0s 52ms/step - loss: 1.0322 - accuracy: 0.5385 - val_loss: 5.9659 - val_accuracy: 0.4189\n",
            "Epoch 32/100\n",
            "7/7 [==============================] - 0s 53ms/step - loss: 1.0206 - accuracy: 0.5520 - val_loss: 5.6691 - val_accuracy: 0.4189\n",
            "Epoch 33/100\n",
            "7/7 [==============================] - 0s 52ms/step - loss: 1.0981 - accuracy: 0.5792 - val_loss: 11.9519 - val_accuracy: 0.4324\n",
            "Epoch 34/100\n",
            "7/7 [==============================] - 0s 53ms/step - loss: 2.3768 - accuracy: 0.5475 - val_loss: 35.2723 - val_accuracy: 0.4189\n",
            "Epoch 35/100\n",
            "7/7 [==============================] - 0s 52ms/step - loss: 2.8582 - accuracy: 0.4932 - val_loss: 9.3673 - val_accuracy: 0.4189\n",
            "Epoch 36/100\n",
            "7/7 [==============================] - 0s 52ms/step - loss: 1.2339 - accuracy: 0.5385 - val_loss: 2.7572 - val_accuracy: 0.4324\n",
            "Epoch 37/100\n",
            "7/7 [==============================] - 0s 52ms/step - loss: 1.3801 - accuracy: 0.5339 - val_loss: 3.9204 - val_accuracy: 0.4054\n",
            "Epoch 38/100\n",
            "7/7 [==============================] - 0s 53ms/step - loss: 1.1522 - accuracy: 0.5566 - val_loss: 3.2621 - val_accuracy: 0.4595\n",
            "Epoch 39/100\n",
            "7/7 [==============================] - 0s 52ms/step - loss: 1.2764 - accuracy: 0.4977 - val_loss: 2.1981 - val_accuracy: 0.3784\n",
            "Epoch 40/100\n",
            "7/7 [==============================] - 0s 52ms/step - loss: 1.1372 - accuracy: 0.5385 - val_loss: 2.3107 - val_accuracy: 0.4324\n",
            "Epoch 41/100\n",
            "7/7 [==============================] - 0s 52ms/step - loss: 1.0853 - accuracy: 0.5520 - val_loss: 2.5487 - val_accuracy: 0.4459\n",
            "Epoch 42/100\n",
            "7/7 [==============================] - 0s 51ms/step - loss: 1.0406 - accuracy: 0.5475 - val_loss: 1.7874 - val_accuracy: 0.4189\n",
            "Epoch 43/100\n",
            "7/7 [==============================] - 0s 49ms/step - loss: 0.9950 - accuracy: 0.5520 - val_loss: 1.8002 - val_accuracy: 0.4595\n",
            "Epoch 44/100\n",
            "7/7 [==============================] - 0s 51ms/step - loss: 0.9902 - accuracy: 0.5430 - val_loss: 2.1979 - val_accuracy: 0.4595\n",
            "Epoch 45/100\n",
            "7/7 [==============================] - 0s 51ms/step - loss: 0.9673 - accuracy: 0.5928 - val_loss: 2.4888 - val_accuracy: 0.4865\n",
            "Epoch 46/100\n",
            "7/7 [==============================] - 0s 50ms/step - loss: 0.9478 - accuracy: 0.6018 - val_loss: 1.8317 - val_accuracy: 0.5000\n",
            "Epoch 47/100\n",
            "7/7 [==============================] - 0s 50ms/step - loss: 0.8901 - accuracy: 0.6199 - val_loss: 2.1171 - val_accuracy: 0.4865\n",
            "Epoch 48/100\n",
            "7/7 [==============================] - 0s 50ms/step - loss: 0.8769 - accuracy: 0.5792 - val_loss: 2.1362 - val_accuracy: 0.3919\n",
            "Epoch 49/100\n",
            "7/7 [==============================] - 0s 51ms/step - loss: 0.8783 - accuracy: 0.6290 - val_loss: 2.0811 - val_accuracy: 0.4324\n",
            "Epoch 50/100\n",
            "7/7 [==============================] - 0s 51ms/step - loss: 0.8281 - accuracy: 0.6335 - val_loss: 2.5475 - val_accuracy: 0.5135\n",
            "Epoch 51/100\n",
            "7/7 [==============================] - 0s 51ms/step - loss: 0.8384 - accuracy: 0.6516 - val_loss: 3.0823 - val_accuracy: 0.4865\n",
            "Epoch 52/100\n",
            "7/7 [==============================] - 0s 50ms/step - loss: 0.8349 - accuracy: 0.6471 - val_loss: 2.8268 - val_accuracy: 0.4730\n",
            "Epoch 53/100\n",
            "7/7 [==============================] - 0s 51ms/step - loss: 0.8107 - accuracy: 0.6335 - val_loss: 2.8169 - val_accuracy: 0.4459\n",
            "Epoch 54/100\n",
            "7/7 [==============================] - 0s 51ms/step - loss: 0.7525 - accuracy: 0.6516 - val_loss: 3.1388 - val_accuracy: 0.4324\n",
            "Epoch 55/100\n",
            "7/7 [==============================] - 0s 51ms/step - loss: 0.7431 - accuracy: 0.6606 - val_loss: 2.9603 - val_accuracy: 0.4459\n",
            "Epoch 56/100\n",
            "7/7 [==============================] - 0s 52ms/step - loss: 0.7422 - accuracy: 0.6833 - val_loss: 2.8896 - val_accuracy: 0.4730\n",
            "Epoch 57/100\n",
            "7/7 [==============================] - 0s 53ms/step - loss: 0.7208 - accuracy: 0.6606 - val_loss: 2.8821 - val_accuracy: 0.4730\n",
            "Epoch 58/100\n",
            "7/7 [==============================] - 0s 52ms/step - loss: 0.7212 - accuracy: 0.6968 - val_loss: 2.8592 - val_accuracy: 0.4865\n",
            "Epoch 59/100\n",
            "7/7 [==============================] - 0s 53ms/step - loss: 0.7839 - accuracy: 0.6968 - val_loss: 2.9803 - val_accuracy: 0.4865\n",
            "Epoch 60/100\n",
            "7/7 [==============================] - 0s 53ms/step - loss: 0.8539 - accuracy: 0.6199 - val_loss: 3.0915 - val_accuracy: 0.4730\n",
            "Epoch 61/100\n",
            "7/7 [==============================] - 0s 53ms/step - loss: 0.8944 - accuracy: 0.6471 - val_loss: 3.1003 - val_accuracy: 0.4459\n",
            "Epoch 62/100\n",
            "7/7 [==============================] - 0s 56ms/step - loss: 0.8332 - accuracy: 0.6878 - val_loss: 3.5543 - val_accuracy: 0.4595\n",
            "Epoch 63/100\n",
            "7/7 [==============================] - 0s 56ms/step - loss: 0.8502 - accuracy: 0.6199 - val_loss: 4.8745 - val_accuracy: 0.5000\n",
            "Epoch 64/100\n",
            "7/7 [==============================] - 0s 55ms/step - loss: 0.8046 - accuracy: 0.6335 - val_loss: 3.9395 - val_accuracy: 0.4459\n",
            "Epoch 65/100\n",
            "7/7 [==============================] - 0s 55ms/step - loss: 0.7433 - accuracy: 0.6923 - val_loss: 7.0576 - val_accuracy: 0.4730\n",
            "Epoch 66/100\n",
            "7/7 [==============================] - 0s 54ms/step - loss: 0.6697 - accuracy: 0.6968 - val_loss: 5.9053 - val_accuracy: 0.4459\n",
            "Epoch 67/100\n",
            "7/7 [==============================] - 0s 54ms/step - loss: 0.6140 - accuracy: 0.7195 - val_loss: 6.4141 - val_accuracy: 0.5270\n",
            "Epoch 68/100\n",
            "7/7 [==============================] - 0s 51ms/step - loss: 0.6178 - accuracy: 0.7285 - val_loss: 5.3042 - val_accuracy: 0.4324\n",
            "Epoch 69/100\n",
            "7/7 [==============================] - 0s 50ms/step - loss: 0.5779 - accuracy: 0.7557 - val_loss: 6.2544 - val_accuracy: 0.5135\n",
            "Epoch 70/100\n",
            "7/7 [==============================] - 0s 52ms/step - loss: 0.5622 - accuracy: 0.7602 - val_loss: 5.0770 - val_accuracy: 0.5000\n",
            "Epoch 71/100\n",
            "7/7 [==============================] - 0s 52ms/step - loss: 0.5664 - accuracy: 0.7195 - val_loss: 7.9568 - val_accuracy: 0.4459\n",
            "Epoch 72/100\n",
            "7/7 [==============================] - 0s 51ms/step - loss: 0.5868 - accuracy: 0.7240 - val_loss: 6.4669 - val_accuracy: 0.5000\n",
            "Epoch 73/100\n",
            "7/7 [==============================] - 0s 52ms/step - loss: 0.5142 - accuracy: 0.7828 - val_loss: 7.4147 - val_accuracy: 0.4595\n",
            "Epoch 74/100\n",
            "7/7 [==============================] - 0s 51ms/step - loss: 0.5169 - accuracy: 0.7602 - val_loss: 5.9343 - val_accuracy: 0.5405\n",
            "Epoch 75/100\n",
            "7/7 [==============================] - 0s 53ms/step - loss: 0.6156 - accuracy: 0.7647 - val_loss: 5.1343 - val_accuracy: 0.4865\n",
            "Epoch 76/100\n",
            "7/7 [==============================] - 0s 52ms/step - loss: 0.6501 - accuracy: 0.7421 - val_loss: 5.3614 - val_accuracy: 0.5135\n",
            "Epoch 77/100\n",
            "7/7 [==============================] - 0s 52ms/step - loss: 0.5929 - accuracy: 0.7376 - val_loss: 3.3538 - val_accuracy: 0.5000\n",
            "Epoch 78/100\n",
            "7/7 [==============================] - 0s 51ms/step - loss: 0.6678 - accuracy: 0.7240 - val_loss: 4.3460 - val_accuracy: 0.5135\n",
            "Epoch 79/100\n",
            "7/7 [==============================] - 0s 52ms/step - loss: 0.6387 - accuracy: 0.7421 - val_loss: 3.4113 - val_accuracy: 0.4595\n",
            "Epoch 80/100\n",
            "7/7 [==============================] - 0s 53ms/step - loss: 0.6231 - accuracy: 0.7557 - val_loss: 2.7784 - val_accuracy: 0.5000\n",
            "Epoch 81/100\n",
            "7/7 [==============================] - 0s 53ms/step - loss: 0.5801 - accuracy: 0.7783 - val_loss: 3.2622 - val_accuracy: 0.5000\n",
            "Epoch 82/100\n",
            "7/7 [==============================] - 0s 54ms/step - loss: 0.5584 - accuracy: 0.7828 - val_loss: 3.7314 - val_accuracy: 0.5541\n",
            "Epoch 83/100\n",
            "7/7 [==============================] - 0s 53ms/step - loss: 0.4997 - accuracy: 0.7873 - val_loss: 8.3175 - val_accuracy: 0.5405\n",
            "Epoch 84/100\n",
            "7/7 [==============================] - 0s 53ms/step - loss: 0.4981 - accuracy: 0.7919 - val_loss: 8.8455 - val_accuracy: 0.5000\n",
            "Epoch 85/100\n",
            "7/7 [==============================] - 0s 51ms/step - loss: 0.4509 - accuracy: 0.8190 - val_loss: 8.4386 - val_accuracy: 0.5405\n",
            "Epoch 86/100\n",
            "7/7 [==============================] - 0s 52ms/step - loss: 0.4217 - accuracy: 0.8100 - val_loss: 8.2224 - val_accuracy: 0.5000\n",
            "Epoch 87/100\n",
            "7/7 [==============================] - 0s 54ms/step - loss: 0.4643 - accuracy: 0.8009 - val_loss: 8.5984 - val_accuracy: 0.5541\n",
            "Epoch 88/100\n",
            "7/7 [==============================] - 0s 54ms/step - loss: 0.4804 - accuracy: 0.7692 - val_loss: 11.0860 - val_accuracy: 0.4595\n",
            "Epoch 89/100\n",
            "7/7 [==============================] - 0s 53ms/step - loss: 0.5125 - accuracy: 0.7919 - val_loss: 8.3159 - val_accuracy: 0.4595\n",
            "Epoch 90/100\n",
            "7/7 [==============================] - 0s 51ms/step - loss: 0.5084 - accuracy: 0.7783 - val_loss: 11.4597 - val_accuracy: 0.5405\n",
            "Epoch 91/100\n",
            "7/7 [==============================] - 0s 51ms/step - loss: 0.4873 - accuracy: 0.7828 - val_loss: 11.9697 - val_accuracy: 0.5000\n",
            "Epoch 92/100\n",
            "7/7 [==============================] - 0s 50ms/step - loss: 0.4494 - accuracy: 0.8190 - val_loss: 11.6128 - val_accuracy: 0.5676\n",
            "Epoch 93/100\n",
            "7/7 [==============================] - 0s 51ms/step - loss: 0.4305 - accuracy: 0.8326 - val_loss: 12.7539 - val_accuracy: 0.5270\n",
            "Epoch 94/100\n",
            "7/7 [==============================] - 0s 50ms/step - loss: 0.4062 - accuracy: 0.8281 - val_loss: 11.9615 - val_accuracy: 0.5676\n",
            "Epoch 95/100\n",
            "7/7 [==============================] - 0s 51ms/step - loss: 0.3978 - accuracy: 0.8235 - val_loss: 17.3572 - val_accuracy: 0.5270\n",
            "Epoch 96/100\n",
            "7/7 [==============================] - 0s 52ms/step - loss: 0.3703 - accuracy: 0.8416 - val_loss: 17.0251 - val_accuracy: 0.5270\n",
            "Epoch 97/100\n",
            "7/7 [==============================] - 0s 51ms/step - loss: 0.4231 - accuracy: 0.8416 - val_loss: 12.8098 - val_accuracy: 0.4730\n",
            "Epoch 98/100\n",
            "7/7 [==============================] - 0s 55ms/step - loss: 0.6196 - accuracy: 0.7692 - val_loss: 15.8146 - val_accuracy: 0.5000\n",
            "Epoch 99/100\n",
            "7/7 [==============================] - 0s 54ms/step - loss: 0.6424 - accuracy: 0.7557 - val_loss: 10.2375 - val_accuracy: 0.5270\n",
            "Epoch 100/100\n",
            "7/7 [==============================] - 0s 55ms/step - loss: 0.7352 - accuracy: 0.7240 - val_loss: 11.4816 - val_accuracy: 0.5270\n"
          ]
        }
      ],
      "source": [
        "#@title 7.1: LSTM Model Training V2\n",
        "history2 = model.fit(X_train_scaled.reshape(X_train_scaled.shape[0], num_steps, num_features),\n",
        "                    y_train, epochs=100,\n",
        "                    validation_data=(X_val_scaled.reshape(X_val_scaled.shape[0], num_steps, num_features), y_val)\n",
        ")"
      ]
    },
    {
      "cell_type": "code",
      "execution_count": null,
      "metadata": {
        "colab": {
          "base_uri": "https://localhost:8080/"
        },
        "id": "54k1CdY_qF5i",
        "outputId": "174c302a-b8a7-4be6-9ecc-9044d4e30909"
      },
      "outputs": [
        {
          "output_type": "stream",
          "name": "stdout",
          "text": [
            "3/3 [==============================] - 0s 13ms/step - loss: 8.9251 - accuracy: 0.5270\n",
            "Test Loss: 8.925073623657227\n",
            "Test Accuracy: 0.5270270109176636\n"
          ]
        }
      ],
      "source": [
        "#@title 7.2: Evaluate the model V2\n",
        "test_loss, test_accuracy = model.evaluate(X_test_scaled.reshape(X_test_scaled.shape[0], num_steps, num_features), y_test)\n",
        "print('Test Loss: {}'.format(test_loss))\n",
        "print('Test Accuracy: {}'.format(test_accuracy))"
      ]
    },
    {
      "cell_type": "markdown",
      "metadata": {
        "id": "oL38bKYAqPbr"
      },
      "source": [
        "Notes: This model shows signs of possible overfitting. At fifty percent training accuracy, the model needs to be further evaluated and adjusted to improve its generalization ability."
      ]
    },
    {
      "cell_type": "code",
      "execution_count": null,
      "metadata": {
        "colab": {
          "base_uri": "https://localhost:8080/",
          "height": 860
        },
        "id": "1HbS94YTXSYs",
        "outputId": "a567a523-5c62-414f-83d7-ee68b57c3a32"
      },
      "outputs": [
        {
          "output_type": "display_data",
          "data": {
            "text/plain": [
              "<Figure size 640x480 with 1 Axes>"
            ],
            "image/png": "[encoded data removed]"
          },
          "metadata": {}
        },
        {
          "output_type": "display_data",
          "data": {
            "text/plain": [
              "<Figure size 640x480 with 1 Axes>"
            ],
            "image/png": "[encoded data removed]"
          },
          "metadata": {}
        },
        {
          "output_type": "execute_result",
          "data": {
            "text/plain": [
              "<function __main__.plot_learning_curves(history)>"
            ]
          },
          "metadata": {},
          "execution_count": 154
        }
      ],
      "source": [
        "#@title 8: Plot v2\n",
        "plot_learning_curves(history2)"
      ]
    },
    {
      "cell_type": "code",
      "execution_count": null,
      "metadata": {
        "id": "_VtSGhgkXV1T",
        "colab": {
          "base_uri": "https://localhost:8080/"
        },
        "outputId": "97b6ed82-020a-4cd9-a16a-5a424baa1ac0"
      },
      "outputs": [
        {
          "output_type": "stream",
          "name": "stdout",
          "text": [
            "3/3 [==============================] - 0s 13ms/step\n"
          ]
        }
      ],
      "source": [
        "#@title 9: Save the model - And run predictions V2\n",
        "model.save('team8_composer_model.h5') #file name\n",
        "\n",
        "# Load the model\n",
        "from tensorflow.keras.models import load_model\n",
        "model = load_model('team8_composer_model.h5')\n",
        "\n",
        "#6v2: Make predictions on the scaled and reshaped test set\n",
        "y_test_pred = model.predict(X_test_scaled.reshape(X_test_scaled.shape[0], num_steps, num_features))\n",
        "\n",
        "# Convert predicted probabilities to class labels\n",
        "y_test_pred_class = np.argmax(y_test_pred, axis=1)"
      ]
    },
    {
      "cell_type": "code",
      "execution_count": null,
      "metadata": {
        "colab": {
          "base_uri": "https://localhost:8080/",
          "height": 642
        },
        "id": "1fOTD1aKo8w6",
        "outputId": "397106ec-532f-446f-ba83-e458923de6fa"
      },
      "outputs": [
        {
          "output_type": "display_data",
          "data": {
            "text/plain": [
              "<Figure size 800x600 with 2 Axes>"
            ],
            "image/png": "[encoded data removed]"
          },
          "metadata": {}
        }
      ],
      "source": [
        "#@title 10.1: Plot the confusion matrix V2\n",
        "# Generate the confusion matrix\n",
        "cm = confusion_matrix(np.argmax(y_test, axis=1), y_test_pred_class)\n",
        "\n",
        "# Create a heatmap of the confusion matrix\n",
        "plt.figure(figsize=(8, 6))\n",
        "sns.heatmap(cm, annot=True, fmt='d', cmap='Blues', xticklabels=encoder.classes_, yticklabels=encoder.classes_)\n",
        "plt.xlabel('Predicted Labels')\n",
        "plt.ylabel('True Labels')\n",
        "plt.title('Confusion Matrix')\n",
        "plt.show()"
      ]
    },
    {
      "cell_type": "code",
      "execution_count": null,
      "metadata": {
        "colab": {
          "base_uri": "https://localhost:8080/"
        },
        "id": "Tir8cMlwrly0",
        "outputId": "5792780d-ab70-43df-fd7b-9f675f2885b5"
      },
      "outputs": [
        {
          "output_type": "stream",
          "name": "stdout",
          "text": [
            "3/3 [==============================] - 0s 12ms/step\n",
            "Classification Report - LSTM Model Version 2:\n",
            "               precision    recall  f1-score   support\n",
            "\n",
            "        bach       0.60      0.67      0.63         9\n",
            "      bartok       0.50      0.50      0.50         8\n",
            "        byrd       0.62      0.62      0.62         8\n",
            "      chopin       0.62      0.62      0.62         8\n",
            "      handel       0.40      0.50      0.44         8\n",
            "      hummel       0.86      0.67      0.75         9\n",
            " mendelssohn       0.23      0.38      0.29         8\n",
            "      mozart       0.50      0.25      0.33         8\n",
            "    schumann       0.67      0.50      0.57         8\n",
            "\n",
            "    accuracy                           0.53        74\n",
            "   macro avg       0.56      0.52      0.53        74\n",
            "weighted avg       0.56      0.53      0.53        74\n",
            "\n"
          ]
        }
      ],
      "source": [
        "#@title 10.2: Report the confusion matrix V2\n",
        "# Reshape the input data for prediction\n",
        "X_test_scaled_reshaped = X_test_scaled.reshape(X_test_scaled.shape[0], num_steps, num_features)\n",
        "\n",
        "# Make predictions on the reshaped test set\n",
        "y_test_pred = model.predict(X_test_scaled_reshaped)\n",
        "y_test_pred_class = np.argmax(y_test_pred, axis=1)\n",
        "\n",
        "# Convert predicted class labels back to original composer labels using the encoder\n",
        "lstm_pred_labels = encoder.inverse_transform(y_test_pred_class)\n",
        "lstm_true_labels = encoder.inverse_transform(np.argmax(y_test, axis=1))  # Convert true class labels back\n",
        "\n",
        "# Print the classification report\n",
        "lstm_classification_report_v2 = classification_report(lstm_true_labels, lstm_pred_labels, target_names=encoder.classes_)\n",
        "print(\"Classification Report - LSTM Model Version 2:\\n\", lstm_classification_report_v2)"
      ]
    },
    {
      "cell_type": "markdown",
      "metadata": {
        "id": "t8dTSaLKrudT"
      },
      "source": [
        "Notes: The scores didn't improve much from those of the first LSTM model. Techniques such as regularization or increasing the size of the training dataset could be considered to mitigate the overfitting issue."
      ]
    },
    {
      "cell_type": "markdown",
      "metadata": {
        "id": "JF6Tie7O01VN"
      },
      "source": [
        "#Version 3 of LSTM, changing the Optimizer and doing an Earlystop"
      ]
    },
    {
      "cell_type": "code",
      "execution_count": null,
      "metadata": {
        "colab": {
          "base_uri": "https://localhost:8080/"
        },
        "id": "G_LNqInIXeo7",
        "outputId": "933064f8-a328-4d73-c582-cda8954746ec"
      },
      "outputs": [
        {
          "output_type": "stream",
          "name": "stdout",
          "text": [
            "Model: \"sequential_21\"\n",
            "_________________________________________________________________\n",
            " Layer (type)                Output Shape              Param #   \n",
            "=================================================================\n",
            " lstm_51 (LSTM)              (None, 27, 128)           68608     \n",
            "                                                                 \n",
            " lstm_52 (LSTM)              (None, 27, 64)            49408     \n",
            "                                                                 \n",
            " lstm_53 (LSTM)              (None, 32)                12416     \n",
            "                                                                 \n",
            " dense_23 (Dense)            (None, 9)                 297       \n",
            "                                                                 \n",
            "=================================================================\n",
            "Total params: 130,729\n",
            "Trainable params: 130,729\n",
            "Non-trainable params: 0\n",
            "_________________________________________________________________\n"
          ]
        }
      ],
      "source": [
        "#@title 11: Updating more variables in the LSTM model and optimizer V3\n",
        "from tensorflow.keras.optimizers import Adamax\n",
        "\n",
        "#@title 7: LSTM Model Building\n",
        "from tensorflow.keras.callbacks import EarlyStopping\n",
        "\n",
        "# Adding an early stop to prevent overfitting\n",
        "early_stopping = EarlyStopping(patience=15)\n",
        "\n",
        "#define the optimizer\n",
        "learning_rate = 0.01\n",
        "optimizer = Adamax(learning_rate=learning_rate)\n",
        "\n",
        "#Build the model\n",
        "num_classes = y_train.shape[1]\n",
        "num_features = 5\n",
        "model = Sequential([\n",
        "    LSTM(128, activation='relu', input_shape=(num_steps, num_features), return_sequences=True),  # Note the return_sequences=True\n",
        "    LSTM(64, activation='relu',return_sequences=True),  # Adding another LSTM layer\n",
        "    LSTM(32, activation='relu'),  # Adding another LSTM layer\n",
        "    Dense(num_classes, activation='softmax')\n",
        "]) # 3 Hidden Layers\n",
        "\n",
        "model.compile(optimizer=optimizer, loss='categorical_crossentropy', metrics=['accuracy'])\n",
        "\n",
        "# Print a summary of the model\n",
        "model.summary()"
      ]
    },
    {
      "cell_type": "code",
      "execution_count": null,
      "metadata": {
        "colab": {
          "base_uri": "https://localhost:8080/"
        },
        "id": "YkGg6fMEu-3J",
        "outputId": "84d0230f-b8ab-45a4-8193-a11919c32c1d"
      },
      "outputs": [
        {
          "output_type": "stream",
          "name": "stdout",
          "text": [
            "Epoch 1/100\n",
            "7/7 [==============================] - 4s 133ms/step - loss: 2.7614 - accuracy: 0.1403 - val_loss: 2.1992 - val_accuracy: 0.2027\n",
            "Epoch 2/100\n",
            "7/7 [==============================] - 0s 52ms/step - loss: 2.0892 - accuracy: 0.2308 - val_loss: 2.1986 - val_accuracy: 0.1622\n",
            "Epoch 3/100\n",
            "7/7 [==============================] - 0s 53ms/step - loss: 2.0244 - accuracy: 0.2262 - val_loss: 4.3276 - val_accuracy: 0.1757\n",
            "Epoch 4/100\n",
            "7/7 [==============================] - 0s 52ms/step - loss: 1.9312 - accuracy: 0.2534 - val_loss: 3.9682 - val_accuracy: 0.2432\n",
            "Epoch 5/100\n",
            "7/7 [==============================] - 0s 51ms/step - loss: 1.8659 - accuracy: 0.2715 - val_loss: 2.1988 - val_accuracy: 0.2432\n",
            "Epoch 6/100\n",
            "7/7 [==============================] - 0s 52ms/step - loss: 1.8963 - accuracy: 0.2715 - val_loss: 2.8588 - val_accuracy: 0.2297\n",
            "Epoch 7/100\n",
            "7/7 [==============================] - 0s 54ms/step - loss: 1.8876 - accuracy: 0.2805 - val_loss: 3.8029 - val_accuracy: 0.2162\n",
            "Epoch 8/100\n",
            "7/7 [==============================] - 0s 54ms/step - loss: 1.8026 - accuracy: 0.3348 - val_loss: 2.9187 - val_accuracy: 0.2703\n",
            "Epoch 9/100\n",
            "7/7 [==============================] - 0s 55ms/step - loss: 1.8351 - accuracy: 0.2986 - val_loss: 8.0003 - val_accuracy: 0.2162\n",
            "Epoch 10/100\n",
            "7/7 [==============================] - 0s 55ms/step - loss: 1.8418 - accuracy: 0.3348 - val_loss: 3.6172 - val_accuracy: 0.2432\n",
            "Epoch 11/100\n",
            "7/7 [==============================] - 0s 54ms/step - loss: 1.8078 - accuracy: 0.3303 - val_loss: 2.3237 - val_accuracy: 0.2838\n",
            "Epoch 12/100\n",
            "7/7 [==============================] - 0s 55ms/step - loss: 2.3914 - accuracy: 0.3982 - val_loss: 2.8747 - val_accuracy: 0.2703\n",
            "Epoch 13/100\n",
            "7/7 [==============================] - 0s 56ms/step - loss: 1.6157 - accuracy: 0.3801 - val_loss: 2.9075 - val_accuracy: 0.3378\n",
            "Epoch 14/100\n",
            "7/7 [==============================] - 0s 56ms/step - loss: 1.9895 - accuracy: 0.4480 - val_loss: 3.0889 - val_accuracy: 0.3514\n",
            "Epoch 15/100\n",
            "7/7 [==============================] - 0s 56ms/step - loss: 3.2188 - accuracy: 0.4525 - val_loss: 2.8049 - val_accuracy: 0.3243\n",
            "Epoch 16/100\n",
            "7/7 [==============================] - 0s 56ms/step - loss: 3.0902 - accuracy: 0.4163 - val_loss: 1.8826 - val_accuracy: 0.3919\n",
            "Epoch 17/100\n",
            "7/7 [==============================] - 0s 55ms/step - loss: 1.5244 - accuracy: 0.4434 - val_loss: 2.2083 - val_accuracy: 0.3378\n",
            "Epoch 18/100\n",
            "7/7 [==============================] - 0s 53ms/step - loss: 1.4303 - accuracy: 0.4480 - val_loss: 2.3756 - val_accuracy: 0.3919\n",
            "Epoch 19/100\n",
            "7/7 [==============================] - 0s 53ms/step - loss: 1.3518 - accuracy: 0.5023 - val_loss: 2.1220 - val_accuracy: 0.4054\n",
            "Epoch 20/100\n",
            "7/7 [==============================] - 0s 53ms/step - loss: 1.2897 - accuracy: 0.5249 - val_loss: 2.0926 - val_accuracy: 0.4189\n",
            "Epoch 21/100\n",
            "7/7 [==============================] - 0s 51ms/step - loss: 1.2739 - accuracy: 0.5068 - val_loss: 2.0694 - val_accuracy: 0.4324\n",
            "Epoch 22/100\n",
            "7/7 [==============================] - 0s 52ms/step - loss: 1.2362 - accuracy: 0.5475 - val_loss: 2.1746 - val_accuracy: 0.4595\n",
            "Epoch 23/100\n",
            "7/7 [==============================] - 0s 51ms/step - loss: 1.2434 - accuracy: 0.5611 - val_loss: 2.0316 - val_accuracy: 0.4324\n",
            "Epoch 24/100\n",
            "7/7 [==============================] - 0s 50ms/step - loss: 1.1565 - accuracy: 0.5611 - val_loss: 2.6755 - val_accuracy: 0.4189\n",
            "Epoch 25/100\n",
            "7/7 [==============================] - 0s 50ms/step - loss: 1.2239 - accuracy: 0.5430 - val_loss: 2.6981 - val_accuracy: 0.3514\n",
            "Epoch 26/100\n",
            "7/7 [==============================] - 0s 50ms/step - loss: 1.2284 - accuracy: 0.5158 - val_loss: 4.8634 - val_accuracy: 0.4324\n",
            "Epoch 27/100\n",
            "7/7 [==============================] - 0s 51ms/step - loss: 3.1842 - accuracy: 0.5701 - val_loss: 3.2749 - val_accuracy: 0.4324\n",
            "Epoch 28/100\n",
            "7/7 [==============================] - 0s 52ms/step - loss: 2.4354 - accuracy: 0.5294 - val_loss: 3.5071 - val_accuracy: 0.3919\n",
            "Epoch 29/100\n",
            "7/7 [==============================] - 0s 51ms/step - loss: 1.9184 - accuracy: 0.5023 - val_loss: 2.3028 - val_accuracy: 0.3514\n",
            "Epoch 30/100\n",
            "7/7 [==============================] - 0s 50ms/step - loss: 1.2505 - accuracy: 0.4977 - val_loss: 1.9228 - val_accuracy: 0.3919\n",
            "Epoch 31/100\n",
            "7/7 [==============================] - 0s 50ms/step - loss: 1.2149 - accuracy: 0.5249 - val_loss: 2.1037 - val_accuracy: 0.4595\n"
          ]
        }
      ],
      "source": [
        "#@title 11.1: LSTM Model Training V3\n",
        "history3 = model.fit(X_train_scaled.reshape(X_train_scaled.shape[0], num_steps, num_features),\n",
        "                    y_train, epochs=100,\n",
        "                    validation_data=(X_val_scaled.reshape(X_val_scaled.shape[0], num_steps, num_features), y_val),\n",
        "                    callbacks=[early_stopping])"
      ]
    },
    {
      "cell_type": "code",
      "execution_count": null,
      "metadata": {
        "colab": {
          "base_uri": "https://localhost:8080/"
        },
        "id": "bnF7WR_9vP8F",
        "outputId": "5e0918c5-835d-4ab8-c165-ef3e3a7e3b7e"
      },
      "outputs": [
        {
          "output_type": "stream",
          "name": "stdout",
          "text": [
            "3/3 [==============================] - 0s 14ms/step\n",
            "Classification Report - LSTM Model Version 3:\n",
            "               precision    recall  f1-score   support\n",
            "\n",
            "        bach       0.71      0.56      0.63         9\n",
            "      bartok       0.36      0.50      0.42         8\n",
            "        byrd       0.55      0.75      0.63         8\n",
            "      chopin       0.44      1.00      0.62         8\n",
            "      handel       0.22      0.25      0.24         8\n",
            "      hummel       0.00      0.00      0.00         9\n",
            " mendelssohn       0.14      0.12      0.13         8\n",
            "      mozart       0.20      0.12      0.15         8\n",
            "    schumann       0.83      0.62      0.71         8\n",
            "\n",
            "    accuracy                           0.43        74\n",
            "   macro avg       0.39      0.44      0.39        74\n",
            "weighted avg       0.38      0.43      0.39        74\n",
            "\n"
          ]
        }
      ],
      "source": [
        "#@title 11.2: Report the confusion matrix V3\n",
        "# Reshape the input data for prediction\n",
        "X_test_scaled_reshaped = X_test_scaled.reshape(X_test_scaled.shape[0], num_steps, num_features)\n",
        "\n",
        "# Make predictions on the reshaped test set\n",
        "y_test_pred = model.predict(X_test_scaled_reshaped)\n",
        "y_test_pred_class = np.argmax(y_test_pred, axis=1)\n",
        "\n",
        "# Convert predicted class labels back to original composer labels using the encoder\n",
        "lstm_pred_labels = encoder.inverse_transform(y_test_pred_class)\n",
        "lstm_true_labels = encoder.inverse_transform(np.argmax(y_test, axis=1))  # Convert true class labels back\n",
        "\n",
        "# Print the classification report\n",
        "lstm_classification_report_v3 = classification_report(lstm_true_labels, lstm_pred_labels, target_names=encoder.classes_)\n",
        "print(\"Classification Report - LSTM Model Version 3:\\n\", lstm_classification_report_v3)"
      ]
    },
    {
      "cell_type": "markdown",
      "metadata": {
        "id": "ew4W7FACXuaL"
      },
      "source": [
        "The performance of this LSTM version 3 is not satisfactory. The model's accuracy is significantly lower than expected, and it struggles to capture complex patterns in the data. It isn't consistent on the accuracy as the range of the f1 score by composer is a wide range of 71% to 0%. Further improvements are needed to enhance its performance and make it more reliable for the task at hand."
      ]
    },
    {
      "cell_type": "code",
      "execution_count": null,
      "metadata": {
        "colab": {
          "base_uri": "https://localhost:8080/"
        },
        "id": "nyClX-XVXqPM",
        "outputId": "0e496de9-0b69-48fd-d884-feb1f5f4b861"
      },
      "outputs": [
        {
          "output_type": "stream",
          "name": "stdout",
          "text": [
            "Training set size: 221\n",
            "Validation set size: 74\n",
            "Test set size: 74\n"
          ]
        }
      ],
      "source": [
        "#@title 11.1: Check how we can improve for possible training set overfitting\n",
        "# Small amounts of data may lead to overfitting of the model.\n",
        "print(f\"Training set size: {len(df_train)}\")\n",
        "print(f\"Validation set size: {len(df_val)}\")\n",
        "print(f\"Test set size: {len(df_test)}\")"
      ]
    },
    {
      "cell_type": "markdown",
      "source": [
        "Notes: The dataset has too few records to get a good score. the entire dataset needs to be increased"
      ],
      "metadata": {
        "id": "aioRzJhOLmHp"
      }
    },
    {
      "cell_type": "markdown",
      "metadata": {
        "id": "hnc8CIlSfaWR"
      },
      "source": [
        "# CNN Model V1 - With numerical data"
      ]
    },
    {
      "cell_type": "code",
      "execution_count": null,
      "metadata": {
        "colab": {
          "base_uri": "https://localhost:8080/"
        },
        "id": "EliWx-bPfixU",
        "outputId": "e027ae5a-3499-4283-ac31-e44f8496182c"
      },
      "outputs": [
        {
          "output_type": "stream",
          "name": "stdout",
          "text": [
            "Model: \"sequential_22\"\n",
            "_________________________________________________________________\n",
            " Layer (type)                Output Shape              Param #   \n",
            "=================================================================\n",
            " conv1d (Conv1D)             (None, 25, 64)            1024      \n",
            "                                                                 \n",
            " max_pooling1d (MaxPooling1D  (None, 12, 64)           0         \n",
            " )                                                               \n",
            "                                                                 \n",
            " conv1d_1 (Conv1D)           (None, 10, 128)           24704     \n",
            "                                                                 \n",
            " max_pooling1d_1 (MaxPooling  (None, 5, 128)           0         \n",
            " 1D)                                                             \n",
            "                                                                 \n",
            " flatten (Flatten)           (None, 640)               0         \n",
            "                                                                 \n",
            " dense_24 (Dense)            (None, 128)               82048     \n",
            "                                                                 \n",
            " dropout (Dropout)           (None, 128)               0         \n",
            "                                                                 \n",
            " dense_25 (Dense)            (None, 9)                 1161      \n",
            "                                                                 \n",
            "=================================================================\n",
            "Total params: 108,937\n",
            "Trainable params: 108,937\n",
            "Non-trainable params: 0\n",
            "_________________________________________________________________\n"
          ]
        }
      ],
      "source": [
        "#@title 16: Build CNN Model\n",
        "#Load related libraries\n",
        "from tensorflow.keras.layers import Conv1D, MaxPooling1D, Flatten, Dense, Dropout\n",
        "\n",
        "# Define the number of classes (number of composers)\n",
        "num_classes = len(encoder.classes_)\n",
        "\n",
        "# Build the CNN model\n",
        "model = Sequential([\n",
        "    Conv1D(64, 3, activation='relu', input_shape=(num_steps, X_train.shape[2])),\n",
        "    MaxPooling1D(2),\n",
        "    Conv1D(128, 3, activation='relu'),\n",
        "    MaxPooling1D(2),\n",
        "    Flatten(),\n",
        "    Dense(128, activation='relu'),\n",
        "    Dropout(0.3),\n",
        "    Dense(num_classes, activation='softmax')\n",
        "])\n",
        "\n",
        "# Compile the model\n",
        "model.compile(optimizer='adam', loss='categorical_crossentropy', metrics=['accuracy'])\n",
        "\n",
        "# Print a summary of the model\n",
        "model.summary()"
      ]
    },
    {
      "cell_type": "code",
      "execution_count": null,
      "metadata": {
        "colab": {
          "base_uri": "https://localhost:8080/"
        },
        "id": "IjFX_OpIfxed",
        "outputId": "779731d9-a858-4414-dc99-2f4f8bd2befd"
      },
      "outputs": [
        {
          "output_type": "stream",
          "name": "stdout",
          "text": [
            "Epoch 1/100\n",
            "7/7 [==============================] - 1s 44ms/step - loss: 13.1339 - accuracy: 0.1538 - val_loss: 6.5926 - val_accuracy: 0.1892\n",
            "Epoch 2/100\n",
            "7/7 [==============================] - 0s 10ms/step - loss: 5.3404 - accuracy: 0.2489 - val_loss: 3.1400 - val_accuracy: 0.2162\n",
            "Epoch 3/100\n",
            "7/7 [==============================] - 0s 10ms/step - loss: 2.6090 - accuracy: 0.2896 - val_loss: 2.5330 - val_accuracy: 0.3108\n",
            "Epoch 4/100\n",
            "7/7 [==============================] - 0s 10ms/step - loss: 2.1255 - accuracy: 0.3213 - val_loss: 2.1179 - val_accuracy: 0.3514\n",
            "Epoch 5/100\n",
            "7/7 [==============================] - 0s 10ms/step - loss: 1.7552 - accuracy: 0.3710 - val_loss: 1.9214 - val_accuracy: 0.4054\n",
            "Epoch 6/100\n",
            "7/7 [==============================] - 0s 10ms/step - loss: 1.6172 - accuracy: 0.3937 - val_loss: 2.0078 - val_accuracy: 0.3784\n",
            "Epoch 7/100\n",
            "7/7 [==============================] - 0s 10ms/step - loss: 1.5277 - accuracy: 0.4480 - val_loss: 1.9584 - val_accuracy: 0.3514\n",
            "Epoch 8/100\n",
            "7/7 [==============================] - 0s 10ms/step - loss: 1.3681 - accuracy: 0.5204 - val_loss: 2.0662 - val_accuracy: 0.4459\n",
            "Epoch 9/100\n",
            "7/7 [==============================] - 0s 10ms/step - loss: 1.2959 - accuracy: 0.5158 - val_loss: 2.1747 - val_accuracy: 0.4595\n",
            "Epoch 10/100\n",
            "7/7 [==============================] - 0s 10ms/step - loss: 1.2373 - accuracy: 0.5566 - val_loss: 2.1485 - val_accuracy: 0.4324\n",
            "Epoch 11/100\n",
            "7/7 [==============================] - 0s 10ms/step - loss: 1.1515 - accuracy: 0.5475 - val_loss: 2.1582 - val_accuracy: 0.3919\n",
            "Epoch 12/100\n",
            "7/7 [==============================] - 0s 10ms/step - loss: 1.1032 - accuracy: 0.6199 - val_loss: 2.1401 - val_accuracy: 0.5000\n",
            "Epoch 13/100\n",
            "7/7 [==============================] - 0s 10ms/step - loss: 1.1042 - accuracy: 0.5475 - val_loss: 2.3383 - val_accuracy: 0.4324\n",
            "Epoch 14/100\n",
            "7/7 [==============================] - 0s 10ms/step - loss: 1.0188 - accuracy: 0.6244 - val_loss: 2.2855 - val_accuracy: 0.4730\n",
            "Epoch 15/100\n",
            "7/7 [==============================] - 0s 10ms/step - loss: 0.9399 - accuracy: 0.7059 - val_loss: 2.2305 - val_accuracy: 0.4459\n",
            "Epoch 16/100\n",
            "7/7 [==============================] - 0s 10ms/step - loss: 0.9332 - accuracy: 0.6787 - val_loss: 2.2675 - val_accuracy: 0.4189\n",
            "Epoch 17/100\n",
            "7/7 [==============================] - 0s 10ms/step - loss: 0.8623 - accuracy: 0.6878 - val_loss: 2.2805 - val_accuracy: 0.4189\n",
            "Epoch 18/100\n",
            "7/7 [==============================] - 0s 10ms/step - loss: 0.8526 - accuracy: 0.6878 - val_loss: 2.2392 - val_accuracy: 0.5135\n",
            "Epoch 19/100\n",
            "7/7 [==============================] - 0s 10ms/step - loss: 0.7642 - accuracy: 0.7647 - val_loss: 2.3267 - val_accuracy: 0.4595\n",
            "Epoch 20/100\n",
            "7/7 [==============================] - 0s 9ms/step - loss: 0.8619 - accuracy: 0.6833 - val_loss: 2.3419 - val_accuracy: 0.4595\n",
            "Epoch 21/100\n",
            "7/7 [==============================] - 0s 10ms/step - loss: 0.8268 - accuracy: 0.6968 - val_loss: 2.3168 - val_accuracy: 0.4595\n",
            "Epoch 22/100\n",
            "7/7 [==============================] - 0s 10ms/step - loss: 0.7782 - accuracy: 0.7466 - val_loss: 2.3151 - val_accuracy: 0.4459\n",
            "Epoch 23/100\n",
            "7/7 [==============================] - 0s 9ms/step - loss: 0.7809 - accuracy: 0.7647 - val_loss: 2.3143 - val_accuracy: 0.4189\n",
            "Epoch 24/100\n",
            "7/7 [==============================] - 0s 10ms/step - loss: 0.7879 - accuracy: 0.7421 - val_loss: 2.3188 - val_accuracy: 0.3784\n",
            "Epoch 25/100\n",
            "7/7 [==============================] - 0s 10ms/step - loss: 0.7371 - accuracy: 0.7376 - val_loss: 2.4920 - val_accuracy: 0.4054\n",
            "Epoch 26/100\n",
            "7/7 [==============================] - 0s 9ms/step - loss: 0.6874 - accuracy: 0.7738 - val_loss: 2.5065 - val_accuracy: 0.4459\n",
            "Epoch 27/100\n",
            "7/7 [==============================] - 0s 10ms/step - loss: 0.6561 - accuracy: 0.7466 - val_loss: 2.3544 - val_accuracy: 0.4595\n",
            "Epoch 28/100\n",
            "7/7 [==============================] - 0s 10ms/step - loss: 0.6536 - accuracy: 0.7557 - val_loss: 2.4858 - val_accuracy: 0.4459\n",
            "Epoch 29/100\n",
            "7/7 [==============================] - 0s 10ms/step - loss: 0.6534 - accuracy: 0.7738 - val_loss: 2.5076 - val_accuracy: 0.4730\n",
            "Epoch 30/100\n",
            "7/7 [==============================] - 0s 10ms/step - loss: 0.5971 - accuracy: 0.8190 - val_loss: 2.3629 - val_accuracy: 0.4865\n",
            "Epoch 31/100\n",
            "7/7 [==============================] - 0s 10ms/step - loss: 0.5983 - accuracy: 0.8145 - val_loss: 2.5842 - val_accuracy: 0.4595\n",
            "Epoch 32/100\n",
            "7/7 [==============================] - 0s 10ms/step - loss: 0.5438 - accuracy: 0.8371 - val_loss: 2.7159 - val_accuracy: 0.4324\n",
            "Epoch 33/100\n",
            "7/7 [==============================] - 0s 10ms/step - loss: 0.5934 - accuracy: 0.7828 - val_loss: 2.6544 - val_accuracy: 0.4459\n",
            "Epoch 34/100\n",
            "7/7 [==============================] - 0s 10ms/step - loss: 0.4852 - accuracy: 0.8507 - val_loss: 2.5969 - val_accuracy: 0.4189\n",
            "Epoch 35/100\n",
            "7/7 [==============================] - 0s 10ms/step - loss: 0.4802 - accuracy: 0.8552 - val_loss: 2.7472 - val_accuracy: 0.4324\n",
            "Epoch 36/100\n",
            "7/7 [==============================] - 0s 10ms/step - loss: 0.5619 - accuracy: 0.8009 - val_loss: 2.6660 - val_accuracy: 0.4054\n",
            "Epoch 37/100\n",
            "7/7 [==============================] - 0s 10ms/step - loss: 0.5219 - accuracy: 0.8235 - val_loss: 2.7220 - val_accuracy: 0.4324\n",
            "Epoch 38/100\n",
            "7/7 [==============================] - 0s 10ms/step - loss: 0.4660 - accuracy: 0.8326 - val_loss: 2.7723 - val_accuracy: 0.4324\n",
            "Epoch 39/100\n",
            "7/7 [==============================] - 0s 10ms/step - loss: 0.4600 - accuracy: 0.8688 - val_loss: 2.8856 - val_accuracy: 0.4324\n",
            "Epoch 40/100\n",
            "7/7 [==============================] - 0s 10ms/step - loss: 0.4008 - accuracy: 0.8688 - val_loss: 2.7111 - val_accuracy: 0.4324\n",
            "Epoch 41/100\n",
            "7/7 [==============================] - 0s 10ms/step - loss: 0.4073 - accuracy: 0.8371 - val_loss: 2.7656 - val_accuracy: 0.4730\n",
            "Epoch 42/100\n",
            "7/7 [==============================] - 0s 10ms/step - loss: 0.3876 - accuracy: 0.8597 - val_loss: 2.9524 - val_accuracy: 0.3919\n",
            "Epoch 43/100\n",
            "7/7 [==============================] - 0s 10ms/step - loss: 0.4035 - accuracy: 0.8597 - val_loss: 3.1854 - val_accuracy: 0.4324\n",
            "Epoch 44/100\n",
            "7/7 [==============================] - 0s 11ms/step - loss: 0.3764 - accuracy: 0.9005 - val_loss: 3.3279 - val_accuracy: 0.4189\n",
            "Epoch 45/100\n",
            "7/7 [==============================] - 0s 10ms/step - loss: 0.3285 - accuracy: 0.8914 - val_loss: 3.1416 - val_accuracy: 0.4459\n",
            "Epoch 46/100\n",
            "7/7 [==============================] - 0s 11ms/step - loss: 0.3474 - accuracy: 0.8733 - val_loss: 3.0686 - val_accuracy: 0.5000\n",
            "Epoch 47/100\n",
            "7/7 [==============================] - 0s 11ms/step - loss: 0.3255 - accuracy: 0.8914 - val_loss: 3.2334 - val_accuracy: 0.4189\n",
            "Epoch 48/100\n",
            "7/7 [==============================] - 0s 10ms/step - loss: 0.3142 - accuracy: 0.9050 - val_loss: 3.2541 - val_accuracy: 0.4324\n",
            "Epoch 49/100\n",
            "7/7 [==============================] - 0s 10ms/step - loss: 0.3378 - accuracy: 0.8643 - val_loss: 3.2834 - val_accuracy: 0.4595\n",
            "Epoch 50/100\n",
            "7/7 [==============================] - 0s 10ms/step - loss: 0.3137 - accuracy: 0.8959 - val_loss: 3.2898 - val_accuracy: 0.4324\n",
            "Epoch 51/100\n",
            "7/7 [==============================] - 0s 11ms/step - loss: 0.3224 - accuracy: 0.9095 - val_loss: 3.4571 - val_accuracy: 0.4459\n",
            "Epoch 52/100\n",
            "7/7 [==============================] - 0s 10ms/step - loss: 0.2639 - accuracy: 0.9412 - val_loss: 3.5179 - val_accuracy: 0.4459\n",
            "Epoch 53/100\n",
            "7/7 [==============================] - 0s 10ms/step - loss: 0.3401 - accuracy: 0.8733 - val_loss: 3.2754 - val_accuracy: 0.4459\n",
            "Epoch 54/100\n",
            "7/7 [==============================] - 0s 10ms/step - loss: 0.3041 - accuracy: 0.9050 - val_loss: 3.3432 - val_accuracy: 0.4730\n",
            "Epoch 55/100\n",
            "7/7 [==============================] - 0s 10ms/step - loss: 0.3131 - accuracy: 0.9186 - val_loss: 3.4417 - val_accuracy: 0.4595\n",
            "Epoch 56/100\n",
            "7/7 [==============================] - 0s 10ms/step - loss: 0.2582 - accuracy: 0.9276 - val_loss: 3.4749 - val_accuracy: 0.4865\n",
            "Epoch 57/100\n",
            "7/7 [==============================] - 0s 10ms/step - loss: 0.3265 - accuracy: 0.8914 - val_loss: 3.3379 - val_accuracy: 0.4595\n",
            "Epoch 58/100\n",
            "7/7 [==============================] - 0s 10ms/step - loss: 0.2573 - accuracy: 0.9231 - val_loss: 3.3105 - val_accuracy: 0.4459\n",
            "Epoch 59/100\n",
            "7/7 [==============================] - 0s 10ms/step - loss: 0.2636 - accuracy: 0.9140 - val_loss: 3.2703 - val_accuracy: 0.5000\n",
            "Epoch 60/100\n",
            "7/7 [==============================] - 0s 11ms/step - loss: 0.3028 - accuracy: 0.9005 - val_loss: 3.3946 - val_accuracy: 0.4595\n",
            "Epoch 61/100\n",
            "7/7 [==============================] - 0s 10ms/step - loss: 0.2796 - accuracy: 0.8959 - val_loss: 3.2001 - val_accuracy: 0.4865\n",
            "Epoch 62/100\n",
            "7/7 [==============================] - 0s 10ms/step - loss: 0.3219 - accuracy: 0.9050 - val_loss: 3.3209 - val_accuracy: 0.4730\n",
            "Epoch 63/100\n",
            "7/7 [==============================] - 0s 10ms/step - loss: 0.2363 - accuracy: 0.9140 - val_loss: 3.4878 - val_accuracy: 0.4189\n",
            "Epoch 64/100\n",
            "7/7 [==============================] - 0s 10ms/step - loss: 0.2422 - accuracy: 0.9095 - val_loss: 3.4106 - val_accuracy: 0.4324\n",
            "Epoch 65/100\n",
            "7/7 [==============================] - 0s 10ms/step - loss: 0.2272 - accuracy: 0.9095 - val_loss: 3.4136 - val_accuracy: 0.4189\n",
            "Epoch 66/100\n",
            "7/7 [==============================] - 0s 10ms/step - loss: 0.2151 - accuracy: 0.9276 - val_loss: 3.7536 - val_accuracy: 0.4459\n",
            "Epoch 67/100\n",
            "7/7 [==============================] - 0s 10ms/step - loss: 0.2337 - accuracy: 0.9186 - val_loss: 3.6947 - val_accuracy: 0.4324\n",
            "Epoch 68/100\n",
            "7/7 [==============================] - 0s 10ms/step - loss: 0.2426 - accuracy: 0.9050 - val_loss: 3.6961 - val_accuracy: 0.4595\n",
            "Epoch 69/100\n",
            "7/7 [==============================] - 0s 10ms/step - loss: 0.2120 - accuracy: 0.9231 - val_loss: 3.8860 - val_accuracy: 0.4189\n",
            "Epoch 70/100\n",
            "7/7 [==============================] - 0s 10ms/step - loss: 0.2426 - accuracy: 0.9095 - val_loss: 3.5580 - val_accuracy: 0.4595\n",
            "Epoch 71/100\n",
            "7/7 [==============================] - 0s 10ms/step - loss: 0.2189 - accuracy: 0.9231 - val_loss: 3.7438 - val_accuracy: 0.4595\n",
            "Epoch 72/100\n",
            "7/7 [==============================] - 0s 10ms/step - loss: 0.2093 - accuracy: 0.9231 - val_loss: 3.6371 - val_accuracy: 0.4459\n",
            "Epoch 73/100\n",
            "7/7 [==============================] - 0s 10ms/step - loss: 0.1878 - accuracy: 0.9321 - val_loss: 4.1244 - val_accuracy: 0.4730\n",
            "Epoch 74/100\n",
            "7/7 [==============================] - 0s 10ms/step - loss: 0.2989 - accuracy: 0.9321 - val_loss: 4.5284 - val_accuracy: 0.4730\n",
            "Epoch 75/100\n",
            "7/7 [==============================] - 0s 10ms/step - loss: 0.3187 - accuracy: 0.9050 - val_loss: 4.2895 - val_accuracy: 0.4459\n",
            "Epoch 76/100\n",
            "7/7 [==============================] - 0s 10ms/step - loss: 0.2751 - accuracy: 0.9050 - val_loss: 3.4590 - val_accuracy: 0.4595\n",
            "Epoch 77/100\n",
            "7/7 [==============================] - 0s 10ms/step - loss: 0.2162 - accuracy: 0.9321 - val_loss: 3.4089 - val_accuracy: 0.4324\n",
            "Epoch 78/100\n",
            "7/7 [==============================] - 0s 10ms/step - loss: 0.2188 - accuracy: 0.9502 - val_loss: 3.4738 - val_accuracy: 0.4595\n",
            "Epoch 79/100\n",
            "7/7 [==============================] - 0s 10ms/step - loss: 0.1748 - accuracy: 0.9412 - val_loss: 3.4403 - val_accuracy: 0.4595\n",
            "Epoch 80/100\n",
            "7/7 [==============================] - 0s 10ms/step - loss: 0.1645 - accuracy: 0.9457 - val_loss: 3.4272 - val_accuracy: 0.4865\n",
            "Epoch 81/100\n",
            "7/7 [==============================] - 0s 10ms/step - loss: 0.2272 - accuracy: 0.9412 - val_loss: 3.6002 - val_accuracy: 0.4595\n",
            "Epoch 82/100\n",
            "7/7 [==============================] - 0s 9ms/step - loss: 0.1921 - accuracy: 0.9276 - val_loss: 3.5178 - val_accuracy: 0.4324\n",
            "Epoch 83/100\n",
            "7/7 [==============================] - 0s 9ms/step - loss: 0.1835 - accuracy: 0.9412 - val_loss: 3.3960 - val_accuracy: 0.4459\n",
            "Epoch 84/100\n",
            "7/7 [==============================] - 0s 9ms/step - loss: 0.1988 - accuracy: 0.9140 - val_loss: 3.4705 - val_accuracy: 0.4730\n",
            "Epoch 85/100\n",
            "7/7 [==============================] - 0s 9ms/step - loss: 0.1816 - accuracy: 0.9412 - val_loss: 3.5833 - val_accuracy: 0.4595\n",
            "Epoch 86/100\n",
            "7/7 [==============================] - 0s 10ms/step - loss: 0.1651 - accuracy: 0.9457 - val_loss: 3.4982 - val_accuracy: 0.4189\n",
            "Epoch 87/100\n",
            "7/7 [==============================] - 0s 9ms/step - loss: 0.1959 - accuracy: 0.9367 - val_loss: 3.6939 - val_accuracy: 0.4324\n",
            "Epoch 88/100\n",
            "7/7 [==============================] - 0s 10ms/step - loss: 0.2045 - accuracy: 0.9276 - val_loss: 3.7871 - val_accuracy: 0.4730\n",
            "Epoch 89/100\n",
            "7/7 [==============================] - 0s 10ms/step - loss: 0.1776 - accuracy: 0.9321 - val_loss: 3.5851 - val_accuracy: 0.4324\n",
            "Epoch 90/100\n",
            "7/7 [==============================] - 0s 10ms/step - loss: 0.1955 - accuracy: 0.9321 - val_loss: 3.9330 - val_accuracy: 0.4189\n",
            "Epoch 91/100\n",
            "7/7 [==============================] - 0s 10ms/step - loss: 0.2205 - accuracy: 0.9186 - val_loss: 3.7880 - val_accuracy: 0.4324\n",
            "Epoch 92/100\n",
            "7/7 [==============================] - 0s 9ms/step - loss: 0.2094 - accuracy: 0.9321 - val_loss: 3.5169 - val_accuracy: 0.4189\n",
            "Epoch 93/100\n",
            "7/7 [==============================] - 0s 10ms/step - loss: 0.1831 - accuracy: 0.9412 - val_loss: 3.4673 - val_accuracy: 0.4324\n",
            "Epoch 94/100\n",
            "7/7 [==============================] - 0s 9ms/step - loss: 0.2409 - accuracy: 0.9140 - val_loss: 3.1970 - val_accuracy: 0.4189\n",
            "Epoch 95/100\n",
            "7/7 [==============================] - 0s 10ms/step - loss: 0.2188 - accuracy: 0.9276 - val_loss: 3.4374 - val_accuracy: 0.4459\n",
            "Epoch 96/100\n",
            "7/7 [==============================] - 0s 10ms/step - loss: 0.1746 - accuracy: 0.9321 - val_loss: 3.4610 - val_accuracy: 0.4459\n",
            "Epoch 97/100\n",
            "7/7 [==============================] - 0s 10ms/step - loss: 0.1713 - accuracy: 0.9367 - val_loss: 3.4928 - val_accuracy: 0.4730\n",
            "Epoch 98/100\n",
            "7/7 [==============================] - 0s 10ms/step - loss: 0.1255 - accuracy: 0.9638 - val_loss: 3.5364 - val_accuracy: 0.4730\n",
            "Epoch 99/100\n",
            "7/7 [==============================] - 0s 10ms/step - loss: 0.1568 - accuracy: 0.9548 - val_loss: 3.6680 - val_accuracy: 0.4459\n",
            "Epoch 100/100\n",
            "7/7 [==============================] - 0s 10ms/step - loss: 0.1619 - accuracy: 0.9412 - val_loss: 3.6037 - val_accuracy: 0.4595\n",
            "3/3 [==============================] - 0s 4ms/step - loss: 3.9153 - accuracy: 0.4054\n",
            "Test Loss: 3.9153494834899902, Test Accuracy: 0.4054054021835327\n"
          ]
        }
      ],
      "source": [
        "#@title 16.1: CNN Train the model\n",
        "history = model.fit(X_train, y_train, batch_size=32, epochs=100, validation_data=(X_val, y_val))\n",
        "\n",
        "# Evaluate the model on the test set\n",
        "test_loss, test_accuracy = model.evaluate(X_test, y_test)\n",
        "\n",
        "print(f\"Test Loss: {test_loss}, Test Accuracy: {test_accuracy}\")"
      ]
    },
    {
      "cell_type": "code",
      "execution_count": null,
      "metadata": {
        "colab": {
          "base_uri": "https://localhost:8080/",
          "height": 860
        },
        "id": "rOHNmP42f_fF",
        "outputId": "14927e3e-9a8c-4d78-a52e-0385fe93bfc5"
      },
      "outputs": [
        {
          "output_type": "display_data",
          "data": {
            "text/plain": [
              "<Figure size 640x480 with 1 Axes>"
            ],
            "image/png": "[encoded data removed]"
          },
          "metadata": {}
        },
        {
          "output_type": "display_data",
          "data": {
            "text/plain": [
              "<Figure size 640x480 with 1 Axes>"
            ],
            "image/png": "[encoded data removed]"
          },
          "metadata": {}
        },
        {
          "output_type": "execute_result",
          "data": {
            "text/plain": [
              "<function __main__.plot_learning_curves(history)>"
            ]
          },
          "metadata": {},
          "execution_count": 164
        }
      ],
      "source": [
        "#@title 16.2: Plot history\n",
        "plot_learning_curves(history)"
      ]
    },
    {
      "cell_type": "markdown",
      "metadata": {
        "id": "M2Aayv53gJRv"
      },
      "source": [
        "Notes: As with the LSTM model that we built earlier, this CNN model's accuracy metric is not so good on the validation data, and the reason is that we do not have sufficient validation or test data for the model to generalize well on them, further contributing to the difference in accuracy between the training and validation sets.\n",
        "\n",
        "Assuming we are focusing more on optimizing the model loss, we will make a graph of the loss alone."
      ]
    },
    {
      "cell_type": "code",
      "execution_count": null,
      "metadata": {
        "colab": {
          "base_uri": "https://localhost:8080/",
          "height": 410
        },
        "id": "Ac4HCR3RgLTn",
        "outputId": "e283743e-1904-4e4b-f451-ba6768ec6880"
      },
      "outputs": [
        {
          "output_type": "display_data",
          "data": {
            "text/plain": [
              "<Figure size 1500x400 with 1 Axes>"
            ],
            "image/png": "[encoded data removed]"
          },
          "metadata": {}
        }
      ],
      "source": [
        "#@title 16.3: Plot of Loss\n",
        "history_df = pd.DataFrame(history.history)\n",
        "\n",
        "# Create the figure and axes\n",
        "fig, ax = plt.subplots(figsize=(15, 4), facecolor=\"#97BACB\")\n",
        "\n",
        "# Plotting the learning curve for loss\n",
        "ax.plot(history_df[\"loss\"], color=\"#444160\")\n",
        "\n",
        "# Set title and labels\n",
        "ax.set_title(\"Learning Plot of Model for Loss\")\n",
        "ax.set_ylabel(\"Training Loss\")\n",
        "ax.set_xlabel(\"Epochs\")\n",
        "\n",
        "# Show the plot\n",
        "plt.show()"
      ]
    },
    {
      "cell_type": "markdown",
      "metadata": {
        "id": "0-T62YxrggaO"
      },
      "source": [
        "Notes: This graph clearly shows how the model improved as the training progressed and losses continued to decrease to the terminal epoch."
      ]
    },
    {
      "cell_type": "code",
      "execution_count": null,
      "metadata": {
        "colab": {
          "base_uri": "https://localhost:8080/",
          "height": 954
        },
        "id": "rs-vv7nTgi6V",
        "outputId": "8a8a20fa-aa52-420e-c417-a1e2f1b172cd"
      },
      "outputs": [
        {
          "output_type": "stream",
          "name": "stdout",
          "text": [
            "3/3 [==============================] - 0s 3ms/step\n"
          ]
        },
        {
          "output_type": "display_data",
          "data": {
            "text/plain": [
              "<Figure size 800x600 with 2 Axes>"
            ],
            "image/png": "[encoded data removed]"
          },
          "metadata": {}
        },
        {
          "output_type": "stream",
          "name": "stdout",
          "text": [
            "Classification Report - CNN Model:\n",
            "               precision    recall  f1-score   support\n",
            "\n",
            "        bach       0.31      0.44      0.36         9\n",
            "      bartok       0.43      0.38      0.40         8\n",
            "        byrd       0.50      0.62      0.56         8\n",
            "      chopin       0.41      0.88      0.56         8\n",
            "      handel       0.33      0.25      0.29         8\n",
            "      hummel       0.75      0.33      0.46         9\n",
            " mendelssohn       0.50      0.38      0.43         8\n",
            "      mozart       0.33      0.25      0.29         8\n",
            "    schumann       0.20      0.12      0.15         8\n",
            "\n",
            "    accuracy                           0.41        74\n",
            "   macro avg       0.42      0.41      0.39        74\n",
            "weighted avg       0.42      0.41      0.39        74\n",
            "\n"
          ]
        }
      ],
      "source": [
        "#@title 16.4: Store the CNN model predictions in 'cnn_predictions' and plot matrix\n",
        "cnn_predictions = model.predict(X_test)\n",
        "\n",
        "# Convert the one-hot encoded predictions and true labels back to class indices\n",
        "cnn_pred_labels = np.argmax(cnn_predictions, axis=1)\n",
        "cnn_true_labels = np.argmax(y_test, axis=1)\n",
        "\n",
        "# Calculate the confusion matrix\n",
        "cnn_cm = confusion_matrix(cnn_true_labels, cnn_pred_labels)\n",
        "\n",
        "# Plot the confusion matrix\n",
        "plt.figure(figsize=(8, 6))\n",
        "sns.heatmap(cnn_cm, annot=True, fmt='d', cmap='Greens', xticklabels=encoder.classes_, yticklabels=encoder.classes_)\n",
        "plt.xlabel('Predicted Labels')\n",
        "plt.ylabel('True Labels')\n",
        "plt.title('Confusion Matrix - CNN Model')\n",
        "plt.show()\n",
        "\n",
        "# Print the classification report\n",
        "cnn_classification_report = classification_report(cnn_true_labels, cnn_pred_labels, target_names=encoder.classes_)\n",
        "print(\"Classification Report - CNN Model:\\n\", cnn_classification_report)"
      ]
    },
    {
      "cell_type": "markdown",
      "metadata": {
        "id": "wDTy8Bmqg4-9"
      },
      "source": [
        "Notes: We noticed that the test loss, validation loss, test accuracy, and validation accuracy parameters are almost identical. This could be because of the size of their data sets. To address the difference in training and validation accuracies, we can try augmenting the data by applying small, random transformations to the input data. This will might help improve the accuracy of the model."
      ]
    },
    {
      "cell_type": "markdown",
      "metadata": {
        "id": "Ig_9I2NWij3Y"
      },
      "source": [
        "# 17: CNN V2: Convert MIDI data to Spectrum visuals\n",
        "## Converting Midi Files to Wav files\n",
        "- Using fluidsynth and sound font files to convert midi files to wav files\n",
        "- Created a shell script to iterate through the directories"
      ]
    },
    {
      "cell_type": "markdown",
      "metadata": {
        "id": "cTn3iIZ0itbv"
      },
      "source": [
        "\n",
        "````\n",
        "#!/bin/bash\n",
        "\n",
        "# Set the location of your soundfont file\n",
        "sound_font=\"../TimGM6mb.sf2\"\n",
        "\n",
        "# Iterate over all directories in the current directory\n",
        "for dir in */\n",
        "do\n",
        "  # Go inside each directory\n",
        "  cd \"$dir\"\n",
        "\n",
        "  # Iterate over all .mid files in the current directory\n",
        "  for midi_file in *.mid\n",
        "  do\n",
        "    # Replace the file extension from .mid to .wav\n",
        "    wav_file=\"${midi_file%.mid}.wav\"\n",
        "\n",
        "    # Use fluidsynth to convert the midi file to a wav file\n",
        "    /mnt/host/c/tools/fluidsynth-2.3.2-win10-x64/bin/fluidsynth.exe -ni \"$sound_font\" \"$midi_file\" -F \"$wav_file\" -r 44100\n",
        "  done\n",
        "\n",
        "  # Go back to the parent directory\n",
        "  cd ..\n",
        "done\n",
        "\n",
        "````"
      ]
    },
    {
      "cell_type": "code",
      "execution_count": null,
      "metadata": {
        "id": "HZA21X5ajK5c"
      },
      "outputs": [],
      "source": [
        "#@title 17.1: Load related libraries\n",
        "### Sample of wav file and spectrograph\n",
        "import librosa\n",
        "audio_data = base_dir + \"/bach/bach346.wav\"\n",
        "librosa.load(audio_data)\n",
        "import matplotlib.pyplot as plt\n",
        "x , sr = librosa.load(audio_data)\n",
        "X = librosa.stft(x)\n",
        "Xdb = librosa.amplitude_to_db(abs(X))\n",
        "plt.figure(figsize=(14, 5))\n",
        "librosa.display.specshow(Xdb, sr=sr, x_axis='time', y_axis='hz')\n",
        "plt.colorbar()"
      ]
    },
    {
      "cell_type": "markdown",
      "metadata": {
        "id": "d56twvOtjK5c"
      },
      "source": [
        "## 17.2: Code to generate png files from wav files\n",
        "- code run once as wav files generated were very large and not stored in CM (github)\n",
        "- once the png files were generated they were stored as png files in CM (github)"
      ]
    },
    {
      "cell_type": "code",
      "execution_count": null,
      "metadata": {
        "id": "f-17ItA9jK5c"
      },
      "outputs": [],
      "source": [
        "from PIL import Image\n",
        "import numpy as np\n",
        "import os\n",
        "from skimage import transform\n",
        "import librosa\n",
        "import matplotlib.pyplot as plt\n",
        "from scipy import ndimage\n",
        "import matplotlib.pyplot as plt\n",
        "\n",
        "import re\n",
        "\n",
        "def change_extension(filename, new_extension):\n",
        "    return re.sub(r'\\.\\w+$', new_extension, filename)\n",
        "\n",
        "def generate_images(dataset_path):\n",
        "    X = []\n",
        "    y = []\n",
        "    composers = os.listdir(dataset_path)\n",
        "    for i, composer in enumerate(composers):\n",
        "        composer_path = os.path.join(dataset_path, composer)\n",
        "         # Check if it is a directory\n",
        "        if os.path.isdir(composer_path):\n",
        "            for filename in os.listdir(composer_path):\n",
        "                if filename.endswith('.wav'):\n",
        "                    print(dataset_path + \"/\" + composer + \"/\" + filename)\n",
        "                    %matplotlib inline\n",
        "                    x , sr = librosa.load(dataset_path + \"/\" + composer + \"/\" + filename)\n",
        "                    X = librosa.stft(x)\n",
        "                    img_filename = change_extension(filename, \".png\")\n",
        "\n",
        "                    # Generate spectrogram\n",
        "                    D = np.abs(X)\n",
        "                    # Resize to 224x224\n",
        "                    D_resized = ndimage.zoom(D, (224.0/D.shape[0], 224.0/D.shape[1]))\n",
        "\n",
        "                    # Generate the image\n",
        "                    plt.figure(figsize=(5, 5))\n",
        "                    librosa.display.specshow(librosa.amplitude_to_db(D_resized, ref=np.max), sr=sr, x_axis='time', y_axis='log')\n",
        "                    plt.tight_layout()\n",
        "                    plt.savefig(dataset_path + \"/\" + composer + \"/\" + img_filename)\n",
        "                    print(img_filename)\n",
        "                    plt.close()\n"
      ]
    },
    {
      "cell_type": "markdown",
      "metadata": {
        "id": "bmZztpkEjK5d"
      },
      "source": [
        "### 17.3: Read image files to generate numpy array to train CNN"
      ]
    },
    {
      "cell_type": "code",
      "execution_count": null,
      "metadata": {
        "id": "aKWkm4LdjK5d"
      },
      "outputs": [],
      "source": [
        "# Not used as the png files were already generated\n",
        "# generate_images('train')"
      ]
    },
    {
      "cell_type": "code",
      "execution_count": null,
      "metadata": {
        "id": "rHgARMA1jK5d"
      },
      "outputs": [],
      "source": [
        "def load_image(filename):\n",
        "    img = Image.open(filename)\n",
        "    img = img.convert('RGB')  # Convert image to RGB if it's not\n",
        "    return np.array(img)\n",
        "\n",
        "def load_dataset(dataset_path):\n",
        "    composers = os.listdir(dataset_path)\n",
        "    img_count = sum([len(files) for r, d, files in os.walk(dataset_path) if files])\n",
        "\n",
        "    X = np.zeros((img_count, 500, 500, 3), dtype=np.uint8)\n",
        "    y = np.zeros(img_count, dtype=np.int)\n",
        "\n",
        "    index = 0\n",
        "    for i, composer in enumerate(composers):\n",
        "        composer_path = os.path.join(dataset_path, composer)\n",
        "        # Check if it is a directory\n",
        "        if os.path.isdir(composer_path):\n",
        "            print(f'Processing {composer_path}')\n",
        "            for filename in os.listdir(composer_path):\n",
        "                if filename.endswith('.png'):\n",
        "                    # Load the image\n",
        "                    img_array = load_image(os.path.join(composer_path, filename))\n",
        "\n",
        "                    # Check if the image has the expected shape\n",
        "                    if img_array.shape != (500, 500, 3):\n",
        "                        print(f\"Skipping {filename} due to shape mismatch. Expected (500, 500, 3), got {img_array.shape}.\")\n",
        "                        continue\n",
        "\n",
        "                    # Append the image to the dataset\n",
        "                    X[index] = img_array\n",
        "                    # Append the composer's index to the labels\n",
        "                    y[index] = i\n",
        "                    index += 1\n",
        "\n",
        "    y = np.array(y)\n",
        "    print(y.shape)\n",
        "    print(X.shape)\n",
        "    return X[:index], y[:index] # Return only the part of the arrays that was filled\n",
        "\n",
        "\n"
      ]
    },
    {
      "cell_type": "code",
      "execution_count": null,
      "metadata": {
        "id": "WO4b0Tw6jK5d",
        "outputId": "0613dd02-10ae-4893-a6f3-3d0b30d3c22b"
      },
      "outputs": [
        {
          "name": "stdout",
          "output_type": "stream",
          "text": [
            "Processing aai-511-team-8/train\\bach\n",
            "Skipping bach343.png due to shape mismatch. Expected (500, 500, 3), got (500, 1400, 3).\n",
            "Processing aai-511-team-8/train\\bartok\n",
            "Processing aai-511-team-8/train\\byrd\n",
            "Processing aai-511-team-8/train\\chopin\n",
            "Processing aai-511-team-8/train\\handel\n",
            "Processing aai-511-team-8/train\\hummel\n",
            "Processing aai-511-team-8/train\\mendelssohn\n",
            "Processing aai-511-team-8/train\\mozart\n",
            "Processing aai-511-team-8/train\\schumann\n",
            "(752,)\n",
            "(752, 500, 500, 3)\n"
          ]
        }
      ],
      "source": [
        "# Load the dataset\n",
        "X, y = load_dataset(base_dir)"
      ]
    },
    {
      "cell_type": "markdown",
      "metadata": {
        "id": "GrHUXrHljK5d"
      },
      "source": [
        "## 17.4: Create CNN-2 to check if using spectrographs will provide a better model"
      ]
    },
    {
      "cell_type": "code",
      "execution_count": null,
      "metadata": {
        "id": "-jCpEBxqjK5d",
        "outputId": "af29d8ca-0f20-40ea-f290-0ab766c122f4",
        "scrolled": false
      },
      "outputs": [
        {
          "name": "stdout",
          "output_type": "stream",
          "text": [
            "Epoch 1/10\n",
            "10/10 [==============================] - 38s 3s/step - loss: 12.7157 - accuracy: 0.1054 - val_loss: 2.3485 - val_accuracy: 0.2297\n",
            "Epoch 2/10\n",
            "10/10 [==============================] - 29s 3s/step - loss: 2.2317 - accuracy: 0.2585 - val_loss: 1.8640 - val_accuracy: 0.3108\n",
            "Epoch 3/10\n",
            "10/10 [==============================] - 28s 3s/step - loss: 1.6564 - accuracy: 0.4184 - val_loss: 1.4815 - val_accuracy: 0.3649\n",
            "Epoch 4/10\n",
            "10/10 [==============================] - 28s 3s/step - loss: 1.0683 - accuracy: 0.6361 - val_loss: 2.4802 - val_accuracy: 0.2973\n",
            "Epoch 5/10\n",
            "10/10 [==============================] - 27s 3s/step - loss: 0.8333 - accuracy: 0.7211 - val_loss: 1.2408 - val_accuracy: 0.5946\n",
            "Epoch 6/10\n",
            "10/10 [==============================] - 27s 3s/step - loss: 0.5988 - accuracy: 0.7925 - val_loss: 1.1207 - val_accuracy: 0.5676\n",
            "Epoch 7/10\n",
            "10/10 [==============================] - 27s 3s/step - loss: 0.3082 - accuracy: 0.9082 - val_loss: 1.1040 - val_accuracy: 0.5811\n",
            "Epoch 8/10\n",
            "10/10 [==============================] - 27s 3s/step - loss: 0.1404 - accuracy: 0.9626 - val_loss: 1.3833 - val_accuracy: 0.5676\n",
            "Epoch 9/10\n",
            "10/10 [==============================] - 27s 3s/step - loss: 0.0759 - accuracy: 0.9830 - val_loss: 1.0501 - val_accuracy: 0.6486\n",
            "Epoch 10/10\n",
            "10/10 [==============================] - 27s 3s/step - loss: 0.0271 - accuracy: 1.0000 - val_loss: 1.3778 - val_accuracy: 0.6486\n"
          ]
        }
      ],
      "source": [
        "#Load related libraries\n",
        "from tensorflow.keras.models import Sequential\n",
        "from tensorflow.keras.layers import Conv2D, MaxPooling2D, Flatten, Dense\n",
        "from sklearn.model_selection import train_test_split\n",
        "import tensorflow as tf\n",
        "from tensorflow.keras.utils import to_categorical\n",
        "\n",
        "number_of_classes = 11  # Assuming you have 10 classes\n",
        "\n",
        "X = X/255.0\n",
        "\n",
        "# Split the dataset into a training and testing set\n",
        "X_train, X_test, y_train, y_test = train_test_split(X, y, test_size=0.2, random_state=42)\n",
        "\n",
        "y_train = y_train.reshape(-1)\n",
        "y_test = y_test.reshape(-1)\n",
        "\n",
        "# Create a CNN model\n",
        "model = Sequential([\n",
        "    Conv2D(32, (3, 3), activation='relu', input_shape=(500, 500, 3)),\n",
        "    MaxPooling2D((2, 2)),\n",
        "    Conv2D(64, (3, 3), activation='relu'),\n",
        "    MaxPooling2D((2, 2)),\n",
        "    Conv2D(64, (3, 3), activation='relu'),\n",
        "    Flatten(),\n",
        "    Dense(64, activation='relu'),\n",
        "    Dense(number_of_classes)  # Output layer without activation, since we're using from_logits=True\n",
        "])\n",
        "\n",
        "# Compile the model with sparse categorical cross-entropy loss\n",
        "model.compile(optimizer='adam',\n",
        "              loss=tf.keras.losses.SparseCategoricalCrossentropy(from_logits=True),\n",
        "              metrics=['accuracy'])\n",
        "\n",
        "# Train the model\n",
        "history = model.fit(X_train, y_train, epochs=10, validation_data=(X_test, y_test))\n"
      ]
    },
    {
      "cell_type": "markdown",
      "metadata": {
        "id": "0skK8PtmvRpi"
      },
      "source": [
        "The results of this second CNN model are promising, showing it can generalize well to unseen data compared to the other models we've seen so far. The utilization of PNG files might have contributed to reducing overfitting and enhancing generalization capabilities."
      ]
    },
    {
      "cell_type": "code",
      "execution_count": null,
      "metadata": {
        "id": "TLWZNGgxjK5d",
        "outputId": "6bf0fa22-35d2-4368-8004-abb8b3965df9"
      },
      "outputs": [
        {
          "data": {
            "image/png": "[encoded data removed]",
            "text/plain": [
              "<Figure size 640x480 with 1 Axes>"
            ]
          },
          "metadata": {},
          "output_type": "display_data"
        },
        {
          "data": {
            "image/png": "[encoded data removed]",
            "text/plain": [
              "<Figure size 640x480 with 1 Axes>"
            ]
          },
          "metadata": {},
          "output_type": "display_data"
        },
        {
          "data": {
            "text/plain": [
              "<function __main__.plot_learning_curves(history)>"
            ]
          },
          "execution_count": 18,
          "metadata": {},
          "output_type": "execute_result"
        }
      ],
      "source": [
        "#@title 17.5: Plot the training and validation loss\n",
        "def plot_learning_curves(history):\n",
        "    plt.plot(history.history['loss'], label='Train Loss')\n",
        "    plt.plot(history.history['val_loss'], label='Validation Loss')\n",
        "    plt.legend()\n",
        "    plt.show()\n",
        "\n",
        "    # Plot the training and validation accuracy\n",
        "    plt.plot(history.history['accuracy'], label='Train Accuracy')\n",
        "    plt.plot(history.history['val_accuracy'], label='Validation Accuracy')\n",
        "    plt.legend()\n",
        "    plt.show()\n",
        "    return plot_learning_curves\n",
        "\n",
        "\n",
        "plot_learning_curves(history)"
      ]
    },
    {
      "cell_type": "code",
      "execution_count": null,
      "metadata": {
        "id": "BpQOalphvRpi"
      },
      "outputs": [],
      "source": [
        "#@title 17.6: Plot the confusion matrix and print the classification report for the CNN model\n",
        "cnn_predictions = model.predict(X_test)\n",
        "\n",
        "# Convert the one-hot encoded predictions and true labels back to class indices\n",
        "cnn_pred_labels = np.argmax(cnn_predictions, axis=1)\n",
        "cnn_true_labels = np.argmax(y_test, axis=1)\n",
        "\n",
        "# Calculate the confusion matrix\n",
        "cnn_cm = confusion_matrix(cnn_true_labels, cnn_pred_labels)\n",
        "\n",
        "# Plot the confusion matrix\n",
        "plt.figure(figsize=(8, 6))\n",
        "sns.heatmap(cnn_cm, annot=True, fmt='d', cmap='Greens', xticklabels=encoder.classes_, yticklabels=encoder.classes_)\n",
        "plt.xlabel('Predicted Labels')\n",
        "plt.ylabel('True Labels')\n",
        "plt.title('Confusion Matrix - CNN Model')\n",
        "plt.show()\n",
        "\n",
        "# Print the classification report\n",
        "cnn_classification_report = classification_report(cnn_true_labels, cnn_pred_labels, target_names=encoder.classes_)\n",
        "print(\"Classification Report - CNN Model:\\n\", cnn_classification_report)"
      ]
    },
    {
      "cell_type": "markdown",
      "metadata": {
        "id": "4Pcdd4m1vRpi"
      },
      "source": [
        "### 17.7: Conclusion\n",
        "\n",
        "Summary of the results and performance of each of the models we built: (Note: There are minor differences in results betweek the various code runs)\n",
        "\n",
        "1. First LSTM Model:\n",
        "   - Architecture: Single-layer LSTM with 50 units, followed by a Dense layer.\n",
        "   - Result:\n",
        "     - Training Loss: 1.7592, Training Accuracy: 0.4389\n",
        "     - Validation Loss: 3.8636, Validation Accuracy: 0.3378\n",
        "     - Test Loss: 2.1544, Test Accuracy: 0.3378\n",
        "   - Analysis: This model seems to be underperforming, with relatively low accuracy on both the training and validation sets.\n",
        "\n",
        "2. Second LSTM Model:\n",
        "   - Architecture: Three-layer LSTM model with increasing units (128, 64, 32) and a Dense layer.\n",
        "   - Result:\n",
        "     - Training Loss: 0.8991, Training Accuracy: 0.6199\n",
        "     - Validation Loss: 12.5315, Validation Accuracy: 0.4730\n",
        "     - Test Loss: 2.7241, Test Accuracy: 0.5000\n",
        "   - Analysis: While the training accuracy has improved, the model is showing signs of overfitting, as indicated by the significant difference between training and validation accuracies.\n",
        "\n",
        "3. Third LSTM Model:\n",
        "   - Architecture: Like the second LSTM model, with early stopping and a different optimizer (Adamax).\n",
        "   - Result:\n",
        "     - Training Loss: 1.0645, Training Accuracy: 0.5656\n",
        "     - Validation Loss: 20.2266, Validation Accuracy: 0.4189\n",
        "   - Analysis: The addition of early stopping did not prevent overfitting, and the model's performance is not satisfactory, like the first model.\n",
        "\n",
        "4. First CNN Model:\n",
        "   - Architecture: Convolutional Neural Network with two Conv1D layers, MaxPooling1D, Flatten, and Dense layers.\n",
        "   - Result:\n",
        "     - Training Loss: 0.1832, Training Accuracy: 0.9593\n",
        "     - Validation Loss: 3.5452, Validation Accuracy: 0.4730\n",
        "     - Test Loss: 3.3522, Test Accuracy: 0.4054\n",
        "   - Analysis: While the training accuracy is high, the model is struggling to generalize well to the validation and test sets, possibly indicating overfitting.\n",
        "\n",
        "5. Second CNN Model:\n",
        "   - Architecture: Convolutional Neural Network with two Conv2D layers, MaxPooling2D, Flatten, and Dense layers. Spectrograph images were used as input.\n",
        "   - Result:\n",
        "     - Training Loss: 0.0271, Training Accuracy: 1.0000\n",
        "     - Validation Loss: 1.3778, Validation Accuracy: 0.6486\n",
        "   - Analysis: This model shows promising results with high training and validation accuracy, suggesting it can generalize well to unseen data.\n",
        "\n",
        "Overall, the Second CNN Model appears to be the best performer among the models we built. It achieves the highest validation accuracy and demonstrates good generalization to the test set. The use of spectrograph images likely contributed to its improved performance, as they capture more complex patterns present in the data compared to raw MIDI or wave files.\n",
        "\n",
        "Next step: The model's performance could be further enhanced by tuning hyperparameters, increasing data augmentation, or exploring more complex architectures if needed.\n"
      ]
    }
  ],
  "metadata": {
    "accelerator": "TPU",
    "colab": {
      "machine_shape": "hm",
      "provenance": []
    },
    "kernelspec": {
      "display_name": "Python 3 (ipykernel)",
      "language": "python",
      "name": "python3"
    },
    "language_info": {
      "codemirror_mode": {
        "name": "ipython",
        "version": 3
      },
      "file_extension": ".py",
      "mimetype": "text/x-python",
      "name": "python",
      "nbconvert_exporter": "python",
      "pygments_lexer": "ipython3",
      "version": "3.9.16"
    }
  },
  "nbformat": 4,
  "nbformat_minor": 0
}